{
 "cells": [
  {
   "cell_type": "markdown",
   "id": "474e8420",
   "metadata": {},
   "source": [
    "Наибольшее число пользователей, затем размер последнего сохраненного файла"
   ]
  },
  {
   "cell_type": "code",
   "execution_count": 14,
   "id": "37d72461",
   "metadata": {
    "ExecuteTime": {
     "end_time": "2023-03-27T19:00:21.062288Z",
     "start_time": "2023-03-27T19:00:21.050679Z"
    }
   },
   "outputs": [
    {
     "name": "stdout",
     "output_type": "stream",
     "text": [
      "573 229\n"
     ]
    }
   ],
   "source": [
    "with open('26_813.txt') as f:\n",
    "    s, n = map(int, f.readline().split())\n",
    "    a = [int(f.readline()) for _ in range(n)]\n",
    "\n",
    "a.sort()\n",
    "b = []\n",
    "\n",
    "while sum(b) + a[0] <= s:\n",
    "    for i in range(len(a) - 1, 0, -1):\n",
    "        if sum(b) + a[i] <= s:\n",
    "            b.append(a[i])\n",
    "            a.pop(i)\n",
    "            break\n",
    "            \n",
    "    if sum(b) + a[0] <= s:\n",
    "        b.append(a[0])\n",
    "        a.pop(0)\n",
    "    \n",
    "print(len(b), b[-1])"
   ]
  },
  {
   "cell_type": "markdown",
   "id": "6a2f5633",
   "metadata": {},
   "source": [
    "Кол-во файлов, сохраненное на первом диске, затем - на втором"
   ]
  },
  {
   "cell_type": "code",
   "execution_count": 6,
   "id": "c272fb3b",
   "metadata": {
    "ExecuteTime": {
     "end_time": "2023-03-30T18:42:10.950402Z",
     "start_time": "2023-03-30T18:42:10.830813Z"
    }
   },
   "outputs": [
    {
     "name": "stdout",
     "output_type": "stream",
     "text": [
      "2054 4612\n"
     ]
    }
   ],
   "source": [
    "with open('26_838.txt') as f:\n",
    "    n = int(f.readline())\n",
    "    a = [int(x) for x in f.readlines()]\n",
    "    \n",
    "a.sort()\n",
    "d1 = []\n",
    "d2 = []\n",
    "\n",
    "while len(a) > 0:\n",
    "    d1.append(a[-1])\n",
    "    a.pop(-1)\n",
    "    while sum(d2) <= sum(d1):\n",
    "        d2.append(a[0])\n",
    "        a.pop(0)\n",
    "    \n",
    "print(len(d1), len(d2))"
   ]
  },
  {
   "cell_type": "markdown",
   "id": "f79b284d",
   "metadata": {},
   "source": [
    "За какое минимальное время можно перевезти все грузы?"
   ]
  },
  {
   "cell_type": "code",
   "execution_count": 1,
   "id": "9c8593cb",
   "metadata": {},
   "outputs": [
    {
     "name": "stdout",
     "output_type": "stream",
     "text": [
      "423 501\n"
     ]
    }
   ],
   "source": [
    "with open('26_936.txt') as f:\n",
    "    n, s = map(int, f.readline().split())\n",
    "    a = [int(x) for x in f.readlines()]\n",
    "    \n",
    "a.sort(reverse=True)\n",
    "cnt = last = cur = 0\n",
    "while len(a) > 0:\n",
    "    for i in range(len(a)):\n",
    "        if cur + a[i] <= s:\n",
    "            cur += a[i]\n",
    "            a[i] = 0\n",
    "            \n",
    "    a = [x for x in a if x != 0]\n",
    "    cnt += 1\n",
    "    last = cur\n",
    "    cur = 0\n",
    "    \n",
    "print(cnt, last)"
   ]
  },
  {
   "cell_type": "code",
   "execution_count": 4,
   "id": "946329de",
   "metadata": {
    "ExecuteTime": {
     "end_time": "2023-03-29T19:13:20.582123Z",
     "start_time": "2023-03-29T19:13:15.336775Z"
    }
   },
   "outputs": [
    {
     "name": "stdout",
     "output_type": "stream",
     "text": [
      "2389143 547921\n"
     ]
    }
   ],
   "source": [
    "with open('26_1079.txt') as f:\n",
    "    n = int(f.readline())\n",
    "    a = [int(x) for x in f.readlines()]\n",
    "    a.sort()\n",
    "    \n",
    "ans = []\n",
    "for i in range(n):\n",
    "    for j in range(i + 1, n):\n",
    "        sm = a[i] + a[j]\n",
    "        sr = sm // 2\n",
    "        \n",
    "        c1 = sm % 2 == 0\n",
    "        c2 = sr > a[n // 2 - 1]\n",
    "        c3 = sr < a[(3 * n) // 4]\n",
    "        \n",
    "        if c1 and c2 and c3:\n",
    "            ans.append(sr)\n",
    "            \n",
    "print(len(ans), min(ans))"
   ]
  },
  {
   "cell_type": "code",
   "execution_count": 1,
   "id": "569cc59b",
   "metadata": {
    "ExecuteTime": {
     "end_time": "2023-03-29T18:59:44.362483Z",
     "start_time": "2023-03-29T18:59:40.237623Z"
    }
   },
   "outputs": [
    {
     "name": "stdout",
     "output_type": "stream",
     "text": [
      "15 954387771\n"
     ]
    }
   ],
   "source": [
    "with open('26_1257.txt') as f:\n",
    "    n = int(f.readline())\n",
    "    data = [int(x) for x in f.readlines()]\n",
    "    st = set(data)\n",
    "\n",
    "ans = []\n",
    "for i in range(n):\n",
    "    for j in range(i + 1, n):\n",
    "        sm = data[i] + data[j]\n",
    "        c1 = sm % 2 != 0\n",
    "        c2 = sm in st\n",
    "        if c1 and c2:\n",
    "            ans.append(sm)\n",
    "\n",
    "print(len(ans), max(ans))"
   ]
  },
  {
   "cell_type": "code",
   "execution_count": 12,
   "id": "9a241b02",
   "metadata": {},
   "outputs": [
    {
     "name": "stdout",
     "output_type": "stream",
     "text": [
      "108 383\n"
     ]
    }
   ],
   "source": [
    "with open('26_2652.txt') as f:\n",
    "    n = int(f.readline())\n",
    "    a = [int(x) for x in f.readlines()]\n",
    "    st = set(a)\n",
    "\n",
    "d = {}\n",
    "for i in a:\n",
    "    d[i] = d.get(i, 0) + 1\n",
    "\n",
    "print(len(st), max(d.values()))"
   ]
  },
  {
   "cell_type": "markdown",
   "id": "3b094e23",
   "metadata": {},
   "source": [
    "### Сколько заявлено непрерывных участков дороги и какова их длина"
   ]
  },
  {
   "cell_type": "code",
   "execution_count": 5,
   "id": "2dec093e",
   "metadata": {},
   "outputs": [
    {
     "name": "stdout",
     "output_type": "stream",
     "text": [
      "1226 822094\n"
     ]
    }
   ],
   "source": [
    "a = [0] * 2_000_001\n",
    "\n",
    "with open('26_2480.txt') as f:\n",
    "    n = int(f.readline())\n",
    "    for i in range(n):\n",
    "        st, end = map(int, f.readline().split())\n",
    "        a[st] += 1\n",
    "        a[end] -= 1\n",
    "        \n",
    "k = 0\n",
    "st, end = -1, 0\n",
    "cnt = ln = 0\n",
    "for i in range(2_000_001):\n",
    "    k0 = k\n",
    "    k += a[i]\n",
    "    if k > 0 and st == -1:\n",
    "        st = i\n",
    "    if k == 0 and k0 > 0:\n",
    "        end = i\n",
    "        cnt += 1\n",
    "        ln += end - st\n",
    "        st, end = -1, 0\n",
    "        \n",
    "print(cnt, ln)"
   ]
  },
  {
   "cell_type": "markdown",
   "id": "a9120fcf",
   "metadata": {},
   "source": [
    "### Станок с ЧПУ: какое кол-во простоев прозошло за день и какова длительность наибольшего"
   ]
  },
  {
   "cell_type": "code",
   "execution_count": 40,
   "id": "60cc800c",
   "metadata": {},
   "outputs": [
    {
     "name": "stdout",
     "output_type": "stream",
     "text": [
      "577 24426\n"
     ]
    }
   ],
   "source": [
    "a = []\n",
    "\n",
    "with open('26_2650.txt') as f:\n",
    "    l, m, n = map(int, f.readline().split())\n",
    "    \n",
    "    for i in range(n):\n",
    "        st, ln = map(int, f.readline().split())\n",
    "        a.append((st, st + ln))\n",
    "\n",
    "a.sort()\n",
    "\n",
    "cnt = 1 # первый простой - от 0 до a[0][0]\n",
    "mx = max(a[0][0], l - a[-1][1])\n",
    "\n",
    "for i in range(1, len(a)):\n",
    "    stay = a[i][0] - a[i - 1][1]\n",
    "    if stay > m:\n",
    "        cnt += 1\n",
    "        mx = max(mx, stay)\n",
    "        \n",
    "print(cnt, mx)"
   ]
  },
  {
   "cell_type": "code",
   "execution_count": 95,
   "id": "6aadc3e5",
   "metadata": {},
   "outputs": [
    {
     "name": "stdout",
     "output_type": "stream",
     "text": [
      "38 1985\n"
     ]
    }
   ],
   "source": [
    "st = set()\n",
    "\n",
    "with open('26_2651.txt') as f:\n",
    "    n = int(f.readline())\n",
    "    for i in range(n):\n",
    "        y, c = map(int, f.readline().split())\n",
    "        st.add((y, c))\n",
    "        \n",
    "lst = list(st)\n",
    "\n",
    "d = {}\n",
    "for i in lst:\n",
    "    d.setdefault(i[0], []).append(i[1])\n",
    "\n",
    "for key, it in d.items():\n",
    "    d[key] = 8 - len(it)\n",
    "\n",
    "cnt = mx = 0\n",
    "for key, it in d.items():\n",
    "    cnt += it\n",
    "    if it == max(d.values()):\n",
    "        mx = max(mx, key)\n",
    "        \n",
    "print(cnt, mx)"
   ]
  },
  {
   "cell_type": "markdown",
   "id": "6ae4199c",
   "metadata": {},
   "source": [
    "### Найти кол-во целых значений весов, которые невозможно набрать, используя только имеющиеся гири, а также максимальный из них"
   ]
  },
  {
   "cell_type": "code",
   "execution_count": 18,
   "id": "fe43f033",
   "metadata": {},
   "outputs": [
    {
     "name": "stdout",
     "output_type": "stream",
     "text": [
      "31884 5327665\n"
     ]
    }
   ],
   "source": [
    "with open('26_2653.txt') as f:\n",
    "    n = int(f.readline())\n",
    "    a = [int(x) for x in f.readlines()]\n",
    "    \n",
    "a.sort()\n",
    "w = [0] * (sum(a) + 10)\n",
    "\n",
    "for i in a:\n",
    "    w2 = w.copy()\n",
    "    for j in range(sum(a) + 1):\n",
    "        if w[j] == 1:\n",
    "            w2[j + i] = 1\n",
    "    w2[i] = 1\n",
    "    w = w2\n",
    "\n",
    "cnt = mx = 0\n",
    "for i in range(1, sum(a) + 1):\n",
    "    if w[i] == 0:\n",
    "        cnt += 1\n",
    "        mx = i\n",
    "        \n",
    "print(cnt, mx)"
   ]
  }
 ],
 "metadata": {
  "kernelspec": {
   "display_name": "Python 3 (ipykernel)",
   "language": "python",
   "name": "python3"
  },
  "language_info": {
   "codemirror_mode": {
    "name": "ipython",
    "version": 3
   },
   "file_extension": ".py",
   "mimetype": "text/x-python",
   "name": "python",
   "nbconvert_exporter": "python",
   "pygments_lexer": "ipython3",
   "version": "3.10.6"
  }
 },
 "nbformat": 4,
 "nbformat_minor": 5
}
