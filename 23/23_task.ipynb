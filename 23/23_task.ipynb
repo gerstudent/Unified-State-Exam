{
 "cells": [
  {
   "cell_type": "markdown",
   "id": "1729442b",
   "metadata": {},
   "source": [
    "# Классическая формулировка\n",
    "> Команды: 1) прибавить 1, 2) прибавить 3. Сколько существует программ, для которых при исходном числе 2 результатом является число 18 и при этом траектория вычислений содержит число 9 и не содержит число 14?"
   ]
  },
  {
   "cell_type": "code",
   "execution_count": 1,
   "id": "f9784741",
   "metadata": {
    "ExecuteTime": {
     "end_time": "2023-03-14T16:29:32.963493Z",
     "start_time": "2023-03-14T16:29:32.958397Z"
    },
    "code_folding": []
   },
   "outputs": [
    {
     "name": "stdout",
     "output_type": "stream",
     "text": [
      "63\n"
     ]
    }
   ],
   "source": [
    "def f(cur, end):\n",
    "    if cur > end or cur == 14:\n",
    "        return 0\n",
    "    if cur == end:\n",
    "        return 1\n",
    "    return f(cur + 1, end) + f(cur + 3, end)\n",
    "\n",
    "\n",
    "print(f(2, 9) * f(9, 18))"
   ]
  },
  {
   "cell_type": "markdown",
   "source": [
    "# Формулировки"
   ],
   "metadata": {
    "collapsed": false
   }
  },
  {
   "cell_type": "markdown",
   "source": [
    "> Первая команда увеличивает число на 2 раза, вторая – на 3 раза, третья – в 2 раза. Программа для исполнителя – это последовательность команд. Сколько существует программ, для которых при исходном числе 2 результатом будет являться число 40, при этом траектория вычисления не содержит число 28, а также не содержит подпоследовательность команд BACA. Траектория вычисления программы – это последовательности результатов выполнения всех команд."
   ],
   "metadata": {
    "collapsed": false
   }
  },
  {
   "cell_type": "code",
   "execution_count": 3,
   "outputs": [
    {
     "name": "stdout",
     "output_type": "stream",
     "text": [
      "27609\n"
     ]
    }
   ],
   "source": [
    "trajectory = []\n",
    "\n",
    "\n",
    "def f(n, k, way='', com=' '):\n",
    "    way += com\n",
    "    if n > k or n == 28:\n",
    "        return 0\n",
    "    if n == k:\n",
    "        trajectory.append(way[1:])\n",
    "        return 1\n",
    "    return f(n + 2, k, way, 'A') \\\n",
    "        + f(n + 3, k, way, 'B') \\\n",
    "        + f(n * 2, k, way, 'C')\n",
    "\n",
    "\n",
    "f(2, 40)\n",
    "ans = 0\n",
    "for i in trajectory:\n",
    "    if 'BACA' not in i:\n",
    "        ans += 1\n",
    "\n",
    "print(ans)"
   ],
   "metadata": {
    "collapsed": false,
    "ExecuteTime": {
     "end_time": "2023-06-17T12:51:48.669543789Z",
     "start_time": "2023-06-17T12:51:48.641116849Z"
    }
   }
  },
  {
   "cell_type": "code",
   "execution_count": null,
   "outputs": [],
   "source": [],
   "metadata": {
    "collapsed": false
   }
  },
  {
   "cell_type": "code",
   "execution_count": null,
   "outputs": [],
   "source": [],
   "metadata": {
    "collapsed": false
   }
  },
  {
   "cell_type": "code",
   "execution_count": null,
   "outputs": [],
   "source": [],
   "metadata": {
    "collapsed": false
   }
  },
  {
   "cell_type": "code",
   "execution_count": null,
   "outputs": [],
   "source": [],
   "metadata": {
    "collapsed": false
   }
  }
 ],
 "metadata": {
  "kernelspec": {
   "display_name": "Python 3 (ipykernel)",
   "language": "python",
   "name": "python3"
  },
  "language_info": {
   "codemirror_mode": {
    "name": "ipython",
    "version": 3
   },
   "file_extension": ".py",
   "mimetype": "text/x-python",
   "name": "python",
   "nbconvert_exporter": "python",
   "pygments_lexer": "ipython3",
   "version": "3.10.6"
  }
 },
 "nbformat": 4,
 "nbformat_minor": 5
}
