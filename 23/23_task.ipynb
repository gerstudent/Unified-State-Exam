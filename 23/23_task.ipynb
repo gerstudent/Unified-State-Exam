{
 "cells": [
  {
   "cell_type": "markdown",
   "id": "1729442b",
   "metadata": {},
   "source": [
    "# Классическая формулировка\n",
    "> Команды: 1) прибавить 1, 2) прибавить 3. Сколько существует программ, для которых при исходном числе 2 результатом является число 18 и при этом траектория вычислений содержит число 9 и не содержит число 14?"
   ]
  },
  {
   "cell_type": "code",
   "execution_count": 1,
   "id": "f9784741",
   "metadata": {
    "ExecuteTime": {
     "end_time": "2023-03-14T16:29:32.963493Z",
     "start_time": "2023-03-14T16:29:32.958397Z"
    },
    "code_folding": []
   },
   "outputs": [
    {
     "name": "stdout",
     "output_type": "stream",
     "text": [
      "63\n"
     ]
    }
   ],
   "source": [
    "def f(cur, end):\n",
    "    if cur > end or cur == 14:\n",
    "        return 0\n",
    "    if cur == end:\n",
    "        return 1\n",
    "    return f(cur + 1, end) + f(cur + 3, end)\n",
    "\n",
    "\n",
    "print(f(2, 9) * f(9, 18))"
   ]
  },
  {
   "cell_type": "markdown",
   "id": "f9d1077f",
   "metadata": {},
   "source": [
    "> Команды: 1) +1 2)+2. Сколько сущ. программ, которые преобразуют 3 в 18, при этом предпоследняя команда 2."
   ]
  },
  {
   "cell_type": "code",
   "execution_count": null,
   "id": "87795b9c",
   "metadata": {},
   "outputs": [],
   "source": [
    "def f(cur, end):\n",
    "    if cur > end:\n",
    "        return 0\n",
    "    if cur == end:\n",
    "        return 1\n",
    "    return f(cur + 1, end) + f(cur + 2, end)\n",
    "\n",
    "\n",
    "print(f(3, 15) + f(3, 14))"
   ]
  },
  {
   "cell_type": "markdown",
   "id": "21760b6c",
   "metadata": {},
   "source": [
    "> Команды: 1) +1 2) +5 3) *3. Определить число, для получения которого из числа 5 существует 34 программы."
   ]
  },
  {
   "cell_type": "code",
   "execution_count": null,
   "id": "512cd641",
   "metadata": {
    "ExecuteTime": {
     "start_time": "2023-03-14T16:47:31.730Z"
    }
   },
   "outputs": [
    {
     "name": "stdout",
     "output_type": "stream",
     "text": [
      "19\n"
     ]
    }
   ],
   "source": [
    "def f(cur, end):\n",
    "    if cur > end:\n",
    "        return 0\n",
    "    if cur == end:\n",
    "        return 1\n",
    "    return f(cur + 1, end) + f(cur + 5, end) + f(cur * 3, end)\n",
    "\n",
    "\n",
    "for i in range(1, 500):\n",
    "    if f(1, i) == 175:\n",
    "        print(i)   "
   ]
  },
  {
   "cell_type": "markdown",
   "id": "b1508410",
   "metadata": {
    "ExecuteTime": {
     "start_time": "2023-03-14T16:49:39.185Z"
    }
   },
   "source": [
    "# Подсчет шагов"
   ]
  },
  {
   "cell_type": "markdown",
   "id": "f0376fe1",
   "metadata": {},
   "source": [
    "> Команды: 1) +1, 2) +2, 3) *2. Сколько сущ. программ, для которых при исходном числе 1 результатом явялется 20?"
   ]
  },
  {
   "cell_type": "code",
   "execution_count": null,
   "id": "f4927125",
   "metadata": {},
   "outputs": [],
   "source": [
    "def f(cur, end, step):\n",
    "    if cur > end:\n",
    "        return 0\n",
    "    if cur == end:\n",
    "        return 1\n",
    "    return f(cur + 1, end, step + 1) \n",
    "            + f(cur + 5, end, step + 1) \n",
    "            + f(cur * 2, end, step + 1)\n",
    "    \n",
    "print()"
   ]
  },
  {
   "cell_type": "code",
   "execution_count": null,
   "id": "7abc065a",
   "metadata": {},
   "outputs": [],
   "source": []
  },
  {
   "cell_type": "code",
   "execution_count": null,
   "id": "7c948a7d",
   "metadata": {},
   "outputs": [],
   "source": []
  },
  {
   "cell_type": "code",
   "execution_count": null,
   "id": "5a9c4a30",
   "metadata": {},
   "outputs": [],
   "source": []
  }
 ],
 "metadata": {
  "kernelspec": {
   "display_name": "Python 3 (ipykernel)",
   "language": "python",
   "name": "python3"
  },
  "language_info": {
   "codemirror_mode": {
    "name": "ipython",
    "version": 3
   },
   "file_extension": ".py",
   "mimetype": "text/x-python",
   "name": "python",
   "nbconvert_exporter": "python",
   "pygments_lexer": "ipython3",
   "version": "3.10.6"
  }
 },
 "nbformat": 4,
 "nbformat_minor": 5
}
