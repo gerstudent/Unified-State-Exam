{
 "cells": [
  {
   "cell_type": "code",
   "execution_count": 5,
   "metadata": {
    "collapsed": true
   },
   "outputs": [
    {
     "name": "stdout",
     "output_type": "stream",
     "text": [
      "135\n"
     ]
    }
   ],
   "source": [
    "# 3 (1)\n",
    "from functools import lru_cache\n",
    "\n",
    "\n",
    "@lru_cache(None)\n",
    "def f(x, p):\n",
    "    if x > 27:\n",
    "        return 0\n",
    "    if x == 27:\n",
    "        return 1\n",
    "    return f(x + 1, x) + f(x * 3, x) + (f(x + p, x) if p != 0 else 0)\n",
    "\n",
    "\n",
    "print(f(2, 27))"
   ]
  },
  {
   "cell_type": "code",
   "execution_count": 6,
   "outputs": [
    {
     "name": "stdout",
     "output_type": "stream",
     "text": [
      "58085\n"
     ]
    }
   ],
   "source": [
    "# 4 (1)\n",
    "def f(n, end, lst=[]):\n",
    "    lst = lst + [n]\n",
    "    if n > end:\n",
    "        return 0\n",
    "    if n == end:\n",
    "        return 1 if any((x + y + z) % 11 == 0 for x, y, z in zip(lst, lst[1:], lst[2:])) else 0\n",
    "\n",
    "    return f(n + 2, end, lst) + f(n * 3, end, lst) + f(n * 4, end, lst)\n",
    "\n",
    "\n",
    "print(f(1, 600))"
   ],
   "metadata": {
    "collapsed": false
   }
  },
  {
   "cell_type": "code",
   "execution_count": null,
   "outputs": [],
   "source": [],
   "metadata": {
    "collapsed": false
   }
  },
  {
   "cell_type": "code",
   "execution_count": null,
   "outputs": [],
   "source": [],
   "metadata": {
    "collapsed": false
   }
  },
  {
   "cell_type": "code",
   "execution_count": null,
   "outputs": [],
   "source": [],
   "metadata": {
    "collapsed": false
   }
  },
  {
   "cell_type": "code",
   "execution_count": null,
   "outputs": [],
   "source": [],
   "metadata": {
    "collapsed": false
   }
  },
  {
   "cell_type": "code",
   "execution_count": null,
   "outputs": [],
   "source": [],
   "metadata": {
    "collapsed": false
   }
  },
  {
   "cell_type": "code",
   "execution_count": null,
   "outputs": [],
   "source": [
    "# 9 (1)\n",
    "\n",
    "def f(start, end, s):\n",
    "    if start == end:\n",
    "        return 1\n",
    "    if start in s:\n",
    "        return 0\n",
    "    a = [int(x) for x in str(start)]\n",
    "    p = 1\n",
    "    for i in a:\n",
    "        p *= i\n",
    "    return f(sum(a), end, s + [start]) + f(p, end, s + [start])\n",
    "\n",
    "\n",
    "count = 0\n",
    "for i in range(10, 100):\n",
    "    count += 1 if f(i, 8, []) else 0\n",
    "\n",
    "print(count)"
   ],
   "metadata": {
    "collapsed": false
   }
  },
  {
   "cell_type": "code",
   "execution_count": 1,
   "outputs": [
    {
     "name": "stdout",
     "output_type": "stream",
     "text": [
      "1025\n"
     ]
    }
   ],
   "source": [
    "# 10 (1)\n",
    "from functools import lru_cache\n",
    "\n",
    "\n",
    "@lru_cache(None)\n",
    "def f(n, k, cnt=0):\n",
    "    if n > k:\n",
    "        return 0\n",
    "    if n == k and cnt % 2 != 0:\n",
    "        return 1\n",
    "    return f(n + 2, k, cnt + 1) + f(n * 2, k, cnt + 1) + (f(n * n, k, cnt + 1) if n > 1 else 0)\n",
    "\n",
    "\n",
    "print(f(1, 100))"
   ],
   "metadata": {
    "collapsed": false
   }
  },
  {
   "cell_type": "code",
   "execution_count": 2,
   "outputs": [
    {
     "name": "stdout",
     "output_type": "stream",
     "text": [
      "36\n"
     ]
    }
   ],
   "source": [
    "# 11 (1)\n",
    "\n",
    "from functools import lru_cache\n",
    "\n",
    "\n",
    "@lru_cache(None)\n",
    "def f(n, k):\n",
    "    if n < k:\n",
    "        return 0\n",
    "    if n == k:\n",
    "        return 1\n",
    "    return f(n - 2, k) + f(n // 2, k)\n",
    "\n",
    "\n",
    "print(f(28, 10) * f(10, 1))"
   ],
   "metadata": {
    "collapsed": false
   }
  },
  {
   "cell_type": "code",
   "execution_count": 3,
   "outputs": [
    {
     "name": "stdout",
     "output_type": "stream",
     "text": [
      "376\n"
     ]
    }
   ],
   "source": [
    "# 12 (1)\n",
    "\n",
    "from functools import lru_cache\n",
    "\n",
    "\n",
    "@lru_cache(None)\n",
    "def f(n, k):\n",
    "    if n < k:\n",
    "        return 0\n",
    "    if n == k:\n",
    "        return 1\n",
    "    return f(n - 1, k) + f(n // 2, k)\n",
    "\n",
    "\n",
    "print(f(30, 12) * f(12, 1))"
   ],
   "metadata": {
    "collapsed": false
   }
  },
  {
   "cell_type": "code",
   "execution_count": null,
   "outputs": [],
   "source": [],
   "metadata": {
    "collapsed": false
   }
  }
 ],
 "metadata": {
  "kernelspec": {
   "display_name": "Python 3",
   "language": "python",
   "name": "python3"
  },
  "language_info": {
   "codemirror_mode": {
    "name": "ipython",
    "version": 2
   },
   "file_extension": ".py",
   "mimetype": "text/x-python",
   "name": "python",
   "nbconvert_exporter": "python",
   "pygments_lexer": "ipython2",
   "version": "2.7.6"
  }
 },
 "nbformat": 4,
 "nbformat_minor": 0
}
