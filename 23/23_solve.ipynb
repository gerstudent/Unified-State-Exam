{
 "cells": [
  {
   "cell_type": "code",
   "execution_count": 5,
   "metadata": {
    "collapsed": true
   },
   "outputs": [
    {
     "name": "stdout",
     "output_type": "stream",
     "text": [
      "135\n"
     ]
    }
   ],
   "source": [
    "# 3 (1)\n",
    "from functools import lru_cache\n",
    "\n",
    "\n",
    "@lru_cache(None)\n",
    "def f(x, p):\n",
    "    if x > 27:\n",
    "        return 0\n",
    "    if x == 27:\n",
    "        return 1\n",
    "    return f(x + 1, x) + f(x * 3, x) + (f(x + p, x) if p != 0 else 0)\n",
    "\n",
    "\n",
    "print(f(2, 27))"
   ]
  },
  {
   "cell_type": "code",
   "execution_count": 6,
   "metadata": {},
   "outputs": [
    {
     "name": "stdout",
     "output_type": "stream",
     "text": [
      "58085\n"
     ]
    }
   ],
   "source": [
    "# 4 (1)\n",
    "def f(n, end, lst=[]):\n",
    "    lst = lst + [n]\n",
    "    if n > end:\n",
    "        return 0\n",
    "    if n == end:\n",
    "        return 1 if any((x + y + z) % 11 == 0 for x, y, z in zip(lst, lst[1:], lst[2:])) else 0\n",
    "\n",
    "    return f(n + 2, end) + f(n * 3, end) + f(n * 4, end)\n",
    "\n",
    "\n",
    "print(f(1, 600))"
   ]
  },
  {
   "cell_type": "code",
   "execution_count": null,
   "metadata": {},
   "outputs": [],
   "source": [
    "# 9 (1)\n",
    "\n",
    "def f(start, end, s):\n",
    "    if start == end:\n",
    "        return 1\n",
    "    if start in s:\n",
    "        return 0\n",
    "    a = [int(x) for x in str(start)]\n",
    "    p = 1\n",
    "    for i in a:\n",
    "        p *= i\n",
    "    return f(sum(a), end) + f(p, end)\n",
    "\n",
    "\n",
    "count = 0\n",
    "for i in range(10, 100):\n",
    "    count += 1 if f(i, 8, []) else 0\n",
    "\n",
    "print(count)"
   ]
  },
  {
   "cell_type": "code",
   "execution_count": 1,
   "metadata": {},
   "outputs": [
    {
     "name": "stdout",
     "output_type": "stream",
     "text": [
      "1025\n"
     ]
    }
   ],
   "source": [
    "# 10 (1)\n",
    "from functools import lru_cache\n",
    "\n",
    "\n",
    "@lru_cache(None)\n",
    "def f(n, k, cnt=0):\n",
    "    if n > k:\n",
    "        return 0\n",
    "    if n == k and cnt % 2 != 0:\n",
    "        return 1\n",
    "    return f(n + 2, k) + f(n * 2, k) + (f(n * n, k) if n > 1 else 0)\n",
    "\n",
    "\n",
    "print(f(1, 100))"
   ]
  },
  {
   "cell_type": "code",
   "execution_count": 2,
   "metadata": {},
   "outputs": [
    {
     "name": "stdout",
     "output_type": "stream",
     "text": [
      "36\n"
     ]
    }
   ],
   "source": [
    "# 11 (1)\n",
    "\n",
    "from functools import lru_cache\n",
    "\n",
    "\n",
    "@lru_cache(None)\n",
    "def f(n, k):\n",
    "    if n < k:\n",
    "        return 0\n",
    "    if n == k:\n",
    "        return 1\n",
    "    return f(n - 2, k) + f(n // 2, k)\n",
    "\n",
    "\n",
    "print(f(28, 10) * f(10, 1))"
   ]
  },
  {
   "cell_type": "code",
   "execution_count": 3,
   "metadata": {},
   "outputs": [
    {
     "name": "stdout",
     "output_type": "stream",
     "text": [
      "376\n"
     ]
    }
   ],
   "source": [
    "# 12 (1)\n",
    "\n",
    "from functools import lru_cache\n",
    "\n",
    "\n",
    "@lru_cache(None)\n",
    "def f(n, k):\n",
    "    if n < k:\n",
    "        return 0\n",
    "    if n == k:\n",
    "        return 1\n",
    "    return f(n - 1, k) + f(n // 2, k)\n",
    "\n",
    "\n",
    "print(f(30, 12) * f(12, 1))"
   ]
  },
  {
   "cell_type": "code",
   "execution_count": 7,
   "metadata": {},
   "outputs": [
    {
     "name": "stdout",
     "output_type": "stream",
     "text": [
      "1440\n"
     ]
    }
   ],
   "source": [
    "# 206\n",
    "\n",
    "def f(n, k):\n",
    "    if n > k:\n",
    "        return 0\n",
    "    if n == k:\n",
    "        return 1\n",
    "    return f(n + 1, k) + f(n * 5, k) + (f(10 * n + 1, k) if (10 * n + 1) % 3 == 0 else 0)\n",
    "\n",
    "\n",
    "print(f(1, 410))"
   ]
  },
  {
   "cell_type": "code",
   "execution_count": 36,
   "metadata": {
    "ExecuteTime": {
     "end_time": "2023-02-28T07:26:26.742816Z",
     "start_time": "2023-02-28T07:26:26.727366Z"
    }
   },
   "outputs": [
    {
     "name": "stdout",
     "output_type": "stream",
     "text": [
      "74\n"
     ]
    }
   ],
   "source": [
    "# 205\n",
    "\n",
    "def f(n, k, cnt=None):\n",
    "    if not cnt:\n",
    "        cnt = [0, 0, 0]\n",
    "    if n > k or cnt[0] > 4 or cnt[2] > 5:\n",
    "        return 0\n",
    "    if n == k:\n",
    "        if cnt[1] >= 2 and cnt[2] == 5:\n",
    "            return 1\n",
    "        else:\n",
    "            return 0\n",
    "    cnt1 = [cnt[0] + 1, cnt[1], cnt[2]]\n",
    "    cnt2 = [cnt[0], cnt[1] + 1, cnt[2]]\n",
    "    cnt3 = [cnt[0], cnt[1], cnt[2] + 1]\n",
    "    return f(n * 5, k, cnt1) + f(n * 3, k, cnt2) + f(n + 45, k, cnt3)\n",
    "\n",
    "\n",
    "print(f(1, 2970))"
   ]
  },
  {
   "cell_type": "code",
   "execution_count": 1,
   "metadata": {
    "code_folding": []
   },
   "outputs": [],
   "source": [
    "def f(n, k):\n",
    "    if n > k:\n",
    "        return 0\n",
    "    if n == k:\n",
    "        return 1\n",
    "    return f(n + 1, k) + f(n * 2, k) + f(n * 3, k)\n",
    "\n",
    "\n",
    "cnt = 0\n",
    "for i in range(2, 16, 2):\n",
    "    cnt += f(i, 15)\n",
    "\n",
    "print(cnt)\n",
    "\n",
    "\n",
    "def f(n, k):\n",
    "    if n < k:\n",
    "        return 0\n",
    "    if n == k:\n",
    "        return 1\n",
    "    c1 = f(n - 3, k)\n",
    "    c2 = f(n // 3, k)\n",
    "    c3 = f(n // 10, k)\n",
    "    if n % 2 == 0:\n",
    "        if len(str(n)) >= 2:\n",
    "            return c1 + c2 + c3\n",
    "        else:\n",
    "            return c1 + c2\n",
    "    else:\n",
    "        if len(str(n)) >= 2:\n",
    "            return c1 + c3\n",
    "        else:\n",
    "            return c1\n",
    "\n",
    "\n",
    "print(f(1250, 20))\n",
    "\n",
    "trajectory = []\n",
    "\n",
    "\n",
    "def f(n, k, way='', com=' '):\n",
    "    way += com\n",
    "    if n > k or n == 28:\n",
    "        return 0\n",
    "    if n == k:\n",
    "        trajectory.append(way[1:])\n",
    "        return 1\n",
    "    return f(n + 2, k, way, 'A') \\\n",
    "        + f(n + 3, k, way, 'B') \\\n",
    "        + f(n * 2, k, way, 'C')\n",
    "\n",
    "\n",
    "f(2, 40)\n",
    "ans = 0\n",
    "for i in trajectory:\n",
    "    if 'BACA' not in i:\n",
    "        ans += 1\n",
    "\n",
    "print(ans)\n",
    "\n",
    "st = set()\n",
    "\n",
    "\n",
    "def f(n, step):\n",
    "    if step == 13:\n",
    "        st.add(n)\n",
    "    else:\n",
    "        f(n - 3, step + 1)\n",
    "        f(n * (-3), step + 1)\n",
    "\n",
    "\n",
    "f(333, 0)\n",
    "print(len([x for x in st if x < 0]))\n",
    "\n",
    "\n",
    "def f(n, k, cnt=0):\n",
    "    if n > k or cnt > 3:\n",
    "        return 0\n",
    "    if n == k and n % 2 == 0:\n",
    "        return 1\n",
    "    return f(n + 1, k, cnt + 1) \\\n",
    "        + f(n + 2, k, cnt + 1) \\\n",
    "        + f(n * 3, k, cnt + 1)\n",
    "\n",
    "\n",
    "cnt = 0\n",
    "for i in range(0, 10000):\n",
    "    cnt += f(4, i)\n",
    "\n",
    "print(cnt)"
   ]
  }
 ],
 "metadata": {
  "kernelspec": {
   "display_name": "Python 3 (ipykernel)",
   "language": "python",
   "name": "python3"
  },
  "language_info": {
   "codemirror_mode": {
    "name": "ipython",
    "version": 3
   },
   "file_extension": ".py",
   "mimetype": "text/x-python",
   "name": "python",
   "nbconvert_exporter": "python",
   "pygments_lexer": "ipython3",
   "version": "3.10.6"
  },
  "toc": {
   "base_numbering": 1,
   "nav_menu": {},
   "number_sections": true,
   "sideBar": true,
   "skip_h1_title": false,
   "title_cell": "Table of Contents",
   "title_sidebar": "Contents",
   "toc_cell": false,
   "toc_position": {},
   "toc_section_display": true,
   "toc_window_display": false
  }
 },
 "nbformat": 4,
 "nbformat_minor": 1
}
