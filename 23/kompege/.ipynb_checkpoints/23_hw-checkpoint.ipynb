{
 "cells": [
  {
   "cell_type": "code",
   "execution_count": null,
   "id": "653238e5",
   "metadata": {
    "ExecuteTime": {
     "start_time": "2023-03-07T19:43:05.762Z"
    }
   },
   "outputs": [],
   "source": [
    "# 1137 (14)\n",
    "\n",
    "from functools import lru_cache\n",
    "\n",
    "\n",
    "@lru_cache(None)\n",
    "def f(n, k):\n",
    "    if n > k:\n",
    "        return 0\n",
    "    if n == k:\n",
    "        return 1\n",
    "    return f(n + 1, k) + f(n * 2, k) + f(n * 2 + 1, k)\n",
    "\n",
    "\n",
    "print(f(4, 29))"
   ]
  },
  {
   "cell_type": "code",
   "execution_count": null,
   "id": "d09b2680",
   "metadata": {
    "ExecuteTime": {
     "start_time": "2023-03-07T19:42:53.541Z"
    }
   },
   "outputs": [],
   "source": [
    "# 2342\n",
    "\n",
    "def increase(n):\n",
    "    s = list(str(n))\n",
    "    for i in range(len(s)):\n",
    "        if s[i] != '9':\n",
    "            s[i] = int(s[i]) + 1\n",
    "\n",
    "    num = int(''.join(str(i) for i in s))\n",
    "    return num\n",
    "\n",
    "\n",
    "def f(n, k):\n",
    "    if n > k:\n",
    "        return 0\n",
    "    if n == k:\n",
    "        return 1\n",
    "    return f(n + 1, k) + f(increase(n), k)\n",
    "\n",
    "\n",
    "print(f(25, 51))"
   ]
  },
  {
   "cell_type": "code",
   "execution_count": null,
   "id": "ead51002",
   "metadata": {
    "ExecuteTime": {
     "start_time": "2023-03-07T19:43:22.764Z"
    }
   },
   "outputs": [],
   "source": [
    "# 2343\n",
    "\n",
    "def f(n, k):\n",
    "    if n > k:\n",
    "        return 0\n",
    "    if n == k:\n",
    "        return 1\n",
    "    if n % 2 == 0:\n",
    "        return f(n + 1, k) + f(n * 1.5, k)\n",
    "    else:\n",
    "        return f(n + 1, k)\n",
    "\n",
    "\n",
    "print(f(1, 20))"
   ]
  },
  {
   "cell_type": "code",
   "execution_count": null,
   "id": "ba1a37ca",
   "metadata": {
    "ExecuteTime": {
     "start_time": "2023-03-14T07:19:42.148Z"
    }
   },
   "outputs": [],
   "source": [
    "# 2340\n",
    "\n",
    "def f(n, k):\n",
    "    if n > k:\n",
    "        return 0\n",
    "    if n == k:\n",
    "        return 1\n",
    "    return f(n + 2, k) + f(n + 4, k) + f(n + 5, k)\n",
    "\n",
    "\n",
    "for i in range(1, 100):\n",
    "    if f(31, i) == 1001:\n",
    "        print(i)"
   ]
  },
  {
   "cell_type": "code",
   "execution_count": 9,
   "id": "46199f0f",
   "metadata": {
    "ExecuteTime": {
     "end_time": "2023-03-22T05:37:58.329488Z",
     "start_time": "2023-03-22T05:37:58.315193Z"
    }
   },
   "outputs": [
    {
     "name": "stdout",
     "output_type": "stream",
     "text": [
      "37\n"
     ]
    }
   ],
   "source": [
    "# 886\n",
    "\n",
    "def f(n, k, cnt=0):\n",
    "    if n > k:\n",
    "        return 0\n",
    "    if n == k and cnt != 7:\n",
    "        return 0\n",
    "    if n == k and cnt == 7:\n",
    "        return 1\n",
    "    \n",
    "    return f(n + 1, k, cnt + 1) + f(n + 4, k, cnt + 1) + f(n * 2, k, cnt + 1)\n",
    "\n",
    "\n",
    "print(f(3, 27))"
   ]
  },
  {
   "cell_type": "code",
   "execution_count": 2,
   "id": "f0fde383",
   "metadata": {
    "ExecuteTime": {
     "end_time": "2023-03-22T05:51:02.957294Z",
     "start_time": "2023-03-22T05:51:02.942944Z"
    }
   },
   "outputs": [
    {
     "name": "stdout",
     "output_type": "stream",
     "text": [
      "32768\n"
     ]
    }
   ],
   "source": [
    "# 2339\n",
    "st = set()\n",
    "\n",
    "\n",
    "def f(cur, cnt=0):\n",
    "    if cnt == 15:\n",
    "        st.add(cur)\n",
    "    else:\n",
    "        f(cur * 2, cnt + 1)\n",
    "        f(cur * 2 + 1, cnt + 1)\n",
    "        \n",
    "f(1)\n",
    "print(len(st))"
   ]
  },
  {
   "cell_type": "code",
   "execution_count": 5,
   "id": "c47c40e5",
   "metadata": {
    "ExecuteTime": {
     "end_time": "2023-03-22T05:56:19.727590Z",
     "start_time": "2023-03-22T05:56:19.714579Z"
    }
   },
   "outputs": [
    {
     "name": "stdout",
     "output_type": "stream",
     "text": [
      "1\n"
     ]
    }
   ],
   "source": [
    "# 2341\n",
    "\n",
    "st = set()\n",
    "\n",
    "\n",
    "def f(cur, cnt=0):\n",
    "    if cnt == 8:\n",
    "        st.add(cur)\n",
    "    else:\n",
    "        f(cur + 1, cnt + 1)\n",
    "        f(cur + 5, cnt + 1)\n",
    "        f(cur * 3, cnt + 1)\n",
    "\n",
    "        \n",
    "f(1)\n",
    "ans = 0\n",
    "for i in range(1000, 1025):\n",
    "    if i in st:\n",
    "        ans += 1\n",
    "\n",
    "print(ans)"
   ]
  },
  {
   "cell_type": "markdown",
   "id": "0fdd400f",
   "metadata": {},
   "source": [
    "# Траектория не содержит двух команд умножения подряд"
   ]
  },
  {
   "cell_type": "code",
   "execution_count": 6,
   "id": "393e03c6",
   "metadata": {
    "ExecuteTime": {
     "end_time": "2023-03-22T06:32:39.241606Z",
     "start_time": "2023-03-22T06:32:39.230213Z"
    }
   },
   "outputs": [
    {
     "name": "stdout",
     "output_type": "stream",
     "text": [
      "1545\n"
     ]
    }
   ],
   "source": [
    "# 3030\n",
    "\n",
    "def f(cur, end, cnt):\n",
    "    if cur > end:\n",
    "        return 0\n",
    "\n",
    "    if cur == end:\n",
    "        return 1\n",
    "\n",
    "    if cur < end and cnt != '*2':\n",
    "        return f(cur + 1, end, '+1') + f(cur + 2, end, '+2') + f(cur * 2, end, '*2')\n",
    "\n",
    "    if cur < end and cnt == '*2':\n",
    "        return f(cur + 1, end, '+1') + f(cur + 2, end, '+2')\n",
    "\n",
    "\n",
    "print(f(1, 15, ''))\n"
   ]
  },
  {
   "cell_type": "code",
   "execution_count": 11,
   "id": "1bb343fb",
   "metadata": {
    "ExecuteTime": {
     "end_time": "2023-03-22T06:38:09.025405Z",
     "start_time": "2023-03-22T06:38:09.016142Z"
    }
   },
   "outputs": [
    {
     "name": "stdout",
     "output_type": "stream",
     "text": [
      "68\n"
     ]
    }
   ],
   "source": [
    "# 3162\n",
    "\n",
    "def f(cur, end, cnt=0):\n",
    "    if cur > end:\n",
    "        return 0\n",
    "\n",
    "    if cur == end:\n",
    "        return 1 if cnt == 1 else 0\n",
    "\n",
    "    return f(cur + 1, end, cnt) + f(cur + 2, end, cnt) + f(cur * 2, end, cnt + 1)\n",
    "\n",
    "print(f(2, 12))"
   ]
  },
  {
   "cell_type": "code",
   "execution_count": 20,
   "id": "c0daa5af",
   "metadata": {
    "ExecuteTime": {
     "end_time": "2023-03-22T06:39:33.430545Z",
     "start_time": "2023-03-22T06:39:33.418348Z"
    }
   },
   "outputs": [
    {
     "name": "stdout",
     "output_type": "stream",
     "text": [
      "793\n"
     ]
    }
   ],
   "source": [
    "# 4275\n",
    "\n",
    "def f(cur, end, cnt=0):\n",
    "    if cur > end:\n",
    "        return 0\n",
    "    if cur == end:\n",
    "        return 1 if cnt <= 3 else 0\n",
    "    return f(cur + 2, end, cnt) + f(cur * 3, end, cnt + 1) + f(cur * 5, end, cnt + 1)\n",
    "\n",
    "\n",
    "print(f(2, 200)) "
   ]
  }
 ],
 "metadata": {
  "kernelspec": {
   "display_name": "Python 3 (ipykernel)",
   "language": "python",
   "name": "python3"
  },
  "language_info": {
   "codemirror_mode": {
    "name": "ipython",
    "version": 3
   },
   "file_extension": ".py",
   "mimetype": "text/x-python",
   "name": "python",
   "nbconvert_exporter": "python",
   "pygments_lexer": "ipython3",
   "version": "3.10.6"
  },
  "toc": {
   "base_numbering": 1,
   "nav_menu": {},
   "number_sections": true,
   "sideBar": true,
   "skip_h1_title": false,
   "title_cell": "Table of Contents",
   "title_sidebar": "Contents",
   "toc_cell": false,
   "toc_position": {},
   "toc_section_display": true,
   "toc_window_display": false
  }
 },
 "nbformat": 4,
 "nbformat_minor": 5
}
