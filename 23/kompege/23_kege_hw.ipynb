{
 "cells": [
  {
   "cell_type": "code",
   "execution_count": null,
   "id": "653238e5",
   "metadata": {
    "ExecuteTime": {
     "start_time": "2023-03-07T19:43:05.762Z"
    }
   },
   "outputs": [],
   "source": [
    "# 1137 (14)\n",
    "\n",
    "from functools import lru_cache\n",
    "\n",
    "@lru_cache(None)\n",
    "def f(n, k):\n",
    "    if n > k:\n",
    "        return 0\n",
    "    if n == k:\n",
    "        return 1\n",
    "    return f(n + 1, k) + f(n * 2, k) + f(n * 2 + 1, k)\n",
    "\n",
    "print(f(4, 29))"
   ]
  },
  {
   "cell_type": "code",
   "execution_count": null,
   "id": "d09b2680",
   "metadata": {
    "ExecuteTime": {
     "start_time": "2023-03-07T19:42:53.541Z"
    }
   },
   "outputs": [],
   "source": [
    "# 2342\n",
    "\n",
    "def increase(n):\n",
    "    s = list(str(n))\n",
    "    for i in range(len(s)):\n",
    "        if s[i] != '9':\n",
    "            s[i] = int(s[i]) + 1\n",
    "\n",
    "    num = int(''.join(str(i) for i in s))         \n",
    "    return num\n",
    "  \n",
    "\n",
    "def f(n, k):\n",
    "    if n > k:\n",
    "        return 0\n",
    "    if n == k:\n",
    "        return 1\n",
    "    return f(n + 1, k) + f(increase(n), k)\n",
    "\n",
    "print(f(25, 51))"
   ]
  },
  {
   "cell_type": "code",
   "execution_count": null,
   "id": "ead51002",
   "metadata": {
    "ExecuteTime": {
     "start_time": "2023-03-07T19:43:22.764Z"
    }
   },
   "outputs": [],
   "source": [
    "# 2343\n",
    "\n",
    "def f(n, k):\n",
    "    if n > k:\n",
    "        return 0\n",
    "    if n == k:\n",
    "        return 1\n",
    "    if n % 2 == 0:\n",
    "        return f(n + 1, k) + f(n * 1.5, k)\n",
    "    else:\n",
    "        return f(n + 1, k)\n",
    "    \n",
    "print(f(1, 20))"
   ]
  },
  {
   "cell_type": "code",
   "execution_count": null,
   "id": "ba1a37ca",
   "metadata": {
    "ExecuteTime": {
     "start_time": "2023-03-07T19:40:14.051Z"
    }
   },
   "outputs": [
    {
     "name": "stdout",
     "output_type": "stream",
     "text": [
      "56\n"
     ]
    }
   ],
   "source": [
    "# 2340\n",
    "\n",
    "def f(n, k):\n",
    "    if n > k:\n",
    "        return 0\n",
    "    if n == k:\n",
    "        return 1\n",
    "    return f(n + 2, k) + f(n + 4, k) + f(n + 5, k)\n",
    "    \n",
    "for i in range(1, 100):\n",
    "    if f(31, i) == 1001:\n",
    "        print(i)"
   ]
  },
  {
   "cell_type": "code",
   "execution_count": null,
   "id": "46199f0f",
   "metadata": {},
   "outputs": [],
   "source": [
    "# 886\n",
    "\n",
    "def f(n, k):\n",
    "    if n > k:\n",
    "        return 0\n",
    "    if n == k:\n",
    "        return 1\n",
    "    return f(n + 2, k) + f(n + 4, k) + f(n + 5, k)\n",
    "    \n",
    "for i in range(1, 100):\n",
    "    if f(31, i) == 1001:\n",
    "        print(i)"
   ]
  },
  {
   "cell_type": "code",
   "execution_count": null,
   "id": "f0fde383",
   "metadata": {},
   "outputs": [],
   "source": []
  },
  {
   "cell_type": "code",
   "execution_count": null,
   "id": "c47c40e5",
   "metadata": {},
   "outputs": [],
   "source": []
  },
  {
   "cell_type": "code",
   "execution_count": null,
   "id": "393e03c6",
   "metadata": {},
   "outputs": [],
   "source": []
  },
  {
   "cell_type": "code",
   "execution_count": null,
   "id": "1bb343fb",
   "metadata": {},
   "outputs": [],
   "source": []
  },
  {
   "cell_type": "code",
   "execution_count": null,
   "id": "c0daa5af",
   "metadata": {},
   "outputs": [],
   "source": []
  },
  {
   "cell_type": "code",
   "execution_count": null,
   "id": "80f007b3",
   "metadata": {},
   "outputs": [],
   "source": []
  },
  {
   "cell_type": "code",
   "execution_count": null,
   "id": "27a13f34",
   "metadata": {},
   "outputs": [],
   "source": []
  },
  {
   "cell_type": "code",
   "execution_count": null,
   "id": "37d4cfa0",
   "metadata": {},
   "outputs": [],
   "source": []
  },
  {
   "cell_type": "code",
   "execution_count": null,
   "id": "d648efcf",
   "metadata": {},
   "outputs": [],
   "source": []
  },
  {
   "cell_type": "code",
   "execution_count": null,
   "id": "3f0d206b",
   "metadata": {},
   "outputs": [],
   "source": []
  },
  {
   "cell_type": "code",
   "execution_count": null,
   "id": "1e9de981",
   "metadata": {},
   "outputs": [],
   "source": []
  }
 ],
 "metadata": {
  "kernelspec": {
   "display_name": "Python 3 (ipykernel)",
   "language": "python",
   "name": "python3"
  },
  "language_info": {
   "codemirror_mode": {
    "name": "ipython",
    "version": 3
   },
   "file_extension": ".py",
   "mimetype": "text/x-python",
   "name": "python",
   "nbconvert_exporter": "python",
   "pygments_lexer": "ipython3",
   "version": "3.10.6"
  },
  "toc": {
   "base_numbering": 1,
   "nav_menu": {},
   "number_sections": true,
   "sideBar": true,
   "skip_h1_title": false,
   "title_cell": "Table of Contents",
   "title_sidebar": "Contents",
   "toc_cell": false,
   "toc_position": {},
   "toc_section_display": true,
   "toc_window_display": false
  }
 },
 "nbformat": 4,
 "nbformat_minor": 5
}
