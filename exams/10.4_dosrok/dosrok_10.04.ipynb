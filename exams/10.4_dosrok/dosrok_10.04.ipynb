{
 "cells": [
  {
   "cell_type": "code",
   "execution_count": 1,
   "id": "687926a8",
   "metadata": {
    "ExecuteTime": {
     "end_time": "2023-04-10T05:24:11.870055Z",
     "start_time": "2023-04-10T05:24:11.596267Z"
    }
   },
   "outputs": [
    {
     "name": "stdout",
     "output_type": "stream",
     "text": [
      "1271361 4657\n",
      "12633621 46277\n",
      "12663651 46387\n",
      "12693681 46497\n"
     ]
    }
   ],
   "source": [
    "from fnmatch import fnmatch\n",
    "\n",
    "\n",
    "for i in range(0, 10 ** 8, 273):\n",
    "    if fnmatch(str(i), '12??36*1'):\n",
    "        print(i, i // 273)"
   ]
  },
  {
   "cell_type": "code",
   "execution_count": 12,
   "id": "b55816c4",
   "metadata": {
    "ExecuteTime": {
     "end_time": "2023-04-10T05:33:35.974996Z",
     "start_time": "2023-04-10T05:33:35.968095Z"
    }
   },
   "outputs": [
    {
     "name": "stdout",
     "output_type": "stream",
     "text": [
      "200\n"
     ]
    }
   ],
   "source": [
    "def f(n, k):\n",
    "    if n > k or n == 13:\n",
    "        return 0\n",
    "    if n == k:\n",
    "        return 1\n",
    "    return f(n + 1, k) + f(n + 2, k) + f(n * 3, k)\n",
    "\n",
    "\n",
    "print(f(3, 8) * f(8, 18))"
   ]
  },
  {
   "cell_type": "code",
   "execution_count": 58,
   "id": "f2af8d35",
   "metadata": {
    "ExecuteTime": {
     "end_time": "2023-04-10T07:32:03.623160Z",
     "start_time": "2023-04-10T07:32:03.617220Z"
    }
   },
   "outputs": [
    {
     "name": "stdout",
     "output_type": "stream",
     "text": [
      "37\n"
     ]
    }
   ],
   "source": [
    "d = {\"0\": 0}\n",
    "data = []\n",
    "with open('22_6052.txt') as f:\n",
    "    for s in f:\n",
    "        data.append(s.replace(';', ' ').split())\n",
    "\n",
    "while len(d) != len(data) + 1:\n",
    "    for s in data:\n",
    "        if all(sub in d for sub in s[2:]):\n",
    "            d[s[0]] = int(s[1]) + max(d[sub] for sub in s[2:])\n",
    "\n",
    "print(max(d.values()))"
   ]
  },
  {
   "cell_type": "code",
   "execution_count": 21,
   "id": "d73dfadc",
   "metadata": {
    "ExecuteTime": {
     "end_time": "2023-04-10T05:53:53.060559Z",
     "start_time": "2023-04-10T05:53:53.046062Z"
    }
   },
   "outputs": [
    {
     "name": "stdout",
     "output_type": "stream",
     "text": [
      "19\n",
      "[15, 18]\n",
      "14\n"
     ]
    }
   ],
   "source": [
    "from functools import lru_cache\n",
    "import sys\n",
    "sys.setrecursionlimit(20000)\n",
    "\n",
    "\n",
    "def moves(h):\n",
    "    return h + 1, h + 4, h * 4\n",
    "\n",
    "\n",
    "@lru_cache(None)\n",
    "def f(h):\n",
    "    if h >= 78:\n",
    "        return 'w'\n",
    "    if any(f(x) == 'w' for x in moves(h)):\n",
    "        return 'p1'\n",
    "    if all(f(x) == 'p1' for x in moves(h)):\n",
    "        return 'v1'\n",
    "    if any(f(x) == 'v1' for x in moves(h)):\n",
    "        return 'p2'\n",
    "    if all(f(x) == 'p1' or f(x) == 'p2' for x in moves(h)):\n",
    "        return 'v2'\n",
    "\n",
    "\n",
    "ans19, ans20, ans21 = [], [], []\n",
    "for s in range(1, 78):\n",
    "    res = f(s)\n",
    "    if res is not None:\n",
    "        if res == 'v1':\n",
    "            ans19.append(s)\n",
    "        if res == 'p2':\n",
    "            ans20.append(s)\n",
    "        if res == 'v2':\n",
    "            ans21.append(s)\n",
    "            \n",
    "print(min(ans19), ans20, min(ans21), sep='\\n')"
   ]
  },
  {
   "cell_type": "code",
   "execution_count": 45,
   "id": "40ed2ae6",
   "metadata": {
    "ExecuteTime": {
     "end_time": "2023-04-10T07:12:05.093547Z",
     "start_time": "2023-04-10T07:12:05.060866Z"
    }
   },
   "outputs": [
    {
     "name": "stdout",
     "output_type": "stream",
     "text": [
      "2 33120\n"
     ]
    }
   ],
   "source": [
    "with open('17_7596.txt') as f:\n",
    "    data = [int(x) for x in f.readlines()]\n",
    "\n",
    "mn = min(x for x in data if x % 10 == 5 and len(str(x)) == 3)\n",
    "ans = []\n",
    "for i in range(0, len(data) - 1):\n",
    "    x, y = data[i], data[i + 1]\n",
    "    c1 = (len(str(x)) == 3) ^ (len(str(y)) == 3)\n",
    "    c2 = (x + y) % mn == 0\n",
    "    if c1 and c2:\n",
    "        ans.append(x + y)\n",
    "        \n",
    "print(len(ans), min(ans))"
   ]
  },
  {
   "cell_type": "code",
   "execution_count": 24,
   "id": "765eaeca",
   "metadata": {
    "ExecuteTime": {
     "end_time": "2023-04-10T06:22:39.409038Z",
     "start_time": "2023-04-10T06:22:39.401748Z"
    }
   },
   "outputs": [
    {
     "name": "stdout",
     "output_type": "stream",
     "text": [
      "1338\n"
     ]
    }
   ],
   "source": [
    "def f(n):\n",
    "    if n >= 2025:\n",
    "        return n\n",
    "    if n < 2025:\n",
    "        return n + 3 + f(n + 3)\n",
    "    \n",
    "\n",
    "print(f(23) - f(21))"
   ]
  },
  {
   "cell_type": "code",
   "execution_count": 31,
   "id": "48fc79e4",
   "metadata": {
    "ExecuteTime": {
     "end_time": "2023-04-10T06:31:59.133172Z",
     "start_time": "2023-04-10T06:31:59.127333Z"
    }
   },
   "outputs": [
    {
     "name": "stdout",
     "output_type": "stream",
     "text": [
      "0 116070624\n",
      "7 116072424\n",
      "e 116074224\n"
     ]
    }
   ],
   "source": [
    "base = 15\n",
    "num = 14\n",
    "\n",
    "for x in '0123456789abcde':\n",
    "    a = int(f'97968{x}13', base) + int(f'7{x}213', base)\n",
    "    if a % num == 0:\n",
    "        print(x, a // num)"
   ]
  },
  {
   "cell_type": "code",
   "execution_count": 29,
   "id": "837dfb90",
   "metadata": {
    "ExecuteTime": {
     "end_time": "2023-04-10T06:31:19.111242Z",
     "start_time": "2023-04-10T06:31:19.106743Z"
    }
   },
   "outputs": [
    {
     "name": "stdout",
     "output_type": "stream",
     "text": [
      "95306\n"
     ]
    }
   ],
   "source": [
    "base = 17\n",
    "num = 11\n",
    "for x in '0123456789abcdef':\n",
    "    a = int(f'9759{x}', base) + int(f'3{x}108', base)\n",
    "    if a % num == 0:\n",
    "        print(a // num)\n",
    "        break"
   ]
  },
  {
   "cell_type": "code",
   "execution_count": 32,
   "id": "1c62dc06",
   "metadata": {
    "ExecuteTime": {
     "end_time": "2023-04-10T06:36:41.308558Z",
     "start_time": "2023-04-10T06:36:41.300746Z"
    }
   },
   "outputs": [
    {
     "name": "stdout",
     "output_type": "stream",
     "text": [
      "16\n"
     ]
    }
   ],
   "source": [
    "for n in range(1, 100):\n",
    "    s = '3' + '5' * n\n",
    "\n",
    "    while '25' in s or '355' in s or '555' in s:\n",
    "        if '25' in s:\n",
    "            s = s.replace('25', '3', 1)\n",
    "        if '355' in s:\n",
    "            s = s.replace('355', '52', 1)\n",
    "        if '555' in s:\n",
    "            s = s.replace('555', '23', 1)\n",
    "            \n",
    "    if sum(map(int, s)) == 27:\n",
    "        print(n)\n",
    "        break"
   ]
  },
  {
   "cell_type": "code",
   "execution_count": 37,
   "id": "5db659da",
   "metadata": {
    "ExecuteTime": {
     "end_time": "2023-04-10T06:56:51.726937Z",
     "start_time": "2023-04-10T06:56:51.720886Z"
    }
   },
   "outputs": [
    {
     "name": "stdout",
     "output_type": "stream",
     "text": [
      "251\n"
     ]
    }
   ],
   "source": [
    "from itertools import product\n",
    "\n",
    "cnt = 0\n",
    "for x in product('АВЛОР', repeat=4):\n",
    "    cnt += 1\n",
    "    s = ''.join(x)\n",
    "    if s[0] == 'Л':\n",
    "        print(cnt)\n",
    "        break"
   ]
  },
  {
   "cell_type": "code",
   "execution_count": 40,
   "id": "0a35ac3d",
   "metadata": {
    "ExecuteTime": {
     "end_time": "2023-04-10T07:04:30.969177Z",
     "start_time": "2023-04-10T07:03:00.341564Z"
    }
   },
   "outputs": [],
   "source": [
    "from turtle import * \n",
    "\n",
    "tracer(0)\n",
    "screensize(2000, 2000)\n",
    "r = 35\n",
    "\n",
    "rt(315)\n",
    "for i in range(7):\n",
    "    fd(16 * r)\n",
    "    rt(45)\n",
    "    fd(8 * r)\n",
    "    rt(135)\n",
    "\n",
    "up()\n",
    "for x in range(-100, 100):\n",
    "    for y in range(-100, 100):\n",
    "        goto(x * r, y * r)\n",
    "        dot(3, 'blue')\n",
    "\n",
    "update()\n",
    "exitonclick()"
   ]
  },
  {
   "cell_type": "code",
   "execution_count": 55,
   "id": "9068d023",
   "metadata": {
    "ExecuteTime": {
     "end_time": "2023-04-10T07:18:57.390056Z",
     "start_time": "2023-04-10T07:18:57.379192Z"
    }
   },
   "outputs": [
    {
     "name": "stdout",
     "output_type": "stream",
     "text": [
      "22\n"
     ]
    }
   ],
   "source": [
    "ans = []\n",
    "for n in range(1, 1000):\n",
    "    b = bin(n)[2:]\n",
    "    if n % 3 == 0:\n",
    "        if len(b) >= 3:\n",
    "            b = b + b[0] + b[1] + b[2]\n",
    "    else:\n",
    "        posl = '3' * (n % 3)\n",
    "        s = bin(int(posl))[2:]\n",
    "        b = b + s\n",
    "    if int(b, 2) < 100:\n",
    "        ans.append(n)\n",
    "        \n",
    "print(max(ans))"
   ]
  },
  {
   "cell_type": "code",
   "execution_count": 57,
   "id": "c47cab45",
   "metadata": {
    "ExecuteTime": {
     "end_time": "2023-04-10T07:21:57.023285Z",
     "start_time": "2023-04-10T07:21:57.016158Z"
    }
   },
   "outputs": [
    {
     "name": "stdout",
     "output_type": "stream",
     "text": [
      "x y z w\n",
      "0 1 1 0\n",
      "0 1 0 1\n",
      "1 1 0 1\n"
     ]
    }
   ],
   "source": [
    "from itertools import product\n",
    "\n",
    "\n",
    "print('x y z w')\n",
    "for x, y, z, w in product((0, 1), repeat=4):\n",
    "    f = (x and (not y)) or (y == z) or (not w)\n",
    "    if not f:\n",
    "        print(x, w, z, y)"
   ]
  },
  {
   "cell_type": "code",
   "execution_count": 60,
   "id": "4b985a10",
   "metadata": {
    "ExecuteTime": {
     "end_time": "2023-04-10T07:44:56.271295Z",
     "start_time": "2023-04-10T07:44:56.266637Z"
    }
   },
   "outputs": [
    {
     "name": "stdout",
     "output_type": "stream",
     "text": [
      "36\n"
     ]
    }
   ],
   "source": [
    "def f(x, a):\n",
    "    return (x & 39 == 0) or ((x & 11 == 0) <= (not (x & a == 0)))\n",
    "\n",
    "for a in range(0, 1000):\n",
    "    if all(f(x, a) == 1 for x in range(0, 1000)):\n",
    "        print(a)\n",
    "        break"
   ]
  },
  {
   "cell_type": "code",
   "execution_count": 106,
   "id": "224b16b7",
   "metadata": {
    "ExecuteTime": {
     "end_time": "2023-04-10T09:26:11.131732Z",
     "start_time": "2023-04-10T09:26:11.115200Z"
    }
   },
   "outputs": [
    {
     "name": "stdout",
     "output_type": "stream",
     "text": [
      "586 3\n"
     ]
    }
   ],
   "source": [
    "with open('26_7602.txt') as f:\n",
    "    k = int(f.readline())\n",
    "    n = int(f.readline())\n",
    "    a = [list(map(int, f.readline().split())) for _ in range(n)]\n",
    "    op = sorted([[a[0], i] for i, a in enumerate(a)]) + [[-1, -2]]\n",
    "    cl = sorted([[a[1], i] for i, a in enumerate(a)]) + [[-1, -2]]\n",
    "\n",
    "cop, ccl, cnt, last = 0, 0, 0, 0\n",
    "cells = [-1] * k\n",
    "\n",
    "for time in range(1, 1441):\n",
    "\n",
    "    while time == op[cop][0]:\n",
    "        for i in range(k):\n",
    "            if cells[i] == -1:\n",
    "                cur = op[cop][1]\n",
    "                cells[i] = cur\n",
    "                last = i + 1\n",
    "                cnt += 1\n",
    "                break\n",
    "        cop += 1\n",
    "\n",
    "    while time == cl[ccl][0]:\n",
    "        for i in range(k):\n",
    "            if cells[i] == cl[ccl][1]:\n",
    "                cells[i] = -1\n",
    "                break\n",
    "        ccl += 1\n",
    "\n",
    "print(cnt, last)"
   ]
  },
  {
   "cell_type": "code",
   "execution_count": 95,
   "id": "8f78beb7",
   "metadata": {
    "ExecuteTime": {
     "end_time": "2023-04-10T08:39:37.401363Z",
     "start_time": "2023-04-10T08:39:34.963629Z"
    }
   },
   "outputs": [
    {
     "name": "stdout",
     "output_type": "stream",
     "text": [
      "174902 3094684 "
     ]
    }
   ],
   "source": [
    "for c in ['A', 'B']:\n",
    "    with open(f'27{c}_7603.txt') as f:\n",
    "        n = int(f.readline())\n",
    "        k = int(f.readline())\n",
    "        a = [int(f.readline()) for _ in range(n)]\n",
    "        mx = ans = -10 ** 20\n",
    "        for i in range(k - 1, n):\n",
    "            nxt = a[i - k + 1]\n",
    "            mx = max(mx, nxt)\n",
    "            ans = max(ans, a[i] + mx)\n",
    "        \n",
    "    print(ans, end=' ')"
   ]
  }
 ],
 "metadata": {
  "kernelspec": {
   "display_name": "Python 3 (ipykernel)",
   "language": "python",
   "name": "python3"
  },
  "language_info": {
   "codemirror_mode": {
    "name": "ipython",
    "version": 3
   },
   "file_extension": ".py",
   "mimetype": "text/x-python",
   "name": "python",
   "nbconvert_exporter": "python",
   "pygments_lexer": "ipython3",
   "version": "3.10.6"
  },
  "toc": {
   "base_numbering": 1,
   "nav_menu": {},
   "number_sections": true,
   "sideBar": true,
   "skip_h1_title": false,
   "title_cell": "Table of Contents",
   "title_sidebar": "Contents",
   "toc_cell": false,
   "toc_position": {},
   "toc_section_display": true,
   "toc_window_display": false
  }
 },
 "nbformat": 4,
 "nbformat_minor": 5
}
