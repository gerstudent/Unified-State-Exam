{
 "cells": [
  {
   "cell_type": "code",
   "execution_count": null,
   "outputs": [],
   "source": [
    "from itertools import product\n",
    "\n",
    "cnt, cnt1, cnt2 = 0, 0, 0\n",
    "for x in product(sorted('НОРМАЛЬЕ'), repeat=6):\n",
    "    cnt += 1\n",
    "    s = ''.join(x)\n",
    "    if s == 'НОРМАА':\n",
    "        cnt2 = cnt\n",
    "    if s == 'НЕНОРМ':\n",
    "        cnt1 = cnt\n",
    "print(cnt2 - cnt1 - 1)"
   ],
   "metadata": {
    "collapsed": false
   }
  },
  {
   "cell_type": "code",
   "execution_count": null,
   "outputs": [],
   "source": [
    "from fnmatch import fnmatch\n",
    "\n",
    "l4, l8, l16 = set(), set(), set()\n",
    "for x in range(1300220, 1333224):\n",
    "    if fnmatch(str(x), '13[0-3][0-3]22[0-3]'):\n",
    "        l4.add((int(str(x), 4)))\n",
    "\n",
    "for y in range(10050, 17751):\n",
    "    if fnmatch(str(y), '1[0-7][0-7]50'):\n",
    "        l8.add(int(str(y), 8))\n",
    "\n",
    "for z in range(0, 9):\n",
    "    l16.add(int(f'{z}C28', 16))\n",
    "\n",
    "ans1 = l4.intersection(l8)\n",
    "ans = ans1.intersection(l16)\n",
    "print(ans)\n"
   ],
   "metadata": {
    "collapsed": false
   }
  },
  {
   "cell_type": "code",
   "execution_count": null,
   "metadata": {
    "collapsed": true
   },
   "outputs": [],
   "source": [
    "def g(n):\n",
    "    if n > 100:\n",
    "        return n\n",
    "    else:\n",
    "        return g(n + 2) + 1\n",
    "\n",
    "\n",
    "def f(n):\n",
    "    if n <= 1:\n",
    "        return n\n",
    "    if n > 1 and n % 3 == 0:\n",
    "        return f(n - 1) + f(n - 2) + 1\n",
    "    if n > 1 and n % 3 != 0:\n",
    "        return g(n - 3)\n",
    "\n",
    "\n",
    "print(f(15) + f(12))\n"
   ]
  },
  {
   "cell_type": "code",
   "execution_count": null,
   "outputs": [],
   "source": [
    "with open('17.txt') as f:\n",
    "    data = [int(x) for x in f.readlines()]\n",
    "\n",
    "mn = 100\n",
    "for i in data:\n",
    "    s = str(abs(i))\n",
    "    if len(s) == 2 and s[-1] == '1':\n",
    "        mn = min(mn, i)\n",
    "\n",
    "ans = []\n",
    "for i in range(len(data) - 1):\n",
    "    x, y = data[i], data[i + 1]\n",
    "    c1 = x ** 2 < mn ** 2\n",
    "    c2 = y ** 2 < mn ** 2\n",
    "    c = (c1 and not c2) or (not c1 and c2)\n",
    "    c3 = x + y >= 0\n",
    "    if c and c3:\n",
    "        ans.append(x + y)\n",
    "\n",
    "print(len(ans), min(ans))"
   ],
   "metadata": {
    "collapsed": false
   }
  },
  {
   "cell_type": "code",
   "execution_count": null,
   "outputs": [],
   "source": [
    "from functools import lru_cache\n",
    "\n",
    "\n",
    "def moves(h):\n",
    "    if h % 4 == 0:\n",
    "        return h - 3, h - 2, h // 4\n",
    "    else:\n",
    "        return h - 3, h - 2\n",
    "\n",
    "\n",
    "@lru_cache(None)\n",
    "def g(h):\n",
    "    if h < 32:\n",
    "        return 'w'\n",
    "    if any(g(x) == 'w' for x in moves(h)):\n",
    "        return 'p1'\n",
    "    if all(g(x) == 'p1' for x in moves(h)):\n",
    "        return 'v1'\n",
    "    if any(g(x) == 'v1' for x in moves(h)):\n",
    "        return 'p2'\n",
    "    if all(g(x) == 'p1' or g(x) == 'p2' for x in moves(h)):\n",
    "        return 'v2'\n",
    "\n",
    "\n",
    "for s in range(31, 500):\n",
    "    if g(s) is not None:\n",
    "        if g(s) == 'v1':\n",
    "            print(s, g(s))\n",
    "        if g(s) == 'p2':\n",
    "            print(s, g(s))\n",
    "        if g(s) == 'v2':\n",
    "            print(s, g(s))"
   ],
   "metadata": {
    "collapsed": false
   }
  },
  {
   "cell_type": "code",
   "execution_count": null,
   "outputs": [],
   "source": [
    "d = {\"0\": 0}\n",
    "data = []\n",
    "with open('22.txt') as f:\n",
    "    for s in f:\n",
    "        data.append(s.replace(';', ' ').split())\n",
    "\n",
    "while len(d) != len(data) + 1:\n",
    "    for s in data:\n",
    "        idB, time, idA = s[0], s[1], s[2:]\n",
    "        if all(sub in d for sub in idA):\n",
    "            d[idB] = int(time) + max(d[sub] for sub in idA)\n",
    "\n",
    "print(max(d.values()))"
   ],
   "metadata": {
    "collapsed": false
   }
  },
  {
   "cell_type": "code",
   "execution_count": null,
   "outputs": [],
   "source": [
    "def f(n, k):\n",
    "    if n > k or n == 90:\n",
    "        return 0\n",
    "    if n == k:\n",
    "        return 1\n",
    "    return f(n + 1, k) + f(n * 2, k) + f(n * 3, k)\n",
    "\n",
    "\n",
    "print(f(3, 30) * f(30, 100) * f(100, 184))"
   ],
   "metadata": {
    "collapsed": false
   }
  },
  {
   "cell_type": "code",
   "execution_count": 1,
   "outputs": [
    {
     "name": "stdout",
     "output_type": "stream",
     "text": [
      "4358\n"
     ]
    }
   ],
   "source": [
    "from itertools import *\n",
    "\n",
    "with open('24.txt') as f:\n",
    "    s = f.readline()\n",
    "\n",
    "for i in product('ABCD', repeat=3):\n",
    "    k = ''.join(i)\n",
    "    s = s.replace(k, '*')\n",
    "\n",
    "s = s.split('*')\n",
    "print(max(len(c) for c in s))"
   ],
   "metadata": {
    "collapsed": false,
    "ExecuteTime": {
     "end_time": "2023-06-13T19:54:36.796057146Z",
     "start_time": "2023-06-13T19:54:36.032421447Z"
    }
   }
  },
  {
   "cell_type": "code",
   "execution_count": null,
   "outputs": [],
   "source": [
    "with open('24.txt') as f:\n",
    "    s = f.readline()\n",
    "\n",
    "s = s.replace('A', '*').replace('B', '*').replace('C', '*').replace('D', '*')\n",
    "s = s.split('***')\n",
    "print(max(len(c) for c in s))"
   ],
   "metadata": {
    "collapsed": false
   }
  },
  {
   "cell_type": "code",
   "execution_count": null,
   "outputs": [],
   "source": [
    "from fnmatch import fnmatch\n",
    "\n",
    "for x in range(0, 10 ** 9 + 1, 183):\n",
    "    if fnmatch(str(x), '??287*139'):\n",
    "        print(x, x // 183)\n"
   ],
   "metadata": {
    "collapsed": false
   }
  }
 ],
 "metadata": {
  "kernelspec": {
   "display_name": "Python 3",
   "language": "python",
   "name": "python3"
  },
  "language_info": {
   "codemirror_mode": {
    "name": "ipython",
    "version": 2
   },
   "file_extension": ".py",
   "mimetype": "text/x-python",
   "name": "python",
   "nbconvert_exporter": "python",
   "pygments_lexer": "ipython2",
   "version": "2.7.6"
  }
 },
 "nbformat": 4,
 "nbformat_minor": 0
}
