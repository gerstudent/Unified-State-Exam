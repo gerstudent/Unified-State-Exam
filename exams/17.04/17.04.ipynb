{
 "cells": [
  {
   "cell_type": "code",
   "execution_count": 11,
   "id": "bcd32d7b",
   "metadata": {
    "ExecuteTime": {
     "end_time": "2023-04-17T05:30:00.767662Z",
     "start_time": "2023-04-17T05:29:52.107601Z"
    },
    "scrolled": true
   },
   "outputs": [
    {
     "name": "stdout",
     "output_type": "stream",
     "text": [
      "3143529 1047843\n",
      "3175524 1587762\n",
      "3200521 1789\n",
      "3845521 103933\n",
      "3908529 1302843\n"
     ]
    }
   ],
   "source": [
    "from fnmatch import fnmatch\n",
    "\n",
    "\n",
    "def divs(x):\n",
    "    d = set()\n",
    "    for i in range(2, int(x ** 0.5) + 1):\n",
    "        if x % i == 0:\n",
    "            d |= {i, x // i}\n",
    "            \n",
    "    return sorted(d)\n",
    "\n",
    "\n",
    "for x in range(0, 10 ** 7):\n",
    "    if fnmatch(str(x), '3*52?'):\n",
    "        di = divs(x)\n",
    "        if len(di) % 2 != 0:\n",
    "            print(x, max(di))"
   ]
  },
  {
   "cell_type": "code",
   "execution_count": 41,
   "id": "4be90bd7",
   "metadata": {
    "ExecuteTime": {
     "end_time": "2023-04-17T07:14:50.958064Z",
     "start_time": "2023-04-17T07:14:50.948725Z"
    }
   },
   "outputs": [
    {
     "name": "stdout",
     "output_type": "stream",
     "text": [
      "408\n"
     ]
    }
   ],
   "source": [
    "def f(n, k, cnt=0):\n",
    "    if n > k:\n",
    "        return 0\n",
    "    if n == k:\n",
    "        return 1\n",
    "    if n % 2 == 0:\n",
    "        cnt += 1\n",
    "    if cnt > 15:\n",
    "        return 0\n",
    "    return f(n + 2, k, cnt) + f(n * 3, k, cnt) + f(n * 2 + 1, k, cnt)\n",
    "\n",
    "print(f(1, 55))"
   ]
  },
  {
   "cell_type": "code",
   "execution_count": 26,
   "id": "4a4e2cf9",
   "metadata": {
    "ExecuteTime": {
     "end_time": "2023-04-17T05:45:03.796773Z",
     "start_time": "2023-04-17T05:45:03.777045Z"
    }
   },
   "outputs": [
    {
     "name": "stdout",
     "output_type": "stream",
     "text": [
      "893 237\n"
     ]
    }
   ],
   "source": [
    "with open('17.txt') as f:\n",
    "    data = [int(x) for x in f.readlines()]\n",
    "    \n",
    "res = []\n",
    "for i in range(len(data) - 1):\n",
    "    x, y = data[i], data[i + 1]\n",
    "    if (abs(x) % 10 == 3) ^ (abs(y) % 10 == 3):\n",
    "        mn = min(x, y)\n",
    "        res.append(mn)\n",
    "        \n",
    "m = min(res)\n",
    "sm = 0\n",
    "for i in str(m):\n",
    "    if i.isdigit():\n",
    "        sm += int(i) ** 2\n",
    "        \n",
    "ans = []\n",
    "for i in range(len(data)):\n",
    "    num = data[i]\n",
    "    if '3' in str(num) and num >= sm:\n",
    "        ans.append(num)\n",
    "        \n",
    "print(len(ans), min(ans))\n",
    "    \n"
   ]
  },
  {
   "cell_type": "code",
   "execution_count": 28,
   "id": "6601e7ea",
   "metadata": {
    "ExecuteTime": {
     "end_time": "2023-04-17T05:47:25.322900Z",
     "start_time": "2023-04-17T05:47:24.359905Z"
    }
   },
   "outputs": [
    {
     "name": "stdout",
     "output_type": "stream",
     "text": [
      "55252\n"
     ]
    }
   ],
   "source": [
    "def f(n):\n",
    "    if n < 10:\n",
    "        return n\n",
    "    if n >= 10 and n < 1000:\n",
    "        return f(n // 10) + f(n % 10)\n",
    "    if n >= 1000:\n",
    "        return f(n // 1000) - f(n % 1000)\n",
    "    \n",
    "    \n",
    "cnt = 0\n",
    "for n in range(0, 10 ** 6 + 1):\n",
    "    if f(n) == 0:\n",
    "        cnt += 1\n",
    "        \n",
    "print(cnt)"
   ]
  },
  {
   "cell_type": "code",
   "execution_count": 33,
   "id": "8288ff99",
   "metadata": {
    "ExecuteTime": {
     "end_time": "2023-04-17T05:54:45.888866Z",
     "start_time": "2023-04-17T05:54:41.128249Z"
    }
   },
   "outputs": [
    {
     "name": "stdout",
     "output_type": "stream",
     "text": [
      "30\n"
     ]
    }
   ],
   "source": [
    "def f1(x, a1, a2):\n",
    "    P = 35 <= x <= 55\n",
    "    A = a1 <= x <= a2\n",
    "    return P <= A\n",
    "\n",
    "\n",
    "def f2(x, a1, a2):\n",
    "    Q = 45 <= x <= 65\n",
    "    A = a1 <= x <= a2\n",
    "    return (not A) <= (not Q)\n",
    "\n",
    "\n",
    "m = []\n",
    "for i in range(500):\n",
    "    for j in range(500):\n",
    "        if all(f1(x, i, j) == 1 and f2(x, i, j) == 1 for x in range(500)):\n",
    "            m.append(j - i)\n",
    "\n",
    "print(min(m, default=0))"
   ]
  },
  {
   "cell_type": "code",
   "execution_count": 40,
   "id": "0d88bf4c",
   "metadata": {
    "ExecuteTime": {
     "end_time": "2023-04-17T06:18:08.625699Z",
     "start_time": "2023-04-17T06:18:08.612629Z"
    }
   },
   "outputs": [
    {
     "name": "stdout",
     "output_type": "stream",
     "text": [
      "[(1, 64), (1, 66), (1, 68), (1, 70), (1, 72), (1, 74), (1, 76), (1, 78), (1, 80), (1, 82), (1, 84), (1, 86), (1, 88), (1, 90), (1, 92), (1, 94), (1, 96), (1, 98), (2, 1), (2, 3), (2, 5), (2, 7), (2, 9), (2, 11), (2, 13), (2, 15), (2, 17), (2, 19), (2, 21), (2, 23), (2, 25), (2, 27), (2, 29), (2, 31), (2, 33), (2, 35), (2, 37), (2, 39), (2, 41), (2, 43), (2, 45), (2, 47), (2, 49), (2, 51), (2, 53), (2, 55), (2, 57), (2, 59), (2, 61), (2, 63), (2, 65), (2, 67), (2, 69), (2, 71), (2, 73), (2, 75), (2, 77), (2, 79), (2, 81), (2, 83), (2, 85), (2, 87), (2, 89), (2, 91), (2, 93), (2, 95), (2, 97), (2, 99), (12, 0), (12, 2), (12, 4), (12, 6), (12, 8), (12, 10), (12, 12), (12, 14), (12, 16), (12, 18), (12, 20), (12, 22), (12, 24), (12, 26), (12, 28), (12, 30), (12, 32), (12, 34), (12, 36), (12, 38), (12, 40), (12, 42), (12, 44), (12, 46), (12, 48), (12, 50), (12, 52), (12, 54), (12, 56), (12, 58), (12, 60), (12, 62)]\n"
     ]
    }
   ],
   "source": [
    "def f(s):\n",
    "    while '11' in s or '22' in s or '13' in s or '23' in s:\n",
    "        s = s.replace('11', '2', 1)\n",
    "        s = s.replace('22', '1', 1)\n",
    "        s = s.replace('13', '2', 1)\n",
    "        s = s.replace('23', '1', 1)\n",
    "    return int(s)\n",
    "\n",
    "\n",
    "ans = []\n",
    "mn = 10 ** 5\n",
    "for i in range(0, 100):\n",
    "    s = 33 * '1' + 33 * '2' + i * '3'\n",
    "    ans.append((f(s), i))\n",
    "    \n",
    "\n",
    "print(sorted(ans))"
   ]
  },
  {
   "cell_type": "code",
   "execution_count": null,
   "id": "0b3bdc66",
   "metadata": {},
   "outputs": [],
   "source": [
    "cnt = 0\n",
    "for n in range(300, 401):\n",
    "    l = sorted(list(str(n)))\n",
    "    mx = l[2] + l[1]\n",
    "    if l[0] != '0':\n",
    "        mn = l[0] + l[1]\n",
    "    else:\n",
    "        mn = l[1] + l[0]\n",
    "\n",
    "    r = int(mx) - int(mn)\n",
    "    if r == 20:\n",
    "        cnt += 1\n",
    "\n",
    "print(cnt)"
   ]
  },
  {
   "cell_type": "code",
   "execution_count": null,
   "id": "d1713302",
   "metadata": {},
   "outputs": [],
   "source": []
  },
  {
   "cell_type": "code",
   "execution_count": null,
   "id": "18d8b6de",
   "metadata": {},
   "outputs": [],
   "source": []
  },
  {
   "cell_type": "code",
   "execution_count": null,
   "id": "048225ee",
   "metadata": {},
   "outputs": [],
   "source": []
  }
 ],
 "metadata": {
  "kernelspec": {
   "display_name": "Python 3 (ipykernel)",
   "language": "python",
   "name": "python3"
  },
  "language_info": {
   "codemirror_mode": {
    "name": "ipython",
    "version": 3
   },
   "file_extension": ".py",
   "mimetype": "text/x-python",
   "name": "python",
   "nbconvert_exporter": "python",
   "pygments_lexer": "ipython3",
   "version": "3.10.6"
  },
  "toc": {
   "base_numbering": 1,
   "nav_menu": {},
   "number_sections": true,
   "sideBar": true,
   "skip_h1_title": false,
   "title_cell": "Table of Contents",
   "title_sidebar": "Contents",
   "toc_cell": false,
   "toc_position": {},
   "toc_section_display": true,
   "toc_window_display": false
  }
 },
 "nbformat": 4,
 "nbformat_minor": 5
}
