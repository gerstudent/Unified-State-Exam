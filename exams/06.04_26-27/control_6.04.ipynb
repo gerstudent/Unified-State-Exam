{
 "cells": [
  {
   "cell_type": "code",
   "execution_count": 16,
   "id": "82f0397f",
   "metadata": {},
   "outputs": [
    {
     "name": "stdout",
     "output_type": "stream",
     "text": [
      "38 1481\n"
     ]
    }
   ],
   "source": [
    "with open('1.txt') as f:\n",
    "    n, m = map(int, f.readline().split())\n",
    "    a = [int(f.readline()) for _ in range(n)]\n",
    "\n",
    "a.sort(reverse=True)\n",
    "ans = []\n",
    "while True:\n",
    "    if a[0] == 0:\n",
    "        break\n",
    "\n",
    "    chain = [ a[0] ]\n",
    "    a.pop(0)\n",
    "    a.append(0)\n",
    "    \n",
    "    i = 0\n",
    "    while i < len(a):\n",
    "        if a[i] == 0:\n",
    "            break\n",
    "\n",
    "        if sum(chain) + a[i] <= m:\n",
    "            chain.append(a[i])\n",
    "            a.pop(i)\n",
    "            a.append(0)\n",
    "            i -= 1\n",
    "        i += 1\n",
    "        \n",
    "    ans.append(chain)\n",
    "print(len(ans), sum(ans[-2]) )"
   ]
  },
  {
   "cell_type": "code",
   "execution_count": 62,
   "id": "3ebc58f5",
   "metadata": {},
   "outputs": [
    {
     "name": "stdout",
     "output_type": "stream",
     "text": [
      "19 1045\n"
     ]
    }
   ],
   "source": [
    "with open(\"2.txt\") as F:\n",
    "  N, K = map( int, F.readline().split() )\n",
    "  data = [ int(F.readline()) for _ in range(N) ]\n",
    "\n",
    "data.sort( reverse = True )\n",
    "\n",
    "blocks = []\n",
    "while data:\n",
    "  maxCube = prev = data.pop( 0 )\n",
    "  k = 1\n",
    "  i = 0\n",
    "  while i < len(data):\n",
    "    if prev - data[i] >= K:\n",
    "      prev = data.pop( i )\n",
    "      k += 1\n",
    "    else:\n",
    "      i += 1\n",
    "  blocks.append( (maxCube, k) )\n",
    "\n",
    "print( len(blocks), max(blocks, key = lambda x: x[1])[1] )"
   ]
  },
  {
   "cell_type": "code",
   "execution_count": 72,
   "id": "9d0e9aa1",
   "metadata": {},
   "outputs": [
    {
     "name": "stdout",
     "output_type": "stream",
     "text": [
      "678 657\n"
     ]
    }
   ],
   "source": [
    "with open(\"3.txt\") as F:\n",
    "  N, K, M = map( int, F.readline().split() )\n",
    "  data = []\n",
    "  for _ in range(N):\n",
    "    size, type = F.readline().strip().split()\n",
    "    data.append( (int(size), type) )\n",
    "\n",
    "data.sort( reverse = True )\n",
    "\n",
    "blocks = []\n",
    "while data:\n",
    "  maxCube = prev = data.pop( 0 )\n",
    "  k = 1\n",
    "  i = 0\n",
    "  while i < len(data):\n",
    "    if prev[0] - data[i][0] >= K and prev[1] != data[i][1]:\n",
    "      prev = data.pop( i )\n",
    "      #print( prev )\n",
    "      k += 1\n",
    "      if k == M: break\n",
    "    else:\n",
    "      i += 1\n",
    "  blocks.append( (maxCube, k) )\n",
    "\n",
    "print( len(blocks), sum( 1 for b in blocks if b[1] == M ) )"
   ]
  }
 ],
 "metadata": {
  "kernelspec": {
   "display_name": "Python 3 (ipykernel)",
   "language": "python",
   "name": "python3"
  },
  "language_info": {
   "codemirror_mode": {
    "name": "ipython",
    "version": 3
   },
   "file_extension": ".py",
   "mimetype": "text/x-python",
   "name": "python",
   "nbconvert_exporter": "python",
   "pygments_lexer": "ipython3",
   "version": "3.10.6"
  }
 },
 "nbformat": 4,
 "nbformat_minor": 5
}
