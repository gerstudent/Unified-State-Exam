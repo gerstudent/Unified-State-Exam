{
 "cells": [
  {
   "cell_type": "code",
   "execution_count": 67,
   "id": "e3064028",
   "metadata": {
    "ExecuteTime": {
     "end_time": "2023-03-13T13:04:32.469393Z",
     "start_time": "2023-03-13T13:04:32.461063Z"
    }
   },
   "outputs": [
    {
     "name": "stdout",
     "output_type": "stream",
     "text": [
      "1 0 0 0\n",
      "1 0 1 0\n",
      "1 1 1 0\n"
     ]
    }
   ],
   "source": [
    "from itertools import product\n",
    "\n",
    "for x, y, z, w in product((0, 1), repeat=4):\n",
    "    f = (x <= (not(y <= z))) or w\n",
    "    if not f:\n",
    "        print(x, y, z, w)"
   ]
  },
  {
   "cell_type": "code",
   "execution_count": 14,
   "id": "bf0722dd",
   "metadata": {
    "ExecuteTime": {
     "end_time": "2023-03-13T12:35:46.805509Z",
     "start_time": "2023-03-13T12:35:46.798475Z"
    }
   },
   "outputs": [
    {
     "name": "stdout",
     "output_type": "stream",
     "text": [
      "61\n"
     ]
    }
   ],
   "source": [
    "mx = -10**6\n",
    "for n in range(1, 9):\n",
    "    b = bin(n)[2:]\n",
    "    if n % 2 == 0:\n",
    "        b = b + '10'\n",
    "    else:\n",
    "        b = '1' + b + '01'\n",
    "    mx = max(int(b, 2), mx)\n",
    "\n",
    "print(mx)"
   ]
  },
  {
   "cell_type": "code",
   "execution_count": 10,
   "id": "36cf69de",
   "metadata": {
    "ExecuteTime": {
     "end_time": "2023-03-13T12:29:56.936536Z",
     "start_time": "2023-03-13T12:28:23.583193Z"
    }
   },
   "outputs": [],
   "source": [
    "from turtle import *\n",
    "\n",
    "tracer(0)\n",
    "screensize(2000, 2000)\n",
    "r = 25\n",
    "\n",
    "for i in range(4):\n",
    "    fd(10 * r)\n",
    "    rt(270)\n",
    "    \n",
    "up()\n",
    "fd(3 * r)\n",
    "rt(270)\n",
    "fd(5 * r)\n",
    "rt(90)\n",
    "down()\n",
    "\n",
    "for j in range(2):\n",
    "    fd(10 * r)\n",
    "    rt(270)\n",
    "    fd(12 * r)\n",
    "    rt(270)\n",
    "    \n",
    "    \n",
    "up()\n",
    "\n",
    "for x in range(-50, 50):\n",
    "    for y in range(-50, 50):\n",
    "        goto(x * r, y * r)\n",
    "        dot(3, \"blue\")\n",
    "        \n",
    "update()\n",
    "exitonclick()"
   ]
  },
  {
   "cell_type": "code",
   "execution_count": null,
   "id": "a334396c",
   "metadata": {
    "ExecuteTime": {
     "end_time": "2023-03-13T12:22:47.222110Z",
     "start_time": "2023-03-13T12:22:47.210948Z"
    }
   },
   "outputs": [],
   "source": [
    "from itertools import product\n",
    "\n",
    "cnt = 0\n",
    "for x in product('АЙКОС', repeat=5):\n",
    "    cnt += 1\n",
    "    s = ''.join(x)\n",
    "    if s.count('О') <= 1 and 'СС' not in s:\n",
    "        print(cnt)"
   ]
  },
  {
   "cell_type": "code",
   "execution_count": null,
   "id": "2fbfaa17",
   "metadata": {
    "ExecuteTime": {
     "end_time": "2023-03-13T11:54:34.785647Z",
     "start_time": "2023-03-13T11:54:34.779749Z"
    }
   },
   "outputs": [],
   "source": [
    "s = 104 * '7'\n",
    "\n",
    "while '33333' in s or '777' in s:\n",
    "    if '33333' in s:\n",
    "        s = s.replace('33333', '7')\n",
    "    else:\n",
    "        s = s.replace('777', '3')\n",
    "    \n",
    "print(s)"
   ]
  },
  {
   "cell_type": "code",
   "execution_count": null,
   "id": "18446f52",
   "metadata": {
    "ExecuteTime": {
     "end_time": "2023-03-13T11:52:26.149738Z",
     "start_time": "2023-03-13T11:52:26.126379Z"
    }
   },
   "outputs": [],
   "source": [
    "def dtb(x, base):\n",
    "    res = ''\n",
    "    while x > 0:\n",
    "        res += str(x % base)\n",
    "        x //= base\n",
    "        \n",
    "    return res[::-1]\n",
    "\n",
    "x = 2 * 729 ** 1021 - 2 * 243 ** 1022 + 81 ** 1023 - 2 * 27 ** 1024 - 1025\n",
    "num = dtb(x, 3)\n",
    "print(num.count('0'))"
   ]
  },
  {
   "cell_type": "code",
   "execution_count": null,
   "id": "087cf4ad",
   "metadata": {
    "ExecuteTime": {
     "end_time": "2023-03-13T11:50:01.144565Z",
     "start_time": "2023-03-13T11:49:58.005386Z"
    }
   },
   "outputs": [],
   "source": [
    "def f(x, y, a):\n",
    "    return (x + y <= 32) or (y <= x + 4) or (y >= a)\n",
    "\n",
    "\n",
    "for a in range(0, 1000):\n",
    "    if all(f(x, y, a) == 1 for x in range(0, 1000) for y in range(0, 1000)):\n",
    "        print(a)"
   ]
  },
  {
   "cell_type": "code",
   "execution_count": null,
   "id": "8dbc22a0",
   "metadata": {
    "ExecuteTime": {
     "end_time": "2023-03-13T11:38:44.800759Z",
     "start_time": "2023-03-13T11:38:44.650365Z"
    }
   },
   "outputs": [],
   "source": [
    "def f(n):\n",
    "    if n < 3:\n",
    "        return 2\n",
    "    if n > 2 and n % 2 == 0:\n",
    "        return f(n - 2) - f(n - 1) + 2\n",
    "    if n > 2 and n % 2 != 0:\n",
    "        return f(n - 1) - f(n - 2) - 2\n",
    "\n",
    "\n",
    "print(f(29))"
   ]
  },
  {
   "cell_type": "code",
   "execution_count": 63,
   "id": "b52db770",
   "metadata": {
    "ExecuteTime": {
     "end_time": "2023-03-13T12:45:13.215364Z",
     "start_time": "2023-03-13T12:45:13.201825Z"
    }
   },
   "outputs": [
    {
     "name": "stdout",
     "output_type": "stream",
     "text": [
      "5128 3322\n"
     ]
    }
   ],
   "source": [
    "with open('17_6752.txt') as fi:\n",
    "    data = [int(x) for x in fi.readlines()]\n",
    "    \n",
    "k3 = len([x for x in data if x % 3 == 0])\n",
    "\n",
    "def valid(x, y):\n",
    "    c1 = x < 0 or y < 0\n",
    "    c2 = (x + y) < k3\n",
    "    return c1 and c2\n",
    "\n",
    "\n",
    "ans = []\n",
    "for i in range(0, len(data) - 1):\n",
    "    x, y = data[i], data[i + 1]\n",
    "    if valid(x, y):\n",
    "        ans.append(x + y)\n",
    "\n",
    "print(len(ans), max(ans))"
   ]
  },
  {
   "cell_type": "code",
   "execution_count": null,
   "id": "7fff289d",
   "metadata": {
    "ExecuteTime": {
     "end_time": "2023-03-13T11:34:40.903395Z",
     "start_time": "2023-03-13T11:34:40.887616Z"
    }
   },
   "outputs": [],
   "source": [
    "from functools import lru_cache\n",
    "\n",
    "\n",
    "def moves(h):\n",
    "    return h + 1, h + 4, h * 2\n",
    "\n",
    "\n",
    "@lru_cache(None)\n",
    "def f(h):\n",
    "    if h >= 351:\n",
    "        return \"W\"\n",
    "    if any(f(x) == \"W\" for x in moves(h)):\n",
    "        return \"P1\"\n",
    "    if all(f(x) == \"P1\" for x in moves(h)):\n",
    "        return \"B1\"\n",
    "    if any(f(x) == \"B1\" for x in moves(h)):\n",
    "        return \"P2\"\n",
    "    if all(f(x) == \"P1\" or f(x) == \"P2\" for x in moves(h)):\n",
    "        return \"B2\"\n",
    "\n",
    "\n",
    "for s in range(1, 351):\n",
    "    if f(s) is not None:\n",
    "        print(s, f(s))"
   ]
  },
  {
   "cell_type": "code",
   "execution_count": null,
   "id": "b7753f98",
   "metadata": {
    "ExecuteTime": {
     "start_time": "2023-03-13T11:30:06.675Z"
    }
   },
   "outputs": [],
   "source": [
    "def f(n, k):\n",
    "    if n < k:\n",
    "        return 0\n",
    "    if n == k:\n",
    "        return 1\n",
    "    return f(n - 2, k) + f(n // 2, k)\n",
    "\n",
    "\n",
    "print(f(40, 10) * f(10, 2))"
   ]
  },
  {
   "cell_type": "code",
   "execution_count": null,
   "id": "f0cccbf0",
   "metadata": {
    "ExecuteTime": {
     "end_time": "2023-03-13T11:09:22.575460Z",
     "start_time": "2023-03-13T11:09:22.366639Z"
    }
   },
   "outputs": [],
   "source": [
    "s = open('24_6757.txt').readline()\n",
    "s = s.replace('CFE', '*').replace('FCE', '*').replace('C',\n",
    "                                                      ' ').replace('D', ' ').replace('E', ' ').replace('F', ' ')\n",
    "\n",
    "print(max(len(c) for c in s.split()))"
   ]
  },
  {
   "cell_type": "code",
   "execution_count": null,
   "id": "74374fa8",
   "metadata": {
    "ExecuteTime": {
     "end_time": "2023-03-13T10:57:23.387032Z",
     "start_time": "2023-03-13T10:57:20.212382Z"
    }
   },
   "outputs": [],
   "source": [
    "from fnmatch import fnmatch\n",
    "\n",
    "for x in range(0, 10 ** 8 + 1, 23):\n",
    "    if fnmatch(str(x), '2*5443?1'):\n",
    "        print(x, x // 23)"
   ]
  }
 ],
 "metadata": {
  "kernelspec": {
   "display_name": "Python 3 (ipykernel)",
   "language": "python",
   "name": "python3"
  },
  "language_info": {
   "codemirror_mode": {
    "name": "ipython",
    "version": 3
   },
   "file_extension": ".py",
   "mimetype": "text/x-python",
   "name": "python",
   "nbconvert_exporter": "python",
   "pygments_lexer": "ipython3",
   "version": "3.10.6"
  }
 },
 "nbformat": 4,
 "nbformat_minor": 5
}
