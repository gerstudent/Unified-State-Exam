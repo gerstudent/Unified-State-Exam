{
 "cells": [
  {
   "cell_type": "markdown",
   "id": "37921e14",
   "metadata": {},
   "source": [
    "# 27"
   ]
  },
  {
   "cell_type": "code",
   "execution_count": null,
   "id": "44f366e2",
   "metadata": {},
   "outputs": [],
   "source": [
    "for c in ['A', 'B']:\n",
    "    with open(f'27_{c}_6032.txt') as f:\n",
    "        n = int(f.readline())\n",
    "        s = [0]\n",
    "        for i in range(n):\n",
    "            pairs = [int(x) for x in f.readline().split()]\n",
    "            s = [a + b for a in s for b in pairs]\n",
    "            s = {x % 13: x for x in sorted(s)}.values()\n",
    "\n",
    "    print(max(x for x in s if x % 13 != 0), end=' ')"
   ]
  },
  {
   "cell_type": "markdown",
   "id": "3ab99112",
   "metadata": {},
   "source": [
    "# 25"
   ]
  },
  {
   "cell_type": "code",
   "execution_count": null,
   "id": "2e902e7d",
   "metadata": {
    "ExecuteTime": {
     "end_time": "2023-03-24T05:24:14.461664Z",
     "start_time": "2023-03-24T05:24:13.871933Z"
    }
   },
   "outputs": [],
   "source": [
    "from fnmatch import fnmatch\n",
    "\n",
    "for i in range(0, 10 ** 8, 129):\n",
    "    if fnmatch(str(i), '12?3*46'):\n",
    "        print(i, i // 129)"
   ]
  },
  {
   "cell_type": "code",
   "execution_count": null,
   "id": "3a522b6c",
   "metadata": {
    "ExecuteTime": {
     "end_time": "2023-03-24T12:25:09.759635Z",
     "start_time": "2023-03-24T12:25:08.805264Z"
    }
   },
   "outputs": [],
   "source": [
    "with open('24.txt') as f:\n",
    "    s = f.readline()\n",
    "\n",
    "mx = 0\n",
    "for i in s.split('D'):\n",
    "    cnt = 1\n",
    "    for j in range(1, len(i) - 1, 2):\n",
    "        if i[j] + i[j + 1] == 'EF':\n",
    "            cnt += 2\n",
    "        else:\n",
    "            mx = max(cnt, mx)\n",
    "            cnt = 1\n",
    "    mx = max(cnt, mx)\n",
    "print(mx)"
   ]
  },
  {
   "cell_type": "code",
   "execution_count": null,
   "id": "5da43490",
   "metadata": {
    "ExecuteTime": {
     "end_time": "2023-03-24T05:27:46.998799Z",
     "start_time": "2023-03-24T05:27:46.994308Z"
    }
   },
   "outputs": [],
   "source": [
    "def f(cur, end):\n",
    "    if cur > end or cur == 9:\n",
    "        return 0\n",
    "    if cur == end:\n",
    "        return 1\n",
    "    return f(cur + 1, end) + f(cur * 2, end)\n",
    "\n",
    "\n",
    "print(f(2, 12) * f(12, 42))"
   ]
  },
  {
   "cell_type": "code",
   "execution_count": null,
   "id": "794c41c6",
   "metadata": {
    "ExecuteTime": {
     "end_time": "2023-03-24T05:45:49.763989Z",
     "start_time": "2023-03-24T05:45:49.746537Z"
    }
   },
   "outputs": [],
   "source": [
    "from functools import lru_cache\n",
    "\n",
    "\n",
    "def moves(h):\n",
    "    a, b = h\n",
    "    return (a + 2, b), (a * 3, b), (a, b + 2), (a, b * 3)\n",
    "\n",
    "\n",
    "@lru_cache(None)\n",
    "def f(h):\n",
    "    if sum(h) >= 52:\n",
    "        return \"W\"\n",
    "    if any(f(x) == \"W\" for x in moves(h)):\n",
    "        return \"P1\"\n",
    "    if all(f(x) == \"P1\" for x in moves(h)):\n",
    "        return \"B1\"\n",
    "    if any(f(x) == \"B1\" for x in moves(h)):\n",
    "        return \"P2\"\n",
    "    if all(f(x) == \"P1\" or f(x) == \"P2\" for x in moves(h)):\n",
    "        return \"B2\"\n",
    "\n",
    "\n",
    "for s in range(1, 47):\n",
    "    res = f((5, s))\n",
    "    if res is not None:\n",
    "        print(s, res)"
   ]
  },
  {
   "cell_type": "code",
   "execution_count": 35,
   "id": "f843bac2",
   "metadata": {
    "ExecuteTime": {
     "end_time": "2023-03-24T13:02:45.164397Z",
     "start_time": "2023-03-24T13:02:45.117765Z"
    }
   },
   "outputs": [
    {
     "name": "stdout",
     "output_type": "stream",
     "text": [
      "1428 356530\n"
     ]
    }
   ],
   "source": [
    "with open('17.txt') as f:\n",
    "    data = [int(x) for x in f.readlines()]\n",
    "\n",
    "mx = max(x for x in data if x % 10 == 9)\n",
    "\n",
    "\n",
    "def valid(x, y):\n",
    "    x, y = abs(x), abs(y)\n",
    "    c1 = (x % 10 == 9) ^ (y % 10 == 9)\n",
    "    c2 = (x ** 2 + y ** 2) < mx ** 2\n",
    "    return c1 and c2\n",
    "\n",
    "\n",
    "cnt = 0\n",
    "mn = 10 ** 10\n",
    "for i in range(0, len(data) - 1):\n",
    "    x, y = data[i], data[i + 1]\n",
    "    if valid(x, y):\n",
    "        cnt += 1\n",
    "        mn = min(mn, x * x + y * y)\n",
    "\n",
    "print(cnt, mn)"
   ]
  },
  {
   "cell_type": "code",
   "execution_count": 32,
   "id": "48f35821",
   "metadata": {
    "ExecuteTime": {
     "end_time": "2023-03-24T12:58:59.442908Z",
     "start_time": "2023-03-24T12:58:59.437885Z"
    }
   },
   "outputs": [
    {
     "name": "stdout",
     "output_type": "stream",
     "text": [
      "3\n"
     ]
    }
   ],
   "source": [
    "print((-7247) % 10)"
   ]
  },
  {
   "cell_type": "code",
   "execution_count": null,
   "id": "5df1519b",
   "metadata": {
    "ExecuteTime": {
     "end_time": "2023-03-24T08:07:05.256617Z",
     "start_time": "2023-03-24T08:07:05.247691Z"
    }
   },
   "outputs": [],
   "source": [
    "def f(n):\n",
    "    if n < 3:\n",
    "        return 1\n",
    "    if n > 2 and n % 2 == 0:\n",
    "        return f(n - 1) + 2 * n - 1\n",
    "    if n > 2 and n % 2 != 0:\n",
    "        return f(n - 2) + 2 * n\n",
    "\n",
    "\n",
    "print(f(21) - f(19))"
   ]
  },
  {
   "cell_type": "code",
   "execution_count": null,
   "id": "6468f0e5",
   "metadata": {
    "ExecuteTime": {
     "end_time": "2023-03-24T08:08:34.303113Z",
     "start_time": "2023-03-24T08:08:34.163883Z"
    }
   },
   "outputs": [],
   "source": [
    "def f(x, y, a):\n",
    "    return (x < a) or (y < a) or (x + 2 * y > 150)\n",
    "\n",
    "\n",
    "for a in range(0, 1000):\n",
    "    if all(f(x, y, a) == 1 for x in range(1, 500) for y in range(1, 500)):\n",
    "        print(a)\n",
    "        break"
   ]
  },
  {
   "cell_type": "code",
   "execution_count": null,
   "id": "14a1dbcd",
   "metadata": {
    "ExecuteTime": {
     "end_time": "2023-03-24T08:10:59.147273Z",
     "start_time": "2023-03-24T08:10:59.139453Z"
    }
   },
   "outputs": [],
   "source": [
    "def dtb(x, y):\n",
    "    w = 'abcdefghijklmnopqrstuvwxyzABCDEFGHIJKLMNOPQRSTUVWXYZ'\n",
    "    s = ''\n",
    "\n",
    "    while x > 0:\n",
    "        if x % y > 9:\n",
    "            s += w[x % y - 10]\n",
    "        else:\n",
    "            s += str(x % y)\n",
    "        x //= y\n",
    "    return s[::-1]\n",
    "\n",
    "\n",
    "s = 3 * 1024 ** 75 + 2 * 256 ** 76 - 16 ** 77 - 2023\n",
    "print(dtb(s, 32).count('0'))"
   ]
  },
  {
   "cell_type": "code",
   "execution_count": null,
   "id": "61cee9b8",
   "metadata": {
    "ExecuteTime": {
     "end_time": "2023-03-24T08:12:25.909408Z",
     "start_time": "2023-03-24T08:12:25.902864Z"
    }
   },
   "outputs": [],
   "source": [
    "s = '7' * 116\n",
    "while '333' in s or '7777' in s:\n",
    "    if '333' in s:\n",
    "        s = s.replace('333', '77', 1)\n",
    "    else:\n",
    "        s = s.replace('7777', '3', 1)\n",
    "\n",
    "print(s)"
   ]
  },
  {
   "cell_type": "code",
   "execution_count": null,
   "id": "9e00e53e",
   "metadata": {
    "ExecuteTime": {
     "end_time": "2023-03-24T12:49:25.289928Z",
     "start_time": "2023-03-24T12:49:25.213096Z"
    }
   },
   "outputs": [],
   "source": [
    "from itertools import product\n",
    "\n",
    "\n",
    "def valid(n):\n",
    "    s = str(n)\n",
    "    for i in range(0, len(s) - 1):\n",
    "        x, y = int(s[i]), int(s[i + 1])\n",
    "        if (x + y) % 2 == 0:\n",
    "            return False\n",
    "\n",
    "    return True\n",
    "\n",
    "\n",
    "cnt = 0\n",
    "for i in product('0123456', repeat=6):\n",
    "    s = ''.join(i)\n",
    "    if s[0] != '0' and s.count('6') == 1 and valid(s):\n",
    "        cnt += 1\n",
    "\n",
    "print(cnt)"
   ]
  },
  {
   "cell_type": "code",
   "execution_count": null,
   "id": "34763e84",
   "metadata": {
    "ExecuteTime": {
     "start_time": "2023-03-24T08:17:28.173Z"
    }
   },
   "outputs": [],
   "source": [
    "from turtle import *\n",
    "\n",
    "screensize(4000, 4000)\n",
    "r = 30\n",
    "tracer(0)\n",
    "\n",
    "for i in range(2):\n",
    "    fd(10 * r)\n",
    "    rt(90)\n",
    "    fd(20 * r)\n",
    "    rt(90)\n",
    "\n",
    "up()\n",
    "fd(3 * r)\n",
    "rt(90)\n",
    "fd(7 * r)\n",
    "lt(90)\n",
    "down()\n",
    "\n",
    "for i in range(2):\n",
    "    fd(70 * r)\n",
    "    rt(90)\n",
    "    fd(90 * r)\n",
    "    rt(90)\n",
    "\n",
    "up()\n",
    "for x in range(-100, 100):\n",
    "    for y in range(-100, 100):\n",
    "        goto(x * r, y * r)\n",
    "        dot(3, \"blue\")\n",
    "\n",
    "update()\n",
    "exitonclick()"
   ]
  },
  {
   "cell_type": "code",
   "execution_count": null,
   "id": "780c3718",
   "metadata": {
    "ExecuteTime": {
     "end_time": "2023-03-24T08:50:34.605496Z",
     "start_time": "2023-03-24T08:50:34.595656Z"
    }
   },
   "outputs": [],
   "source": [
    "ans = []\n",
    "\n",
    "for n in range(1, 100):\n",
    "    b = bin(n)[2:]\n",
    "    sm = sum(int(i) for i in b)\n",
    "\n",
    "    if sm % 2 == 0:\n",
    "        b = '1' + b[2:] + '0'\n",
    "    else:\n",
    "        b = '11' + b[2:] + '1'\n",
    "\n",
    "    r = int(b, 2)\n",
    "    if r > 25:\n",
    "        ans.append((r, n))\n",
    "\n",
    "print(min(ans)[1])"
   ]
  },
  {
   "cell_type": "code",
   "execution_count": null,
   "id": "e583d429",
   "metadata": {
    "ExecuteTime": {
     "end_time": "2023-03-24T08:46:10.309215Z",
     "start_time": "2023-03-24T08:46:10.302133Z"
    }
   },
   "outputs": [],
   "source": [
    "from itertools import product\n",
    "\n",
    "\n",
    "for x, y, w, z in product((0, 1), repeat=4):\n",
    "    f = (not((w or not(y)) and x)) or (y == z)\n",
    "    if not f:\n",
    "        print(w, x, z, y)"
   ]
  }
 ],
 "metadata": {
  "kernelspec": {
   "display_name": "Python 3 (ipykernel)",
   "language": "python",
   "name": "python3"
  },
  "language_info": {
   "codemirror_mode": {
    "name": "ipython",
    "version": 3
   },
   "file_extension": ".py",
   "mimetype": "text/x-python",
   "name": "python",
   "nbconvert_exporter": "python",
   "pygments_lexer": "ipython3",
   "version": "3.10.6"
  }
 },
 "nbformat": 4,
 "nbformat_minor": 5
}
