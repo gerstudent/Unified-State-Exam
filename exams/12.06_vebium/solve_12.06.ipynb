{
 "cells": [
  {
   "cell_type": "code",
   "execution_count": null,
   "metadata": {
    "collapsed": true
   },
   "outputs": [],
   "source": [
    "cnt = 0\n",
    "for n in range(1000, 10000):\n",
    "    a1, a2, a3, a4 = (n // 1000), (n // 100) % 10, (n % 100) // 10, n % 10\n",
    "    n1, n2, n3 = a1 * a2, a2 * a3, a3 * a4\n",
    "    k1 = max(n1, n2, n3)\n",
    "    k3 = min(n1, n2, n3)\n",
    "    k2 = n1 + n2 + n3 - k1 - k3\n",
    "    res = str(k1) + str(k2) + str(k3)\n",
    "    print(res, n)\n",
    "    if int(res) == 12106:\n",
    "        cnt += 1\n",
    "\n",
    "print(cnt)\n"
   ]
  },
  {
   "cell_type": "code",
   "execution_count": 5,
   "outputs": [],
   "source": [
    "from turtle import *\n",
    "\n",
    "tracer(0)\n",
    "screensize(5000, 5000)\n",
    "r = 25\n",
    "\n",
    "for i in range(10):\n",
    "    fd(50 * r)\n",
    "    rt(90)\n",
    "\n",
    "up()\n",
    "for x in range(-100, 100):\n",
    "    for y in range(-100, 100):\n",
    "        goto(x * r, y * r)\n",
    "        dot(3, 'blue')\n",
    "\n",
    "update()\n",
    "exitonclick()"
   ],
   "metadata": {
    "collapsed": false,
    "ExecuteTime": {
     "end_time": "2023-06-12T12:10:36.632737943Z",
     "start_time": "2023-06-12T12:09:29.027006148Z"
    }
   }
  },
  {
   "cell_type": "code",
   "execution_count": 1,
   "outputs": [
    {
     "name": "stdout",
     "output_type": "stream",
     "text": [
      "1773\n"
     ]
    }
   ],
   "source": [
    "from itertools import product\n",
    "\n",
    "error = []\n",
    "for i in product('ДН', repeat=2):\n",
    "    s = ''.join(i)\n",
    "    error.append(s)\n",
    "\n",
    "cnt = 0\n",
    "for i in product(sorted('ДИАНА'), repeat=5):\n",
    "    s = ''.join(i)\n",
    "    if all(j not in s for j in error):\n",
    "        cnt += 1\n",
    "\n",
    "print(cnt)"
   ],
   "metadata": {
    "collapsed": false,
    "ExecuteTime": {
     "end_time": "2023-06-14T15:06:45.614845353Z",
     "start_time": "2023-06-14T15:06:45.608102976Z"
    }
   }
  },
  {
   "cell_type": "code",
   "execution_count": 15,
   "outputs": [
    {
     "name": "stdout",
     "output_type": "stream",
     "text": [
      "0\n"
     ]
    }
   ],
   "source": [
    "def f(x, a1, a2):\n",
    "    p = 40 <= x <= 45\n",
    "    q = 10 <= x <= 33\n",
    "    a = a1 < x < a2\n",
    "    return not (q <= a) <= p\n",
    "\n",
    "\n",
    "ans = []\n",
    "for a1 in range(1000):\n",
    "    for a2 in range(1000):\n",
    "        if all(f(x, a1, a2) == 1 for x in range(1000)):\n",
    "            ans.append(a2 - a1)\n",
    "\n",
    "print(min(ans, default=0))"
   ],
   "metadata": {
    "collapsed": false,
    "ExecuteTime": {
     "end_time": "2023-06-12T12:33:28.827077691Z",
     "start_time": "2023-06-12T12:33:26.155738594Z"
    }
   }
  },
  {
   "cell_type": "code",
   "execution_count": null,
   "outputs": [],
   "source": [],
   "metadata": {
    "collapsed": false
   }
  }
 ],
 "metadata": {
  "kernelspec": {
   "display_name": "Python 3",
   "language": "python",
   "name": "python3"
  },
  "language_info": {
   "codemirror_mode": {
    "name": "ipython",
    "version": 2
   },
   "file_extension": ".py",
   "mimetype": "text/x-python",
   "name": "python",
   "nbconvert_exporter": "python",
   "pygments_lexer": "ipython2",
   "version": "2.7.6"
  }
 },
 "nbformat": 4,
 "nbformat_minor": 0
}
