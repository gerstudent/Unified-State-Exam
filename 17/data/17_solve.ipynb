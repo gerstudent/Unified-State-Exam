{
 "cells": [
  {
   "cell_type": "code",
   "execution_count": 3,
   "outputs": [
    {
     "name": "stdout",
     "output_type": "stream",
     "text": [
      "214 18188\n"
     ]
    }
   ],
   "source": [
    "    cnt = 0\n",
    "su = -9999999999\n",
    "with open(\"17-345.txt\") as f:\n",
    "    mas = list(map(int, f.readlines()))\n",
    "    ma = -9999999999\n",
    "    mi = 99999999999\n",
    "\n",
    "    for i in mas:\n",
    "        if str(i).endswith(\"52\"):\n",
    "            ma = max(i, ma)\n",
    "            mi = min(i, mi)\n",
    "\n",
    "    for i in range(1, len(mas)):\n",
    "        x, y = mas[i - 1], mas[i]\n",
    "\n",
    "        if x < (ma - mi) <= y:\n",
    "            cnt += 1\n",
    "            su = max(su, x + y)\n",
    "\n",
    "        if y < (ma - mi) <= x:\n",
    "            cnt += 1\n",
    "            su = max(su, x + y)\n",
    "\n",
    "    print(cnt, su)\n"
   ],
   "metadata": {
    "collapsed": false
   }
  },
  {
   "cell_type": "code",
   "execution_count": 15,
   "outputs": [
    {
     "name": "stdout",
     "output_type": "stream",
     "text": [
      "0 -9999999\n"
     ]
    }
   ],
   "source": [
    "cnt = 0\n",
    "su = -9999999\n",
    "with open(\"17-344.txt\") as f:\n",
    "    lst = list(map(int, f.readlines()))\n",
    "    mi = 99999999\n",
    "\n",
    "    for i in lst:\n",
    "        if i % 103 == 0:\n",
    "            mi = min(i, mi)\n",
    "\n",
    "    for i in range(1, len(lst)):\n",
    "        x, y = lst[i - 1], lst[i]\n",
    "\n",
    "        if x + y % 2 == 0 and x - y % mi == 0:\n",
    "            cnt += 1\n",
    "            su = max(su, x + y)\n",
    "\n",
    "    print(cnt, su)\n"
   ],
   "metadata": {
    "collapsed": false
   }
  },
  {
   "cell_type": "code",
   "execution_count": 21,
   "outputs": [
    {
     "name": "stdout",
     "output_type": "stream",
     "text": [
      "4 145300\n"
     ]
    }
   ],
   "source": [
    "lst = [int(s) for s in open(\"17-344.txt\")]\n",
    "ln = len(lst)\n",
    "mi = min(i for i in lst if i % 103 == 0)\n",
    "\n",
    "\n",
    "def valid(a, b):\n",
    "    return (a + b) % 2 == 0 and abs(a - b) % mi == 0\n",
    "\n",
    "\n",
    "cnt = 0\n",
    "ma = None\n",
    "for i in range(ln - 1):\n",
    "    x, y = lst[i], lst[i + 1]\n",
    "    if valid(x, y):\n",
    "        cnt += 1\n",
    "        su = sum(lst[i:i + 2])\n",
    "        if ma is None or su > ma:\n",
    "            ma = su\n",
    "\n",
    "print(cnt, ma)\n",
    "\n",
    "\n"
   ],
   "metadata": {
    "collapsed": false
   }
  },
  {
   "cell_type": "code",
   "execution_count": 18,
   "outputs": [
    {
     "name": "stdout",
     "output_type": "stream",
     "text": [
      "4 145300\n"
     ]
    }
   ],
   "source": [
    "data = [int(x) for x in open('17-344.txt')]\n",
    "N = len(data)\n",
    "mi103 = min(x for x in data if x % 103 == 0)\n",
    "\n",
    "\n",
    "def valid(a, b):\n",
    "    return (a + b) % 2 == 0 and abs(a - b) % mi103 == 0\n",
    "\n",
    "\n",
    "count, ma = 0, None\n",
    "for i in range(N - 1):\n",
    "    if valid(data[i], data[i + 1]):\n",
    "        count += 1\n",
    "        s = sum(data[i:i + 2])\n",
    "        if ma == None or s > ma:\n",
    "            ma = s\n",
    "\n",
    "print(count, ma)\n",
    "\n"
   ],
   "metadata": {
    "collapsed": false
   }
  },
  {
   "cell_type": "code",
   "execution_count": 8,
   "outputs": [
    {
     "name": "stdout",
     "output_type": "stream",
     "text": [
      "124 4103\n"
     ]
    }
   ],
   "source": [
    "data = [int(x) for x in open(\"17-343.txt\")]\n",
    "n = len(data)\n",
    "\n",
    "\n",
    "def valid(n):\n",
    "    s = [0, 0]\n",
    "    i = 0\n",
    "    while n:\n",
    "        s[i] += n % 10\n",
    "        i = 1 - i\n",
    "        n //= 10\n",
    "\n",
    "    return s[0] and (s[1] % s[0] == 0)\n",
    "\n",
    "\n",
    "def valid3(a, b, c):\n",
    "    return valid(a) and valid(b) and valid(c)\n",
    "\n",
    "\n",
    "cnt = 0\n",
    "m = None\n",
    "\n",
    "for i in range(n - 2):\n",
    "    a = data[i]\n",
    "    b = data[i + 1]\n",
    "    c = data[i + 2]\n",
    "    if valid3(a, b, c):\n",
    "        cnt += 1\n",
    "        su = sum(data[i:i + 3])\n",
    "        if m is None or m > su:\n",
    "            m = su\n",
    "\n",
    "print(cnt, m)"
   ],
   "metadata": {
    "collapsed": false
   }
  },
  {
   "cell_type": "code",
   "execution_count": 7,
   "outputs": [
    {
     "name": "stdout",
     "output_type": "stream",
     "text": [
      "124 4103\n"
     ]
    }
   ],
   "source": [
    "data = [int(x) for x in open('17-343.txt')]\n",
    "N = len(data)\n",
    "\n",
    "\n",
    "def valid(n):\n",
    "    s = [0, 0]\n",
    "    i = 0\n",
    "    while n:\n",
    "        s[i] += n % 10\n",
    "        i = 1 - i\n",
    "        n //= 10\n",
    "    return s[0] and (s[1] % s[0] == 0)\n",
    "\n",
    "\n",
    "def validTrio(a, b, c):\n",
    "    return valid(a) and valid(b) and valid(c)\n",
    "\n",
    "\n",
    "count, mi = 0, None\n",
    "for i in range(N - 2):\n",
    "    if validTrio(data[i], data[i + 1], data[i + 2]):\n",
    "        count += 1\n",
    "        s = sum(data[i:i + 3])\n",
    "        if mi == None or s < mi:\n",
    "            mi = s\n",
    "\n",
    "print(count, mi)\n",
    "\n"
   ],
   "metadata": {
    "collapsed": false
   }
  },
  {
   "cell_type": "code",
   "execution_count": null,
   "outputs": [],
   "source": [],
   "metadata": {
    "collapsed": false
   }
  },
  {
   "cell_type": "code",
   "execution_count": null,
   "outputs": [],
   "source": [
    "cnt = 0\n",
    "su = -9999999\n",
    "with open(\"17-344.txt\") as f:\n",
    "    lst = list(map(int, f.readlines()))\n",
    "    mi = 99999999\n",
    "\n",
    "    for i in lst:\n",
    "        if i % 103 == 0:\n",
    "            mi = min(i, mi)\n",
    "\n",
    "    for i in range(1, len(lst)):\n",
    "        x, y = lst[i - 1], lst[i]\n",
    "\n",
    "        if x + y % 2 == 0 and x - y % mi == 0:\n",
    "            cnt += 1\n",
    "            su = max(su, x + y)\n",
    "\n",
    "    print(cnt, su)\n"
   ],
   "metadata": {
    "collapsed": false
   }
  },
  {
   "cell_type": "code",
   "execution_count": null,
   "outputs": [],
   "source": [
    "\n",
    "a = [int(x) for x in open('17-345.txt')]\n",
    "end = [x for x in a if x % 100 == 52]\n",
    "res = []\n",
    "dif = max(end) - min(end)\n",
    "\n",
    "for i in range(len(a) - 1):\n",
    "    if (a[i] < dif) + (a[i + 1] < dif) == 1: res.append(a[i] + a[i + 1])\n",
    "\n",
    "print(len(res), max(res))\n"
   ],
   "metadata": {
    "collapsed": false
   }
  },
  {
   "cell_type": "code",
   "execution_count": 1,
   "outputs": [
    {
     "ename": "IndexError",
     "evalue": "list index out of range",
     "output_type": "error",
     "traceback": [
      "\u001B[0;31m---------------------------------------------------------------------------\u001B[0m",
      "\u001B[0;31mIndexError\u001B[0m                                Traceback (most recent call last)",
      "Cell \u001B[0;32mIn [1], line 19\u001B[0m\n\u001B[1;32m     16\u001B[0m m \u001B[38;5;241m=\u001B[39m \u001B[38;5;241m10\u001B[39m \u001B[38;5;241m*\u001B[39m\u001B[38;5;241m*\u001B[39m \u001B[38;5;241m8\u001B[39m\n\u001B[1;32m     18\u001B[0m \u001B[38;5;28;01mfor\u001B[39;00m i \u001B[38;5;129;01min\u001B[39;00m (\u001B[38;5;241m0\u001B[39m, n \u001B[38;5;241m-\u001B[39m \u001B[38;5;241m1\u001B[39m):\n\u001B[0;32m---> 19\u001B[0m     x, y \u001B[38;5;241m=\u001B[39m data[i], data[i \u001B[38;5;241m+\u001B[39m \u001B[38;5;241m1\u001B[39m]\n\u001B[1;32m     20\u001B[0m     \u001B[38;5;28;01mif\u001B[39;00m valid(x, y):\n\u001B[1;32m     21\u001B[0m         cnt \u001B[38;5;241m+\u001B[39m\u001B[38;5;241m=\u001B[39m \u001B[38;5;241m1\u001B[39m\n",
      "\u001B[0;31mIndexError\u001B[0m: list index out of range"
     ]
    }
   ],
   "source": [],
   "metadata": {
    "collapsed": false
   }
  },
  {
   "cell_type": "code",
   "execution_count": 16,
   "outputs": [
    {
     "name": "stdout",
     "output_type": "stream",
     "text": [
      "136 574\n"
     ]
    }
   ],
   "source": [
    "data = [int(x) for x in open('17-342.txt')]\n",
    "N = len(data)\n",
    "\n",
    "mi37 = min(x for x in data if x % 37 == 0)\n",
    "ma73 = max(x for x in data if x % 73 == 0)\n",
    "m = min(mi37, ma73)\n",
    "M = max(mi37, ma73)\n",
    "\n",
    "\n",
    "def valid(a, b):\n",
    "    return ((m < a < M) + (m < b < M)) == 1\n",
    "\n",
    "\n",
    "count, mi = 0, 10 ** 10\n",
    "for i in data:\n",
    "    if valid(data[i], data[i + 1]):\n",
    "        count += 1\n",
    "        mi = min(mi, data[i] + data[i + 1])\n",
    "\n",
    "print(count, mi)\n"
   ],
   "metadata": {
    "collapsed": false
   }
  },
  {
   "cell_type": "code",
   "execution_count": 5,
   "outputs": [
    {
     "name": "stdout",
     "output_type": "stream",
     "text": [
      "3 74280\n"
     ]
    }
   ],
   "source": [
    "data = [int(x) for x in open(\"17-336.txt\")]\n",
    "m = min(x for x in data if x % 8 == 0 and x != 8)\n",
    "n = len(data)\n",
    "\n",
    "cnt = 0\n",
    "misu = 10 ** 8\n",
    "maxval = -10 ** 8\n",
    "mini = 10 ** 8\n",
    "ans = -10 ** 8\n",
    "\n",
    "for i in range(0, n - 1):\n",
    "    sm = data[i] + data[i + 1]\n",
    "    if data[i] % m == 0 and data[i + 1] % m == 0:\n",
    "        cnt += 1\n",
    "        if sm < mini:\n",
    "            mini = sm\n",
    "            misu = min(misu, data[i] + data[i + 1])\n",
    "            ans2 = max(data[i], data[i + 1])\n",
    "\n",
    "print(cnt, ans2)\n",
    "\n"
   ],
   "metadata": {
    "collapsed": false
   }
  },
  {
   "cell_type": "markdown",
   "source": [],
   "metadata": {
    "collapsed": false
   }
  },
  {
   "cell_type": "code",
   "execution_count": 32,
   "outputs": [
    {
     "name": "stdout",
     "output_type": "stream",
     "text": [
      "1895 9984\n"
     ]
    }
   ],
   "source": [
    "data = [int(i) for i in open(\"17-335.txt\")]\n",
    "n = len(data)\n",
    "m = min(x for x in data if x % 43 == 0)\n",
    "posl = m % 10\n",
    "\n",
    "cnt = 0\n",
    "ans = []\n",
    "\n",
    "for i in range(0, n - 1):\n",
    "    sm = data[i] + data[i + 1]\n",
    "\n",
    "    posl1 = data[i] % 10\n",
    "    posl2 = data[i + 1] % 10\n",
    "\n",
    "    c1 = sm % m == 0\n",
    "    c2 = posl == posl1 or posl == posl2\n",
    "\n",
    "    if int(c1) + int(c2) == 1:\n",
    "        cnt += 1\n",
    "        ans.append(max(data[i], data[i + 1]))\n",
    "\n",
    "print(len(ans), max(ans))"
   ],
   "metadata": {
    "collapsed": false
   }
  },
  {
   "cell_type": "code",
   "execution_count": 45,
   "outputs": [
    {
     "name": "stdout",
     "output_type": "stream",
     "text": [
      "10 3483\n"
     ]
    }
   ],
   "source": [
    "data = [int(x) for x in open(\"17-328.txt\")]\n",
    "N = len(data)\n",
    "\n",
    "\n",
    "def sumDigits(a):\n",
    "    return sum(sum(map(int, str(x))) for x in a)\n",
    "\n",
    "\n",
    "spec = [x for x in data if x % 22 == 0]\n",
    "M = sumDigits(spec)\n",
    "\n",
    "\n",
    "def isOct(n):\n",
    "    s = f\"{n:o}\"\n",
    "    return all(c in \"0246\" for c in s)\n",
    "\n",
    "\n",
    "def valid(a, b, c):\n",
    "    return isOct(a + b) and isOct(a + c) and isOct(b + c) and a + b + c < M\n",
    "\n",
    "\n",
    "count, mini = 0, 10 ** 8\n",
    "for i in range(N - 2):\n",
    "    s = sum(data[i:i + 3])\n",
    "    if valid(data[i], data[i + 1], data[i + 2]):\n",
    "        count += 1\n",
    "        mini = min(mini, s)\n",
    "\n",
    "print(count, mini)\n",
    "\n"
   ],
   "metadata": {
    "collapsed": false
   }
  },
  {
   "cell_type": "code",
   "execution_count": 54,
   "outputs": [
    {
     "name": "stdout",
     "output_type": "stream",
     "text": [
      "0 -100000000\n"
     ]
    }
   ],
   "source": [
    "data = [int(x) for x in open(\"17-324.txt\")]\n",
    "n = len(data)\n",
    "\n",
    "\n",
    "def sumDigits(a):\n",
    "    return sum(sum(map(int, str(x))) for x in a)\n",
    "\n",
    "\n",
    "spec = [x for x in data if x % 37 != 0]\n",
    "sr = sumDigits(spec) // n\n",
    "\n",
    "\n",
    "def check(a, b, c):\n",
    "    bn = bin(a + b + c)\n",
    "    return bn == bn[::-1]\n",
    "\n",
    "\n",
    "mini = 10 ** 8\n",
    "mxsm = -10 ** 8\n",
    "\n",
    "for i in range(n - 2):\n",
    "    a = data[i]\n",
    "    b = data[i + 1]\n",
    "    c = data[i + 2]\n",
    "    mini = min(a, b, c)\n",
    "    if mini > sr and check(a, b, c):\n",
    "        cnt += 1\n",
    "        mxsm = max(mxsm, a + b + c)\n",
    "\n",
    "print(cnt, mxsm)"
   ],
   "metadata": {
    "collapsed": false
   }
  },
  {
   "cell_type": "code",
   "execution_count": 55,
   "outputs": [
    {
     "name": "stdout",
     "output_type": "stream",
     "text": [
      "465 5000\n"
     ]
    }
   ],
   "source": [
    "data = [int(x) for x in open(\"17-324.txt\")]\n",
    "N = len(data)\n",
    "\n",
    "spec = [x for x in data if x % 11 == 0]\n",
    "M = sum(spec) / len(spec)\n",
    "\n",
    "\n",
    "def isPal(n, base=10):\n",
    "    s = ''\n",
    "    n0 = n\n",
    "    while n:\n",
    "        s = str(n % base) + s\n",
    "        n //= base\n",
    "    return s == s[::-1]\n",
    "\n",
    "\n",
    "def valid(a, b, c):\n",
    "    return isPal(a + b + c, 7) and (a + b + c) / 3 < M\n",
    "\n",
    "\n",
    "count, mi = 0, None\n",
    "for i in range(N - 2):\n",
    "    s = sum(data[i:i + 3])\n",
    "    if valid(data[i], data[i + 1], data[i + 2]):\n",
    "        count += 1\n",
    "        if mi == None or s < mi:\n",
    "            mi = s\n",
    "\n",
    "print(count, mi)\n",
    "\n"
   ],
   "metadata": {
    "collapsed": false
   }
  },
  {
   "cell_type": "code",
   "execution_count": 4,
   "outputs": [
    {
     "name": "stdout",
     "output_type": "stream",
     "text": [
      "47 26763\n"
     ]
    }
   ],
   "source": [
    "with open('17-324.txt', 'r') as f:\n",
    "    data = [int(n) for n in f.readlines()]\n",
    "\n",
    "N = len(data)\n",
    "\n",
    "spec = [x for x in data if x % 37 != 0]\n",
    "M = sum(spec) / len(spec)\n",
    "\n",
    "\n",
    "def isPal(n, base=10):\n",
    "    s = ''\n",
    "    while n:\n",
    "        s = str(n % base) + s\n",
    "        n //= base\n",
    "    return s == s[::-1]\n",
    "\n",
    "\n",
    "def valid(a, b, c):\n",
    "    return isPal(a + b + c, 2) and min(a, b, c) > M\n",
    "\n",
    "\n",
    "count, mi = 0, None\n",
    "maxi = -10 ** 8\n",
    "for i in range(N - 2):\n",
    "    s = sum(data[i:i + 3])\n",
    "    a, b, c = data[i], data[i + 1], data[i + 2]\n",
    "    if valid(a, b, c):\n",
    "        count += 1\n",
    "        maxi = max(maxi, s)\n",
    "\n",
    "print(count, maxi)"
   ],
   "metadata": {
    "collapsed": false
   }
  },
  {
   "cell_type": "code",
   "execution_count": 1,
   "outputs": [
    {
     "name": "stdout",
     "output_type": "stream",
     "text": [
      "31 1081\n"
     ]
    }
   ],
   "source": [
    "def dec_to_base(x, y):\n",
    "    s = ''\n",
    "\n",
    "    while x > 0:\n",
    "        s += str(x % y)\n",
    "        x //= y\n",
    "    return s[::-1]\n",
    "\n",
    "\n",
    "data = [int(x) for x in open(\"17-prob.txt\")]\n",
    "\n",
    "cnt = 0\n",
    "mn = 10 ** 8\n",
    "\n",
    "for i in range(len(data) - 1):\n",
    "    threee = dec_to_base(data[i], 3)\n",
    "    fivee = dec_to_base(data[i], 5)\n",
    "\n",
    "    three = int(threee)\n",
    "    five = int(fivee)\n",
    "\n",
    "    lt = three % 10\n",
    "    lf = five % 10\n",
    "\n",
    "    c = data[i] % 31 == 0 or data[i] % 47 == 0 or data[i] % 53 == 0\n",
    "\n",
    "    if lt == lf and c:\n",
    "        cnt += 1\n",
    "        mn = min(data[i], mn)\n",
    "\n",
    "print(cnt, mn)"
   ],
   "metadata": {
    "collapsed": false
   }
  },
  {
   "cell_type": "code",
   "execution_count": 2,
   "outputs": [
    {
     "ename": "TypeError",
     "evalue": "int() can't convert non-string with explicit base",
     "output_type": "error",
     "traceback": [
      "\u001B[0;31m---------------------------------------------------------------------------\u001B[0m",
      "\u001B[0;31mTypeError\u001B[0m                                 Traceback (most recent call last)",
      "Cell \u001B[0;32mIn [2], line 15\u001B[0m\n\u001B[1;32m     13\u001B[0m data \u001B[38;5;241m=\u001B[39m [\u001B[38;5;28mint\u001B[39m(x) \u001B[38;5;28;01mfor\u001B[39;00m x \u001B[38;5;129;01min\u001B[39;00m \u001B[38;5;28mopen\u001B[39m(\u001B[38;5;124m\"\u001B[39m\u001B[38;5;124m17_adv.txt\u001B[39m\u001B[38;5;124m\"\u001B[39m)]\n\u001B[1;32m     14\u001B[0m n \u001B[38;5;241m=\u001B[39m \u001B[38;5;28mlen\u001B[39m(data)\n\u001B[0;32m---> 15\u001B[0m mxnum \u001B[38;5;241m=\u001B[39m \u001B[38;5;28mmax\u001B[39m([cntdel(x) \u001B[38;5;28;01mfor\u001B[39;00m x \u001B[38;5;129;01min\u001B[39;00m data], key\u001B[38;5;241m=\u001B[39m\u001B[38;5;28mlen\u001B[39m)\n\u001B[1;32m     16\u001B[0m mx \u001B[38;5;241m=\u001B[39m []\n\u001B[1;32m     18\u001B[0m \u001B[38;5;28;01mfor\u001B[39;00m a, b \u001B[38;5;129;01min\u001B[39;00m \u001B[38;5;28mzip\u001B[39m(data, data[\u001B[38;5;241m1\u001B[39m:]):\n",
      "Cell \u001B[0;32mIn [2], line 15\u001B[0m, in \u001B[0;36m<listcomp>\u001B[0;34m(.0)\u001B[0m\n\u001B[1;32m     13\u001B[0m data \u001B[38;5;241m=\u001B[39m [\u001B[38;5;28mint\u001B[39m(x) \u001B[38;5;28;01mfor\u001B[39;00m x \u001B[38;5;129;01min\u001B[39;00m \u001B[38;5;28mopen\u001B[39m(\u001B[38;5;124m\"\u001B[39m\u001B[38;5;124m17_adv.txt\u001B[39m\u001B[38;5;124m\"\u001B[39m)]\n\u001B[1;32m     14\u001B[0m n \u001B[38;5;241m=\u001B[39m \u001B[38;5;28mlen\u001B[39m(data)\n\u001B[0;32m---> 15\u001B[0m mxnum \u001B[38;5;241m=\u001B[39m \u001B[38;5;28mmax\u001B[39m([\u001B[43mcntdel\u001B[49m\u001B[43m(\u001B[49m\u001B[43mx\u001B[49m\u001B[43m)\u001B[49m \u001B[38;5;28;01mfor\u001B[39;00m x \u001B[38;5;129;01min\u001B[39;00m data], key\u001B[38;5;241m=\u001B[39m\u001B[38;5;28mlen\u001B[39m)\n\u001B[1;32m     16\u001B[0m mx \u001B[38;5;241m=\u001B[39m []\n\u001B[1;32m     18\u001B[0m \u001B[38;5;28;01mfor\u001B[39;00m a, b \u001B[38;5;129;01min\u001B[39;00m \u001B[38;5;28mzip\u001B[39m(data, data[\u001B[38;5;241m1\u001B[39m:]):\n",
      "Cell \u001B[0;32mIn [2], line 7\u001B[0m, in \u001B[0;36mcntdel\u001B[0;34m(n)\u001B[0m\n\u001B[1;32m      4\u001B[0m \u001B[38;5;129m@lru_cache\u001B[39m(\u001B[38;5;28;01mNone\u001B[39;00m)\n\u001B[1;32m      5\u001B[0m \u001B[38;5;28;01mdef\u001B[39;00m \u001B[38;5;21mcntdel\u001B[39m(n):\n\u001B[1;32m      6\u001B[0m     st \u001B[38;5;241m=\u001B[39m \u001B[38;5;28mset\u001B[39m()\n\u001B[0;32m----> 7\u001B[0m     \u001B[38;5;28;01mfor\u001B[39;00m i \u001B[38;5;129;01min\u001B[39;00m \u001B[38;5;28mrange\u001B[39m(\u001B[38;5;241m1\u001B[39m, \u001B[38;5;28;43mint\u001B[39;49m\u001B[43m(\u001B[49m\u001B[43mn\u001B[49m\u001B[43m \u001B[49m\u001B[38;5;241;43m*\u001B[39;49m\u001B[38;5;241;43m*\u001B[39;49m\u001B[43m \u001B[49m\u001B[38;5;241;43m0\u001B[39;49m\u001B[43m,\u001B[49m\u001B[43m \u001B[49m\u001B[38;5;241;43m5\u001B[39;49m\u001B[43m)\u001B[49m \u001B[38;5;241m+\u001B[39m \u001B[38;5;241m1\u001B[39m):\n\u001B[1;32m      8\u001B[0m         \u001B[38;5;28;01mif\u001B[39;00m n \u001B[38;5;241m%\u001B[39m i \u001B[38;5;241m==\u001B[39m \u001B[38;5;241m0\u001B[39m:\n\u001B[1;32m      9\u001B[0m             st \u001B[38;5;241m|\u001B[39m\u001B[38;5;241m=\u001B[39m {i, n \u001B[38;5;241m/\u001B[39m\u001B[38;5;241m/\u001B[39m i}\n",
      "\u001B[0;31mTypeError\u001B[0m: int() can't convert non-string with explicit base"
     ]
    }
   ],
   "source": [],
   "metadata": {
    "collapsed": false
   }
  },
  {
   "cell_type": "code",
   "execution_count": null,
   "outputs": [],
   "source": [],
   "metadata": {
    "collapsed": false
   }
  }
 ],
 "metadata": {
  "kernelspec": {
   "display_name": "Python 3",
   "language": "python",
   "name": "python3"
  },
  "language_info": {
   "codemirror_mode": {
    "name": "ipython",
    "version": 2
   },
   "file_extension": ".py",
   "mimetype": "text/x-python",
   "name": "python",
   "nbconvert_exporter": "python",
   "pygments_lexer": "ipython2",
   "version": "2.7.6"
  }
 },
 "nbformat": 4,
 "nbformat_minor": 0
}
