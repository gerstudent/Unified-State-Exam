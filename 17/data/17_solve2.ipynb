{
 "cells": [
  {
   "cell_type": "code",
   "execution_count": null,
   "outputs": [],
   "source": [
    "with open('17-324.txt') as f:\n",
    "    data = [int(i) for i in f.readlines()]\n",
    "\n",
    "del11 = [x for x in data if x % 11 == 0]\n",
    "arithm = sum(del11) / len(del11)\n",
    "\n",
    "\n",
    "def isPal(n, base=10):\n",
    "    s = ''\n",
    "    while n:\n",
    "        s = str(n % base) + s\n",
    "        n //= base\n",
    "\n",
    "    return s == s[::-1]\n",
    "\n",
    "\n",
    "def valid(a, b, c):\n",
    "    c1 = isPal(a + b + c, 7)\n",
    "    c2 = ((a + b + c) / 3)\n",
    "    if c1 and c2 < arithm:\n",
    "        return True\n",
    "    return False\n",
    "\n",
    "\n",
    "cnt = 0\n",
    "mini = 10 ** 6\n",
    "for i in range(0, len(data) - 3):\n",
    "    x, y, z = data[i], data[i + 1], data[i + 2]\n",
    "    if valid(x, y, z):\n",
    "        cnt += 1\n",
    "        sm = x + y + z\n",
    "        mini = min(mini, sm)\n",
    "\n",
    "print(cnt, mini)  #%%\n",
    "with open('17-324.txt') as f:\n",
    "    data = [int(i) for i in f.readlines()]\n",
    "\n",
    "del11 = [x for x in data if x % 11 == 0]\n",
    "arithm = sum(del11) / len(del11)\n",
    "\n",
    "\n",
    "def isPal(n, base=10):\n",
    "    s = ''\n",
    "    while n:\n",
    "        s = str(n % base) + s\n",
    "        n //= base\n",
    "\n",
    "    return s == s[::-1]\n",
    "\n",
    "\n",
    "def valid(a, b, c):\n",
    "    c1 = isPal(a + b + c, 7)\n",
    "    c2 = ((a + b + c) / 3)\n",
    "    if c1 and c2 < arithm:\n",
    "        return True\n",
    "    return False\n",
    "\n",
    "\n",
    "cnt = 0\n",
    "mini = 10 ** 6\n",
    "for i in range(0, len(data) - 3):\n",
    "    x, y, z = data[i], data[i + 1], data[i + 2]\n",
    "    if valid(x, y, z):\n",
    "        cnt += 1\n",
    "        sm = x + y + z\n",
    "        mini = min(mini, sm)\n",
    "\n",
    "print(cnt, mini)\n"
   ],
   "metadata": {
    "collapsed": false
   }
  },
  {
   "cell_type": "code",
   "execution_count": null,
   "outputs": [],
   "source": [
    "with open('17-316.txt') as f:\n",
    "    data = [int(i) for i in f.readlines()]\n",
    "\n",
    "\n",
    "def valid1(x, y, z):\n",
    "    temp = '0123456789'\n",
    "    mult = str(x * y * z)\n",
    "    for i in temp:\n",
    "        if i not in mult:\n",
    "            return False\n",
    "    if x + y + z > sum(data):\n",
    "        return False\n",
    "    return True\n",
    "\n",
    "\n",
    "cnt = 0\n",
    "mini = 10 ** 6\n",
    "for i in range(0, len(data) - 3):\n",
    "    x, y, z = data[i], data[i + 1], data[i + 2]\n",
    "    if valid1(x, y, z):\n",
    "        cnt += 1\n",
    "        mini = min(x + y + z, mini)\n",
    "\n",
    "print(cnt, mini)"
   ],
   "metadata": {
    "collapsed": false
   }
  },
  {
   "cell_type": "code",
   "execution_count": null,
   "outputs": [],
   "source": [
    "with open('17-316.txt') as f:\n",
    "    data = [int(i) for i in f.readlines()]\n",
    "\n",
    "mx1 = max(data)\n",
    "res = set(data)\n",
    "res.remove(mx1)\n",
    "mx2 = max(res)\n",
    "\n",
    "\n",
    "def isGood(x, y):\n",
    "    arithm = (x + y) / 2\n",
    "    geom = (x * y) ** 0.5\n",
    "    sa = str(arithm).split('.')\n",
    "    sg = str(geom).split('.')\n",
    "    c1 = int(sa[0]) != 0 and int(sa[1]) == 0\n",
    "    c2 = int(sg[0]) != 0 and int(sg[1]) == 0\n",
    "    if c1 and c2:\n",
    "        return True\n",
    "    return False\n",
    "\n",
    "\n",
    "cnt = 0\n",
    "mini = 10 ** 6\n",
    "for i in range(0, len(data) - 2):\n",
    "    x, y, z = data[i], data[i + 1], data[i + 2]\n",
    "    if isGood(x, y) or isGood(y, z) or isGood(x, z):\n",
    "        if x + y + z < mx1 + mx2:\n",
    "            cnt += 1\n",
    "            mini = min(x + y + z, mini)\n",
    "\n",
    "print(cnt, mini)\n"
   ],
   "metadata": {
    "collapsed": false
   }
  },
  {
   "cell_type": "code",
   "execution_count": null,
   "outputs": [],
   "source": [],
   "metadata": {
    "collapsed": false
   }
  },
  {
   "cell_type": "code",
   "execution_count": 18,
   "metadata": {
    "ExecuteTime": {
     "end_time": "2023-03-01T11:31:20.283523Z",
     "start_time": "2023-03-01T11:31:20.245853Z"
    }
   },
   "outputs": [
    {
     "name": "stdout",
     "output_type": "stream",
     "text": [
      "43 4130\n"
     ]
    }
   ],
   "source": [
    "with open('17-316.txt') as f:\n",
    "    data = [int(i) for i in f.readlines()]\n",
    "\n",
    "\n",
    "def valid1(x, y, z):\n",
    "    temp = '0123456789'\n",
    "    mult = str(x * y * z)\n",
    "    for i in temp:\n",
    "        if i not in mult:\n",
    "            return False\n",
    "    if x + y + z > sum(data):\n",
    "        return False\n",
    "    return True\n",
    "\n",
    "\n",
    "cnt = 0\n",
    "mini = 10 ** 6\n",
    "for i in range(0, len(data) - 3):\n",
    "    x, y, z = data[i], data[i + 1], data[i + 2]\n",
    "    if valid1(x, y, z):\n",
    "        cnt += 1\n",
    "        mini = min(x + y + z, mini)\n",
    "\n",
    "print(cnt, mini)"
   ]
  },
  {
   "cell_type": "code",
   "execution_count": 36,
   "metadata": {
    "ExecuteTime": {
     "end_time": "2023-03-01T12:02:20.935638Z",
     "start_time": "2023-03-01T12:02:20.883530Z"
    }
   },
   "outputs": [
    {
     "name": "stdout",
     "output_type": "stream",
     "text": [
      "3151 3850\n"
     ]
    }
   ],
   "source": [
    "with open('17-316.txt') as f:\n",
    "    data = [int(i) for i in f.readlines()]\n",
    "\n",
    "mx1 = max(data)\n",
    "res = set(data)\n",
    "res.remove(mx1)\n",
    "mx2 = max(res)\n",
    "\n",
    "\n",
    "def isGood(x, y):\n",
    "    arithm = (x + y) / 2\n",
    "    geom = (x * y) ** 0.5\n",
    "    sa = str(arithm).split('.')\n",
    "    sg = str(geom).split('.')\n",
    "    c1 = int(sa[0]) != 0 and int(sa[1]) == 0\n",
    "    c2 = int(sg[0]) != 0 and int(sg[1]) == 0\n",
    "    if c1 and c2:\n",
    "        return True\n",
    "    return False\n",
    "\n",
    "\n",
    "cnt = 0\n",
    "mini = 10 ** 6\n",
    "for i in range(0, len(data) - 2):\n",
    "    x, y, z = data[i], data[i + 1], data[i + 2]\n",
    "    if isGood(x, y) or isGood(y, z) or isGood(x, z):\n",
    "        if x + y + z < mx1 + mx2:\n",
    "            cnt += 1\n",
    "            mini = min(x + y + z, mini)\n",
    "\n",
    "print(cnt, mini)\n"
   ]
  },
  {
   "cell_type": "code",
   "execution_count": 46,
   "metadata": {},
   "outputs": [
    {
     "name": "stdout",
     "output_type": "stream",
     "text": [
      "257 19\n"
     ]
    }
   ],
   "source": [
    "# 15 (1)\n",
    "\n",
    "from collections import Counter\n",
    "\n",
    "with open('17-332.txt') as f:\n",
    "    data = [int(i) for i in f.readlines()]\n",
    "\n",
    "n = 0\n",
    "sm = 0\n",
    "for i in data:\n",
    "    if i % 17 == 0:\n",
    "        n += 1\n",
    "        sm += i\n",
    "\n",
    "arithm = sm / n\n",
    "\n",
    "cnt = 0\n",
    "ans = []\n",
    "d = {}\n",
    "for i in range(0, len(data) - 3):\n",
    "    a, b, c = data[i], data[i + 1], data[i + 2]\n",
    "    sumA = sum(map(int, str(a)))\n",
    "    sumB = sum(map(int, str(b)))\n",
    "    sumC = sum(map(int, str(c)))\n",
    "    if sumA == sumC and b < arithm:\n",
    "        cnt += 1\n",
    "        ans.append(sumB)\n",
    "\n",
    "print(cnt, Counter(ans).most_common(1)[0][0])"
   ]
  },
  {
   "cell_type": "code",
   "execution_count": 37,
   "outputs": [
    {
     "name": "stdout",
     "output_type": "stream",
     "text": [
      "486 48\n"
     ]
    }
   ],
   "source": [
    "# 14 (1)\n",
    "\n",
    "with open('17-333.txt', 'r') as f:\n",
    "    data = [int(n) for n in f.readlines()]\n",
    "\n",
    "\n",
    "def arithmetic(lst):\n",
    "    n = 0\n",
    "    sum = 0\n",
    "    for i in lst:\n",
    "        if len(str(i)) == 4:\n",
    "            n += 1\n",
    "            sum += i\n",
    "\n",
    "    return sum / n\n",
    "\n",
    "\n",
    "m = -10 ** 6\n",
    "cnt = 0\n",
    "arithm = arithmetic(data)\n",
    "for i in range(0, len(data) - 1):\n",
    "    num1 = data[i]\n",
    "    num2 = data[i + 1]\n",
    "    sum_num = num1 + num2\n",
    "    sum_digits = sum(map(int, str(num1))) + sum(map(int, str(num2)))\n",
    "    if data.count(sum_num) == 0 and sum_num < arithm:\n",
    "        cnt += 1\n",
    "        m = max(m, sum_digits)\n",
    "\n",
    "print(cnt, m)"
   ],
   "metadata": {
    "collapsed": false
   }
  }
 ],
 "metadata": {
  "kernelspec": {
   "display_name": "Python 3 (ipykernel)",
   "language": "python",
   "name": "python3"
  },
  "language_info": {
   "codemirror_mode": {
    "name": "ipython",
    "version": 3
   },
   "file_extension": ".py",
   "mimetype": "text/x-python",
   "name": "python",
   "nbconvert_exporter": "python",
   "pygments_lexer": "ipython3",
   "version": "3.10.6"
  },
  "toc": {
   "base_numbering": 1,
   "nav_menu": {},
   "number_sections": true,
   "sideBar": true,
   "skip_h1_title": false,
   "title_cell": "Table of Contents",
   "title_sidebar": "Contents",
   "toc_cell": false,
   "toc_position": {},
   "toc_section_display": true,
   "toc_window_display": false
  }
 },
 "nbformat": 4,
 "nbformat_minor": 1
}
