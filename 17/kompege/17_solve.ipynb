{
 "cells": [
  {
   "cell_type": "code",
   "execution_count": null,
   "metadata": {
    "collapsed": true
   },
   "outputs": [],
   "source": [
    "with open(\"17_7717.txt\") as f:\n",
    "    data = [int(x) for x in f.readlines()]\n",
    "\n",
    "\n",
    "def valid(f, s):\n",
    "    mn = min(i for i in str(f))\n",
    "    mx = max(i for i in str(s))\n",
    "    return int(mn) > int(mx)\n",
    "\n",
    "\n",
    "def check(n):\n",
    "    cntC, cntN = 0, 0\n",
    "    for i in str(n):\n",
    "        if int(i) % 2 == 0:\n",
    "            cntC += 1\n",
    "        else:\n",
    "            cntN += 1\n",
    "    return cntC == cntN\n",
    "\n",
    "\n",
    "mx = 0\n",
    "for i in data:\n",
    "    if check(i):\n",
    "        mx = max(mx, i)\n",
    "\n",
    "ans = []\n",
    "for i in range(len(data) - 1):\n",
    "    x, y = data[i], data[i + 1]\n",
    "    c1 = valid(x, y)\n",
    "    c2 = (x + y) <= mx\n",
    "    if c1 and c2:\n",
    "        ans.append(x + y)\n",
    "\n",
    "print(len(ans), max(ans))\n"
   ]
  }
 ],
 "metadata": {
  "kernelspec": {
   "display_name": "Python 3",
   "language": "python",
   "name": "python3"
  },
  "language_info": {
   "codemirror_mode": {
    "name": "ipython",
    "version": 2
   },
   "file_extension": ".py",
   "mimetype": "text/x-python",
   "name": "python",
   "nbconvert_exporter": "python",
   "pygments_lexer": "ipython2",
   "version": "2.7.6"
  }
 },
 "nbformat": 4,
 "nbformat_minor": 0
}
