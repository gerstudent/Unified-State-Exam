{
 "cells": [
  {
   "cell_type": "code",
   "execution_count": 1,
   "metadata": {},
   "outputs": [
    {
     "name": "stdout",
     "output_type": "stream",
     "text": [
      "445 9738\n"
     ]
    }
   ],
   "source": [
    "with open('17_2003.txt') as f:\n",
    "    data = [int(x) for x in f.readlines()]\n",
    "\n",
    "cnt = 0\n",
    "mx = -10 ** 10\n",
    "for i in data:\n",
    "    if i % 3 == 0 and i % 7 != 0 and i % 17 != 0 and i % 19 != 0 and i % 27 != 0:\n",
    "        cnt += 1\n",
    "        mx = max(mx, i)\n",
    "\n",
    "print(cnt, mx)"
   ]
  },
  {
   "cell_type": "code",
   "execution_count": 13,
   "metadata": {},
   "outputs": [
    {
     "name": "stdout",
     "output_type": "stream",
     "text": [
      "74452 12\n"
     ]
    }
   ],
   "source": [
    "# 2017\n",
    "\n",
    "with open('17_2017.txt') as f:\n",
    "    data = [int(x) for x in f.readlines()]\n",
    "\n",
    "\n",
    "def valid(x):\n",
    "    c1 = hex(x)[-1].upper() == 'B'\n",
    "    c2 = x % 7 == 0\n",
    "    c3 = x % 6 != 0 and x % 13 != 0 and x % 19 != 0\n",
    "    return c1 and c2 and c3\n",
    "\n",
    "\n",
    "ans = []\n",
    "for i in data:\n",
    "    if valid(i):\n",
    "        ans.append(i)\n",
    "\n",
    "print(sum(ans), len(ans))"
   ]
  },
  {
   "cell_type": "code",
   "execution_count": 18,
   "metadata": {},
   "outputs": [
    {
     "name": "stdout",
     "output_type": "stream",
     "text": [
      "90 2619\n"
     ]
    }
   ],
   "source": [
    "# 2402\n",
    "\n",
    "with open('17_2402.txt') as f:\n",
    "    data = [int(x) for x in f.readlines()]\n",
    "\n",
    "\n",
    "def to_base(num, base):\n",
    "    res = ''\n",
    "    while num > 0:\n",
    "        res += str(num % base)\n",
    "        num //= base\n",
    "    return res[::-1]\n",
    "\n",
    "\n",
    "def valid(x, y, z):\n",
    "    cx = to_base(x, 3)[-1] == '2'\n",
    "    cy = to_base(y, 3)[-1] == '2'\n",
    "    cz = to_base(z, 3)[-1] == '2'\n",
    "    return cx or cy or cz\n",
    "\n",
    "\n",
    "sm = cnt = 0\n",
    "for i in range(len(data) - 3):\n",
    "    x, y, z = data[i], data[i + 1], data[i + 2]\n",
    "    if valid(x, y, z):\n",
    "        cnt += 1\n",
    "        sm += min(x, y, z)\n",
    "\n",
    "print(cnt, sm)"
   ]
  },
  {
   "cell_type": "code",
   "execution_count": 22,
   "metadata": {},
   "outputs": [
    {
     "name": "stdout",
     "output_type": "stream",
     "text": [
      "181 -31478\n"
     ]
    }
   ],
   "source": [
    "# 2002\n",
    "\n",
    "with open('17_2002.txt') as f:\n",
    "    data = [int(x) for x in f.readlines()]\n",
    "\n",
    "\n",
    "def valid(a, b, c, d):\n",
    "    c1 = a > b and b > c and c > d\n",
    "    c2 = (a - d) > 1000\n",
    "    return c1 and c2\n",
    "\n",
    "\n",
    "ans = []\n",
    "for i in range(len(data) - 3):\n",
    "    a, b, c, d = data[i], data[i + 1], data[i + 2], data[i + 3]\n",
    "    if valid(a, b, c, d):\n",
    "        ans.append(a + b + c + d)\n",
    "\n",
    "print(len(ans), min(ans))"
   ]
  },
  {
   "cell_type": "code",
   "execution_count": null,
   "metadata": {},
   "outputs": [],
   "source": []
  },
  {
   "cell_type": "code",
   "execution_count": null,
   "metadata": {},
   "outputs": [],
   "source": []
  },
  {
   "cell_type": "code",
   "execution_count": null,
   "metadata": {},
   "outputs": [],
   "source": []
  },
  {
   "cell_type": "code",
   "execution_count": null,
   "metadata": {},
   "outputs": [],
   "source": []
  },
  {
   "cell_type": "code",
   "execution_count": null,
   "metadata": {},
   "outputs": [],
   "source": []
  },
  {
   "cell_type": "code",
   "execution_count": null,
   "metadata": {},
   "outputs": [],
   "source": []
  },
  {
   "cell_type": "code",
   "execution_count": null,
   "metadata": {},
   "outputs": [],
   "source": []
  },
  {
   "cell_type": "code",
   "execution_count": null,
   "metadata": {},
   "outputs": [],
   "source": []
  },
  {
   "cell_type": "code",
   "execution_count": 26,
   "metadata": {
    "ExecuteTime": {
     "end_time": "2023-03-27T11:59:45.282534Z",
     "start_time": "2023-03-27T11:59:45.273521Z"
    }
   },
   "outputs": [
    {
     "name": "stdout",
     "output_type": "stream",
     "text": [
      "503 10094\n"
     ]
    }
   ],
   "source": [
    "# 17\n",
    "\n",
    "with open('17_2310.txt') as f:\n",
    "    data = [int(x) for x in f.readlines()]\n",
    "\n",
    "\n",
    "end4 = [x for x in data if x % 10 == 4]\n",
    "mn, mx = min(end4), max(end4)\n",
    "sm = mn + mx\n",
    "\n",
    "mxsum = -10 ** 6\n",
    "cnt = 0\n",
    "\n",
    "for i in range(0, len(data) - 1):\n",
    "    x, y = data[i], data[i + 1]\n",
    "    if x + y < sm:\n",
    "        cnt += 1\n",
    "        mxsum = max(mxsum, x + y)\n",
    "\n",
    "print(cnt, mxsum)"
   ]
  },
  {
   "cell_type": "code",
   "execution_count": null,
   "metadata": {},
   "outputs": [],
   "source": []
  },
  {
   "cell_type": "code",
   "execution_count": null,
   "metadata": {},
   "outputs": [],
   "source": []
  },
  {
   "cell_type": "code",
   "execution_count": 11,
   "metadata": {
    "ExecuteTime": {
     "end_time": "2023-03-27T11:51:53.972590Z",
     "start_time": "2023-03-27T11:51:53.941324Z"
    }
   },
   "outputs": [
    {
     "name": "stdout",
     "output_type": "stream",
     "text": [
      "15 6410\n"
     ]
    }
   ],
   "source": [
    "with open('17_2399.txt') as f:\n",
    "    data = [int(x) for x in f.readlines()]\n",
    "\n",
    "k35 = [x for x in data if x % 35 == 0]\n",
    "sm = sum([sum(map(int, str(i))) for i in k35])\n",
    "\n",
    "\n",
    "def valid(x, y):\n",
    "    c1 = x > sm and y < sm and hex(y)[-2:] in 'ef'\n",
    "    c2 = x < sm and y > sm and hex(x)[-2:] in 'ef'\n",
    "    return c1 or c2\n",
    "\n",
    "\n",
    "cnt = 0\n",
    "mn = 10 ** 10\n",
    "for i in range(0, len(data) - 1):\n",
    "    x, y = data[i], data[i + 1]\n",
    "    if valid(x, y):\n",
    "        cnt += 1\n",
    "        mn = min(mn, x + y)\n",
    "\n",
    "print(cnt, mn)"
   ]
  }
 ],
 "metadata": {
  "kernelspec": {
   "display_name": "Python 3 (ipykernel)",
   "language": "python",
   "name": "python3"
  },
  "language_info": {
   "codemirror_mode": {
    "name": "ipython",
    "version": 3
   },
   "file_extension": ".py",
   "mimetype": "text/x-python",
   "name": "python",
   "nbconvert_exporter": "python",
   "pygments_lexer": "ipython3",
   "version": "3.10.6"
  }
 },
 "nbformat": 4,
 "nbformat_minor": 2
}
