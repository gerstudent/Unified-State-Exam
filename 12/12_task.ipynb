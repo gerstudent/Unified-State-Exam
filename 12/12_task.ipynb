{
 "cells": [
  {
   "cell_type": "markdown",
   "source": [
    "# Задание 12\n",
    "\n",
    "## Особенности\n",
    "\n",
    "1. Третий аргумент - количество раз, которое исходная строка должна замениться на новую\n",
    "\n",
    "```python\n",
    "s = s.replace(\"111\", \"22\", 1)\n",
    "```\n",
    "\n",
    "## Формулировки\n",
    "\n",
    "> (313) На вход приведённой выше программе поступает строка, начинающаяся с символа «>», а затем k цифр «1», m цифр «2» и n символов «*», расположенных в произвольном порядке. Известно, что 100 <= k <= 200,  100 ≤ m ≤ 200,  100 ≤ n ≤ 200. Определите наименьшее значение n, при котором сумма числовых значений цифр строки, получившейся в результате выполнения программы, будет равна 1190."
   ],
   "metadata": {
    "collapsed": false
   }
  },
  {
   "cell_type": "code",
   "execution_count": null,
   "outputs": [],
   "source": [
    "k = m = 200\n",
    "for n in range(100, 201):\n",
    "    s = '>' + k * '1' + m * '2' + n * '*'\n",
    "    while '>1' in s or '>2' in s or '>*' in s:\n",
    "        if '>1' in s:\n",
    "            s = s.replace('>1', '111>', 1)\n",
    "        if '>2' in s:\n",
    "            s = s.replace('>2', '1>', 1)\n",
    "        if '>*' in s:\n",
    "            s = s.replace('>*', '%2*>', 1)\n",
    "\n",
    "    su = sum(int(x) for x in s if x.isdigit())\n",
    "    if su == 1190:\n",
    "        print(n)\n",
    "        break\n"
   ],
   "metadata": {
    "collapsed": false
   }
  },
  {
   "cell_type": "code",
   "execution_count": 1,
   "outputs": [
    {
     "name": "stdout",
     "output_type": "stream",
     "text": [
      "46\n"
     ]
    }
   ],
   "source": [
    "# 312\n",
    "for n in range(41, 100):\n",
    "    s = \">\" + \"0\" * n + \"1\" * n + \"2\" * n\n",
    "    while \">1\" in s or \">2\" in s or \">0\" in s:\n",
    "        if \">1\" in s:\n",
    "            s = s.replace(\">1\", \"22>\")\n",
    "        if \">2\" in s:\n",
    "            s = s.replace(\">2\", \"00>\")\n",
    "        if \">0\" in s:\n",
    "            s = s.replace(\">0\", \"11>\")\n",
    "\n",
    "    s = s.replace(\">\", \"1\")\n",
    "\n",
    "    if sum(int(x) for x in s) % 100 == 77:\n",
    "        print(n)\n",
    "        break"
   ],
   "metadata": {
    "collapsed": false
   }
  },
  {
   "cell_type": "markdown",
   "source": [
    "> (№310) На вход программе подана строка из 203 единицы и 1 двойку (точное расположение двойки в строке неизвестно). Найдите строку наибольшей длины, которая может получиться в результате работы алгоритма."
   ],
   "metadata": {
    "collapsed": false
   }
  },
  {
   "cell_type": "code",
   "execution_count": 8,
   "outputs": [
    {
     "name": "stdout",
     "output_type": "stream",
     "text": [
      "2212122\n"
     ]
    }
   ],
   "source": [
    "def f(s):\n",
    "    while \"111\" in s or \"222\" in s:\n",
    "        if \"111\" in s:\n",
    "            s = s.replace(\"111\", \"22\", 1)\n",
    "        else:\n",
    "            s = s.replace(\"222\", \"11\", 1)\n",
    "    return s\n",
    "\n",
    "\n",
    "smax = ''\n",
    "for i in range(0, 204):\n",
    "    s = ['1'] * 204\n",
    "    s[i] = '2'\n",
    "    res = f(\"\".join(s))\n",
    "    if len(res) > len(smax):\n",
    "        smax = res\n",
    "\n",
    "print(smax)"
   ],
   "metadata": {
    "collapsed": false
   }
  },
  {
   "cell_type": "code",
   "execution_count": 15,
   "outputs": [
    {
     "name": "stdout",
     "output_type": "stream",
     "text": [
      "10010\n"
     ]
    }
   ],
   "source": [
    "a = '101101'\n",
    "i = 1\n",
    "b = ''\n",
    "while i <= len(a) - 1:\n",
    "    c = a[i]\n",
    "    if c == '1':\n",
    "        b = b + '0'\n",
    "    if c == '0':\n",
    "        b = b + '1'\n",
    "    i += 1\n",
    "\n",
    "print(b)"
   ],
   "metadata": {
    "collapsed": false
   }
  }
 ],
 "metadata": {
  "kernelspec": {
   "display_name": "Python 3",
   "language": "python",
   "name": "python3"
  },
  "language_info": {
   "codemirror_mode": {
    "name": "ipython",
    "version": 2
   },
   "file_extension": ".py",
   "mimetype": "text/x-python",
   "name": "python",
   "nbconvert_exporter": "python",
   "pygments_lexer": "ipython2",
   "version": "2.7.6"
  }
 },
 "nbformat": 4,
 "nbformat_minor": 0
}
