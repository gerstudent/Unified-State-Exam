{
 "cells": [
  {
   "cell_type": "markdown",
   "source": [
    "# Редактор\n",
    "\n",
    "> (313) На вход приведённой выше программе поступает строка, начинающаяся с символа «>», а затем k цифр «1», m цифр «2» и n символов «*», расположенных в произвольном порядке. Известно, что 100 <= k <= 200,  100 ≤ m ≤ 200,  100 ≤ n ≤ 200. Определите наименьшее значение n, при котором сумма числовых значений цифр строки, получившейся в результате выполнения программы, будет равна 1190."
   ],
   "metadata": {
    "collapsed": false
   }
  },
  {
   "cell_type": "code",
   "execution_count": null,
   "outputs": [],
   "source": [
    "k = m = 200\n",
    "for n in range(100, 201):\n",
    "    s = '>' + k * '1' + m * '2' + n * '*'\n",
    "    while '>1' in s or '>2' in s or '>*' in s:\n",
    "        if '>1' in s:\n",
    "            s = s.replace('>1', '111>', 1)\n",
    "        if '>2' in s:\n",
    "            s = s.replace('>2', '1>', 1)\n",
    "        if '>*' in s:\n",
    "            s = s.replace('>*', '%2*>', 1)\n",
    "\n",
    "    su = sum(int(x) for x in s if x.isdigit())\n",
    "    if su == 1190:\n",
    "        print(n)\n",
    "        break\n"
   ],
   "metadata": {
    "collapsed": false
   }
  },
  {
   "cell_type": "markdown",
   "source": [
    "> (№310) На вход программе подана строка из 203 единицы и 1 двойку (точное расположение двойки в строке неизвестно). Найдите строку наибольшей длины, которая может получиться в результате работы алгоритма."
   ],
   "metadata": {
    "collapsed": false
   }
  },
  {
   "cell_type": "code",
   "execution_count": 8,
   "outputs": [
    {
     "name": "stdout",
     "output_type": "stream",
     "text": [
      "2212122\n"
     ]
    }
   ],
   "source": [
    "def f(s):\n",
    "    while \"111\" in s or \"222\" in s:\n",
    "        if \"111\" in s:\n",
    "            s = s.replace(\"111\", \"22\", 1)\n",
    "        else:\n",
    "            s = s.replace(\"222\", \"11\", 1)\n",
    "    return s\n",
    "\n",
    "\n",
    "smax = ''\n",
    "for i in range(0, 204):\n",
    "    s = ['1'] * 204\n",
    "    s[i] = '2'\n",
    "    res = f(\"\".join(s))\n",
    "    if len(res) > len(smax):\n",
    "        smax = res\n",
    "\n",
    "print(smax)"
   ],
   "metadata": {
    "collapsed": false
   }
  },
  {
   "cell_type": "markdown",
   "source": [
    "# Чертёжник"
   ],
   "metadata": {
    "collapsed": false
   }
  },
  {
   "cell_type": "markdown",
   "source": [
    "> ...Чему равны значения переменных b и k, если известно, что Чертёжник остановился в точке (0,0)? В ответ укажите через пробел два числа — сначала значение переменной b, затем переменной k."
   ],
   "metadata": {
    "collapsed": false
   }
  },
  {
   "cell_type": "code",
   "execution_count": null,
   "outputs": [],
   "source": [
    "from turtle import *\n",
    "\n",
    "tracer(0)\n",
    "\n",
    "\n",
    "def alg(k, b):\n",
    "    setpos(xcor() + 24, ycor() + 55)\n",
    "    for p in range(k):\n",
    "        setpos(xcor() - 1, ycor() + b)\n",
    "        setpos(xcor() - 2, ycor() - 4)\n",
    "    setpos(xcor() - 3, ycor() - 62)\n",
    "    return xcor(), ycor()\n",
    "\n",
    "\n",
    "for i in range(1, 10):\n",
    "    for j in range(-10, 10):\n",
    "        if alg(i, j) == (0.0, 0.0):\n",
    "            print(i, j)\n",
    "        else:\n",
    "            setpos(0, 0)"
   ],
   "metadata": {
    "collapsed": false
   }
  },
  {
   "cell_type": "code",
   "execution_count": null,
   "outputs": [],
   "source": [],
   "metadata": {
    "collapsed": false
   }
  }
 ],
 "metadata": {
  "kernelspec": {
   "display_name": "Python 3",
   "language": "python",
   "name": "python3"
  },
  "language_info": {
   "codemirror_mode": {
    "name": "ipython",
    "version": 2
   },
   "file_extension": ".py",
   "mimetype": "text/x-python",
   "name": "python",
   "nbconvert_exporter": "python",
   "pygments_lexer": "ipython2",
   "version": "2.7.6"
  }
 },
 "nbformat": 4,
 "nbformat_minor": 0
}
