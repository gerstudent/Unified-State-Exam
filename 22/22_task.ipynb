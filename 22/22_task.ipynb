{
 "cells": [
  {
   "cell_type": "markdown",
   "id": "67c5b1f0",
   "metadata": {},
   "source": [
    "# Найти мин. время выполнения совокупности процессов"
   ]
  },
  {
   "cell_type": "code",
   "execution_count": 1,
   "id": "6419fe21",
   "metadata": {
    "ExecuteTime": {
     "end_time": "2023-06-10T12:16:48.893452073Z",
     "start_time": "2023-06-10T12:16:48.891009702Z"
    }
   },
   "outputs": [
    {
     "name": "stdout",
     "output_type": "stream",
     "text": [
      "204\n"
     ]
    }
   ],
   "source": [
    "d = {\"0\": 0}\n",
    "data = []\n",
    "with open('22.txt') as f:\n",
    "    for s in f:\n",
    "        data.append(s.replace(';', ' ').split())\n",
    "\n",
    "while len(d) != len(data) + 1:\n",
    "    for s in data:\n",
    "        idB, time, idA = s[0], s[1], s[2:]\n",
    "        if all(sub in d for sub in idA):\n",
    "            d[idB] = int(time) + max(d[sub] for sub in idA)\n",
    "\n",
    "print(max(d.values()))"
   ]
  },
  {
   "cell_type": "markdown",
   "source": [
    "- С условием \"не раньше, чем через 5 секунд...\""
   ],
   "metadata": {
    "collapsed": false
   }
  },
  {
   "cell_type": "code",
   "execution_count": 2,
   "id": "71ff6215",
   "metadata": {
    "ExecuteTime": {
     "end_time": "2023-06-10T12:17:05.887627360Z",
     "start_time": "2023-06-10T12:17:05.878209663Z"
    }
   },
   "outputs": [
    {
     "name": "stdout",
     "output_type": "stream",
     "text": [
      "249\n"
     ]
    }
   ],
   "source": [
    "d = {\"0\": 0}\n",
    "data = []\n",
    "with open('22.txt') as f:\n",
    "    for s in f:\n",
    "        data.append(s.replace(';', ' ').split())\n",
    "\n",
    "while len(d) != len(data) + 1:\n",
    "    for s in data:\n",
    "        idB, time, idA = s[0], s[1], s[2:]\n",
    "        if all(sub in d for sub in idA):\n",
    "            d[idB] = int(time) + 5 + max(d[sub] for sub in idA)\n",
    "\n",
    "print(max(d.values()))"
   ]
  },
  {
   "cell_type": "markdown",
   "id": "0ee4a34b",
   "metadata": {},
   "source": [
    "# Найти макс. значение t (выполнение одного процесса)"
   ]
  },
  {
   "cell_type": "markdown",
   "id": "709ddfcf",
   "metadata": {},
   "source": [
    "> Перебираем значения t и ищем подходящее"
   ]
  },
  {
   "cell_type": "code",
   "execution_count": null,
   "id": "f3e9378d",
   "metadata": {},
   "outputs": [],
   "source": [
    "d = {\"0\": 0}\n",
    "data = []\n",
    "with open('22_5074.txt') as f:\n",
    "    for s in f:\n",
    "        data.append(s.replace(';', ' ').split())\n",
    "\n",
    "while len(d) != len(data) + 1:\n",
    "    for s in data:\n",
    "        if all(sub in d for sub in s[2:]):\n",
    "            if s[1] != 't':\n",
    "                d[s[0]] = int(s[1]) + max(d[sub] for sub in s[2:])\n",
    "            else:\n",
    "                t = 26\n",
    "                d[s[0]] = t + max(d[sub] for sub in s[2:])\n",
    "\n",
    "if max(d.values()) == 134:\n",
    "    print(t)"
   ]
  },
  {
   "cell_type": "markdown",
   "id": "6251b297",
   "metadata": {},
   "source": [
    "# Найти ID процесса"
   ]
  },
  {
   "cell_type": "markdown",
   "id": "19699b64",
   "metadata": {},
   "source": [
    "> Перебираем idd и ищем подходящее"
   ]
  },
  {
   "cell_type": "code",
   "execution_count": null,
   "id": "37b4bc65",
   "metadata": {},
   "outputs": [],
   "source": [
    "d = {\"0\": 0}\n",
    "data = []\n",
    "with open('22_5077.txt') as f:\n",
    "    for s in f:\n",
    "        data.append(s.replace(';', ' ').split())\n",
    "\n",
    "idd = ''\n",
    "while len(d) != len(data) + 1:\n",
    "    for s in data:\n",
    "        if s[2] == '?':\n",
    "            idd = '4'\n",
    "            s[2] = idd\n",
    "            if all(sub in d for sub in s[2:]):\n",
    "                d[s[0]] = int(s[1]) + max(d[sub] for sub in s[2:])\n",
    "        else:\n",
    "            if all(sub in d for sub in s[2:]):\n",
    "                d[s[0]] = int(s[1]) + max(d[sub] for sub in s[2:])\n",
    "\n",
    "print(max(d.values()))\n",
    "if max(d.values()) == 138:\n",
    "    print(idd)"
   ]
  }
 ],
 "metadata": {
  "kernelspec": {
   "display_name": "Python 3 (ipykernel)",
   "language": "python",
   "name": "python3"
  },
  "language_info": {
   "codemirror_mode": {
    "name": "ipython",
    "version": 3
   },
   "file_extension": ".py",
   "mimetype": "text/x-python",
   "name": "python",
   "nbconvert_exporter": "python",
   "pygments_lexer": "ipython3",
   "version": "3.10.6"
  },
  "toc": {
   "base_numbering": 1,
   "nav_menu": {},
   "number_sections": true,
   "sideBar": true,
   "skip_h1_title": false,
   "title_cell": "Table of Contents",
   "title_sidebar": "Contents",
   "toc_cell": false,
   "toc_position": {},
   "toc_section_display": true,
   "toc_window_display": false
  }
 },
 "nbformat": 4,
 "nbformat_minor": 5
}
