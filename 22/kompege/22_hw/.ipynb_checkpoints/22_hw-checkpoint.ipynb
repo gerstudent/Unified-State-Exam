{
 "cells": [
  {
   "cell_type": "code",
   "execution_count": 10,
   "id": "b42272eb",
   "metadata": {
    "ExecuteTime": {
     "end_time": "2023-03-26T17:46:30.765773Z",
     "start_time": "2023-03-26T17:46:30.757056Z"
    }
   },
   "outputs": [
    {
     "name": "stdout",
     "output_type": "stream",
     "text": [
      "38\n"
     ]
    }
   ],
   "source": [
    "d = {\"0\": 0}\n",
    "data = []\n",
    "with open('22_4800.txt') as f:\n",
    "    for s in f:\n",
    "        data.append(s.replace(';', ' ').split())\n",
    "\n",
    "while len(d) != len(data) + 1:\n",
    "    for s in data:\n",
    "        if all(sub in d for sub in s[2:]):\n",
    "            d[s[0]] = int(s[1]) + max(d[sub] for sub in s[2:])\n",
    "\n",
    "print(max(d.values()))"
   ]
  },
  {
   "cell_type": "code",
   "execution_count": 11,
   "id": "1969e576",
   "metadata": {
    "ExecuteTime": {
     "end_time": "2023-03-26T17:49:37.971543Z",
     "start_time": "2023-03-26T17:49:37.962614Z"
    }
   },
   "outputs": [
    {
     "name": "stdout",
     "output_type": "stream",
     "text": [
      "23\n"
     ]
    }
   ],
   "source": [
    "d = {\"0\": 0}\n",
    "data = []\n",
    "with open('22_4794.txt') as f:\n",
    "    for s in f:\n",
    "        data.append(s.replace(';', ' ').split())\n",
    "\n",
    "while len(d) != len(data) + 1:\n",
    "    for s in data:\n",
    "        if all(sub in d for sub in s[2:]):\n",
    "            d[s[0]] = int(s[1]) + max(d[sub] for sub in s[2:])\n",
    "\n",
    "print(max(d.values()))"
   ]
  },
  {
   "cell_type": "code",
   "execution_count": 15,
   "id": "42b56f26",
   "metadata": {
    "ExecuteTime": {
     "end_time": "2023-03-26T17:52:34.576988Z",
     "start_time": "2023-03-26T17:52:34.569159Z"
    }
   },
   "outputs": [
    {
     "name": "stdout",
     "output_type": "stream",
     "text": [
      "115\n"
     ]
    }
   ],
   "source": [
    "d = {\"0\": 0}\n",
    "data = []\n",
    "with open('22_5068.txt') as f:\n",
    "    for s in f:\n",
    "        data.append(s.replace(';', ' ').split())\n",
    "\n",
    "while len(d) != len(data) + 1:\n",
    "    for s in data:\n",
    "        if all(sub in d for sub in s[2:]):\n",
    "            d[s[0]] = int(s[1]) + max(d[sub] for sub in s[2:])\n",
    "\n",
    "print(max(d.values()))"
   ]
  },
  {
   "cell_type": "code",
   "execution_count": 19,
   "id": "cb4d9af6",
   "metadata": {
    "ExecuteTime": {
     "end_time": "2023-03-26T17:58:27.915196Z",
     "start_time": "2023-03-26T17:58:27.903641Z"
    }
   },
   "outputs": [
    {
     "name": "stdout",
     "output_type": "stream",
     "text": [
      "83\n"
     ]
    }
   ],
   "source": [
    "d = {\"0\": 0}\n",
    "data = []\n",
    "with open('22_5069.txt') as f:\n",
    "    for s in f:\n",
    "        data.append(s.replace(';', ' ').split())\n",
    "\n",
    "while len(d) != len(data) + 1:\n",
    "    for s in data:\n",
    "        if all(sub in d for sub in s[2:]):\n",
    "            d[s[0]] = int(s[1]) + max(d[sub] for sub in s[2:])\n",
    "\n",
    "print(max(d.values()))"
   ]
  },
  {
   "cell_type": "code",
   "execution_count": 21,
   "id": "baccfa23",
   "metadata": {
    "ExecuteTime": {
     "end_time": "2023-03-26T17:58:53.269570Z",
     "start_time": "2023-03-26T17:58:53.262404Z"
    }
   },
   "outputs": [
    {
     "name": "stdout",
     "output_type": "stream",
     "text": [
      "146\n"
     ]
    }
   ],
   "source": [
    "d = {\"0\": 0}\n",
    "data = []\n",
    "dop = 5\n",
    "with open('22_5071.txt') as f:\n",
    "    for s in f:\n",
    "        data.append(s.replace(';', ' ').split())\n",
    "\n",
    "while len(d) != len(data) + 1:\n",
    "    for s in data:\n",
    "        if all(sub in d for sub in s[2:]):\n",
    "            if s[2] != '0':\n",
    "                d[s[0]] = dop + int(s[1]) + max(d[sub] for sub in s[2:])\n",
    "            else:\n",
    "                d[s[0]] = int(s[1]) + max(d[sub] for sub in s[2:])\n",
    "print(max(d.values()))"
   ]
  },
  {
   "cell_type": "code",
   "execution_count": 22,
   "id": "0ce61bf7",
   "metadata": {
    "ExecuteTime": {
     "end_time": "2023-03-26T18:00:47.049068Z",
     "start_time": "2023-03-26T18:00:47.035439Z"
    }
   },
   "outputs": [
    {
     "name": "stdout",
     "output_type": "stream",
     "text": [
      "134\n"
     ]
    }
   ],
   "source": [
    "d = {\"0\": 0}\n",
    "data = []\n",
    "dop = 7\n",
    "with open('22_5072.txt') as f:\n",
    "    for s in f:\n",
    "        data.append(s.replace(';', ' ').split())\n",
    "\n",
    "while len(d) != len(data) + 1:\n",
    "    for s in data:\n",
    "        if all(sub in d for sub in s[2:]):\n",
    "            if s[2] != '0':\n",
    "                d[s[0]] = dop + int(s[1]) + max(d[sub] for sub in s[2:])\n",
    "            else:\n",
    "                d[s[0]] = int(s[1]) + max(d[sub] for sub in s[2:])\n",
    "print(max(d.values()))"
   ]
  },
  {
   "cell_type": "markdown",
   "id": "73eba5d6",
   "metadata": {},
   "source": [
    "# Неизвестное время"
   ]
  },
  {
   "cell_type": "code",
   "execution_count": 4,
   "id": "05831d98",
   "metadata": {
    "ExecuteTime": {
     "end_time": "2023-03-26T18:26:02.329887Z",
     "start_time": "2023-03-26T18:26:02.319371Z"
    }
   },
   "outputs": [
    {
     "name": "stdout",
     "output_type": "stream",
     "text": [
      "26\n"
     ]
    }
   ],
   "source": [
    "d = {\"0\": 0}\n",
    "data = []\n",
    "with open('22_5074.txt') as f:\n",
    "    for s in f:\n",
    "        data.append(s.replace(';', ' ').split())\n",
    "\n",
    "while len(d) != len(data) + 1:\n",
    "    for s in data:\n",
    "        if all(sub in d for sub in s[2:]):\n",
    "            if s[1] != 't':\n",
    "                d[s[0]] = int(s[1]) + max(d[sub] for sub in s[2:])\n",
    "            else:\n",
    "                t = 26\n",
    "                d[s[0]] = t + max(d[sub] for sub in s[2:])\n",
    "\n",
    "if max(d.values()) == 134:\n",
    "    print(t)"
   ]
  },
  {
   "cell_type": "code",
   "execution_count": 17,
   "id": "da31db2f",
   "metadata": {
    "ExecuteTime": {
     "end_time": "2023-03-26T18:27:57.001249Z",
     "start_time": "2023-03-26T18:27:56.991363Z"
    }
   },
   "outputs": [
    {
     "name": "stdout",
     "output_type": "stream",
     "text": [
      "107\n",
      "35\n"
     ]
    }
   ],
   "source": [
    "d = {\"0\": 0}\n",
    "data = []\n",
    "with open('22_5075.txt') as f:\n",
    "    for s in f:\n",
    "        data.append(s.replace(';', ' ').split())\n",
    "\n",
    "while len(d) != len(data) + 1:\n",
    "    for s in data:\n",
    "        if all(sub in d for sub in s[2:]):\n",
    "            if s[1] != 't':\n",
    "                d[s[0]] = int(s[1]) + max(d[sub] for sub in s[2:])\n",
    "            else:\n",
    "                t = 35\n",
    "                d[s[0]] = t + max(d[sub] for sub in s[2:])\n",
    "\n",
    "print(max(d.values()))\n",
    "if max(d.values()) == 107:\n",
    "    print(t)"
   ]
  },
  {
   "cell_type": "markdown",
   "id": "92ff98d0",
   "metadata": {},
   "source": [
    "# Неизвестный процесс"
   ]
  },
  {
   "cell_type": "code",
   "execution_count": null,
   "id": "a9362557",
   "metadata": {
    "ExecuteTime": {
     "start_time": "2023-03-26T18:46:10.967Z"
    }
   },
   "outputs": [],
   "source": [
    "d = {\"0\": 0}\n",
    "data = []\n",
    "with open('22_5077.txt') as f:\n",
    "    for s in f:\n",
    "        data.append(s.replace(';', ' ').split())\n",
    "\n",
    "while len(d) != len(data) + 1:\n",
    "    for s in data:\n",
    "        if s[2] == '?':\n",
    "            idd = '4'\n",
    "            s[2] = idd\n",
    "            if all(sub in d for sub in s[2:]):\n",
    "                d[s[0]] = int(s[1]) + max(d[sub] for sub in s[2:])\n",
    "        else:\n",
    "            if all(sub in d for sub in s[2:]):\n",
    "                d[s[0]] = int(s[1]) + max(d[sub] for sub in s[2:])\n",
    "\n",
    "print(max(d.values()))\n",
    "if max(d.values()) == 138:\n",
    "    print(idd)"
   ]
  },
  {
   "cell_type": "code",
   "execution_count": null,
   "id": "4e2aae4d",
   "metadata": {
    "ExecuteTime": {
     "start_time": "2023-03-26T19:00:17.344Z"
    }
   },
   "outputs": [],
   "source": [
    "d = {\"0\": 0}\n",
    "data = []\n",
    "with open('22_5078.txt') as f:\n",
    "    for s in f:\n",
    "        data.append(s.replace(';', ' ').split())\n",
    "\n",
    "while len(d) != len(data) + 1:\n",
    "    for s in data:\n",
    "        if s[2] == '?':\n",
    "            idd = '1'\n",
    "            s[2] = idd\n",
    "            if all(sub in d for sub in s[2:]):\n",
    "                d[s[0]] = int(s[1]) + max(d[sub] for sub in s[2:])\n",
    "        else:\n",
    "            if all(sub in d for sub in s[2:]):\n",
    "                d[s[0]] = int(s[1]) + max(d[sub] for sub in s[2:])\n",
    "\n",
    "print(max(d.values()))\n",
    "if max(d.values()) == 154:\n",
    "    print(idd)"
   ]
  }
 ],
 "metadata": {
  "kernelspec": {
   "display_name": "Python 3 (ipykernel)",
   "language": "python",
   "name": "python3"
  },
  "language_info": {
   "codemirror_mode": {
    "name": "ipython",
    "version": 3
   },
   "file_extension": ".py",
   "mimetype": "text/x-python",
   "name": "python",
   "nbconvert_exporter": "python",
   "pygments_lexer": "ipython3",
   "version": "3.10.6"
  }
 },
 "nbformat": 4,
 "nbformat_minor": 5
}
