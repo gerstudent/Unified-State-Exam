{
 "cells": [
  {
   "cell_type": "markdown",
   "id": "a7794d55",
   "metadata": {},
   "source": [
    "# Выбрать ПП подряд идущих чисел, чтобы их сумма была максимальной и делилась на 100. (*)"
   ]
  },
  {
   "cell_type": "markdown",
   "id": "6ad94970",
   "metadata": {},
   "source": [
    "## Перебор"
   ]
  },
  {
   "cell_type": "code",
   "execution_count": null,
   "id": "b537fe99",
   "metadata": {
    "ExecuteTime": {
     "start_time": "2023-03-09T09:12:13.979Z"
    }
   },
   "outputs": [],
   "source": [
    "for c in ['a', 'b']:\n",
    "    with open(f'71/27-71{c}.txt') as f:\n",
    "        n = int(f.readline())\n",
    "        data = [int(x) for x in f.readlines()]\n",
    "        ms = 0\n",
    "        for i in range(n):\n",
    "            s = 0\n",
    "            for j in range(i, n):\n",
    "                s += data[j]\n",
    "                if s % 100 == 0:\n",
    "                    ms = max(ms, s)\n",
    "\n",
    "    print(ms, end=' ')"
   ]
  },
  {
   "cell_type": "markdown",
   "id": "32e72875",
   "metadata": {},
   "source": [
    "## Эффективное решение"
   ]
  },
  {
   "cell_type": "code",
   "execution_count": 1,
   "id": "0d7be1c8",
   "metadata": {
    "ExecuteTime": {
     "end_time": "2023-03-09T09:27:25.458029Z",
     "start_time": "2023-03-09T09:27:25.351882Z"
    }
   },
   "outputs": [
    {
     "name": "stdout",
     "output_type": "stream",
     "text": [
      "46000 503932200 "
     ]
    }
   ],
   "source": [
    "for c in ['a', 'b']:\n",
    "    with open(f'71/27-71{c}.txt') as f:\n",
    "        n = int(f.readline())\n",
    "        ms = s = 0\n",
    "        \n",
    "        # минимальные префиксы\n",
    "        pref = [10 ** 20] * 100\n",
    "        \n",
    "        for i in range(n):\n",
    "            x = int(f.readline())\n",
    "            s += x\n",
    "            \n",
    "            if s % 100 == 0:\n",
    "                ms = max(ms, s)\n",
    "                \n",
    "            # из суммы вычитаем минимальный --\n",
    "            # -- префикс с тем же остатком\n",
    "            # s1 кратно 100\n",
    "            s1 = s - pref[s % 100]\n",
    "            ms = max(ms, s1)\n",
    "            \n",
    "            pref[s % 100] = min(pref[s % 100], s)\n",
    "\n",
    "    print(ms, end=' ')"
   ]
  },
  {
   "cell_type": "markdown",
   "id": "c0025ba5",
   "metadata": {},
   "source": [
    "# Определить кол-во ПП, сумма которых кратна 67. (**)"
   ]
  },
  {
   "cell_type": "code",
   "execution_count": 3,
   "id": "30bf1e1a",
   "metadata": {
    "ExecuteTime": {
     "end_time": "2023-03-09T09:43:45.782489Z",
     "start_time": "2023-03-09T09:43:45.723460Z"
    }
   },
   "outputs": [
    {
     "name": "stdout",
     "output_type": "stream",
     "text": [
      "0 74630216 "
     ]
    }
   ],
   "source": [
    "for c in ['a', 'b']:\n",
    "    with open(f'71/27-71{c}.txt') as f:\n",
    "        n = int(f.readline())\n",
    "        cnt = s = 0\n",
    "        \n",
    "        # кол-во префиксов с суммой, у которой остатки 0..66\n",
    "        pref = [0] * 67\n",
    "        \n",
    "        for i in range(n):\n",
    "            x = int(f.readline())\n",
    "            s += x\n",
    "            if s % 67 == 0:\n",
    "                cnt += 1\n",
    "            \n",
    "            # кол-во подпосл. равно числу префиксов с тем же остатком\n",
    "            cnt += pref[s % 67] \n",
    "            \n",
    "            pref[s  % 67] += 1\n",
    "\n",
    "    print(cnt, end=' ')"
   ]
  },
  {
   "cell_type": "markdown",
   "id": "c0b8411f",
   "metadata": {},
   "source": [
    "# Рассматриваются НПП, в которых кол-во чисел, кратных 11, делится на 7. Найти макс. сумму такой ПП. (*)"
   ]
  },
  {
   "cell_type": "code",
   "execution_count": 4,
   "id": "b8131155",
   "metadata": {
    "ExecuteTime": {
     "end_time": "2023-03-09T09:48:13.555548Z",
     "start_time": "2023-03-09T09:48:13.550368Z"
    }
   },
   "outputs": [],
   "source": [
    "for c in ['a', 'b']:\n",
    "    with open(f'71/27-71{c}.txt') as f:\n",
    "        n = int(f.readline())\n",
    "        data = [int(x) for x in f.readlines()]\n",
    "        ms = 0\n",
    "        for i in range(n):\n",
    "            s = cnt = 0\n",
    "            for j in range(i, n):\n",
    "                s += a[j]\n",
    "                if a[j] % 11 == 0:\n",
    "                    cnt += 1\n",
    "                if cnt % 7 == 0:\n",
    "                    ms = max(ms, s)\n",
    "                    \n",
    "    print(ms, end=' ')"
   ]
  },
  {
   "cell_type": "code",
   "execution_count": 6,
   "id": "a8e1d332",
   "metadata": {
    "ExecuteTime": {
     "end_time": "2023-03-09T09:58:25.851087Z",
     "start_time": "2023-03-09T09:58:25.765259Z"
    }
   },
   "outputs": [
    {
     "name": "stdout",
     "output_type": "stream",
     "text": [
      "69922 503842912 "
     ]
    }
   ],
   "source": [
    "for c in ['a', 'b']:\n",
    "    with open(f'71/27-71{c}.txt') as f:\n",
    "        n = int(f.readline())\n",
    "        ms = s = cnt = 0\n",
    "        pref = [10 ** 20] * 7\n",
    "        for i in range(n):\n",
    "            x = int(f.readline())\n",
    "            s += x\n",
    "            if x % 11 == 0:\n",
    "                cnt += 1\n",
    "            if cnt % 7 == 0:\n",
    "                ms = max(ms, s)\n",
    "            \n",
    "            # отбросили префикс так, чтобы кол-во чисел,\n",
    "            # кратных 11, стало делиться на 7\n",
    "            s1 = s - pref[cnt % 7]   \n",
    "            ms = max(ms, s1)\n",
    "            \n",
    "            pref[cnt % 7] = min(pref[cnt % 7], s)\n",
    "\n",
    "    print(ms, end=' ')"
   ]
  },
  {
   "cell_type": "markdown",
   "id": "8a33a632",
   "metadata": {},
   "source": [
    "# Рассматриваются НПП, в которых кол-во чисел, делящихся на 10, кратно 17. Найти макс. сумму такой ПП. (**)"
   ]
  },
  {
   "cell_type": "code",
   "execution_count": 8,
   "id": "a6af191a",
   "metadata": {
    "ExecuteTime": {
     "end_time": "2023-03-09T10:04:22.795667Z",
     "start_time": "2023-03-09T10:04:22.739877Z"
    }
   },
   "outputs": [
    {
     "name": "stdout",
     "output_type": "stream",
     "text": [
      "72 294790184 "
     ]
    }
   ],
   "source": [
    "for c in ['a', 'b']:\n",
    "    with open(f'71/27-71{c}.txt') as f:\n",
    "        n = int(f.readline())\n",
    "        pref = [0] * 17\n",
    "        cnt = k10 = 0\n",
    "        for i in range(n):\n",
    "            x = int(f.readline())\n",
    "            if x % 10 == 0:\n",
    "                k10 += 1\n",
    "            if k10 % 17 == 0:\n",
    "                cnt += 1\n",
    "                \n",
    "            cnt += pref[k10 % 17]\n",
    "            pref[k10 % 17] += 1\n",
    "\n",
    "    print(cnt, end=' ')"
   ]
  },
  {
   "attachments": {},
   "cell_type": "markdown",
   "id": "4278b513",
   "metadata": {},
   "source": [
    "# Особые числа - отрицательные числа, оканчивающиеся на 4. Рассматриваются все НПП, в которых кол-во особых чисел кратно 7, а сумма всех элементов ПП кратна 25. Вывести макс. длину такой последовательности."
   ]
  },
  {
   "cell_type": "code",
   "execution_count": 2,
   "id": "f234c9f9",
   "metadata": {},
   "outputs": [
    {
     "name": "stdout",
     "output_type": "stream",
     "text": [
      "49150 503939250 "
     ]
    }
   ],
   "source": [
    "for c in ['a', 'b']:\n",
    "    with open(f'71/27-71{c}.txt') as f:\n",
    "        n = int(f.readline())\n",
    "\n",
    "        # минимальный префикс\n",
    "        pref = [[10 ** 20] * 25 for i in range(7)]\n",
    "        s = cnt = 0\n",
    "        ms = -10**20\n",
    "        for i in range(n):\n",
    "            x = int(f.readline())\n",
    "            s += x\n",
    "            if x < 0 and abs(x) % 10 == 4:\n",
    "                cnt += 1\n",
    "            if s % 25 == 0 and cnt % 7 == 0:\n",
    "                ms = max(ms, s)\n",
    " \n",
    "            s1 = s - pref[cnt % 7][s % 25]\n",
    "            ms = max(ms, s1)\n",
    "\n",
    "            pref[cnt % 7][s % 25] = min(pref[cnt % 7][s % 25], s)\n",
    "\n",
    "    print(ms, end=' ')"
   ]
  },
  {
   "cell_type": "markdown",
   "id": "2d7e0940",
   "metadata": {},
   "source": [
    "# Особые числа - отрицательные числа, оканчивающиеся на 3. Рассматриваются все НПП, в которых ровно 7 особых чисел. Вывести макс. сумму элементов такой последовательности."
   ]
  },
  {
   "cell_type": "code",
   "execution_count": 3,
   "id": "a9064e92",
   "metadata": {},
   "outputs": [
    {
     "name": "stdout",
     "output_type": "stream",
     "text": [
      "-99999999999999930078 -99999999999496037088 "
     ]
    }
   ],
   "source": [
    "for c in ['a', 'b']:\n",
    "    with open(f'71/27-71{c}.txt') as f:\n",
    "        n = int(f.readline())\n",
    "        pref = [10 ** 20] * n\n",
    "        ms = -10 ** 20\n",
    "        cnt = s = 0\n",
    "\n",
    "        for i in range(n):\n",
    "            x = int(f.readline())\n",
    "            s += x\n",
    "            if x < 0 and abs(x) % 10 == 3:\n",
    "                cnt += 1\n",
    "            if cnt == 7:\n",
    "                ms = max(ms, s)\n",
    "            \n",
    "            s1 = s - pref[cnt - 7]\n",
    "            ms = max(ms, s1)\n",
    "\n",
    "            pref[cnt] = min(pref[cnt], s)\n",
    "\n",
    "    print(ms, end=' ')"
   ]
  },
  {
   "attachments": {},
   "cell_type": "markdown",
   "id": "67a22b79",
   "metadata": {},
   "source": [
    "# Необходимо выбрать такую ПП подряд идущих чисел, чтобы их сумма была максимальной и делилась на w, и определить её длину. Если таких ПП несколько, нужно выбрать ПП наименьшей длины."
   ]
  },
  {
   "cell_type": "code",
   "execution_count": 10,
   "id": "d1890e1a",
   "metadata": {},
   "outputs": [
    {
     "name": "stdout",
     "output_type": "stream",
     "text": [
      "47955 14\n",
      "503905344 99989\n"
     ]
    }
   ],
   "source": [
    "for c in ['a', 'b']:\n",
    "    with open(f'71/27-71{c}.txt') as f:\n",
    "        n = int(f.readline())\n",
    "        w = 69\n",
    "        pref = [10 ** 20] * w\n",
    "        l = [0] * w\n",
    "        s = ml = 0\n",
    "        ms = -10**20\n",
    "\n",
    "        for i in range(n):\n",
    "            x = int(f.readline())\n",
    "            s += x\n",
    "            if s % w == 0:\n",
    "                if s > ms:\n",
    "                    ms = s\n",
    "                    ml = i + 1\n",
    "            s1 = s - pref[s % w]\n",
    "            l1 = (i + 1) - l[s % w]\n",
    "\n",
    "            # проверка на длину \n",
    "            if s1 > ms or (s1 == ms and l1 < ml):\n",
    "                ms = s1\n",
    "                ml = l1\n",
    "            \n",
    "            if s < pref[s % w]:\n",
    "                pref[s % w] = s\n",
    "                l[s % w] = i + 1\n",
    "\n",
    "    print(ms, ml, end='\\n')"
   ]
  },
  {
   "attachments": {},
   "cell_type": "markdown",
   "id": "563904c7",
   "metadata": {},
   "source": [
    "# Рассматриваются НПП длиной >= 10 элементов, такие, что сумма элементов каждой из них кратна 20. Найти кол-во таких ПП."
   ]
  },
  {
   "cell_type": "code",
   "execution_count": 11,
   "id": "fba217b1",
   "metadata": {},
   "outputs": [
    {
     "name": "stdout",
     "output_type": "stream",
     "text": [
      "1\n",
      "4877\n"
     ]
    }
   ],
   "source": [
    "for c in ['a', 'b']:\n",
    "    with open(f'71/27-71{c}.txt') as f:\n",
    "        n = int(f.readline())\n",
    "        q = []\n",
    "        s = 0\n",
    "        for i in range(9):\n",
    "            x = int(f.readline())\n",
    "            s += x\n",
    "            q.append(s)\n",
    "        \n",
    "        k = [0] * 20\n",
    "        cnt = 0\n",
    "\n",
    "        for i in range(n - 9):\n",
    "            x = int(f.readline())\n",
    "            s += x\n",
    "            if s % 20 == 0:\n",
    "                cnt += 1\n",
    "            cnt += k[s % 20]\n",
    "        \n",
    "        k[q[0] % 20] += 1\n",
    "        q.pop(0)\n",
    "        q.append(s)\n",
    "\n",
    "    print(cnt, end=' ')"
   ]
  },
  {
   "attachments": {},
   "cell_type": "markdown",
   "id": "de75b8a4",
   "metadata": {},
   "source": [
    "# Особое число - отриц. число, кратное 10. Рассматриваются НПП длиной >= 5 элементов, такие, что кол-во особых чисел делится на 3. Найти макс. сумму такой ПП."
   ]
  },
  {
   "cell_type": "code",
   "execution_count": 12,
   "id": "a4d43c88",
   "metadata": {},
   "outputs": [
    {
     "name": "stdout",
     "output_type": "stream",
     "text": [
      "69922 503962912 "
     ]
    }
   ],
   "source": [
    "\n",
    "for c in ['a', 'b']:\n",
    "    with open(f'71/27-71{c}.txt') as f:\n",
    "        n = int(f.readline())\n",
    "        q = []\n",
    "        s = k10 = 0\n",
    "        for i in range(4):\n",
    "            x = int(f.readline())\n",
    "            s += x\n",
    "            if x < 0 and x % 10 == 0:\n",
    "                k10 += 1\n",
    "\n",
    "            q.append([s, k10])\n",
    "        \n",
    "        ms = -10 ** 20\n",
    "        m = [10 ** 20] * 3\n",
    "\n",
    "        for i in range(n - 4):\n",
    "            x = int(f.readline())\n",
    "            s += x\n",
    "            if x < 0 and x % 10 == 0:\n",
    "                k10 += 1\n",
    "            if k10 % 3 == 0:\n",
    "                ms = max(ms, s)\n",
    "\n",
    "            s1 = s - m[k10 % 3]\n",
    "            ms = max(ms, s1)\n",
    "\n",
    "            s0, k0 = q[0]\n",
    "            m[k0 % 3] = min(m[k0 % 3], s0)\n",
    "            q.pop(0)\n",
    "            q.append([s, k10])\n",
    "\n",
    "    print(ms, end=' ')\n",
    "\n",
    " "
   ]
  }
 ],
 "metadata": {
  "kernelspec": {
   "display_name": "Python 3 (ipykernel)",
   "language": "python",
   "name": "python3"
  },
  "language_info": {
   "codemirror_mode": {
    "name": "ipython",
    "version": 3
   },
   "file_extension": ".py",
   "mimetype": "text/x-python",
   "name": "python",
   "nbconvert_exporter": "python",
   "pygments_lexer": "ipython3",
   "version": "3.10.6"
  },
  "toc": {
   "base_numbering": 1,
   "nav_menu": {},
   "number_sections": true,
   "sideBar": true,
   "skip_h1_title": false,
   "title_cell": "Table of Contents",
   "title_sidebar": "Contents",
   "toc_cell": false,
   "toc_position": {},
   "toc_section_display": true,
   "toc_window_display": false
  }
 },
 "nbformat": 4,
 "nbformat_minor": 5
}
