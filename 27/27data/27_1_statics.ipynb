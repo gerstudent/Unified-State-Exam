{
 "cells": [
  {
   "cell_type": "markdown",
   "metadata": {},
   "source": [
    "# Количество пар элементов последовательности с четной суммой"
   ]
  },
  {
   "cell_type": "markdown",
   "metadata": {},
   "source": [
    "## Перебор"
   ]
  },
  {
   "cell_type": "code",
   "execution_count": 2,
   "metadata": {
    "ExecuteTime": {
     "end_time": "2023-03-07T06:12:42.534744Z",
     "start_time": "2023-03-07T06:12:42.520566Z"
    },
    "pycharm": {
     "is_executing": true
    }
   },
   "outputs": [],
   "source": [
    "with open('114/27-114a.txt') as f:\n",
    "    n = int(f.readline())\n",
    "    data = [int(x) for x in f.readlines()]"
   ]
  },
  {
   "cell_type": "code",
   "execution_count": null,
   "metadata": {
    "ExecuteTime": {
     "start_time": "2023-03-04T06:59:59.741Z"
    },
    "pycharm": {
     "is_executing": true
    }
   },
   "outputs": [],
   "source": [
    "cnt = 0\n",
    "for i in range(n):\n",
    "    for j in range(i + 1, n):\n",
    "        if (data[i] + data[j]) % 2 == 0:\n",
    "            cnt += 1\n",
    "\n",
    "print(cnt)"
   ]
  },
  {
   "cell_type": "markdown",
   "metadata": {},
   "source": [
    "## Эффективное решение"
   ]
  },
  {
   "cell_type": "code",
   "execution_count": null,
   "metadata": {
    "ExecuteTime": {
     "start_time": "2023-03-04T07:00:33.719Z"
    }
   },
   "outputs": [],
   "source": [
    "even = odd = 0\n",
    "for i in data:\n",
    "    if i % 2 == 0:\n",
    "        even += 1\n",
    "    else:\n",
    "        odd += 1\n",
    "\n",
    "print(even * (even - 1) // 2 + odd * (odd - 1) // 2)"
   ]
  },
  {
   "cell_type": "code",
   "execution_count": null,
   "metadata": {
    "ExecuteTime": {
     "start_time": "2023-03-04T07:00:46.615Z"
    }
   },
   "outputs": [],
   "source": [
    "even = odd = 0\n",
    "for i in data:\n",
    "    if i % 2 == 0:\n",
    "        even += 1\n",
    "    else:\n",
    "        odd += 1\n",
    "\n",
    "ans_even = even * (even - 1) // 2\n",
    "ans_odd = odd * (odd - 1) // 2\n",
    "print(ans_even + ans_odd)"
   ]
  },
  {
   "cell_type": "markdown",
   "metadata": {},
   "source": [
    "# Количество пар элементов, произведение которых кратно 11"
   ]
  },
  {
   "cell_type": "code",
   "execution_count": null,
   "metadata": {
    "ExecuteTime": {
     "start_time": "2023-03-04T07:00:47.522Z"
    }
   },
   "outputs": [],
   "source": [
    "d11 = 0\n",
    "nd11 = 0\n",
    "for i in data:\n",
    "    if i % 11 == 0:\n",
    "        d11 += 1\n",
    "    else:\n",
    "        nd11 += 1\n",
    "\n",
    "print(d11 * (d11 - 1) // 2 + d11 * nd11)"
   ]
  },
  {
   "cell_type": "markdown",
   "metadata": {},
   "source": [
    "# Количество пар элементов, произведение которых кратно 26"
   ]
  },
  {
   "cell_type": "markdown",
   "metadata": {},
   "source": [
    "## Перебор"
   ]
  },
  {
   "cell_type": "code",
   "execution_count": 3,
   "metadata": {
    "ExecuteTime": {
     "end_time": "2023-03-07T06:12:45.614017Z",
     "start_time": "2023-03-07T06:12:45.602811Z"
    }
   },
   "outputs": [
    {
     "name": "stdout",
     "output_type": "stream",
     "text": [
      "2534\n"
     ]
    }
   ],
   "source": [
    "from itertools import combinations\n",
    "\n",
    "cnt = 0\n",
    "for x, y in combinations(data, 2):\n",
    "    if (x * y) % 26 == 0:\n",
    "        cnt += 1\n",
    "\n",
    "print(cnt)"
   ]
  },
  {
   "cell_type": "markdown",
   "metadata": {},
   "source": [
    "## Каскадное условие"
   ]
  },
  {
   "cell_type": "code",
   "execution_count": 5,
   "metadata": {
    "ExecuteTime": {
     "end_time": "2023-03-01T12:51:21.205756Z",
     "start_time": "2023-03-01T12:51:21.201211Z"
    }
   },
   "outputs": [
    {
     "name": "stdout",
     "output_type": "stream",
     "text": [
      "0\n"
     ]
    }
   ],
   "source": [
    "d26 = d13 = d2 = nd = 0\n",
    "for i in data:\n",
    "    if i % 26 == 0:\n",
    "        d26 += 1\n",
    "    elif i % 13 == 0:\n",
    "        d13 += 1\n",
    "    elif i % 2 == 0:\n",
    "        d2 += 1\n",
    "    else:\n",
    "        nd += 1\n",
    "\n",
    "print(d26 * (d26 - 1) // 2 + d26 * (n - d26) + d2 * d13)"
   ]
  },
  {
   "cell_type": "markdown",
   "metadata": {},
   "source": [
    "# Количество пар, сумма / разность которых кратна 100"
   ]
  },
  {
   "cell_type": "markdown",
   "metadata": {},
   "source": [
    "## Сумма"
   ]
  },
  {
   "cell_type": "code",
   "execution_count": 6,
   "metadata": {
    "ExecuteTime": {
     "end_time": "2023-03-04T05:28:59.960523Z",
     "start_time": "2023-03-04T05:28:59.954460Z"
    }
   },
   "outputs": [
    {
     "name": "stdout",
     "output_type": "stream",
     "text": [
      "0\n"
     ]
    }
   ],
   "source": [
    "ost = [0] * 100\n",
    "for i in data:\n",
    "    num = i % 100\n",
    "    ost[num] += 1\n",
    "\n",
    "cnt = ost[0] * (ost[0] - 1) // 2 + ost[50] * (ost[50] - 1) // 2\n",
    "for i in range(1, 49 + 1):\n",
    "    cnt += ost[i] * ost[100 - i]\n",
    "\n",
    "print(cnt)\n"
   ]
  },
  {
   "cell_type": "markdown",
   "metadata": {},
   "source": [
    "## Разность"
   ]
  },
  {
   "cell_type": "code",
   "execution_count": 7,
   "metadata": {
    "ExecuteTime": {
     "end_time": "2023-03-04T05:32:21.790465Z",
     "start_time": "2023-03-04T05:32:21.786658Z"
    }
   },
   "outputs": [
    {
     "name": "stdout",
     "output_type": "stream",
     "text": [
      "1\n"
     ]
    }
   ],
   "source": [
    "ost = [0] * 100\n",
    "for i in data:\n",
    "    num = i % 100\n",
    "    ost[num] += 1\n",
    "\n",
    "cnt = 0\n",
    "for i in range(1, 99 + 1):\n",
    "    cnt += ost[i] * (ost[i] - 1) // 2\n",
    "\n",
    "print(cnt)\n"
   ]
  },
  {
   "cell_type": "markdown",
   "metadata": {},
   "source": [
    "# Кол-во пар, сумма которых кратна 69 и ровно один из них делится на 7"
   ]
  },
  {
   "cell_type": "code",
   "execution_count": 8,
   "metadata": {
    "ExecuteTime": {
     "end_time": "2023-03-04T05:41:59.449597Z",
     "start_time": "2023-03-04T05:41:59.444139Z"
    }
   },
   "outputs": [
    {
     "name": "stdout",
     "output_type": "stream",
     "text": [
      "0\n"
     ]
    }
   ],
   "source": [
    "ost69 = [0] * 69\n",
    "ost7 = [0] * 69\n",
    "for i in data:\n",
    "    num = i % 69\n",
    "    if i % 7 == 0:\n",
    "        ost7[num] += 1\n",
    "    else:\n",
    "        ost69[num] += 1\n",
    "\n",
    "cnt = ost69[0] * ost7[0]  # множества не пересекаются\n",
    "for i in range(1, 68 + 1):\n",
    "    cnt += ost69[i] * ost7[69 - i]\n",
    "\n",
    "print(cnt)"
   ]
  },
  {
   "cell_type": "code",
   "execution_count": null,
   "metadata": {},
   "outputs": [],
   "source": [
    "fl = open('12/27-12a.txt')\n",
    "n = int(f.readline())\n",
    "k = [0] * 69\n",
    "k7 = [0] * 69\n",
    "for i in range(n):\n",
    "    x = int(f.readline())\n",
    "    ost = x % 69\n",
    "    if x % 7 == 0:\n",
    "        k7[ost] += 1\n",
    "    else:\n",
    "        k[ost] += 1\n",
    "\n",
    "cnt = k[0] * k7[0]\n",
    "for i in range(1, 68 + 1):\n",
    "    cnt += k[i] * k7[69 - i]\n",
    "\n",
    "print(cnt)"
   ]
  },
  {
   "cell_type": "markdown",
   "metadata": {},
   "source": [
    "# Найти макс / мин четную сумму пары"
   ]
  },
  {
   "cell_type": "markdown",
   "metadata": {},
   "source": [
    "## Перебор"
   ]
  },
  {
   "cell_type": "code",
   "execution_count": 9,
   "metadata": {
    "ExecuteTime": {
     "end_time": "2023-03-04T05:45:18.909567Z",
     "start_time": "2023-03-04T05:45:18.905149Z"
    }
   },
   "outputs": [
    {
     "name": "stdout",
     "output_type": "stream",
     "text": [
      "1890 296\n"
     ]
    }
   ],
   "source": [
    "from itertools import combinations\n",
    "\n",
    "ans = []\n",
    "for x, y in combinations(data, 2):\n",
    "    if (x + y) % 2 == 0:\n",
    "        ans.append(x + y)\n",
    "print(max(ans), min(ans))"
   ]
  },
  {
   "cell_type": "markdown",
   "metadata": {},
   "source": [
    "## Эффективное решение"
   ]
  },
  {
   "cell_type": "code",
   "execution_count": 12,
   "metadata": {
    "ExecuteTime": {
     "end_time": "2023-03-04T05:59:59.865110Z",
     "start_time": "2023-03-04T05:59:59.859564Z"
    }
   },
   "outputs": [
    {
     "name": "stdout",
     "output_type": "stream",
     "text": [
      "1890 296\n"
     ]
    }
   ],
   "source": [
    "even = []\n",
    "odd = []\n",
    "\n",
    "for i in data:\n",
    "    if i % 2 == 0:\n",
    "        even.append(i)\n",
    "    else:\n",
    "        odd.append(i)\n",
    "\n",
    "even.sort()\n",
    "odd.sort()\n",
    "mx = max(even[-1] + even[-2], odd[-1] + odd[-2])\n",
    "mn = min(even[0] + even[1], odd[0] + odd[1])\n",
    "print(mx, mn)"
   ]
  },
  {
   "cell_type": "markdown",
   "metadata": {},
   "source": [
    "# Макс / мин произведение, кратное 23"
   ]
  },
  {
   "cell_type": "code",
   "execution_count": 32,
   "metadata": {
    "ExecuteTime": {
     "end_time": "2023-03-04T06:15:43.405002Z",
     "start_time": "2023-03-04T06:15:43.370822Z"
    }
   },
   "outputs": [
    {
     "name": "stdout",
     "output_type": "stream",
     "text": [
      "46 296\n"
     ]
    }
   ],
   "source": [
    "krat = []\n",
    "nekrat = []\n",
    "for i in data:\n",
    "    if i % 23 == 0:\n",
    "        krat.append(i)\n",
    "    else:\n",
    "        nekrat.append(i)\n",
    "krat.sort()\n",
    "nekrat.sort()\n",
    "mx = max(krat[-1] * nekrat[-1], krat[-1] * krat[-2])\n",
    "mn = min(krat[0] * nekrat[0], krat[0] * krat[1])\n",
    "\n",
    "print(mx, mn)"
   ]
  },
  {
   "cell_type": "markdown",
   "metadata": {},
   "source": [
    "# Макс / мин сумму пары, кратную 25"
   ]
  },
  {
   "cell_type": "markdown",
   "metadata": {},
   "source": [
    "## Максимальная"
   ]
  },
  {
   "cell_type": "code",
   "execution_count": 44,
   "metadata": {
    "ExecuteTime": {
     "end_time": "2023-03-04T06:36:22.016099Z",
     "start_time": "2023-03-04T06:36:21.966660Z"
    }
   },
   "outputs": [
    {
     "name": "stdout",
     "output_type": "stream",
     "text": [
      "20000\n"
     ]
    }
   ],
   "source": [
    "m = [[] for i in range(25)]\n",
    "for i in data:\n",
    "    ost = i % 25\n",
    "    m[ost].append(i)\n",
    "\n",
    "lst = []\n",
    "for i in range(25):\n",
    "    m[i].sort()\n",
    "    lst += m[i][-2:]\n",
    "\n",
    "ans = []\n",
    "for i in range(len(lst)):\n",
    "    for j in range(i + 1, len(lst)):\n",
    "        if (lst[i] + lst[j]) % 25 == 0:\n",
    "            ans.append(lst[i] + lst[j])\n",
    "\n",
    "print(max(ans))"
   ]
  },
  {
   "cell_type": "markdown",
   "metadata": {},
   "source": [
    "## Минимальная"
   ]
  },
  {
   "cell_type": "code",
   "execution_count": 43,
   "metadata": {
    "ExecuteTime": {
     "end_time": "2023-03-04T06:36:02.048985Z",
     "start_time": "2023-03-04T06:36:02.016410Z"
    }
   },
   "outputs": [
    {
     "name": "stdout",
     "output_type": "stream",
     "text": [
      "25\n"
     ]
    }
   ],
   "source": [
    "m = [[] for i in range(25)]\n",
    "for i in data:\n",
    "    ost = i % 25\n",
    "    m[ost].append(i)\n",
    "\n",
    "lst = []\n",
    "for i in range(25):\n",
    "    m[i].sort()\n",
    "    lst += m[i][:2]  # изменили срез\n",
    "\n",
    "ans = []\n",
    "for i in range(len(lst)):\n",
    "    for j in range(i + 1, len(lst)):\n",
    "        if (lst[i] + lst[j]) % 25 == 0:\n",
    "            ans.append(lst[i] + lst[j])\n",
    "\n",
    "print(min(ans))"
   ]
  },
  {
   "cell_type": "markdown",
   "metadata": {},
   "source": [
    "# Макс / мин сумму тройки чисел, произведение которых кратно 36"
   ]
  },
  {
   "cell_type": "code",
   "execution_count": 48,
   "metadata": {
    "ExecuteTime": {
     "end_time": "2023-03-04T06:44:41.652158Z",
     "start_time": "2023-03-04T06:44:41.551443Z"
    }
   },
   "outputs": [
    {
     "name": "stdout",
     "output_type": "stream",
     "text": [
      "10\n"
     ]
    }
   ],
   "source": [
    "m = [[] for i in range(36)]\n",
    "for i in data:\n",
    "    ost = i % 36\n",
    "    m[ost].append(i)\n",
    "\n",
    "lst = []\n",
    "for i in range(36):\n",
    "    m[i].sort()\n",
    "    lst += m[i][:3]\n",
    "ans = []\n",
    "for i in range(len(lst)):\n",
    "    for j in range(i + 1, len(lst)):\n",
    "        for k in range(j + 1, len(lst)):\n",
    "            if (lst[i] * lst[j] * lst[k]) % 36 == 0:\n",
    "                ans.append(lst[i] + lst[j] + lst[k])\n",
    "\n",
    "print(min(ans))"
   ]
  }
 ],
 "metadata": {
  "kernelspec": {
   "display_name": "Python 3 (ipykernel)",
   "language": "python",
   "name": "python3"
  },
  "language_info": {
   "codemirror_mode": {
    "name": "ipython",
    "version": 3
   },
   "file_extension": ".py",
   "mimetype": "text/x-python",
   "name": "python",
   "nbconvert_exporter": "python",
   "pygments_lexer": "ipython3",
   "version": "3.10.6"
  },
  "toc": {
   "base_numbering": 1,
   "nav_menu": {},
   "number_sections": true,
   "sideBar": true,
   "skip_h1_title": false,
   "title_cell": "Table of Contents",
   "title_sidebar": "Contents",
   "toc_cell": false,
   "toc_position": {},
   "toc_section_display": true,
   "toc_window_display": false
  }
 },
 "nbformat": 4,
 "nbformat_minor": 1
}
