{
 "cells": [
  {
   "cell_type": "code",
   "execution_count": null,
   "metadata": {
    "collapsed": true
   },
   "outputs": [],
   "source": [
    "# 16 (1)\n",
    "\n",
    "with open('112/27-112a.txt') as f:\n",
    "    n, k = map(int, f.readline().split())\n",
    "    used = [0] * (10 ** 6 + 1)\n",
    "    for i in range(n):\n",
    "        used[int(f.readline())] += 1\n",
    "\n",
    "ans = 0\n",
    "for i in range(1, 10 ** 6 + 1):\n",
    "    c = 0\n",
    "    for j in range(i, 10 ** 6 + 1, i):\n",
    "        c += used[j]\n",
    "    if c >= k:\n",
    "        ans = i\n",
    "\n",
    "print(ans)\n"
   ]
  },
  {
   "cell_type": "code",
   "execution_count": 5,
   "outputs": [
    {
     "name": "stdout",
     "output_type": "stream",
     "text": [
      "512\n",
      "94\n"
     ]
    }
   ],
   "source": [
    "with open('12/27-12a.txt') as f:\n",
    "    n = int(f.readline())\n",
    "    data = [int(x) for x in f.readlines()]\n",
    "\n",
    "even = odd = 0\n",
    "for i in data:\n",
    "    if i % 2 == 0:\n",
    "        even += 1\n",
    "    else:\n",
    "        odd += 1\n",
    "\n",
    "ans_even = even * (even - 1) // 2\n",
    "ans_odd = odd * (odd - 1) // 2\n",
    "print(ans_even + ans_odd)"
   ],
   "metadata": {
    "collapsed": false
   }
  },
  {
   "cell_type": "code",
   "execution_count": 3,
   "outputs": [
    {
     "name": "stdout",
     "output_type": "stream",
     "text": [
      "20\n",
      "20\n",
      "1\n"
     ]
    }
   ],
   "source": [
    "with open('12/27-12a.txt') as f:\n",
    "    n = int(f.readline())\n",
    "    data = [int(x) for x in f.readlines()]\n",
    "print(len(data))\n",
    "\n",
    "ost = [0] * 100\n",
    "for i in data:\n",
    "    num = i % 100\n",
    "    ost[num] += 1\n",
    "\n",
    "cnt = 0\n",
    "for i in range(1, 99 + 1):\n",
    "    cnt += ost[i] * (ost[i] - 1) // 2\n",
    "\n",
    "print(cnt)"
   ],
   "metadata": {
    "collapsed": false
   }
  },
  {
   "cell_type": "code",
   "execution_count": null,
   "outputs": [],
   "source": [],
   "metadata": {
    "collapsed": false
   }
  },
  {
   "cell_type": "code",
   "execution_count": null,
   "outputs": [],
   "source": [],
   "metadata": {
    "collapsed": false
   }
  },
  {
   "cell_type": "code",
   "execution_count": null,
   "outputs": [],
   "source": [],
   "metadata": {
    "collapsed": false
   }
  },
  {
   "cell_type": "code",
   "execution_count": null,
   "outputs": [],
   "source": [],
   "metadata": {
    "collapsed": false
   }
  },
  {
   "cell_type": "code",
   "execution_count": null,
   "outputs": [],
   "source": [],
   "metadata": {
    "collapsed": false
   }
  },
  {
   "cell_type": "code",
   "execution_count": null,
   "outputs": [],
   "source": [],
   "metadata": {
    "collapsed": false
   }
  },
  {
   "cell_type": "code",
   "execution_count": null,
   "outputs": [],
   "source": [],
   "metadata": {
    "collapsed": false
   }
  },
  {
   "cell_type": "code",
   "execution_count": null,
   "outputs": [],
   "source": [],
   "metadata": {
    "collapsed": false
   }
  },
  {
   "cell_type": "code",
   "execution_count": null,
   "outputs": [],
   "source": [],
   "metadata": {
    "collapsed": false
   }
  }
 ],
 "metadata": {
  "kernelspec": {
   "display_name": "Python 3",
   "language": "python",
   "name": "python3"
  },
  "language_info": {
   "codemirror_mode": {
    "name": "ipython",
    "version": 2
   },
   "file_extension": ".py",
   "mimetype": "text/x-python",
   "name": "python",
   "nbconvert_exporter": "python",
   "pygments_lexer": "ipython2",
   "version": "2.7.6"
  }
 },
 "nbformat": 4,
 "nbformat_minor": 0
}
