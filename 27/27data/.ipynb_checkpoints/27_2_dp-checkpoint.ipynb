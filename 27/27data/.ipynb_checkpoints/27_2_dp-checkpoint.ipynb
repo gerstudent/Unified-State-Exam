{
 "cells": [
  {
   "cell_type": "markdown",
   "metadata": {
    "collapsed": true
   },
   "source": [
    "# Динамическое решение"
   ]
  },
  {
   "cell_type": "markdown",
   "metadata": {},
   "source": [
    "# Найти кол-во пар, произведение которых кратно 7"
   ]
  },
  {
   "cell_type": "markdown",
   "metadata": {},
   "source": [
    "Если число не кратно 7, то кол-во пар = кол-ву чисел, кратных 7. Если кратно, то = кол-ву предыдущих чисел"
   ]
  },
  {
   "cell_type": "code",
   "execution_count": 4,
   "metadata": {
    "ExecuteTime": {
     "end_time": "2023-03-06T10:44:29.864616Z",
     "start_time": "2023-03-06T10:44:29.747686Z"
    }
   },
   "outputs": [
    {
     "name": "stdout",
     "output_type": "stream",
     "text": [
      "1547 3965210010 "
     ]
    }
   ],
   "source": [
    "for c in ['a', 'b']:\n",
    "    with open(f'109/27-109{c}.txt') as f:\n",
    "        n = int(f.readline())\n",
    "\n",
    "        pairs = 0  # кол-во пар\n",
    "        prev = 0  # кол-во ВСЕХ предыдущих чисел\n",
    "        prev7 = 0  # кол-во предыдущих чисел, кратных 7\n",
    "\n",
    "        for i in range(n):\n",
    "            x = int(f.readline())\n",
    "            if x % 7 == 0:\n",
    "                pairs += prev\n",
    "            if x % 7 != 0:\n",
    "                pairs += prev7\n",
    "\n",
    "            prev += 1\n",
    "            if x % 7 == 0:\n",
    "                prev7 += 1\n",
    "\n",
    "    print(pairs, end=' ')"
   ]
  },
  {
   "cell_type": "markdown",
   "metadata": {},
   "source": [
    "# Кол-во пар, сумма которых кратна q"
   ]
  },
  {
   "cell_type": "markdown",
   "metadata": {},
   "source": [
    "Чтобы сумма с первым числом x делилась на q, необходимо, чтобы у второго числа остаток был:\n",
    "1. Равен 0, если x делится на q\n",
    "2. Равен (q - x % q) , если x не делится на q"
   ]
  },
  {
   "cell_type": "code",
   "execution_count": 10,
   "metadata": {
    "ExecuteTime": {
     "end_time": "2023-03-06T11:23:14.721563Z",
     "start_time": "2023-03-06T11:23:14.633421Z"
    }
   },
   "outputs": [
    {
     "name": "stdout",
     "output_type": "stream",
     "text": [
      "36 118982621 "
     ]
    }
   ],
   "source": [
    "for c in ['a', 'b']:\n",
    "    with open(f'109/27-109{c}.txt') as f:\n",
    "        n = int(f.readline())\n",
    "        q = 127\n",
    "        cnt = 0\n",
    "        k = [0] * q\n",
    "        for i in range(n):\n",
    "            x = int(f.readline())\n",
    "            ost = 0 if x % q == 0 else q - x % q\n",
    "            cnt += k[ost]\n",
    "            k[x % q] += 1\n",
    "   \n",
    "    print(cnt, end=' ')"
   ]
  },
  {
   "cell_type": "markdown",
   "metadata": {},
   "source": [
    "# Макс. сумма пары, кратная q"
   ]
  },
  {
   "cell_type": "code",
   "execution_count": 9,
   "metadata": {
    "ExecuteTime": {
     "end_time": "2023-03-06T11:22:41.202659Z",
     "start_time": "2023-03-06T11:22:41.059784Z"
    }
   },
   "outputs": [
    {
     "name": "stdout",
     "output_type": "stream",
     "text": [
      "16906 19902 "
     ]
    }
   ],
   "source": [
    "for c in ['a', 'b']:\n",
    "    with open(f'109/27-109{c}.txt') as f:\n",
    "        n = int(f.readline())\n",
    "        q = 107\n",
    "        m = -10 ** 10\n",
    "        k = [m] * q\n",
    "        for i in range(n):\n",
    "            x = int(f.readline())\n",
    "            ost = 0 if x % q == 0 else q - x % q\n",
    "            m = max(x + k[ost], m)\n",
    "            \n",
    "            k[x % q] = max(x, k[x% q])\n",
    "        \n",
    "   \n",
    "    print(m, end=' ')"
   ]
  },
  {
   "cell_type": "markdown",
   "metadata": {},
   "source": [
    "# Мин. сумма пары, в которой хотя бы одно из чисел кратно q"
   ]
  },
  {
   "cell_type": "code",
   "execution_count": 12,
   "metadata": {
    "ExecuteTime": {
     "end_time": "2023-03-06T11:28:04.907612Z",
     "start_time": "2023-03-06T11:28:04.771807Z"
    }
   },
   "outputs": [
    {
     "name": "stdout",
     "output_type": "stream",
     "text": [
      "423 19 "
     ]
    }
   ],
   "source": [
    "for c in ['a', 'b']:\n",
    "    with open(f'109/27-109{c}.txt') as f:\n",
    "        n = int(f.readline())\n",
    "        q = 17\n",
    "        ms = 10 ** 20 # мин. сумма\n",
    "        m = 10 ** 20 # мин. пред. число\n",
    "        m17 = 10 ** 20 # мин. пред. число, кратное 17\n",
    "        for i in range(n):\n",
    "            x = int(f.readline())\n",
    "            if x % 17 == 0:\n",
    "                ms = min(x + m, ms)\n",
    "            else:\n",
    "                ms = min(x + m17, ms)\n",
    "            \n",
    "            m = min(x, m)\n",
    "            if x % 17 == 0:\n",
    "                m17 = min(x, m17)\n",
    "                \n",
    "   \n",
    "    print(ms, end=' ')"
   ]
  },
  {
   "cell_type": "markdown",
   "metadata": {},
   "source": [
    "# Макс. сумма пары, кратная q, в которой первый элемент пары больше второго"
   ]
  },
  {
   "cell_type": "code",
   "execution_count": 14,
   "metadata": {
    "ExecuteTime": {
     "end_time": "2023-03-06T11:37:26.306505Z",
     "start_time": "2023-03-06T11:37:26.159641Z"
    }
   },
   "outputs": [
    {
     "name": "stdout",
     "output_type": "stream",
     "text": [
      "10150 19950 "
     ]
    }
   ],
   "source": [
    "for c in ['a', 'b']:\n",
    "    with open(f'109/27-109{c}.txt') as f:\n",
    "        n = int(f.readline())\n",
    "        q = 350\n",
    "        ms = -10 ** 10\n",
    "        m = [ms] * q\n",
    "        for i in range(n):\n",
    "            x = int(f.readline())\n",
    "            ost = 0 if x % q == 0 else q - x % q\n",
    "            if m[ost] > x: # первое число > второго\n",
    "                ms = max(ms, m[ost] + x)\n",
    "            m[x % q] = max(m[x % q], x)\n",
    "   \n",
    "    print(ms, end=' ')"
   ]
  },
  {
   "cell_type": "markdown",
   "metadata": {},
   "source": [
    "# Рассматриваются пары, расположенные на расстоянии >= d. Найти кол-во пар, разность которых кратна w."
   ]
  },
  {
   "cell_type": "code",
   "execution_count": null,
   "metadata": {
    "ExecuteTime": {
     "start_time": "2023-03-06T12:26:59.303Z"
    }
   },
   "outputs": [
    {
     "name": "stdout",
     "output_type": "stream",
     "text": [
      "4\n"
     ]
    }
   ],
   "source": [
    "for c in ['a', 'b']:\n",
    "    with open(f'109/27-109{c}.txt') as f:\n",
    "        n = int(f.readline())\n",
    "        data = [int(x) for x in f.readlines()]\n",
    "        w = 999\n",
    "        d = 8\n",
    "        cnt = 0\n",
    "        for i in range(n):\n",
    "            for j in range(i + 1, n):\n",
    "                if (j - i) >= d and (data[i] - data[j]) % w == 0:\n",
    "                    cnt += 1\n",
    "    print(cnt)"
   ]
  },
  {
   "cell_type": "code",
   "execution_count": 1,
   "metadata": {
    "ExecuteTime": {
     "end_time": "2023-03-06T12:27:21.462859Z",
     "start_time": "2023-03-06T12:27:21.343972Z"
    }
   },
   "outputs": [
    {
     "name": "stdout",
     "output_type": "stream",
     "text": [
      "4 15129104 "
     ]
    }
   ],
   "source": [
    "for c in ['a', 'b']:\n",
    "    with open(f'109/27-109{c}.txt') as f:\n",
    "        n = int(f.readline())\n",
    "        d = 8\n",
    "        q = [int(f.readline()) for i in range(d - 1)]\n",
    "        \n",
    "        cnt = 0\n",
    "        w = 999\n",
    "        k = [0] * w\n",
    "        for i in range(n - d - 1):\n",
    "            x = int(f.readline())\n",
    "            cnt += k[x % w]\n",
    "            \n",
    "            k[q[0] % w] += 1\n",
    "            q.append(x)\n",
    "            q.pop(0)\n",
    "    print(cnt, end=' ')       "
   ]
  },
  {
   "cell_type": "markdown",
   "metadata": {},
   "source": [
    "# Рассматриваются пары, расположенные на расстоянии >= d. Найти макс. четную сумму пары, кратную w."
   ]
  },
  {
   "cell_type": "code",
   "execution_count": 3,
   "metadata": {
    "ExecuteTime": {
     "end_time": "2023-03-06T12:43:12.428838Z",
     "start_time": "2023-03-06T12:43:12.198868Z"
    }
   },
   "outputs": [
    {
     "name": "stdout",
     "output_type": "stream",
     "text": [
      "[9000, 8723, 9129, 2058, 2926, 861, 7248, 9625, 3159, 506]\n",
      "9990 [3825, 4046, 899, 9523, 3166, 8790, 9779, 5759, 9226, 8720]\n",
      "19980 "
     ]
    }
   ],
   "source": [
    "for c in ['a', 'b']:\n",
    "    with open(f'109/27-109{c}.txt') as f:\n",
    "        n = int(f.readline())\n",
    "        d = 11\n",
    "        q = [int(f.readline()) for i in range(d - 1)]\n",
    "        m = [[-10 ** 10] * w for i in range(2)]\n",
    "        ms = -10 ** 10\n",
    "        for i in range(n - 10):\n",
    "            x = int(f.readline())\n",
    "            ost = 0 if x % w == 0 else w - x % w\n",
    "            \n",
    "            ms = max(m[x % 2][ost] + x, ms)\n",
    "            \n",
    "            m[q[0] % 2][q[0] % w] = max(m[q[0] % 2][q[0] % w], q[0])\n",
    "            q.append(x)\n",
    "            q.pop(0)\n",
    "        \n",
    "    print(ms, end=' ')       "
   ]
  },
  {
   "cell_type": "markdown",
   "metadata": {},
   "source": [
    "# Рассматриваются пары, расположенные на расстоянии <= d. Найти кол-во пар, произведение которых кратно w"
   ]
  },
  {
   "cell_type": "code",
   "execution_count": 4,
   "metadata": {
    "ExecuteTime": {
     "end_time": "2023-03-07T05:41:37.870348Z",
     "start_time": "2023-03-07T05:41:37.343534Z"
    }
   },
   "outputs": [
    {
     "name": "stdout",
     "output_type": "stream",
     "text": [
      "564 2610603082 "
     ]
    }
   ],
   "source": [
    "for c in ['a', 'b']:\n",
    "    with open(f'109/27-109{c}.txt') as f:\n",
    "        n = int(f.readline())\n",
    "        w = 24\n",
    "        d = 7\n",
    "        q = [int(f.readline()) for i in range(d - 1)]\n",
    "        cnt = 0\n",
    "        k = [0] * w\n",
    "        for i in range(n - d - 1):\n",
    "            x = int(f.readline())\n",
    "            for j in range(w):\n",
    "                if (x * j) % w == 0:\n",
    "                    cnt += k[j]\n",
    "            k[q[0] % w] += 1\n",
    "            q.append(x)\n",
    "            q.pop(0)\n",
    "    print(cnt, end=' ')"
   ]
  },
  {
   "cell_type": "markdown",
   "metadata": {},
   "source": []
  },
  {
   "cell_type": "markdown",
   "metadata": {},
   "source": []
  },
  {
   "cell_type": "markdown",
   "metadata": {},
   "source": []
  },
  {
   "cell_type": "markdown",
   "metadata": {},
   "source": []
  },
  {
   "cell_type": "markdown",
   "metadata": {},
   "source": []
  },
  {
   "cell_type": "markdown",
   "metadata": {},
   "source": []
  }
 ],
 "metadata": {
  "kernelspec": {
   "display_name": "Python 3 (ipykernel)",
   "language": "python",
   "name": "python3"
  },
  "language_info": {
   "codemirror_mode": {
    "name": "ipython",
    "version": 3
   },
   "file_extension": ".py",
   "mimetype": "text/x-python",
   "name": "python",
   "nbconvert_exporter": "python",
   "pygments_lexer": "ipython3",
   "version": "3.10.6"
  },
  "toc": {
   "base_numbering": 1,
   "nav_menu": {},
   "number_sections": true,
   "sideBar": true,
   "skip_h1_title": false,
   "title_cell": "Table of Contents",
   "title_sidebar": "Contents",
   "toc_cell": false,
   "toc_position": {},
   "toc_section_display": true,
   "toc_window_display": false
  }
 },
 "nbformat": 4,
 "nbformat_minor": 1
}
