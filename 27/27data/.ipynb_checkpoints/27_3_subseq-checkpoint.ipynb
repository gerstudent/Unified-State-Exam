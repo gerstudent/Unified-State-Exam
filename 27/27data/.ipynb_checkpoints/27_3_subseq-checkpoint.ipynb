{
 "cells": [
  {
   "cell_type": "markdown",
   "id": "a7794d55",
   "metadata": {},
   "source": [
    "# Выбрать ПП подряд идущих чисел, чтобы их сумма была максимальной и делилась на 100. (*)"
   ]
  },
  {
   "cell_type": "markdown",
   "id": "6ad94970",
   "metadata": {},
   "source": [
    "## Перебор"
   ]
  },
  {
   "cell_type": "code",
   "execution_count": null,
   "id": "b537fe99",
   "metadata": {
    "ExecuteTime": {
     "start_time": "2023-03-09T09:12:13.979Z"
    }
   },
   "outputs": [],
   "source": [
    "for c in ['a', 'b']:\n",
    "    with open(f'71/27-71{c}.txt') as f:\n",
    "        n = int(f.readline())\n",
    "        data = [int(x) for x in f.readlines()]\n",
    "        mx = 0\n",
    "        for i in range(n):\n",
    "            sm = 0\n",
    "            for j in range(i, n):\n",
    "                sm += data[j]\n",
    "                if sm % 100 == 0:\n",
    "                    mx = max(mx, sm)\n",
    "\n",
    "    print(mx, end=' ')"
   ]
  },
  {
   "cell_type": "markdown",
   "id": "32e72875",
   "metadata": {},
   "source": [
    "## Эффективное решение"
   ]
  },
  {
   "cell_type": "code",
   "execution_count": 1,
   "id": "0d7be1c8",
   "metadata": {
    "ExecuteTime": {
     "end_time": "2023-03-09T09:27:25.458029Z",
     "start_time": "2023-03-09T09:27:25.351882Z"
    }
   },
   "outputs": [
    {
     "name": "stdout",
     "output_type": "stream",
     "text": [
      "46000 503932200 "
     ]
    }
   ],
   "source": [
    "for c in ['a', 'b']:\n",
    "    with open(f'71/27-71{c}.txt') as f:\n",
    "        n = int(f.readline())\n",
    "        mx = sm = 0\n",
    "        \n",
    "        # минимальные префиксы\n",
    "        pref = [10 ** 20] * 100\n",
    "        \n",
    "        for i in range(n):\n",
    "            x = int(f.readline())\n",
    "            sm += x\n",
    "            \n",
    "            if sm % 100 == 0:\n",
    "                mx = max(mx, sm)\n",
    "                \n",
    "            # из суммы вычитаем минимальный --\n",
    "            # -- префикс с тем же остатком\n",
    "            # sm1 кратно 100\n",
    "            sm1 = sm - pref[sm % 100]\n",
    "            mx = max(mx, sm1)\n",
    "            \n",
    "            pref[sm % 100] = min(pref[sm % 100], sm)\n",
    "\n",
    "    print(mx, end=' ')"
   ]
  },
  {
   "cell_type": "markdown",
   "id": "c0025ba5",
   "metadata": {},
   "source": [
    "# Определить кол-во ПП, сумма которых кратна 67. (**)"
   ]
  },
  {
   "cell_type": "code",
   "execution_count": 3,
   "id": "30bf1e1a",
   "metadata": {
    "ExecuteTime": {
     "end_time": "2023-03-09T09:43:45.782489Z",
     "start_time": "2023-03-09T09:43:45.723460Z"
    }
   },
   "outputs": [
    {
     "name": "stdout",
     "output_type": "stream",
     "text": [
      "0 74630216 "
     ]
    }
   ],
   "source": [
    "for c in ['a', 'b']:\n",
    "    with open(f'71/27-71{c}.txt') as f:\n",
    "        n = int(f.readline())\n",
    "        cnt = sm = 0\n",
    "        \n",
    "        # кол-во префиксов с суммой, у которой остатки 0..66\n",
    "        pref = [0] * 67\n",
    "        \n",
    "        for i in range(n):\n",
    "            x = int(f.readline())\n",
    "            sm += x\n",
    "            if sm % 67 == 0:\n",
    "                cnt += 1\n",
    "            \n",
    "            # кол-во подпосл. равно числу префиксов с тем же остатком\n",
    "            cnt += pref[sm % 67] \n",
    "            \n",
    "            pref[sm  % 67] += 1\n",
    "\n",
    "    print(cnt, end=' ')"
   ]
  },
  {
   "cell_type": "markdown",
   "id": "c0b8411f",
   "metadata": {},
   "source": [
    "# Рассматриваются НПП, в которых кол-во чисел, кратных 11, делится на 7. Найти макс. сумму такой ПП. (*)"
   ]
  },
  {
   "cell_type": "code",
   "execution_count": 4,
   "id": "b8131155",
   "metadata": {
    "ExecuteTime": {
     "end_time": "2023-03-09T09:48:13.555548Z",
     "start_time": "2023-03-09T09:48:13.550368Z"
    }
   },
   "outputs": [],
   "source": [
    "for c in ['a', 'b']:\n",
    "    with open(f'71/27-71{c}.txt') as f:\n",
    "        n = int(f.readline())\n",
    "        data = [int(x) for x in f.readlines()]\n",
    "        mx = 0\n",
    "        for i in range(n):\n",
    "            sm = cnt = 0\n",
    "            for j in range(i, n):\n",
    "                s += a[j]\n",
    "                if a[j] % 11 == 0:\n",
    "                    cnt += 1\n",
    "                if cnt % 7 == 0:\n",
    "                    mx = max(mx, sm)\n",
    "                    \n",
    "    print(mx, end=' ')"
   ]
  },
  {
   "cell_type": "code",
   "execution_count": 6,
   "id": "a8e1d332",
   "metadata": {
    "ExecuteTime": {
     "end_time": "2023-03-09T09:58:25.851087Z",
     "start_time": "2023-03-09T09:58:25.765259Z"
    }
   },
   "outputs": [
    {
     "name": "stdout",
     "output_type": "stream",
     "text": [
      "69922 503842912 "
     ]
    }
   ],
   "source": [
    "for c in ['a', 'b']:\n",
    "    with open(f'71/27-71{c}.txt') as f:\n",
    "        n = int(f.readline())\n",
    "        mx = sm = cnt = 0\n",
    "        pref = [10 ** 20] * 7\n",
    "        for i in range(n):\n",
    "            x = int(f.readline())\n",
    "            sm += x\n",
    "            if x % 11 == 0:\n",
    "                cnt += 1\n",
    "            if cnt % 7 == 0:\n",
    "                mx = max(mx, sm)\n",
    "            \n",
    "            # отбросили префикс так, чтобы кол-во чисел,\n",
    "            # кратных 11, стало делиться на 7\n",
    "            sm1 = sm - pref[cnt % 7]   \n",
    "            mx = max(mx, sm1)\n",
    "            \n",
    "            pref[cnt % 7] = min(pref[cnt % 7], sm)\n",
    "\n",
    "    print(mx, end=' ')"
   ]
  },
  {
   "cell_type": "markdown",
   "id": "8a33a632",
   "metadata": {},
   "source": [
    "# Рассматриваются НПП, в которых кол-во чисел, делящихся на 10, кратно 17. Найти макс. сумму такой ПП. (**)"
   ]
  },
  {
   "cell_type": "code",
   "execution_count": 8,
   "id": "a6af191a",
   "metadata": {
    "ExecuteTime": {
     "end_time": "2023-03-09T10:04:22.795667Z",
     "start_time": "2023-03-09T10:04:22.739877Z"
    }
   },
   "outputs": [
    {
     "name": "stdout",
     "output_type": "stream",
     "text": [
      "72 294790184 "
     ]
    }
   ],
   "source": [
    "for c in ['a', 'b']:\n",
    "    with open(f'71/27-71{c}.txt') as f:\n",
    "        n = int(f.readline())\n",
    "        pref = [0] * 17\n",
    "        cnt = k10 = 0\n",
    "        for i in range(n):\n",
    "            x = int(f.readline())\n",
    "            if x % 10 == 0:\n",
    "                k10 += 1\n",
    "            if k10 % 17 == 0:\n",
    "                cnt += 1\n",
    "                \n",
    "            cnt += pref[k10 % 17]\n",
    "            pref[k10 % 17] += 1\n",
    "\n",
    "    print(cnt, end=' ')"
   ]
  },
  {
   "cell_type": "markdown",
   "id": "4278b513",
   "metadata": {},
   "source": [
    "# Особые числа - отрицательные числа, оканчивающиеся на 4. Рассматриваются все НПП, в которых кол-во особых чисел кратно 7, а сумма всех элементов ПП кратна 25."
   ]
  },
  {
   "cell_type": "code",
   "execution_count": null,
   "id": "f234c9f9",
   "metadata": {},
   "outputs": [],
   "source": [
    "for c in ['a', 'b']:\n",
    "    with open(f'71/27-71{c}.txt') as f:\n",
    "        n = int(f.readline())\n",
    "        pref = [[10 ** 20] * 25 for i in range(7)]\n",
    "        sm = cnt = 0\n",
    "        for i in range(n):\n",
    "            x = int(f.readline())\n",
    "            s += x\n",
    "            if x < 0 and abs(x) % 10 == 4:\n",
    "                cnt += 1\n",
    "            if sm % 25 == 0 and cnt % 7 == 0:\n",
    "                mx = max(mx, sm)\n",
    "                \n",
    "            \n",
    "            \n",
    "\n",
    "    print(cnt, end=' ')"
   ]
  },
  {
   "cell_type": "code",
   "execution_count": null,
   "id": "8b4010ec",
   "metadata": {},
   "outputs": [],
   "source": []
  },
  {
   "cell_type": "code",
   "execution_count": null,
   "id": "265946ac",
   "metadata": {},
   "outputs": [],
   "source": []
  },
  {
   "cell_type": "code",
   "execution_count": null,
   "id": "a9064e92",
   "metadata": {},
   "outputs": [],
   "source": []
  },
  {
   "cell_type": "code",
   "execution_count": null,
   "id": "67a22b79",
   "metadata": {},
   "outputs": [],
   "source": []
  },
  {
   "cell_type": "code",
   "execution_count": null,
   "id": "d1890e1a",
   "metadata": {},
   "outputs": [],
   "source": []
  },
  {
   "cell_type": "code",
   "execution_count": null,
   "id": "563904c7",
   "metadata": {},
   "outputs": [],
   "source": []
  },
  {
   "cell_type": "code",
   "execution_count": null,
   "id": "fba217b1",
   "metadata": {},
   "outputs": [],
   "source": []
  }
 ],
 "metadata": {
  "kernelspec": {
   "display_name": "Python 3 (ipykernel)",
   "language": "python",
   "name": "python3"
  },
  "language_info": {
   "codemirror_mode": {
    "name": "ipython",
    "version": 3
   },
   "file_extension": ".py",
   "mimetype": "text/x-python",
   "name": "python",
   "nbconvert_exporter": "python",
   "pygments_lexer": "ipython3",
   "version": "3.10.6"
  },
  "toc": {
   "base_numbering": 1,
   "nav_menu": {},
   "number_sections": true,
   "sideBar": true,
   "skip_h1_title": false,
   "title_cell": "Table of Contents",
   "title_sidebar": "Contents",
   "toc_cell": false,
   "toc_position": {},
   "toc_section_display": true,
   "toc_window_display": false
  }
 },
 "nbformat": 4,
 "nbformat_minor": 5
}
