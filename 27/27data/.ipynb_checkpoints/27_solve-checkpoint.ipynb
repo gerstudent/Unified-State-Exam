{
 "cells": [
  {
   "cell_type": "code",
   "execution_count": null,
   "metadata": {
    "collapsed": true
   },
   "outputs": [],
   "source": [
    "# 16 (1)\n",
    "\n",
    "with open('112/27-112a.txt') as f:\n",
    "    n, k = map(int, f.readline().split())\n",
    "    used = [0] * (10 ** 6 + 1)\n",
    "    for i in range(n):\n",
    "        used[int(f.readline())] += 1\n",
    "\n",
    "ans = 0\n",
    "for i in range(1, 10 ** 6 + 1):\n",
    "    c = 0\n",
    "    for j in range(i, 10 ** 6 + 1, i):\n",
    "        c += used[j]\n",
    "    if c >= k:\n",
    "        ans = i\n",
    "\n",
    "print(ans)"
   ]
  },
  {
   "cell_type": "code",
   "execution_count": 5,
   "metadata": {},
   "outputs": [
    {
     "name": "stdout",
     "output_type": "stream",
     "text": [
      "512\n",
      "94\n"
     ]
    }
   ],
   "source": [
    "with open('12/27-12a.txt') as f:\n",
    "    n = int(f.readline())\n",
    "    data = [int(x) for x in f.readlines()]\n",
    "\n",
    "even = odd = 0\n",
    "for i in data:\n",
    "    if i % 2 == 0:\n",
    "        even += 1\n",
    "    else:\n",
    "        odd += 1\n",
    "\n",
    "ans_even = even * (even - 1) // 2\n",
    "ans_odd = odd * (odd - 1) // 2\n",
    "print(ans_even + ans_odd)"
   ]
  },
  {
   "cell_type": "code",
   "execution_count": 3,
   "metadata": {},
   "outputs": [
    {
     "name": "stdout",
     "output_type": "stream",
     "text": [
      "20\n",
      "20\n",
      "1\n"
     ]
    }
   ],
   "source": [
    "with open('12/27-12a.txt') as f:\n",
    "    n = int(f.readline())\n",
    "    data = [int(x) for x in f.readlines()]\n",
    "print(len(data))\n",
    "\n",
    "ost = [0] * 100\n",
    "for i in data:\n",
    "    num = i % 100\n",
    "    ost[num] += 1\n",
    "\n",
    "cnt = 0\n",
    "for i in range(1, 99 + 1):\n",
    "    cnt += ost[i] * (ost[i] - 1) // 2\n",
    "\n",
    "print(cnt)"
   ]
  },
  {
   "cell_type": "code",
   "execution_count": null,
   "metadata": {},
   "outputs": [],
   "source": []
  },
  {
   "cell_type": "code",
   "execution_count": null,
   "metadata": {},
   "outputs": [],
   "source": []
  },
  {
   "cell_type": "code",
   "execution_count": null,
   "metadata": {},
   "outputs": [],
   "source": []
  },
  {
   "cell_type": "code",
   "execution_count": null,
   "metadata": {},
   "outputs": [],
   "source": []
  },
  {
   "cell_type": "code",
   "execution_count": null,
   "metadata": {},
   "outputs": [],
   "source": []
  },
  {
   "cell_type": "code",
   "execution_count": null,
   "metadata": {},
   "outputs": [],
   "source": []
  },
  {
   "cell_type": "code",
   "execution_count": null,
   "metadata": {},
   "outputs": [],
   "source": []
  },
  {
   "cell_type": "code",
   "execution_count": null,
   "metadata": {},
   "outputs": [],
   "source": []
  },
  {
   "cell_type": "code",
   "execution_count": null,
   "metadata": {},
   "outputs": [],
   "source": []
  }
 ],
 "metadata": {
  "kernelspec": {
   "display_name": "Python 3 (ipykernel)",
   "language": "python",
   "name": "python3"
  },
  "language_info": {
   "codemirror_mode": {
    "name": "ipython",
    "version": 3
   },
   "file_extension": ".py",
   "mimetype": "text/x-python",
   "name": "python",
   "nbconvert_exporter": "python",
   "pygments_lexer": "ipython3",
   "version": "3.10.6"
  },
  "toc": {
   "base_numbering": 1,
   "nav_menu": {},
   "number_sections": true,
   "sideBar": true,
   "skip_h1_title": false,
   "title_cell": "Table of Contents",
   "title_sidebar": "Contents",
   "toc_cell": false,
   "toc_position": {},
   "toc_section_display": true,
   "toc_window_display": false
  }
 },
 "nbformat": 4,
 "nbformat_minor": 1
}
