{
 "cells": [
  {
   "cell_type": "code",
   "execution_count": null,
   "id": "6cb9197e",
   "metadata": {
    "ExecuteTime": {
     "start_time": "2023-03-22T07:26:23.458Z"
    }
   },
   "outputs": [],
   "source": [
    "# A\n",
    "\n",
    "n = int(input())\n",
    "s = [0]\n",
    "\n",
    "for i in range(n):\n",
    "    pairs = [int(x) for x in input().split()]\n",
    "    s = [a + b for a in s for b in pairs]\n",
    "    s = {x % 3: x for x in sorted(s)}.values()\n",
    "\n",
    "res = [x for x in s if x % 3 != 0]\n",
    "if len(res) != 0:\n",
    "    print(max(res))\n",
    "else:\n",
    "    print(0)"
   ]
  },
  {
   "cell_type": "code",
   "execution_count": null,
   "id": "687788e6",
   "metadata": {},
   "outputs": [],
   "source": [
    "# B\n",
    "\n"
   ]
  },
  {
   "cell_type": "code",
   "execution_count": null,
   "id": "20be5c31",
   "metadata": {},
   "outputs": [],
   "source": [
    "# C\n",
    "\n",
    "n = int(input())\n",
    "t = int(input())\n",
    "sa = 0\n",
    "sb = t\n",
    "\n",
    "for i in range(1, n):\n",
    "    a, b = map(int, input().split())\n",
    "    sa += a\n",
    "    sb += b\n",
    "    sb = min(sa + t, sb)\n",
    "\n",
    "print(sb)\n"
   ]
  },
  {
   "cell_type": "code",
   "execution_count": null,
   "id": "61ec43d2",
   "metadata": {
    "ExecuteTime": {
     "start_time": "2023-03-22T09:17:39.488Z"
    }
   },
   "outputs": [],
   "source": [
    "# D\n",
    "\n",
    "n = int(input())\n",
    "lst = []\n",
    "for i in range(n):\n",
    "    lst.append(int(input()))\n",
    "\n",
    "mx = -10 ** 10\n",
    "mn = 10 ** 10\n",
    "for i in lst:\n",
    "    mx = max(mx, i - mn)\n",
    "    mn = min(mn, i)\n",
    "\n",
    "print(0 if mx < 0 else mx)"
   ]
  },
  {
   "cell_type": "code",
   "execution_count": null,
   "id": "930946cb",
   "metadata": {},
   "outputs": [],
   "source": [
    "# E\n",
    "\n",
    "n = int(input())\n",
    "mx = mn = res = int(input())\n",
    "\n",
    "for i in range(1, n):\n",
    "    x = int(input())\n",
    "    mx_mult = max(mx * x, mn * x, x)\n",
    "    mn_mult = min(mx * x, mn * x, x)\n",
    "    \n",
    "    mx, mn = mx_mult, mn_mult\n",
    "    res = max(res, mx)\n",
    "\n",
    "print(res)\n",
    "\n",
    "    "
   ]
  },
  {
   "cell_type": "code",
   "execution_count": null,
   "id": "f5066180",
   "metadata": {},
   "outputs": [],
   "source": []
  },
  {
   "cell_type": "code",
   "execution_count": null,
   "id": "c3cb77b5",
   "metadata": {},
   "outputs": [],
   "source": []
  }
 ],
 "metadata": {
  "kernelspec": {
   "display_name": "Python 3 (ipykernel)",
   "language": "python",
   "name": "python3"
  },
  "language_info": {
   "codemirror_mode": {
    "name": "ipython",
    "version": 3
   },
   "file_extension": ".py",
   "mimetype": "text/x-python",
   "name": "python",
   "nbconvert_exporter": "python",
   "pygments_lexer": "ipython3",
   "version": "3.10.6"
  }
 },
 "nbformat": 4,
 "nbformat_minor": 5
}
