{
 "cells": [
  {
   "cell_type": "code",
   "execution_count": 7,
   "id": "247e4340",
   "metadata": {
    "ExecuteTime": {
     "end_time": "2023-03-12T17:52:56.134474Z",
     "start_time": "2023-03-12T17:52:56.093815Z"
    }
   },
   "outputs": [
    {
     "name": "stdout",
     "output_type": "stream",
     "text": [
      "259000 49763000 "
     ]
    }
   ],
   "source": [
    "for c in ['A', 'B']:\n",
    "    with open(f'27{c}_2900.txt') as f:\n",
    "        n = int(f.readline())\n",
    "        ms = s = 0\n",
    "        pref = [10 ** 20] * 1000\n",
    "        \n",
    "        for i in range(n):\n",
    "            x = int(f.readline())\n",
    "            s += x\n",
    "            \n",
    "            if s % 1000 == 0:\n",
    "                ms = max(ms, s)\n",
    "            \n",
    "            sm1 = s - pref[s % 1000]\n",
    "            ms = max(ms, sm1)\n",
    "            pref[s % 1000] = min(pref[s % 1000], s)\n",
    "            \n",
    "    print(ms, end=' ')"
   ]
  },
  {
   "cell_type": "code",
   "execution_count": 9,
   "id": "98edafa2",
   "metadata": {
    "ExecuteTime": {
     "end_time": "2023-03-12T17:54:20.428043Z",
     "start_time": "2023-03-12T17:54:20.408711Z"
    }
   },
   "outputs": [
    {
     "name": "stdout",
     "output_type": "stream",
     "text": [
      "5 75150 "
     ]
    }
   ],
   "source": [
    "for c in ['A', 'B']:\n",
    "    with open(f'27{c}_2901.txt') as f:\n",
    "        n = int(f.readline())\n",
    "        cnt = s = 0\n",
    "        w = 666\n",
    "        pref = [0] * w\n",
    "        \n",
    "        for i in range(n):\n",
    "            x = int(f.readline())\n",
    "            s += x\n",
    "            \n",
    "            if s % w == 0:\n",
    "                cnt += 1\n",
    "            \n",
    "            cnt += pref[s % w]\n",
    "            pref[s % w] += 1\n",
    "            \n",
    "    print(cnt, end=' ')"
   ]
  },
  {
   "cell_type": "code",
   "execution_count": 12,
   "id": "22638944",
   "metadata": {
    "ExecuteTime": {
     "end_time": "2023-03-12T18:20:43.851563Z",
     "start_time": "2023-03-12T18:20:43.831279Z"
    }
   },
   "outputs": [
    {
     "name": "stdout",
     "output_type": "stream",
     "text": [
      "588 4557520 "
     ]
    }
   ],
   "source": [
    "for c in ['A', 'B']:\n",
    "    with open(f'27{c}_2902.txt') as f:\n",
    "        n = int(f.readline())\n",
    "        cnt = k5 = 0\n",
    "        pref = [0] * 11\n",
    "        \n",
    "        for i in range(n):\n",
    "            x = int(f.readline())\n",
    "            \n",
    "            if x % 5 == 0:\n",
    "                k5 += 1\n",
    "                \n",
    "            if k5 % 11 == 0:\n",
    "                cnt += 1\n",
    "            \n",
    "            cnt += pref[k5 % 11]\n",
    "            pref[k5 % 11] += 1\n",
    "            \n",
    "    print(cnt, end=' ')"
   ]
  },
  {
   "cell_type": "code",
   "execution_count": 16,
   "id": "c7bc68d5",
   "metadata": {
    "ExecuteTime": {
     "end_time": "2023-03-12T18:28:21.073780Z",
     "start_time": "2023-03-12T18:28:20.989308Z"
    }
   },
   "outputs": [
    {
     "name": "stdout",
     "output_type": "stream",
     "text": [
      "66453 69995639 "
     ]
    }
   ],
   "source": [
    "for c in ['A', 'B']:\n",
    "    with open(f'27{c}_2256.txt') as f:\n",
    "        n = int(f.readline())\n",
    "        ms = s = cnt = 0\n",
    "        pref = [10 ** 20] * 3\n",
    "        \n",
    "        for i in range(n):\n",
    "            x = int(f.readline())\n",
    "            s += x\n",
    "            \n",
    "            if x % 5 == 0:\n",
    "                cnt += 1\n",
    "                \n",
    "            if cnt % 3 == 0:\n",
    "                ms = max(ms, s)\n",
    "                \n",
    "            s1 = s - pref[cnt % 3]\n",
    "            ms = max(ms, s1)\n",
    "            pref[cnt % 3] = min(pref[cnt % 3], s)\n",
    "            \n",
    "    print(ms, end=' ')"
   ]
  },
  {
   "cell_type": "markdown",
   "id": "b24e8a82",
   "metadata": {},
   "source": [
    "# Особые числа делятся на 3. Рассматриваются НПП, содержащие ровно 10 особых чисел. Вывести мин. сумму такой ПП."
   ]
  },
  {
   "cell_type": "code",
   "execution_count": 22,
   "id": "98c633ea",
   "metadata": {
    "ExecuteTime": {
     "end_time": "2023-03-12T18:41:11.784840Z",
     "start_time": "2023-03-12T18:41:11.742109Z"
    }
   },
   "outputs": [
    {
     "name": "stdout",
     "output_type": "stream",
     "text": [
      "103193 47337 "
     ]
    }
   ],
   "source": [
    "for c in ['A', 'B']:\n",
    "    with open(f'27{c}_2903.txt') as f:\n",
    "        n = int(f.readline())\n",
    "        s = cnt = 0\n",
    "        pref = [0] * n\n",
    "        ms = 10**20\n",
    "\n",
    "        for i in range(n):\n",
    "            x = int(f.readline())\n",
    "            s += x\n",
    "\n",
    "            if x % 3 == 0:\n",
    "                cnt += 1\n",
    "\n",
    "            if cnt == 10:\n",
    "                ms = min(ms, s)\n",
    "\n",
    "            if cnt >= 10:\n",
    "                s1 = s - pref[cnt - 10]\n",
    "                ms = min(ms, s1)\n",
    "\n",
    "            pref[cnt] = max(pref[cnt], s)\n",
    "\n",
    "    print(ms, end=' ')"
   ]
  },
  {
   "cell_type": "code",
   "execution_count": 1,
   "id": "072f94c3",
   "metadata": {
    "ExecuteTime": {
     "end_time": "2023-03-13T08:44:48.937503Z",
     "start_time": "2023-03-13T08:44:48.864108Z"
    },
    "code_folding": []
   },
   "outputs": [
    {
     "name": "stdout",
     "output_type": "stream",
     "text": [
      "14 99989 "
     ]
    }
   ],
   "source": [
    "for c in ['A', 'B']:\n",
    "    with open(f'27{c}_1877.txt') as f:\n",
    "        n = int(f.readline())\n",
    "        w = 69\n",
    "        ml = s = 0\n",
    "        pref = [10 ** 20] * w\n",
    "        l = [0] * w\n",
    "        ms = -10 ** 20\n",
    "        \n",
    "        for i in range(n):\n",
    "            x = int(f.readline())\n",
    "            s += x\n",
    "            \n",
    "            if s % w == 0:\n",
    "                if s > ms:\n",
    "                    ms = s\n",
    "                    ml = i + 1\n",
    "                    \n",
    "            s1 = s - pref[s % w]\n",
    "            l1 = i + 1 - l[s %  w]\n",
    "            \n",
    "            if s1 > ms or (s1 == ms and l1 < ml):\n",
    "                ms = s1\n",
    "                ml = l1\n",
    "            \n",
    "            if s < pref[s % w]:\n",
    "                pref[s % w] = s\n",
    "                l[s % w] = i + 1\n",
    "                \n",
    "    print(ml, end=' ')"
   ]
  },
  {
   "cell_type": "markdown",
   "id": "54adb6ad",
   "metadata": {
    "ExecuteTime": {
     "end_time": "2023-03-14T05:39:06.700330Z",
     "start_time": "2023-03-14T05:39:06.695816Z"
    }
   },
   "source": [
    "# Необходимо выбрать такую ПП подряд идущих чисел, чтобы их сумма была МИНИМАЛЬНОЙ и делилась на w, и определить её длину. Если таких ПП несколько, нужно выбрать ПП НАИБОЛЬШЕЙ длины."
   ]
  },
  {
   "cell_type": "code",
   "execution_count": 6,
   "id": "bf82b4b6",
   "metadata": {
    "ExecuteTime": {
     "end_time": "2023-03-14T05:38:48.644294Z",
     "start_time": "2023-03-14T05:38:48.610449Z"
    }
   },
   "outputs": [
    {
     "name": "stdout",
     "output_type": "stream",
     "text": [
      "28 8208 "
     ]
    }
   ],
   "source": [
    "for c in ['A', 'B']:\n",
    "    with open(f'27{c}_2904.txt') as f:\n",
    "        n = int(f.readline())\n",
    "        w = 2077\n",
    "        ms = 10 ** 20\n",
    "        ml = s = 0\n",
    "        \n",
    "        pref = [-10 ** 20] * w\n",
    "        l = [0] * w\n",
    "        \n",
    "        for i in range(n):\n",
    "            x = int(f.readline())\n",
    "            s += x\n",
    "            \n",
    "            if s % w == 0:\n",
    "                if s < ms:\n",
    "                    ms = s\n",
    "                    ml = i + 1\n",
    "                    \n",
    "            s1 = s - pref[s % w]\n",
    "            l1 = i + 1 - l[s % w]\n",
    "            \n",
    "            if s1 < ms or (s1 == ms and l1 > ml):\n",
    "                ml = l1\n",
    "                ms = s1\n",
    "            \n",
    "            if s > pref[s % w]:\n",
    "                pref[s % w] = s\n",
    "                l[s % w] = i + 1\n",
    "                \n",
    "    print(ml, end=' ')\n",
    "            "
   ]
  },
  {
   "cell_type": "code",
   "execution_count": null,
   "id": "34af4796",
   "metadata": {},
   "outputs": [],
   "source": [
    "for c in ['A', 'B']:\n",
    "    with open(f'27{c}_2907.txt') as f:\n",
    "        n = int(f.readline())\n",
    "        ms = s = cnt = 0\n",
    "        \n",
    "        for i in range(n):\n",
    "            x = int(f.readline())\n",
    "            s += x\n",
    "            \n",
    "            if x > 0 and x % 2 == 0:\n",
    "                cnt += 1\n",
    "            \n",
    "            \n",
    "            \n",
    "    print(ms, end=' ')\n",
    "        "
   ]
  },
  {
   "cell_type": "code",
   "execution_count": null,
   "id": "e442806b",
   "metadata": {},
   "outputs": [],
   "source": []
  },
  {
   "cell_type": "code",
   "execution_count": null,
   "id": "cabb3c56",
   "metadata": {},
   "outputs": [],
   "source": []
  }
 ],
 "metadata": {
  "kernelspec": {
   "display_name": "Python 3 (ipykernel)",
   "language": "python",
   "name": "python3"
  },
  "language_info": {
   "codemirror_mode": {
    "name": "ipython",
    "version": 3
   },
   "file_extension": ".py",
   "mimetype": "text/x-python",
   "name": "python",
   "nbconvert_exporter": "python",
   "pygments_lexer": "ipython3",
   "version": "3.10.6"
  },
  "toc": {
   "base_numbering": 1,
   "nav_menu": {},
   "number_sections": true,
   "sideBar": true,
   "skip_h1_title": false,
   "title_cell": "Table of Contents",
   "title_sidebar": "Contents",
   "toc_cell": false,
   "toc_position": {},
   "toc_section_display": true,
   "toc_window_display": false
  }
 },
 "nbformat": 4,
 "nbformat_minor": 5
}
