{
 "cells": [
  {
   "cell_type": "code",
   "execution_count": 5,
   "metadata": {
    "ExecuteTime": {
     "end_time": "2023-03-04T07:05:51.613249Z",
     "start_time": "2023-03-04T07:05:51.597425Z"
    }
   },
   "outputs": [
    {
     "name": "stdout",
     "output_type": "stream",
     "text": [
      "2459 24995121 "
     ]
    }
   ],
   "source": [
    "for c in ['A', 'B']:\n",
    "    with open(f'27{c}_2719.txt', 'r') as f:\n",
    "        n = int(f.readline())\n",
    "        even = odd = 0\n",
    "        for i in range(n):\n",
    "            x = int(f.readline())\n",
    "            if x % 2 == 0:\n",
    "                even += 1\n",
    "            else:\n",
    "                odd += 1\n",
    "\n",
    "    print(even * (even - 1) // 2 + odd * (odd - 1) // 2, end = ' ')"
   ]
  },
  {
   "cell_type": "code",
   "execution_count": 2,
   "metadata": {
    "ExecuteTime": {
     "end_time": "2023-03-04T07:11:43.428195Z",
     "start_time": "2023-03-04T07:11:43.417814Z"
    }
   },
   "outputs": [
    {
     "name": "stdout",
     "output_type": "stream",
     "text": [
      "1209 13831740 "
     ]
    }
   ],
   "source": [
    "for c in ['A', 'B']:\n",
    "    with open(f'27{c}_2720.txt', 'r') as f:\n",
    "        n = int(f.readline())\n",
    "        k = nk = 0\n",
    "        for i in range(n):\n",
    "            x = int(f.readline())\n",
    "            if x % 7 == 0:\n",
    "                k += 1\n",
    "            else:\n",
    "                nk += 1\n",
    "        \n",
    "\n",
    "    print(k * nk + k * (k - 1) // 2, end = ' ')"
   ]
  },
  {
   "cell_type": "code",
   "execution_count": null,
   "metadata": {
    "ExecuteTime": {
     "start_time": "2023-03-04T07:24:03.006Z"
    }
   },
   "outputs": [],
   "source": [
    "from itertools import combinations\n",
    "\n",
    "for c in ['A', 'B']:\n",
    "    with open(f'27{c}_2721.txt', 'r') as f:\n",
    "        n = int(f.readline())\n",
    "        data = [int(x) for x in f.readlines()]\n",
    "        cnt = 0\n",
    "        for x, y in combinations(data, 2):\n",
    "            if x * y % 65 == 0:\n",
    "                cnt += 1\n",
    "    print(cnt, end = ' ')"
   ]
  },
  {
   "cell_type": "code",
   "execution_count": null,
   "metadata": {
    "ExecuteTime": {
     "start_time": "2023-03-04T07:25:28.745Z"
    }
   },
   "outputs": [],
   "source": [
    "from itertools import combinations\n",
    "\n",
    "for c in ['A', 'B']:\n",
    "    with open(f'27{c}_2722.txt', 'r') as f:\n",
    "        n = int(f.readline())\n",
    "        data = [int(x) for x in f.readlines()]\n",
    "        cnt = 0\n",
    "        for x, y in combinations(data, 2):\n",
    "            if x * y % 5 == 0 and (x + y) % 2 != 0:\n",
    "                cnt += 1\n",
    "    print(cnt, end = ' ')"
   ]
  },
  {
   "cell_type": "code",
   "execution_count": 6,
   "metadata": {
    "ExecuteTime": {
     "end_time": "2023-03-04T07:40:31.429896Z",
     "start_time": "2023-03-04T07:40:31.417482Z"
    }
   },
   "outputs": [
    {
     "name": "stdout",
     "output_type": "stream",
     "text": [
      "4 25808936 "
     ]
    }
   ],
   "source": [
    "from math import factorial\n",
    "for c in ['A', 'B']:\n",
    "    with open(f'27{c}_2723.txt', 'r') as f:\n",
    "        n = int(f.readline())\n",
    "        k19 = 0\n",
    "        for i in range(n):\n",
    "            x = int(f.readline())\n",
    "            if x % 19 == 0:\n",
    "                k19 += 1\n",
    "                \n",
    "    print(k19 * (k19 - 1) * (k19 - 2) // 6, end = ' ')"
   ]
  },
  {
   "cell_type": "code",
   "execution_count": 7,
   "metadata": {
    "ExecuteTime": {
     "end_time": "2023-03-04T07:42:08.299321Z",
     "start_time": "2023-03-04T07:42:04.259632Z"
    }
   },
   "outputs": [
    {
     "name": "stdout",
     "output_type": "stream",
     "text": [
      "31 381543 "
     ]
    }
   ],
   "source": [
    "from itertools import combinations\n",
    "\n",
    "for c in ['A', 'B']:\n",
    "    with open(f'27{c}_2724.txt', 'r') as f:\n",
    "        n = int(f.readline())\n",
    "        data = [int(x) for x in f.readlines()]\n",
    "        \n",
    "        cnt = 0\n",
    "        for x, y in combinations(data, 2):\n",
    "            if (x + y) % 131 == 0:\n",
    "                cnt += 1\n",
    "    print(cnt, end = ' ')"
   ]
  },
  {
   "cell_type": "code",
   "execution_count": 8,
   "metadata": {
    "ExecuteTime": {
     "end_time": "2023-03-04T07:43:10.527917Z",
     "start_time": "2023-03-04T07:43:06.325448Z"
    }
   },
   "outputs": [
    {
     "name": "stdout",
     "output_type": "stream",
     "text": [
      "61 725088 "
     ]
    }
   ],
   "source": [
    "from itertools import combinations\n",
    "\n",
    "for c in ['A', 'B']:\n",
    "    with open(f'27{c}_2725.txt', 'r') as f:\n",
    "        n = int(f.readline())\n",
    "        data = [int(x) for x in f.readlines()]\n",
    "        \n",
    "        cnt = 0\n",
    "        for x, y in combinations(data, 2):\n",
    "            if (x - y) % 69 == 0:\n",
    "                cnt += 1\n",
    "    print(cnt, end = ' ')"
   ]
  },
  {
   "cell_type": "code",
   "execution_count": 11,
   "metadata": {
    "ExecuteTime": {
     "end_time": "2023-03-04T07:50:54.009333Z",
     "start_time": "2023-03-04T07:50:49.536885Z"
    }
   },
   "outputs": [
    {
     "name": "stdout",
     "output_type": "stream",
     "text": [
      "61 725088 "
     ]
    }
   ],
   "source": [
    "from itertools import combinations\n",
    "\n",
    "for c in ['A', 'B']:\n",
    "    with open(f'27{c}_2725.txt', 'r') as f:\n",
    "        n = int(f.readline())\n",
    "        data = [int(x) for x in f.readlines()]\n",
    "        \n",
    "        cnt = 0\n",
    "        for x, y in combinations(data, 2):\n",
    "            if (x - y) % 69 == 0:\n",
    "                cnt += 1\n",
    "    print(cnt, end = ' ')"
   ]
  },
  {
   "cell_type": "code",
   "execution_count": 10,
   "metadata": {
    "ExecuteTime": {
     "end_time": "2023-03-04T07:50:42.514570Z",
     "start_time": "2023-03-04T07:50:42.503125Z"
    },
    "code_folding": []
   },
   "outputs": [
    {
     "name": "stdout",
     "output_type": "stream",
     "text": [
      "61 725088 "
     ]
    }
   ],
   "source": [
    "for c in ['A', 'B']:\n",
    "    with open(f'27{c}_2725.txt', 'r') as f:\n",
    "        n = int(f.readline())\n",
    "        cnt = 0\n",
    "        k = [0] * 69\n",
    "        for i in range(n):\n",
    "            x = int(f.readline())\n",
    "            k[x % 69] += 1\n",
    "        \n",
    "        for i in range(69):\n",
    "            cnt += k[i] * (k[i] - 1) // 2\n",
    "    print(cnt, end = ' ')"
   ]
  },
  {
   "cell_type": "code",
   "execution_count": 12,
   "metadata": {
    "ExecuteTime": {
     "end_time": "2023-03-04T07:53:08.379468Z",
     "start_time": "2023-03-04T07:53:02.276776Z"
    }
   },
   "outputs": [
    {
     "name": "stdout",
     "output_type": "stream",
     "text": [
      "48 465486 "
     ]
    }
   ],
   "source": [
    "from itertools import combinations\n",
    "\n",
    "for c in ['A', 'B']:\n",
    "    with open(f'27{c}_2733.txt', 'r') as f:\n",
    "        n = int(f.readline())\n",
    "        data = [int(x) for x in f.readlines()]\n",
    "        \n",
    "        cnt = 0\n",
    "        for x, y in combinations(data, 2):\n",
    "            c = x > 50000 or y > 50000\n",
    "            if (x + y) % 80 == 0 and c:\n",
    "                cnt += 1\n",
    "    print(cnt, end = ' ')"
   ]
  },
  {
   "cell_type": "code",
   "execution_count": 13,
   "metadata": {
    "ExecuteTime": {
     "end_time": "2023-03-04T07:56:23.446248Z",
     "start_time": "2023-03-04T07:56:19.970936Z"
    }
   },
   "outputs": [
    {
     "name": "stdout",
     "output_type": "stream",
     "text": [
      "1 4040 "
     ]
    }
   ],
   "source": [
    "from itertools import combinations\n",
    "\n",
    "for c in ['A', 'B']:\n",
    "    with open(f'27{c}_2737.txt', 'r') as f:\n",
    "        n = int(f.readline())\n",
    "        data = [int(x) for x in f.readlines()]\n",
    "        \n",
    "        cnt = 0\n",
    "        for x, y in combinations(data, 2):\n",
    "            if (x + y) == 2000:\n",
    "                cnt += 1\n",
    "    print(cnt, end = ' ')"
   ]
  },
  {
   "cell_type": "code",
   "execution_count": 14,
   "metadata": {
    "ExecuteTime": {
     "end_time": "2023-03-04T07:58:23.406768Z",
     "start_time": "2023-03-04T07:58:17.181012Z"
    }
   },
   "outputs": [
    {
     "name": "stdout",
     "output_type": "stream",
     "text": [
      "73319 133981 "
     ]
    }
   ],
   "source": [
    "from itertools import combinations\n",
    "\n",
    "for c in ['A', 'B']:\n",
    "    with open(f'27{c}_2726.txt', 'r') as f:\n",
    "        n = int(f.readline())\n",
    "        data = [int(x) for x in f.readlines()]\n",
    "        \n",
    "        ans = []\n",
    "        for x, y in combinations(data, 2):\n",
    "            if (x + y) % 2 != 0:\n",
    "                ans.append(x + y)\n",
    "    print(max(ans), end = ' ')"
   ]
  },
  {
   "cell_type": "code",
   "execution_count": 17,
   "metadata": {
    "ExecuteTime": {
     "end_time": "2023-03-04T08:02:50.146123Z",
     "start_time": "2023-03-04T08:02:50.127924Z"
    }
   },
   "outputs": [
    {
     "name": "stdout",
     "output_type": "stream",
     "text": [
      "73319 133981 "
     ]
    }
   ],
   "source": [
    "# эффективное решение\n",
    "\n",
    "for c in ['A', 'B']:\n",
    "    with open(f'27{c}_2726.txt', 'r') as f:\n",
    "        n = int(f.readline())\n",
    "        data = [int(x) for x in f.readlines()]\n",
    "        even = []\n",
    "        odd = []\n",
    "        for i in data:\n",
    "            if i % 2 == 0:\n",
    "                even.append(i)\n",
    "            else:\n",
    "                odd.append(i)\n",
    "                \n",
    "        even.sort()\n",
    "        odd.sort()\n",
    "        mx = even[-1] + odd[-1]\n",
    "    print(mx, end = ' ')"
   ]
  },
  {
   "cell_type": "code",
   "execution_count": 22,
   "metadata": {
    "ExecuteTime": {
     "end_time": "2023-03-04T08:14:26.332174Z",
     "start_time": "2023-03-04T08:14:20.249670Z"
    }
   },
   "outputs": [
    {
     "name": "stdout",
     "output_type": "stream",
     "text": [
      "65406 133892 "
     ]
    }
   ],
   "source": [
    "from itertools import combinations\n",
    "\n",
    "for c in ['A', 'B']:\n",
    "    with open(f'27{c}_2728.txt', 'r') as f:\n",
    "        n = int(f.readline())\n",
    "        data = [int(x) for x in f.readlines()]\n",
    "        \n",
    "        ans = []\n",
    "        for x, y in combinations(data, 2):\n",
    "            n1 = x % 23 == 0 or y % 23 == 0\n",
    "            if n1 and (x + y) % 2 == 0:\n",
    "                ans.append(x + y)\n",
    "    print(max(ans), end = ' ')"
   ]
  },
  {
   "cell_type": "code",
   "execution_count": 25,
   "metadata": {
    "ExecuteTime": {
     "end_time": "2023-03-04T08:22:21.334310Z",
     "start_time": "2023-03-04T08:22:21.311119Z"
    }
   },
   "outputs": [
    {
     "name": "stdout",
     "output_type": "stream",
     "text": [
      "133952\n"
     ]
    }
   ],
   "source": []
  }
 ],
 "metadata": {
  "kernelspec": {
   "display_name": "Python 3 (ipykernel)",
   "language": "python",
   "name": "python3"
  },
  "language_info": {
   "codemirror_mode": {
    "name": "ipython",
    "version": 3
   },
   "file_extension": ".py",
   "mimetype": "text/x-python",
   "name": "python",
   "nbconvert_exporter": "python",
   "pygments_lexer": "ipython3",
   "version": "3.10.6"
  },
  "toc": {
   "base_numbering": 1,
   "nav_menu": {},
   "number_sections": true,
   "sideBar": true,
   "skip_h1_title": false,
   "title_cell": "Table of Contents",
   "title_sidebar": "Contents",
   "toc_cell": false,
   "toc_position": {},
   "toc_section_display": true,
   "toc_window_display": false
  }
 },
 "nbformat": 4,
 "nbformat_minor": 1
}
