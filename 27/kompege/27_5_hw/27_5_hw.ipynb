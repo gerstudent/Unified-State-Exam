{
 "cells": [
  {
   "cell_type": "code",
   "execution_count": 5,
   "id": "0c2ab636",
   "metadata": {
    "ExecuteTime": {
     "end_time": "2023-04-03T06:44:39.793170Z",
     "start_time": "2023-04-03T06:44:39.770205Z"
    }
   },
   "outputs": [
    {
     "name": "stdout",
     "output_type": "stream",
     "text": [
      "81162 641474 "
     ]
    }
   ],
   "source": [
    "for c in ['A', 'B']:\n",
    "    with open(f'27{c}_6318.txt') as f:\n",
    "        n, m = map(int, f.readline().split())\n",
    "        a = [int(x) for x in f.readlines()]\n",
    "\n",
    "        s = mx = sum(a[:2 * m + 1])\n",
    "        for i in range(m + 1, n - m):\n",
    "            s = s - a[i - m - 1] + a[i + m]\n",
    "            mx = max(mx, s)\n",
    "\n",
    "    print(mx, end=' ')"
   ]
  },
  {
   "cell_type": "code",
   "execution_count": 7,
   "id": "a94b87a9",
   "metadata": {
    "ExecuteTime": {
     "end_time": "2023-04-03T06:50:10.901647Z",
     "start_time": "2023-04-03T06:50:10.878111Z"
    }
   },
   "outputs": [
    {
     "name": "stdout",
     "output_type": "stream",
     "text": [
      "91573 1782723 "
     ]
    }
   ],
   "source": [
    "for c in ['A', 'B']:\n",
    "    with open(f'27{c}_6320.txt') as f:\n",
    "        n, m = map(int, f.readline().split())\n",
    "        a = [int(x) for x in f.readlines()]\n",
    "        a = a * 2\n",
    "\n",
    "        s = mx = sum(a[:2 * m + 1])\n",
    "        for i in range(m + 1, n * 2 - m):\n",
    "            s = s - a[i - m - 1] + a[i + m]\n",
    "            mx = max(mx, s)\n",
    "\n",
    "    print(mx, end=' ')"
   ]
  },
  {
   "cell_type": "code",
   "execution_count": null,
   "id": "5557ee31",
   "metadata": {},
   "outputs": [],
   "source": []
  },
  {
   "cell_type": "code",
   "execution_count": 45,
   "id": "e62881fc",
   "metadata": {
    "ExecuteTime": {
     "end_time": "2023-04-03T09:19:49.508758Z",
     "start_time": "2023-04-03T09:19:49.405862Z"
    }
   },
   "outputs": [
    {
     "name": "stdout",
     "output_type": "stream",
     "text": [
      "2504 3346 "
     ]
    }
   ],
   "source": [
    "for c in ['A', 'B']:\n",
    "    with open(f'27{c}_6321.txt') as f:\n",
    "        n, v, m = map(int, f.readline().split())\n",
    "        a = [0] * 10 ** 5\n",
    "\n",
    "        for i in range(n):\n",
    "            km, p = map(int, f.readline().split())\n",
    "            c = p // v if p % v == 0 else p // v + 1\n",
    "            a[km] = c\n",
    "\n",
    "        s = mx = sum(a[:2 * m + 1])\n",
    "        for i in range(len(b) - 2 * m - 1):\n",
    "            s = s - a[i] + a[2 * m + 1 + i]\n",
    "            if a[i + m + 1] > 0:\n",
    "                mx = max(mx, s)\n",
    "\n",
    "    print(mx, end=' ')"
   ]
  },
  {
   "cell_type": "code",
   "execution_count": 46,
   "id": "ce7173de",
   "metadata": {
    "ExecuteTime": {
     "end_time": "2023-04-03T09:21:15.218408Z",
     "start_time": "2023-04-03T09:21:13.579138Z"
    }
   },
   "outputs": [
    {
     "name": "stdout",
     "output_type": "stream",
     "text": [
      "409 95850 "
     ]
    }
   ],
   "source": [
    "for c in ['A', 'B']:\n",
    "    with open(f'27{c}_4630.txt') as f:\n",
    "        n, k, m = map(int, f.readline().split())\n",
    "        a = [0] * k\n",
    "        for i in range(n):\n",
    "            km, p = map(int, f.readline().split())\n",
    "            km = km % k\n",
    "            c = p // 9 if p % 9 == 0 else p // 9 + 1\n",
    "            a[km] = c\n",
    "\n",
    "\n",
    "        a = a * 2\n",
    "        s = mx = sum(a[:2 * m + 1])\n",
    "        for i in range(m + 1, k + m):\n",
    "            s = s - a[i - m - 1] + a[i + m]\n",
    "            if a[i] > 0:\n",
    "                mx = max(mx, s)\n",
    "\n",
    "    print(mx, end=' ')"
   ]
  },
  {
   "cell_type": "code",
   "execution_count": 5,
   "id": "23659e82",
   "metadata": {
    "ExecuteTime": {
     "end_time": "2023-04-03T08:40:10.447909Z",
     "start_time": "2023-04-03T08:40:09.612674Z"
    }
   },
   "outputs": [
    {
     "name": "stdout",
     "output_type": "stream",
     "text": [
      "849014 44029481068414 "
     ]
    }
   ],
   "source": [
    "for c in ['A', 'B']:\n",
    "    with open(f'27{c}_5644.txt') as f:\n",
    "        n = int(f.readline())\n",
    "        a = [int(x) for x in f.readlines()]\n",
    "        sm = sum(a)\n",
    "        s = 0\n",
    "        b = []\n",
    "        for i in range(n):\n",
    "            s += a[i]\n",
    "            b.append(s)\n",
    "\n",
    "        s = 0\n",
    "        for i in range(n):\n",
    "            s += a[i] * i\n",
    "        mx = s\n",
    "\n",
    "        for i in range(1, n):\n",
    "            s = s + b[i - 1] - (sm - b[i - 1])\n",
    "            mx = max(mx, s)\n",
    "\n",
    "    print(mx, end=' ')"
   ]
  },
  {
   "cell_type": "code",
   "execution_count": 47,
   "id": "0ffa6d91",
   "metadata": {
    "ExecuteTime": {
     "end_time": "2023-04-03T09:21:46.801377Z",
     "start_time": "2023-04-03T09:21:43.469463Z"
    }
   },
   "outputs": [
    {
     "name": "stdout",
     "output_type": "stream",
     "text": [
      "71028 2999492166115 "
     ]
    }
   ],
   "source": [
    "for c in ['A', 'B']:\n",
    "    with open(f'27{c}_6323.txt') as f:\n",
    "        n, m = map(int, f.readline().split())\n",
    "        a = []\n",
    "        sm = 0\n",
    "        for i in range(n):\n",
    "            km, p = map(int, f.readline().split())\n",
    "            c = p // m if p % m == 0 else p // m + 1\n",
    "            sm += c\n",
    "            a.append([km, c])\n",
    "\n",
    "        s = 0\n",
    "        for i in range(n):\n",
    "            s += (a[i][0] - a[0][0]) * a[i][1]\n",
    "        mn = s\n",
    "\n",
    "        exp = 0\n",
    "        for i in range(1, n):\n",
    "            exp += a[i - 1][1]\n",
    "            r = a[i][0] - a[i - 1][0]\n",
    "            s = s + r * exp - r * (sm - exp)\n",
    "            mn = min(mn, s)\n",
    "\n",
    "    print(mn, end=' ')"
   ]
  },
  {
   "cell_type": "code",
   "execution_count": 10,
   "id": "1f4bd94d",
   "metadata": {
    "ExecuteTime": {
     "end_time": "2023-04-03T07:31:39.042669Z",
     "start_time": "2023-04-03T07:31:36.414345Z"
    },
    "code_folding": []
   },
   "outputs": [
    {
     "name": "stdout",
     "output_type": "stream",
     "text": [
      "51063 5634689219329 "
     ]
    }
   ],
   "source": [
    "for c in ['A', 'B']:\n",
    "    with open(f'27{c}_4713.txt') as f:\n",
    "        n = int(f.readline())\n",
    "        a = []\n",
    "        sm = 0\n",
    "\n",
    "        for i in range(n):\n",
    "            km, p = map(int, f.readline().split())\n",
    "            c = p // 36 if p % 36 == 0 else p // 36 + 1\n",
    "            sm += c\n",
    "            a.append([km, c])\n",
    "\n",
    "        s = 0\n",
    "        for i in range(n):\n",
    "            s += (a[i][0] - a[0][0]) * a[i][1]\n",
    "        mn = s\n",
    "\n",
    "        exp = 0\n",
    "        for i in range(1, n):\n",
    "            exp += a[i - 1][1]\n",
    "            r = a[i][0] - a[i - 1][0]\n",
    "            s = s + r * exp - r * (sm - exp)\n",
    "            mn = min(mn, s)\n",
    "\n",
    "    print(mn, end=' ')"
   ]
  },
  {
   "cell_type": "code",
   "execution_count": 11,
   "id": "a5d8ebba",
   "metadata": {
    "ExecuteTime": {
     "end_time": "2023-04-03T13:00:08.348462Z",
     "start_time": "2023-04-03T13:00:07.299106Z"
    }
   },
   "outputs": [
    {
     "name": "stdout",
     "output_type": "stream",
     "text": [
      "152 524909 "
     ]
    }
   ],
   "source": [
    "for c in ['A', 'B']:\n",
    "    with open(f'27_{c}_3587.txt') as f:\n",
    "        n = int(f.readline())\n",
    "        a = [int(x) for x in f.readlines()]\n",
    "        \n",
    "        s = 0\n",
    "        for i in range(n):\n",
    "            s += min(i, n - i) * a[i]\n",
    "        mn, mi = s, 1\n",
    "        \n",
    "        sm = sum(a)\n",
    "        nxt = sum(a[1: n // 2 + 1])\n",
    "        prev = sm - nxt\n",
    "        \n",
    "        for i in range(1, n):\n",
    "            s = s - nxt + prev\n",
    "            if s < mn:\n",
    "                mn, mi = s, i + 1\n",
    "            \n",
    "            nxt = nxt - a[i] + a[(n // 2 + i) % n]\n",
    "            prev = sm - nxt\n",
    "        \n",
    "\n",
    "    print(mi, end=' ')"
   ]
  },
  {
   "cell_type": "code",
   "execution_count": null,
   "id": "13d7619b",
   "metadata": {},
   "outputs": [],
   "source": []
  }
 ],
 "metadata": {
  "kernelspec": {
   "display_name": "Python 3 (ipykernel)",
   "language": "python",
   "name": "python3"
  },
  "language_info": {
   "codemirror_mode": {
    "name": "ipython",
    "version": 3
   },
   "file_extension": ".py",
   "mimetype": "text/x-python",
   "name": "python",
   "nbconvert_exporter": "python",
   "pygments_lexer": "ipython3",
   "version": "3.10.6"
  }
 },
 "nbformat": 4,
 "nbformat_minor": 5
}
