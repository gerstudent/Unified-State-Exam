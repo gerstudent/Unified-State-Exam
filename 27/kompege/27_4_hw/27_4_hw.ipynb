{
 "cells": [
  {
   "cell_type": "code",
   "execution_count": 3,
   "id": "a23faf28",
   "metadata": {
    "ExecuteTime": {
     "end_time": "2023-03-19T15:53:06.516039Z",
     "start_time": "2023-03-19T15:53:06.408736Z"
    }
   },
   "outputs": [
    {
     "name": "stdout",
     "output_type": "stream",
     "text": [
      "127127 399762080 "
     ]
    }
   ],
   "source": [
    "for c in ['A', 'B']:\n",
    "    with open(f'27-{c}_23.txt') as f:\n",
    "        n = int(f.readline())\n",
    "        s = [0]\n",
    "        for i in range(n):\n",
    "            pairs = [int(x) for x in f.readline().split()]\n",
    "            s = [a + b for a in s for b in pairs]\n",
    "            s = {x % 3: x for x in sorted(s)}.values()\n",
    "\n",
    "    print(max(x for x in s if x % 3 != 0), end=' ')"
   ]
  },
  {
   "cell_type": "code",
   "execution_count": 2,
   "id": "44775791",
   "metadata": {
    "ExecuteTime": {
     "end_time": "2023-03-20T06:22:49.797619Z",
     "start_time": "2023-03-20T06:22:49.593306Z"
    }
   },
   "outputs": [
    {
     "name": "stdout",
     "output_type": "stream",
     "text": [
      "13159 40799380 "
     ]
    }
   ],
   "source": [
    "for c in ['A', 'B']:\n",
    "    with open(f'27-{c}_814.txt') as f:\n",
    "        n = int(f.readline())\n",
    "        s = [0]\n",
    "        for i in range(n):\n",
    "            pairs = [int(x) for x in f.readline().split()]\n",
    "            s = [a + b for a in s for b in pairs]\n",
    "            s = {x % 10: x for x in sorted(s)}.values()\n",
    "\n",
    "    print(max(x for x in s if x % 10 != 5), end=' ')"
   ]
  },
  {
   "cell_type": "code",
   "execution_count": 3,
   "id": "c74a4a33",
   "metadata": {
    "ExecuteTime": {
     "end_time": "2023-03-20T06:26:12.720533Z",
     "start_time": "2023-03-20T06:26:12.675827Z"
    }
   },
   "outputs": [
    {
     "name": "stdout",
     "output_type": "stream",
     "text": [
      "214 334771 "
     ]
    }
   ],
   "source": [
    "for c in ['A', 'B']:\n",
    "    with open(f'27-{c}_814.txt') as f:\n",
    "        n = int(f.readline())\n",
    "        s = [0]\n",
    "        for i in range(n):\n",
    "            pairs = [int(x) for x in f.readline().split()]\n",
    "            s = [a + b for a in s for b in pairs]\n",
    "            s = {x % 5: x for x in sorted(s, reverse=True)}.values()\n",
    "    print(min(x for x in s if x % 5 != 0), end=' ')"
   ]
  },
  {
   "cell_type": "code",
   "execution_count": 6,
   "id": "eb31b451",
   "metadata": {
    "ExecuteTime": {
     "end_time": "2023-03-20T06:32:51.162356Z",
     "start_time": "2023-03-20T06:32:50.978111Z"
    }
   },
   "outputs": [
    {
     "name": "stdout",
     "output_type": "stream",
     "text": [
      "18380 58701760 "
     ]
    }
   ],
   "source": [
    "for c in ['A', 'B']:\n",
    "    with open(f'27{c}_682.txt') as f:\n",
    "        n = int(f.readline())\n",
    "        s = [0]\n",
    "        for i in range(n):\n",
    "            tr = [int(x) for x in f.readline().split()]\n",
    "            tr = [tr[0] + tr[1], tr[0] + tr[2], tr[1] + tr[2]]\n",
    "            s = [a + b for a in s for b in tr]\n",
    "            s = {x % 4: x for x in sorted(s)}.values()\n",
    "\n",
    "    print(max(x for x in s if x % 4 == 0), end=' ')"
   ]
  },
  {
   "cell_type": "code",
   "execution_count": 13,
   "id": "cfa05cd9",
   "metadata": {
    "ExecuteTime": {
     "end_time": "2023-03-20T06:51:39.032382Z",
     "start_time": "2023-03-20T06:51:38.651472Z"
    }
   },
   "outputs": [
    {
     "name": "stdout",
     "output_type": "stream",
     "text": [
      "42143 248359970 "
     ]
    }
   ],
   "source": [
    "for c in ['A', 'B']:\n",
    "    with open(f'27{c}_2481.txt') as f:\n",
    "        n = int(f.readline())\n",
    "        s = [0]\n",
    "        for i in range(n):\n",
    "            x = int(f.readline())\n",
    "            s = s + [x] + [a + x for a in s]\n",
    "            s = {x % 17: x for x in sorted(s)}.values()\n",
    "            s = list(s)\n",
    "\n",
    "    print(max(x for x in s if x % 17 == 0), end=' ')"
   ]
  },
  {
   "cell_type": "code",
   "execution_count": 16,
   "id": "45282121",
   "metadata": {
    "ExecuteTime": {
     "end_time": "2023-03-20T06:55:12.328482Z",
     "start_time": "2023-03-20T06:55:12.319748Z"
    }
   },
   "outputs": [
    {
     "name": "stdout",
     "output_type": "stream",
     "text": [
      "115 107374272 "
     ]
    }
   ],
   "source": [
    "for c in ['A', 'B']:\n",
    "    with open(f'27-{c}_2949.txt') as f:\n",
    "        n = int(f.readline())\n",
    "        k = [0] * 10\n",
    "        for i in range(n):\n",
    "            x = int(f.readline())\n",
    "            k1 = k.copy()\n",
    "            for j in range(10):\n",
    "                k1[(j + x) % 10] += k[j]\n",
    "            k1[x % 10] += 1\n",
    "            k = k1\n",
    "\n",
    "    print(k[5], end=' ')"
   ]
  },
  {
   "cell_type": "code",
   "execution_count": 3,
   "id": "6b543929",
   "metadata": {
    "ExecuteTime": {
     "end_time": "2023-03-20T07:04:31.909985Z",
     "start_time": "2023-03-20T07:04:30.974112Z"
    }
   },
   "outputs": [
    {
     "name": "stdout",
     "output_type": "stream",
     "text": [
      "259000 49763000 "
     ]
    }
   ],
   "source": [
    "for c in ['A', 'B']:\n",
    "    with open(f'27{c}_2900.txt') as f:\n",
    "        n = int(f.readline())\n",
    "        s = []\n",
    "        ans = []\n",
    "        for i in range(n):\n",
    "            x = int(f.readline())\n",
    "            s = [a + x for a in s] + [x]\n",
    "            s = {x % 1000: x for x in sorted(s)}\n",
    "            if 0 in s:\n",
    "                ans.append(s[0])\n",
    "            s = s.values()\n",
    "\n",
    "    print(max(ans), end=' ')"
   ]
  },
  {
   "cell_type": "code",
   "execution_count": 2,
   "id": "ef02bc01",
   "metadata": {
    "ExecuteTime": {
     "end_time": "2023-03-21T17:25:50.736338Z",
     "start_time": "2023-03-21T17:25:50.619915Z"
    }
   },
   "outputs": [
    {
     "name": "stdout",
     "output_type": "stream",
     "text": [
      "66453 69995639 "
     ]
    }
   ],
   "source": [
    "for c in ['A', 'B']:\n",
    "    with open(f'27{c}_2256.txt') as f:\n",
    "        n = int(f.readline())\n",
    "        pref = [10 ** 20] * 3\n",
    "        s = ms = cnt = 0\n",
    "        \n",
    "        for i in range(n):\n",
    "            x = int(f.readline())\n",
    "            s += x\n",
    "            \n",
    "            if x % 5 == 0:\n",
    "                cnt += 1\n",
    "                \n",
    "            if cnt % 3 == 0:\n",
    "                ms = max(ms, s)\n",
    "            \n",
    "            \n",
    "            s1 = s - pref[cnt % 3]\n",
    "            ms = max(ms, s1)\n",
    "            pref[cnt % 3] = min(pref[cnt % 3], s)\n",
    "    print(ms, end=' ')"
   ]
  },
  {
   "cell_type": "code",
   "execution_count": 11,
   "id": "7a6f2e51",
   "metadata": {
    "ExecuteTime": {
     "end_time": "2023-03-20T08:08:51.054658Z",
     "start_time": "2023-03-20T08:08:49.189154Z"
    }
   },
   "outputs": [
    {
     "name": "stdout",
     "output_type": "stream",
     "text": [
      "[[37674, 13], [41883, 12], [47955, 14]]\n",
      "\n",
      "[[503875812, 99985], [503881194, 99985], [503905344, 99989]]\n",
      "\n"
     ]
    }
   ],
   "source": [
    "for c in ['A', 'B']:\n",
    "    with open(f'27{c}_1877.txt') as f:\n",
    "        n = int(f.readline())\n",
    "        s = [[0, 0]]\n",
    "        ans = []\n",
    "        for i in range(n):\n",
    "            x = int(f.readline())\n",
    "            s = [[a + x, b + 1] for a, b in s] + [[x, 1]]\n",
    "            s = {x[0] % 69: x for x in sorted(s)}\n",
    "            if 0 in s:\n",
    "                ans.append(s[0])\n",
    "            s = s.values()\n",
    "\n",
    "    ans.sort()\n",
    "    print(ans[-3:])\n",
    "    print()"
   ]
  },
  {
   "cell_type": "code",
   "execution_count": 25,
   "id": "94ba72fc",
   "metadata": {
    "ExecuteTime": {
     "end_time": "2023-03-20T08:45:15.914321Z",
     "start_time": "2023-03-20T08:45:06.262583Z"
    }
   },
   "outputs": [
    {
     "name": "stdout",
     "output_type": "stream",
     "text": [
      "[[6231, 14], [6231, 28]]\n",
      "\n",
      "[[-1339665, 8208], [-1335511, 8934], [-1333434, 8203], [-1327203, 8587], [-1327203, 8864]]\n",
      "\n"
     ]
    }
   ],
   "source": [
    "for c in ['A', 'B']:\n",
    "    with open(f'27{c}_2904.txt') as f:\n",
    "        n = int(f.readline())\n",
    "        s = [[0, 0]]\n",
    "        ans = []\n",
    "        for i in range(n):\n",
    "            x = int(f.readline())\n",
    "            s = [[a + x, b + 1] for a, b in s] + [[x, 1]]\n",
    "            s = {x[0] % 2077: x for x in sorted(s, reverse=True)}\n",
    "            if 0 in s:\n",
    "                ans.append(s[0])\n",
    "            s = s.values()\n",
    "\n",
    "    ans.sort()\n",
    "    print(ans[0:5])\n",
    "    print()"
   ]
  }
 ],
 "metadata": {
  "kernelspec": {
   "display_name": "Python 3 (ipykernel)",
   "language": "python",
   "name": "python3"
  },
  "language_info": {
   "codemirror_mode": {
    "name": "ipython",
    "version": 3
   },
   "file_extension": ".py",
   "mimetype": "text/x-python",
   "name": "python",
   "nbconvert_exporter": "python",
   "pygments_lexer": "ipython3",
   "version": "3.10.6"
  }
 },
 "nbformat": 4,
 "nbformat_minor": 5
}
