{
 "cells": [
  {
   "cell_type": "code",
   "execution_count": 27,
   "id": "c1f4ff24",
   "metadata": {
    "ExecuteTime": {
     "end_time": "2023-03-07T05:53:59.443757Z",
     "start_time": "2023-03-07T05:53:59.417090Z"
    }
   },
   "outputs": [
    {
     "name": "stdout",
     "output_type": "stream",
     "text": [
      "661 8553923 "
     ]
    }
   ],
   "source": [
    "for c in ['A', 'B']:\n",
    "    with open(f'27{c}_2720.txt') as f:\n",
    "        n = int(f.readline())\n",
    "        \n",
    "        pairs = prev = prev7 = cnt = 0\n",
    "        for i in range(n):\n",
    "            x = int(f.readline())\n",
    "            if x % 7 == 0:\n",
    "                cnt += prev\n",
    "                prev7 += 1\n",
    "            if x % 7 != 0:\n",
    "                cnt += prev7\n",
    "            \n",
    "            prev += 1\n",
    "            \n",
    "    print(cnt, end=' ')"
   ]
  },
  {
   "cell_type": "code",
   "execution_count": 9,
   "id": "effccd44",
   "metadata": {
    "ExecuteTime": {
     "end_time": "2023-03-07T06:15:20.410433Z",
     "start_time": "2023-03-07T06:15:20.400669Z"
    }
   },
   "outputs": [
    {
     "name": "stdout",
     "output_type": "stream",
     "text": [
      "168 2503584 "
     ]
    }
   ],
   "source": [
    "for c in ['A', 'B']:\n",
    "    with open(f'27{c}_2721.txt') as f:\n",
    "        n = int(f.readline())\n",
    "        k, k5, k13, k65 = 0, 0, 0, 0\n",
    "        for i in range(n):\n",
    "            x = int(f.readline())\n",
    "            if x % 65 == 0:\n",
    "                k65 += 1\n",
    "            elif x % 5 == 0:\n",
    "                k5 += 1\n",
    "            elif x % 13 == 0:\n",
    "                k13 += 1\n",
    "            else:\n",
    "                k += 1\n",
    "                \n",
    "    print(k65 * (k65 - 1) // 2 + k5 * k13 + k65 * (k + k5 + k13), end=' ')         "
   ]
  },
  {
   "cell_type": "code",
   "execution_count": 7,
   "id": "f7e87d29",
   "metadata": {
    "ExecuteTime": {
     "end_time": "2023-03-07T06:14:10.942000Z",
     "start_time": "2023-03-07T06:14:05.026923Z"
    }
   },
   "outputs": [
    {
     "name": "stdout",
     "output_type": "stream",
     "text": [
      "168 2503584 "
     ]
    }
   ],
   "source": [
    "from itertools import combinations\n",
    "\n",
    "for c in ['A', 'B']:\n",
    "    with open(f'27{c}_2721.txt') as f:\n",
    "        n = int(f.readline())\n",
    "        cnt = 0\n",
    "        data = [int(x) for x in f.readlines()]\n",
    "        for x, y in combinations(data, 2):\n",
    "            if (x * y) % 65 == 0:\n",
    "                cnt += 1\n",
    "                \n",
    "                    \n",
    "    print(cnt, end=' ') \n",
    "            "
   ]
  },
  {
   "cell_type": "markdown",
   "id": "a9739909",
   "metadata": {},
   "source": [
    "# 2722 Кол-во пар, произведение которых кратно 5, а сумма нечетна"
   ]
  },
  {
   "cell_type": "code",
   "execution_count": null,
   "id": "028bd023",
   "metadata": {},
   "outputs": [],
   "source": [
    "for c in ['A', 'B']:\n",
    "    with open(f'27{c}_2722.txt') as f:\n",
    "        n = int(f.readline())\n",
    "        k0, k1, k50, k51 = 0, 0, 0, 0\n",
    "        for i in range(n):\n",
    "            x = int(f.readline())\n",
    "            if x % 5 == 0 and x % 2 != 0:\n",
    "                k51 += 1\n",
    "            if x % 5 == 0 and x % 2 == 0:\n",
    "                k50 += 1\n",
    "            if x % 5 != 0 and x % 2 != 0:\n",
    "                k1 += 1\n",
    "            if x % 5 != 0 and x % 2 == 0:\n",
    "                k0 += 1\n",
    "                    \n",
    "    print(k50 * k1 + k50 * k51 + k51 * k0, end=' ') "
   ]
  },
  {
   "cell_type": "code",
   "execution_count": null,
   "id": "f552b0f3",
   "metadata": {},
   "outputs": [],
   "source": [
    "from itertools import combinations\n",
    "\n",
    "for c in ['A', 'B']:\n",
    "    with open(f'27{c}_2722.txt') as f:\n",
    "        n = int(f.readline())\n",
    "        cnt = 0\n",
    "        data = [int(x) for x in f.readlines()]\n",
    "        for x, y in combinations(data, 2):\n",
    "            if (x * y) % 5 == 0 and (x + y) %  2 != 0:\n",
    "                cnt += 1\n",
    "                \n",
    "                    \n",
    "    print(cnt, end=' ') "
   ]
  },
  {
   "cell_type": "code",
   "execution_count": 14,
   "id": "2ab0185a",
   "metadata": {
    "ExecuteTime": {
     "end_time": "2023-03-07T06:26:20.578567Z",
     "start_time": "2023-03-07T06:26:20.551516Z"
    }
   },
   "outputs": [
    {
     "name": "stdout",
     "output_type": "stream",
     "text": [
      "31 381543 "
     ]
    }
   ],
   "source": [
    "# 2724\n",
    "\n",
    "for c in ['A', 'B']:\n",
    "    with open(f'27{c}_2724.txt') as f:\n",
    "        n = int(f.readline())\n",
    "        q = 131\n",
    "        k = [0] * q\n",
    "        cnt = 0\n",
    "        \n",
    "        for i in range(n):\n",
    "            x = int(f.readline())\n",
    "            ost = 0 if x % q == 0 else q - x % q\n",
    "            cnt += k[ost]\n",
    "            k[x % q] += 1\n",
    "    print(cnt, end=' ')"
   ]
  },
  {
   "cell_type": "markdown",
   "id": "4947008c",
   "metadata": {},
   "source": [
    "# 2733 Кол-во пар элементов, сумма которых делится на m = 80 и хотя бы один элемент пары больше b = 50000."
   ]
  },
  {
   "cell_type": "code",
   "execution_count": 21,
   "id": "7918f75b",
   "metadata": {
    "ExecuteTime": {
     "end_time": "2023-03-07T07:06:34.864035Z",
     "start_time": "2023-03-07T07:06:34.823168Z"
    }
   },
   "outputs": [
    {
     "name": "stdout",
     "output_type": "stream",
     "text": [
      "48 465486 "
     ]
    }
   ],
   "source": [
    "# 2733\n",
    "\n",
    "for c in ['A', 'B']:\n",
    "    with open(f'27{c}_2733.txt') as f:\n",
    "        n = int(f.readline())\n",
    "        m = 80\n",
    "        b = 50000\n",
    "        gr = [0] * m\n",
    "        low = [0] * m\n",
    "        cnt = 0\n",
    "\n",
    "        for i in range(n):\n",
    "            x = int(f.readline())\n",
    "            if x > b:\n",
    "                gr[x % m] += 1\n",
    "            else:\n",
    "                low[x % m] += 1\n",
    "\n",
    "        # 1: оба числа > b\n",
    "        gr0 = gr[0] * (gr[0] - 1) // 2\n",
    "        grm2 = gr[m // 2] * (gr[m // 2] - 1) // 2\n",
    "        cnt += gr0 + grm2\n",
    "        for i in range(1, m // 2):\n",
    "            cnt += gr[i] * gr[m - i]\n",
    "\n",
    "        # 2: только одно число > b\n",
    "        cnt += gr[0] * low[0] + gr[40] * low[40]\n",
    "        for i in range(1, m // 2):\n",
    "            cnt += gr[i] * low[80 - i]\n",
    "            cnt += gr[80 - i] * low[i]\n",
    "\n",
    "    print(cnt, end=' ')"
   ]
  },
  {
   "cell_type": "code",
   "execution_count": 22,
   "id": "5d6156e9",
   "metadata": {
    "ExecuteTime": {
     "end_time": "2023-03-07T07:10:02.278011Z",
     "start_time": "2023-03-07T07:09:53.868785Z"
    }
   },
   "outputs": [
    {
     "name": "stdout",
     "output_type": "stream",
     "text": [
      "48 465486 "
     ]
    }
   ],
   "source": [
    "for c in ['A', 'B']:\n",
    "    with open(f'27{c}_2733.txt') as f:\n",
    "        n = int(f.readline())\n",
    "        cnt = 0\n",
    "        data = [int(x) for x in f.readlines()]\n",
    "        for i in range(n):\n",
    "            for j in range(i + 1, n):\n",
    "                c1 = data[i] > 50000 or data[j] > 50000\n",
    "                if (data[i] + data[j]) % 80 == 0 and c1:\n",
    "                    cnt += 1\n",
    "            \n",
    "    print(cnt, end=' ')"
   ]
  },
  {
   "cell_type": "code",
   "execution_count": 28,
   "id": "7f387f90",
   "metadata": {
    "ExecuteTime": {
     "end_time": "2023-03-07T07:27:49.813313Z",
     "start_time": "2023-03-07T07:27:49.803621Z"
    }
   },
   "outputs": [
    {
     "name": "stdout",
     "output_type": "stream",
     "text": [
      "73319 133981 "
     ]
    }
   ],
   "source": [
    "# 2726\n",
    "\n",
    "for c in ['A', 'B']:\n",
    "    with open(f'27{c}_2726.txt') as f:\n",
    "        n = int(f.readline())\n",
    "        cnt = 0\n",
    "        mx = float('-inf')\n",
    "        data = [int(x) for x in f.readlines()]\n",
    "        mx_even = max(x for x in data if x % 2 == 0)\n",
    "        mx_odd = max(x for x in data if x % 2 != 0)\n",
    "    print(mx_even + mx_odd, end=' ')"
   ]
  },
  {
   "cell_type": "code",
   "execution_count": 5,
   "id": "606cddfc",
   "metadata": {
    "ExecuteTime": {
     "end_time": "2023-03-07T07:54:49.482362Z",
     "start_time": "2023-03-07T07:54:49.459579Z"
    }
   },
   "outputs": [
    {
     "name": "stdout",
     "output_type": "stream",
     "text": [
      "21831874 3472 "
     ]
    }
   ],
   "source": [
    "# 2727\n",
    "\n",
    "for c in ['A', 'B']:\n",
    "    with open(f'27{c}_2727.txt') as f:\n",
    "        n = int(f.readline())\n",
    "        k, k31 = [], []\n",
    "        for i in range(n):\n",
    "            x = int(f.readline())\n",
    "            if x % 31 == 0:\n",
    "                k31.append(x)\n",
    "            else:\n",
    "                k.append(x)\n",
    "        \n",
    "        k.sort()\n",
    "        k31.sort()\n",
    "        \n",
    "        nums = k[:3] + k31[:3]\n",
    "        \n",
    "        mn = float('+inf')\n",
    "        for i in range(len(nums)):\n",
    "            for j in range(i + 1, len(nums)):\n",
    "                mult = nums[i] * nums[j]\n",
    "                if mult % 31 == 0:\n",
    "                    mn = min(mn, mult)\n",
    "        \n",
    "    print(mn, end=' ')\n",
    "            "
   ]
  },
  {
   "cell_type": "code",
   "execution_count": null,
   "id": "b542aab6",
   "metadata": {},
   "outputs": [],
   "source": []
  },
  {
   "cell_type": "code",
   "execution_count": null,
   "id": "bdb5fad9",
   "metadata": {},
   "outputs": [],
   "source": []
  },
  {
   "cell_type": "code",
   "execution_count": null,
   "id": "d460fa85",
   "metadata": {},
   "outputs": [],
   "source": []
  },
  {
   "cell_type": "code",
   "execution_count": null,
   "id": "51d927a5",
   "metadata": {},
   "outputs": [],
   "source": []
  }
 ],
 "metadata": {
  "kernelspec": {
   "display_name": "Python 3 (ipykernel)",
   "language": "python",
   "name": "python3"
  },
  "language_info": {
   "codemirror_mode": {
    "name": "ipython",
    "version": 3
   },
   "file_extension": ".py",
   "mimetype": "text/x-python",
   "name": "python",
   "nbconvert_exporter": "python",
   "pygments_lexer": "ipython3",
   "version": "3.10.6"
  },
  "toc": {
   "base_numbering": 1,
   "nav_menu": {},
   "number_sections": true,
   "sideBar": true,
   "skip_h1_title": false,
   "title_cell": "Table of Contents",
   "title_sidebar": "Contents",
   "toc_cell": false,
   "toc_position": {},
   "toc_section_display": true,
   "toc_window_display": false
  }
 },
 "nbformat": 4,
 "nbformat_minor": 5
}
