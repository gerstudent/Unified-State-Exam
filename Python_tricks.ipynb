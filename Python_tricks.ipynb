{
 "cells": [
  {
   "cell_type": "markdown",
   "id": "7308c26f",
   "metadata": {},
   "source": [
    "# Наиболее часто встречающийся элемент массива"
   ]
  },
  {
   "cell_type": "code",
   "execution_count": 23,
   "id": "cf1e7531",
   "metadata": {
    "ExecuteTime": {
     "end_time": "2023-03-08T12:44:07.242881Z",
     "start_time": "2023-03-08T12:44:07.237476Z"
    }
   },
   "outputs": [
    {
     "name": "stdout",
     "output_type": "stream",
     "text": [
      "9 3\n"
     ]
    }
   ],
   "source": [
    "from collections import Counter\n",
    "\n",
    "nums = [9, 8, 32, 1, 10, 1, 10, 9, 1, 9]\n",
    "\n",
    "res = Counter(nums)\n",
    "item, count = max(res.items(), key=lambda p: p[::-1])\n",
    "print(item, count)"
   ]
  },
  {
   "cell_type": "markdown",
   "id": "a670cb21",
   "metadata": {},
   "source": [
    "# Сколько раз число встречается в списке (файле, строке ...):"
   ]
  },
  {
   "cell_type": "code",
   "execution_count": null,
   "id": "f089015b",
   "metadata": {
    "ExecuteTime": {
     "start_time": "2023-03-08T11:52:35.429Z"
    }
   },
   "outputs": [],
   "source": [
    "nums = [9, 8, 32, 1, 10, 1, 10, 9, 1]\n",
    "\n",
    "res = {}\n",
    "for i in nums:\n",
    "    res[i] = res.get(i, 0) + 1\n",
    "print(res)"
   ]
  },
  {
   "cell_type": "markdown",
   "id": "dc07bc13",
   "metadata": {},
   "source": [
    "# Отсортировать словарь по значениям"
   ]
  },
  {
   "cell_type": "code",
   "execution_count": 5,
   "id": "6a5565e8",
   "metadata": {
    "ExecuteTime": {
     "end_time": "2023-03-06T19:44:43.273346Z",
     "start_time": "2023-03-06T19:44:43.268626Z"
    }
   },
   "outputs": [
    {
     "name": "stdout",
     "output_type": "stream",
     "text": [
      "Бразилиа\n",
      "Лондон\n",
      "Москва\n",
      "Прага\n"
     ]
    }
   ],
   "source": [
    "capitals = {'Россия': 'Москва', 'Англия': 'Лондон', 'Чехия': 'Прага', 'Бразилия':'Бразилиа'}\n",
    "\n",
    "for key, value in sorted(capitals.items(), key = lambda x: x[1]):\n",
    "    print(value)"
   ]
  },
  {
   "cell_type": "markdown",
   "id": "75ef8266",
   "metadata": {},
   "source": [
    "# Изменить один словарь, не изменяя второй\n",
    "- Оператор присваивания (=) не копирует словарь, а лишь присваивает ссылку на старый словарь новой переменной."
   ]
  },
  {
   "cell_type": "code",
   "execution_count": 8,
   "id": "7f71668d",
   "metadata": {
    "ExecuteTime": {
     "end_time": "2023-03-08T07:29:04.916612Z",
     "start_time": "2023-03-08T07:29:04.911436Z"
    }
   },
   "outputs": [
    {
     "name": "stdout",
     "output_type": "stream",
     "text": [
      "{'name': 'Bob', 'age': 25, 'job': 'Dev'}\n",
      "{'name': 'Tim', 'age': 25, 'job': 'Dev'}\n"
     ]
    }
   ],
   "source": [
    "info = {'name': 'Bob',\n",
    "        'age': 25,\n",
    "        'job': 'Dev'}\n",
    "\n",
    "new_info = info.copy()\n",
    "new_info['name'] = 'Tim'\n",
    "\n",
    "print(info)\n",
    "print(new_info)"
   ]
  },
  {
   "cell_type": "markdown",
   "id": "62870e42",
   "metadata": {},
   "source": [
    "# Словарь вместо вложенных условий"
   ]
  },
  {
   "cell_type": "code",
   "execution_count": 10,
   "id": "5e6ce244",
   "metadata": {
    "ExecuteTime": {
     "end_time": "2023-03-08T07:30:51.892600Z",
     "start_time": "2023-03-08T07:30:50.559512Z"
    }
   },
   "outputs": [
    {
     "name": "stdout",
     "output_type": "stream",
     "text": [
      "1\n",
      "One\n"
     ]
    }
   ],
   "source": [
    "num = int(input())\n",
    "\n",
    "description = {1: 'One', 2: 'Two', 3: 'Three'}\n",
    "\n",
    "print(description.get(num, 'Unknown'))"
   ]
  },
  {
   "cell_type": "markdown",
   "id": "aa846fe3",
   "metadata": {},
   "source": [
    "# Найти наиболее часто встречающееся слово строки s. Вывести наименьшее в лексикографическом порядке."
   ]
  },
  {
   "cell_type": "code",
   "execution_count": 16,
   "id": "1c61cdac",
   "metadata": {
    "ExecuteTime": {
     "end_time": "2023-03-08T09:21:46.447768Z",
     "start_time": "2023-03-08T09:21:46.405807Z"
    }
   },
   "outputs": [
    {
     "name": "stdout",
     "output_type": "stream",
     "text": [
      "aba\n"
     ]
    }
   ],
   "source": [
    "# Быстро\n",
    "\n",
    "from collections import Counter\n",
    "\n",
    "s = 'abc aba boba biba aba abc cup car boba biba'\n",
    "\n",
    "d = Counter(s.split())\n",
    "res = min(d, key=lambda x: (-d[x], x))\n",
    "\n",
    "print(res)"
   ]
  },
  {
   "cell_type": "code",
   "execution_count": 17,
   "id": "86e189f9",
   "metadata": {
    "ExecuteTime": {
     "end_time": "2023-03-08T09:21:47.348740Z",
     "start_time": "2023-03-08T09:21:47.340564Z"
    }
   },
   "outputs": [
    {
     "name": "stdout",
     "output_type": "stream",
     "text": [
      "aba\n"
     ]
    }
   ],
   "source": [
    "# Эффективно, но медленнее\n",
    "\n",
    "s = 'abc aba boba biba aba abc cup car boba biba'\n",
    "\n",
    "d = {}\n",
    "for i in s.split():\n",
    "    d[i] = d.get(i, 0) + 1\n",
    "\n",
    "res = min(d, key=lambda x: (-d[x], x))\n",
    "\n",
    "print(res)"
   ]
  },
  {
   "cell_type": "markdown",
   "id": "7515f63d",
   "metadata": {},
   "source": [
    "# Создать словарь, в котором для каждого элемента будут перечислены его подэлементы."
   ]
  },
  {
   "cell_type": "markdown",
   "id": "1f8e5267",
   "metadata": {
    "ExecuteTime": {
     "end_time": "2023-03-08T09:53:59.899040Z",
     "start_time": "2023-03-08T09:53:59.888566Z"
    }
   },
   "source": [
    "## [Задача](https://stepik.org/lesson/446696/step/14?thread=solutions&unit=437002)\n",
    "Дополните приведенный код так, чтобы в переменной result хранился словарь, \n",
    "в котором для каждого владельца будут перечислены его собаки. \n",
    "Ключом словаря должен быть кортеж (имя, фамилия, возраст владельца), \n",
    "а значением - список кличек собак (сохранив исходный порядок следования)."
   ]
  },
  {
   "cell_type": "code",
   "execution_count": 18,
   "id": "c7aa7200",
   "metadata": {
    "ExecuteTime": {
     "end_time": "2023-03-08T09:44:44.894421Z",
     "start_time": "2023-03-08T09:44:44.889130Z"
    }
   },
   "outputs": [
    {
     "name": "stdout",
     "output_type": "stream",
     "text": [
      "{('Josh', 'King', 25): ['Rusty', 'Balto', 'Barry', 'Lassie'], ('John', 'Smith', 28): ['Fido'], ('Hannah', 'Taylor', 40): ['Snape'], ('Simon', 'Nevel', 32): ['Zooma']}\n"
     ]
    }
   ],
   "source": [
    "pets = [('Rusty', 'Josh', 'King', 25),\n",
    "        ('Fido', 'John', 'Smith', 28),\n",
    "        ('Balto', 'Josh', 'King', 25),\n",
    "        ('Barry', 'Josh', 'King', 25),\n",
    "        ('Snape', 'Hannah', 'Taylor', 40),\n",
    "        ('Zooma', 'Simon', 'Nevel', 32),\n",
    "        ('Lassie', 'Josh', 'King', 25)]\n",
    "\n",
    "result = {}\n",
    "for pet in pets:\n",
    "    result.setdefault(pet[1:], []).append(pet[0]) \n",
    "    \n",
    "print(result)"
   ]
  },
  {
   "cell_type": "code",
   "execution_count": 19,
   "id": "d15d58fd",
   "metadata": {
    "ExecuteTime": {
     "end_time": "2023-03-08T09:46:16.469992Z",
     "start_time": "2023-03-08T09:46:16.464683Z"
    }
   },
   "outputs": [
    {
     "name": "stdout",
     "output_type": "stream",
     "text": [
      "{('Josh', 'King', 25): ['Rusty', 'Balto', 'Barry', 'Lassie'], ('John', 'Smith', 28): ['Fido'], ('Hannah', 'Taylor', 40): ['Snape'], ('Simon', 'Nevel', 32): ['Zooma']}\n"
     ]
    }
   ],
   "source": [
    "result = {}\n",
    "for i in pets:\n",
    "    result[i[1:]] = result.get(i[1:], []) + i[0].split()\n",
    "\n",
    "print(result)"
   ]
  },
  {
   "cell_type": "code",
   "execution_count": null,
   "id": "f47d276d",
   "metadata": {},
   "outputs": [],
   "source": []
  },
  {
   "cell_type": "code",
   "execution_count": null,
   "id": "a47a739f",
   "metadata": {},
   "outputs": [],
   "source": []
  },
  {
   "cell_type": "code",
   "execution_count": null,
   "id": "f5f85066",
   "metadata": {},
   "outputs": [],
   "source": []
  },
  {
   "cell_type": "code",
   "execution_count": null,
   "id": "b221304b",
   "metadata": {},
   "outputs": [],
   "source": []
  },
  {
   "cell_type": "code",
   "execution_count": null,
   "id": "eced3476",
   "metadata": {},
   "outputs": [],
   "source": []
  },
  {
   "cell_type": "code",
   "execution_count": null,
   "id": "433b89fb",
   "metadata": {},
   "outputs": [],
   "source": []
  },
  {
   "cell_type": "code",
   "execution_count": null,
   "id": "771fc017",
   "metadata": {},
   "outputs": [],
   "source": []
  }
 ],
 "metadata": {
  "kernelspec": {
   "display_name": "Python 3 (ipykernel)",
   "language": "python",
   "name": "python3"
  },
  "language_info": {
   "codemirror_mode": {
    "name": "ipython",
    "version": 3
   },
   "file_extension": ".py",
   "mimetype": "text/x-python",
   "name": "python",
   "nbconvert_exporter": "python",
   "pygments_lexer": "ipython3",
   "version": "3.10.6"
  },
  "toc": {
   "base_numbering": 1,
   "nav_menu": {},
   "number_sections": true,
   "sideBar": true,
   "skip_h1_title": false,
   "title_cell": "Table of Contents",
   "title_sidebar": "Contents",
   "toc_cell": false,
   "toc_position": {},
   "toc_section_display": true,
   "toc_window_display": false
  }
 },
 "nbformat": 4,
 "nbformat_minor": 5
}
