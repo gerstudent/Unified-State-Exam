{
 "cells": [
  {
   "cell_type": "code",
   "execution_count": 1,
   "id": "initial_id",
   "metadata": {
    "collapsed": true,
    "ExecuteTime": {
     "end_time": "2023-09-07T17:49:53.583525179Z",
     "start_time": "2023-09-07T17:49:43.490852589Z"
    }
   },
   "outputs": [
    {
     "name": "stdout",
     "output_type": "stream",
     "text": [
      "21\n"
     ]
    }
   ],
   "source": [
    "c = 0\n",
    "A = [8, 3, 16, 24, 35, 18, 4, 72, 8, 99, 44]\n",
    "for i in range(1, 10):\n",
    "    if A[i] % 10 == A[0]:\n",
    "        c = c + 1\n",
    "        t = A[i + 1]\n",
    "        A[i + 1] = A[i]\n",
    "        A[i] = t\n",
    "print(c)\n"
   ]
  },
  {
   "cell_type": "code",
   "execution_count": null,
   "outputs": [],
   "source": [
    "m = []\n",
    "for x in range(0, 1000):\n",
    "    f = (x * x - 1 > 100) <= (x * (x - 1) < 100)\n",
    "    if f == 1:\n",
    "        m.append(x)\n",
    "\n",
    "print(max(m))\n"
   ],
   "metadata": {
    "collapsed": false
   },
   "id": "b9898ebe740d10f1"
  },
  {
   "cell_type": "code",
   "execution_count": null,
   "outputs": [],
   "source": [
    "from itertools import product\n",
    "\n",
    "print(\"y x z\")\n",
    "for x, y, z in product((0, 1), repeat=3):\n",
    "    f = (not y) or (x and (not z))\n",
    "    if f:\n",
    "        print(y, z, x)\n"
   ],
   "metadata": {
    "collapsed": false
   },
   "id": "cf90e32b5c7b4af7"
  },
  {
   "cell_type": "code",
   "execution_count": null,
   "outputs": [],
   "source": [
    "def F(n):\n",
    "    if n > 2:\n",
    "        return F(n - 1) + F(n - 2) + F(n - 3)\n",
    "    else:\n",
    "        return n\n",
    "\n",
    "\n",
    "print(F(6))\n"
   ],
   "metadata": {
    "collapsed": false
   },
   "id": "d9e4aae81b109730"
  },
  {
   "cell_type": "code",
   "execution_count": null,
   "outputs": [],
   "source": [
    "def f(x, y, a):\n",
    "    return ((x < a) <= (x ** 2 < 81)) and ((y ** 2 <= 36) <= (y <= a))\n",
    "\n",
    "\n",
    "cnt = 0\n",
    "for a in range(-1000, 1000):\n",
    "    if all(f(x, y, a) == 1 for x in range(500) for y in range(500)):\n",
    "        cnt += 1\n",
    "print(cnt)\n"
   ],
   "metadata": {
    "collapsed": false
   },
   "id": "c8e67ae969040ac7"
  },
  {
   "cell_type": "code",
   "execution_count": null,
   "outputs": [],
   "source": [],
   "metadata": {
    "collapsed": false
   },
   "id": "a287eb7968ff1db1"
  },
  {
   "cell_type": "code",
   "execution_count": null,
   "outputs": [],
   "source": [],
   "metadata": {
    "collapsed": false
   },
   "id": "c5186e3133abf687"
  },
  {
   "cell_type": "code",
   "execution_count": null,
   "outputs": [],
   "source": [],
   "metadata": {
    "collapsed": false
   },
   "id": "f3e3470e30993e3b"
  },
  {
   "cell_type": "code",
   "execution_count": null,
   "outputs": [],
   "source": [],
   "metadata": {
    "collapsed": false
   },
   "id": "99f11c588129d515"
  }
 ],
 "metadata": {
  "kernelspec": {
   "display_name": "Python 3",
   "language": "python",
   "name": "python3"
  },
  "language_info": {
   "codemirror_mode": {
    "name": "ipython",
    "version": 2
   },
   "file_extension": ".py",
   "mimetype": "text/x-python",
   "name": "python",
   "nbconvert_exporter": "python",
   "pygments_lexer": "ipython2",
   "version": "2.7.6"
  }
 },
 "nbformat": 4,
 "nbformat_minor": 5
}
