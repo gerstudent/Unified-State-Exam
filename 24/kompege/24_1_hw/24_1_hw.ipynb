{
 "cells": [
  {
   "cell_type": "code",
   "execution_count": 4,
   "id": "7cb99d5c",
   "metadata": {
    "ExecuteTime": {
     "end_time": "2023-03-08T19:37:30.917512Z",
     "start_time": "2023-03-08T19:37:30.910454Z"
    }
   },
   "outputs": [
    {
     "name": "stdout",
     "output_type": "stream",
     "text": [
      "11\n"
     ]
    }
   ],
   "source": [
    "# 2419\n",
    "\n",
    "with open('24_2419.txt') as f:\n",
    "    s = f.readline()\n",
    "    \n",
    "s = s.replace('A', ' ').replace('B', ' ')\n",
    "print(max(len(c) for c in s.split()))"
   ]
  },
  {
   "cell_type": "code",
   "execution_count": 10,
   "id": "8d3135fb",
   "metadata": {
    "ExecuteTime": {
     "end_time": "2023-03-08T19:39:45.232688Z",
     "start_time": "2023-03-08T19:39:45.224645Z"
    }
   },
   "outputs": [
    {
     "name": "stdout",
     "output_type": "stream",
     "text": [
      "20\n"
     ]
    }
   ],
   "source": [
    "# 2420\n",
    "\n",
    "\n",
    "with open('24_2420.txt') as f:\n",
    "    s = f.readline()\n",
    "    \n",
    "s = s.replace('C', ' ').replace('D', ' ')\n",
    "print(max(len(c) for c in s.split()))"
   ]
  },
  {
   "cell_type": "code",
   "execution_count": 13,
   "id": "362648d2",
   "metadata": {
    "ExecuteTime": {
     "end_time": "2023-03-08T19:44:51.297646Z",
     "start_time": "2023-03-08T19:44:51.288654Z"
    }
   },
   "outputs": [
    {
     "name": "stdout",
     "output_type": "stream",
     "text": [
      "44\n"
     ]
    }
   ],
   "source": [
    "# 2421\n",
    "\n",
    "with open('24_2421.txt') as f:\n",
    "    s = f.readline()\n",
    "    \n",
    "s = s.replace('D', ' ')\n",
    "print(max(len(c) for c in s.split()))"
   ]
  },
  {
   "cell_type": "code",
   "execution_count": 14,
   "id": "f2e26d28",
   "metadata": {
    "ExecuteTime": {
     "end_time": "2023-03-08T19:45:38.666933Z",
     "start_time": "2023-03-08T19:45:38.657198Z"
    }
   },
   "outputs": [
    {
     "name": "stdout",
     "output_type": "stream",
     "text": [
      "19\n"
     ]
    }
   ],
   "source": [
    "# 865\n",
    "\n",
    "with open('24_865.txt') as f:\n",
    "    s = f.readline()\n",
    "    \n",
    "s = s.replace('C', ' ').replace('F', ' ')\n",
    "print(max(len(c) for c in s.split()))"
   ]
  },
  {
   "cell_type": "code",
   "execution_count": 17,
   "id": "d4707e40",
   "metadata": {
    "ExecuteTime": {
     "end_time": "2023-03-08T19:51:38.091737Z",
     "start_time": "2023-03-08T19:51:38.022046Z"
    }
   },
   "outputs": [
    {
     "name": "stdout",
     "output_type": "stream",
     "text": [
      "20\n"
     ]
    }
   ],
   "source": [
    "# 865\n",
    "\n",
    "with open('24_2426.txt') as f:\n",
    "    s = f.readline()\n",
    "    \n",
    "s = s.replace('A', ' ').replace('B', ' ').replace('C', ' ')\n",
    "print(max(len(c) for c in s.split()))"
   ]
  },
  {
   "cell_type": "code",
   "execution_count": null,
   "id": "4a8fa268",
   "metadata": {},
   "outputs": [],
   "source": []
  },
  {
   "cell_type": "code",
   "execution_count": null,
   "id": "efa525da",
   "metadata": {},
   "outputs": [],
   "source": []
  },
  {
   "cell_type": "code",
   "execution_count": null,
   "id": "e9fd27b6",
   "metadata": {},
   "outputs": [],
   "source": []
  },
  {
   "cell_type": "code",
   "execution_count": null,
   "id": "c8a23545",
   "metadata": {},
   "outputs": [],
   "source": []
  },
  {
   "cell_type": "code",
   "execution_count": null,
   "id": "58629408",
   "metadata": {},
   "outputs": [],
   "source": []
  },
  {
   "cell_type": "code",
   "execution_count": null,
   "id": "83db818f",
   "metadata": {},
   "outputs": [],
   "source": []
  },
  {
   "cell_type": "code",
   "execution_count": null,
   "id": "a79cab8d",
   "metadata": {},
   "outputs": [],
   "source": []
  },
  {
   "cell_type": "code",
   "execution_count": null,
   "id": "6bbec3ea",
   "metadata": {},
   "outputs": [],
   "source": []
  },
  {
   "cell_type": "code",
   "execution_count": null,
   "id": "0909d7f5",
   "metadata": {},
   "outputs": [],
   "source": []
  },
  {
   "cell_type": "code",
   "execution_count": null,
   "id": "56eb5824",
   "metadata": {},
   "outputs": [],
   "source": []
  },
  {
   "cell_type": "code",
   "execution_count": null,
   "id": "64cbc548",
   "metadata": {},
   "outputs": [],
   "source": []
  },
  {
   "cell_type": "code",
   "execution_count": null,
   "id": "f8eb792c",
   "metadata": {},
   "outputs": [],
   "source": []
  },
  {
   "cell_type": "code",
   "execution_count": null,
   "id": "4c05248a",
   "metadata": {},
   "outputs": [],
   "source": []
  },
  {
   "cell_type": "code",
   "execution_count": null,
   "id": "bb3bce11",
   "metadata": {},
   "outputs": [],
   "source": []
  },
  {
   "cell_type": "code",
   "execution_count": null,
   "id": "232a0393",
   "metadata": {},
   "outputs": [],
   "source": []
  },
  {
   "cell_type": "code",
   "execution_count": null,
   "id": "4cd2fcd0",
   "metadata": {},
   "outputs": [],
   "source": []
  }
 ],
 "metadata": {
  "kernelspec": {
   "display_name": "Python 3 (ipykernel)",
   "language": "python",
   "name": "python3"
  },
  "language_info": {
   "codemirror_mode": {
    "name": "ipython",
    "version": 3
   },
   "file_extension": ".py",
   "mimetype": "text/x-python",
   "name": "python",
   "nbconvert_exporter": "python",
   "pygments_lexer": "ipython3",
   "version": "3.10.6"
  },
  "toc": {
   "base_numbering": 1,
   "nav_menu": {},
   "number_sections": true,
   "sideBar": true,
   "skip_h1_title": false,
   "title_cell": "Table of Contents",
   "title_sidebar": "Contents",
   "toc_cell": false,
   "toc_position": {},
   "toc_section_display": true,
   "toc_window_display": false
  }
 },
 "nbformat": 4,
 "nbformat_minor": 5
}
