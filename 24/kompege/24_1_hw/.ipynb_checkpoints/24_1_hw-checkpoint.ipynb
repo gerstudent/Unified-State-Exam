{
 "cells": [
  {
   "cell_type": "code",
   "execution_count": null,
   "id": "7cb99d5c",
   "metadata": {
    "ExecuteTime": {
     "end_time": "2023-03-08T19:37:30.917512Z",
     "start_time": "2023-03-08T19:37:30.910454Z"
    }
   },
   "outputs": [],
   "source": [
    "with open('24_2419.txt') as f:\n",
    "    s = f.readline()\n",
    "\n",
    "s = s.replace('A', ' ').replace('B', ' ')\n",
    "print(max(len(c) for c in s.split()))"
   ]
  },
  {
   "cell_type": "code",
   "execution_count": null,
   "id": "8d3135fb",
   "metadata": {
    "ExecuteTime": {
     "end_time": "2023-03-08T19:39:45.232688Z",
     "start_time": "2023-03-08T19:39:45.224645Z"
    }
   },
   "outputs": [],
   "source": [
    "with open('24_2420.txt') as f:\n",
    "    s = f.readline()\n",
    "\n",
    "s = s.replace('C', ' ').replace('D', ' ')\n",
    "print(max(len(c) for c in s.split()))"
   ]
  },
  {
   "cell_type": "code",
   "execution_count": null,
   "id": "362648d2",
   "metadata": {
    "ExecuteTime": {
     "end_time": "2023-03-08T19:44:51.297646Z",
     "start_time": "2023-03-08T19:44:51.288654Z"
    }
   },
   "outputs": [],
   "source": [
    "with open('24_2421.txt') as f:\n",
    "    s = f.readline()\n",
    "\n",
    "s = s.replace('D', ' ')\n",
    "print(max(len(c) for c in s.split()))"
   ]
  },
  {
   "cell_type": "code",
   "execution_count": null,
   "id": "f2e26d28",
   "metadata": {
    "ExecuteTime": {
     "end_time": "2023-03-08T19:45:38.666933Z",
     "start_time": "2023-03-08T19:45:38.657198Z"
    }
   },
   "outputs": [],
   "source": [
    "with open('24_865.txt') as f:\n",
    "    s = f.readline()\n",
    "\n",
    "s = s.replace('C', ' ').replace('F', ' ')\n",
    "print(max(len(c) for c in s.split()))"
   ]
  },
  {
   "cell_type": "code",
   "execution_count": null,
   "id": "d4707e40",
   "metadata": {
    "ExecuteTime": {
     "end_time": "2023-04-10T11:58:57.569333Z",
     "start_time": "2023-04-10T11:58:57.468938Z"
    }
   },
   "outputs": [],
   "source": [
    "with open('24_2426.txt') as f:\n",
    "    s = f.readline()\n",
    "\n",
    "s = s.replace('A', ' ').replace('B', ' ').replace('C', ' ')\n",
    "print(max(len(c) for c in s.split()))"
   ]
  },
  {
   "cell_type": "markdown",
   "id": "a5d3fe64",
   "metadata": {},
   "source": [
    "### В файле записана последовательность символов. Укажите длину самой длинной последовательности, состоящей из цифр. "
   ]
  },
  {
   "cell_type": "code",
   "execution_count": null,
   "id": "4a8fa268",
   "metadata": {
    "ExecuteTime": {
     "end_time": "2023-04-10T12:06:45.208659Z",
     "start_time": "2023-04-10T12:06:45.127310Z"
    }
   },
   "outputs": [],
   "source": [
    "import re\n",
    "\n",
    "with open('24_1040.txt') as f:\n",
    "    s = f.readline()\n",
    "\n",
    "s = re.sub('[a-z]', ' ', s)\n",
    "print(max(len(c) for c in s.split()))"
   ]
  },
  {
   "cell_type": "markdown",
   "id": "a5a9dc19",
   "metadata": {},
   "source": [
    "### Определите максимальное количество идущих подряд символов, среди которых нет подстроки XY и подстроки XZ."
   ]
  },
  {
   "cell_type": "code",
   "execution_count": null,
   "id": "efa525da",
   "metadata": {
    "ExecuteTime": {
     "end_time": "2023-04-10T12:14:03.807305Z",
     "start_time": "2023-04-10T12:14:03.735346Z"
    }
   },
   "outputs": [],
   "source": [
    "with open('24_1428.txt') as f:\n",
    "    s = f.readline()\n",
    "\n",
    "s = s.replace('XY', 'X Y').replace('XZ', 'X Z')\n",
    "print(max(len(c) for c in s.split()))"
   ]
  },
  {
   "cell_type": "markdown",
   "id": "79dea80f",
   "metadata": {},
   "source": [
    "### Определите максимальное количество идущих подряд символов в прилагаемом файле, среди которых нет идущих подряд символов P. "
   ]
  },
  {
   "cell_type": "code",
   "execution_count": null,
   "id": "c8a23545",
   "metadata": {
    "ExecuteTime": {
     "end_time": "2023-04-10T12:25:04.937102Z",
     "start_time": "2023-04-10T12:25:04.890657Z"
    }
   },
   "outputs": [],
   "source": [
    "with open('24_1975.txt') as f:\n",
    "    s = f.readline()\n",
    "\n",
    "while 'PP' in s:\n",
    "    s = s.replace('PP', 'P P')\n",
    "\n",
    "print(max(len(c) for c in s.split()))"
   ]
  },
  {
   "cell_type": "markdown",
   "id": "e3b8d54c",
   "metadata": {},
   "source": [
    "### Максимальное количество символов среди которых нет подстроки XZZY"
   ]
  },
  {
   "cell_type": "code",
   "execution_count": null,
   "id": "83db818f",
   "metadata": {
    "ExecuteTime": {
     "end_time": "2023-04-10T12:31:41.408014Z",
     "start_time": "2023-04-10T12:31:41.015176Z"
    }
   },
   "outputs": [],
   "source": [
    "with open('24_1302.txt') as f:\n",
    "    s = f.readline()\n",
    "\n",
    "mx, ln = 0, 0\n",
    "for i in range(len(s) - 1):\n",
    "    if s[i] == 'X' and s[i + 1] == 'Z' \\\n",
    "            and s[i + 2] == 'Z' and s[i + 3] == 'Y':\n",
    "        mx = max(mx, ln)\n",
    "        ln = 3\n",
    "    else:\n",
    "        ln += 1\n",
    "    mx = max(mx, ln)\n",
    "\n",
    "print(mx)"
   ]
  },
  {
   "cell_type": "code",
   "execution_count": null,
   "id": "a79cab8d",
   "metadata": {
    "ExecuteTime": {
     "end_time": "2023-04-10T12:39:32.412891Z",
     "start_time": "2023-04-10T12:39:32.385098Z"
    }
   },
   "outputs": [],
   "source": [
    "with open('24_1302.txt') as f:\n",
    "    s = f.readline()\n",
    "\n",
    "s = s.replace('XZZY', 'XZZ ZZY')\n",
    "print(max(len(c) for c in s.split()))"
   ]
  },
  {
   "cell_type": "markdown",
   "id": "98e6ad8e",
   "metadata": {},
   "source": [
    "### Каждые два соседних различны"
   ]
  },
  {
   "cell_type": "code",
   "execution_count": null,
   "id": "6bbec3ea",
   "metadata": {
    "ExecuteTime": {
     "end_time": "2023-04-10T12:51:28.453777Z",
     "start_time": "2023-04-10T12:51:28.393792Z"
    }
   },
   "outputs": [],
   "source": [
    "import re\n",
    "\n",
    "with open('24_21.txt') as f:\n",
    "    s = f.readline()\n",
    "\n",
    "res = re.split(r'(.)\\1', s)\n",
    "print(len(max(res, key=len, default='')) + 1)"
   ]
  },
  {
   "cell_type": "code",
   "execution_count": null,
   "id": "0909d7f5",
   "metadata": {
    "ExecuteTime": {
     "end_time": "2023-04-14T17:51:23.635053Z",
     "start_time": "2023-04-14T17:51:23.393931Z"
    }
   },
   "outputs": [],
   "source": [
    "with open('24_21.txt') as f:\n",
    "    s = f.readline()\n",
    "\n",
    "cnt, mx = 1, 1\n",
    "for i in range(1, len(s)):\n",
    "    if s[i - 1] == s[i]:\n",
    "        mx = max(mx, cnt)\n",
    "        cnt = 1\n",
    "    else:\n",
    "        cnt += 1\n",
    "\n",
    "mx = max(mx, cnt)\n",
    "print(mx)"
   ]
  },
  {
   "cell_type": "markdown",
   "id": "14fde5eb",
   "metadata": {},
   "source": [
    "### Макс. кол-во идущих подряд символов , расположенных в алфавитном порядке"
   ]
  },
  {
   "cell_type": "code",
   "execution_count": null,
   "id": "64cbc548",
   "metadata": {
    "ExecuteTime": {
     "end_time": "2023-04-14T17:51:08.435109Z",
     "start_time": "2023-04-14T17:51:08.148714Z"
    }
   },
   "outputs": [],
   "source": [
    "with open('24_2422.txt') as f:\n",
    "    s = f.readline()\n",
    "\n",
    "cnt = mx = 1\n",
    "for i in range(1, len(s)):\n",
    "    if s[i - 1] <= s[i]:\n",
    "        cnt += 1\n",
    "        mx = max(mx, cnt)\n",
    "    else:\n",
    "        cnt = 1\n",
    "\n",
    "print(mx)"
   ]
  },
  {
   "cell_type": "code",
   "execution_count": null,
   "id": "f8eb792c",
   "metadata": {
    "ExecuteTime": {
     "end_time": "2023-04-14T17:36:06.369819Z",
     "start_time": "2023-04-14T17:36:06.299330Z"
    }
   },
   "outputs": [],
   "source": [
    "import re\n",
    "\n",
    "\n",
    "def lgsub(s):\n",
    "    substrings = re.findall('X*Y*Z*', s)\n",
    "    return len(max(substrings, key=len))\n",
    "\n",
    "\n",
    "with open('24_2422.txt') as f:\n",
    "    s = f.readline()\n",
    "\n",
    "\n",
    "print(lgsub(s))"
   ]
  },
  {
   "cell_type": "markdown",
   "id": "efd80ea7",
   "metadata": {},
   "source": [
    "### 12 Цифры в возр. порядке"
   ]
  },
  {
   "cell_type": "code",
   "execution_count": null,
   "id": "4c05248a",
   "metadata": {
    "ExecuteTime": {
     "end_time": "2023-04-14T17:51:00.074860Z",
     "start_time": "2023-04-14T17:50:59.744052Z"
    }
   },
   "outputs": [],
   "source": [
    "with open('24_2423.txt') as f:\n",
    "    s = f.readline()\n",
    "    \n",
    "sub = s[0]\n",
    "mx = 0\n",
    "    \n",
    "for i in range(1, len(s)):\n",
    "    if s[i - 1] < s[i]:\n",
    "        sub += s[i]\n",
    "        mx = max(mx, len(sub))\n",
    "    else:\n",
    "        sub = s[i]\n",
    "        \n",
    "print(mx)"
   ]
  },
  {
   "cell_type": "markdown",
   "id": "d1dcce89",
   "metadata": {},
   "source": [
    "### 13"
   ]
  },
  {
   "cell_type": "code",
   "execution_count": null,
   "id": "bb3bce11",
   "metadata": {
    "ExecuteTime": {
     "end_time": "2023-04-14T17:50:46.575169Z",
     "start_time": "2023-04-14T17:50:46.570243Z"
    }
   },
   "outputs": [],
   "source": [
    "with open('24_2427.txt') as f:\n",
    "    s = f.readline()\n",
    "    \n",
    "sub = mx = s[0]\n",
    "for i in range(1, len(s)):\n",
    "    if s[i - 1] > s[i]:\n",
    "        sub += s[i]\n",
    "        mx = max(mx, sub, key=len)\n",
    "    else:        \n",
    "        sub = s[i]\n",
    "        \n",
    "print(mx)"
   ]
  },
  {
   "cell_type": "markdown",
   "id": "1ce0bcd0",
   "metadata": {},
   "source": [
    "### 14"
   ]
  },
  {
   "cell_type": "code",
   "execution_count": null,
   "id": "232a0393",
   "metadata": {
    "ExecuteTime": {
     "end_time": "2023-04-14T17:57:02.836006Z",
     "start_time": "2023-04-14T17:57:02.824005Z"
    }
   },
   "outputs": [],
   "source": [
    "with open('24_1145.txt') as f:\n",
    "    s = f.readline()\n",
    "\n",
    "mn = 10 ** 5\n",
    "for sub in s.split('D')[1:-1]:\n",
    "    if sub != '':\n",
    "        mn = min(mn, len(sub) + 2)\n",
    "        \n",
    "print(mn)"
   ]
  },
  {
   "cell_type": "code",
   "execution_count": null,
   "id": "4cd2fcd0",
   "metadata": {
    "ExecuteTime": {
     "end_time": "2023-04-24T09:12:08.406588Z",
     "start_time": "2023-04-24T09:12:08.334228Z"
    }
   },
   "outputs": [],
   "source": [
    "from re import sub\n",
    "\n",
    "with open('24_1146.txt') as f:\n",
    "    s = f.readline()\n",
    "\n",
    "s = sub('[A|B|C|E|F]', ' ', s)\n",
    "print(min(len(c) for c in s.split()))"
   ]
  },
  {
   "cell_type": "code",
   "execution_count": null,
   "id": "372dd87e",
   "metadata": {
    "ExecuteTime": {
     "end_time": "2023-04-24T09:25:09.903809Z",
     "start_time": "2023-04-24T09:25:09.852152Z"
    }
   },
   "outputs": [],
   "source": [
    "with open('24_2250.txt') as f:\n",
    "    s = f.readline()\n",
    "    \n",
    "s = s.split('A')\n",
    "mx = 0\n",
    "for i in range(len(s) - 1):\n",
    "    cur = len(s[i]) + len(s[i + 1]) + 1\n",
    "    mx = max(mx, cur)\n",
    "    \n",
    "print(mx)"
   ]
  },
  {
   "cell_type": "code",
   "execution_count": null,
   "id": "2fc17382",
   "metadata": {
    "ExecuteTime": {
     "end_time": "2023-04-24T09:28:01.075245Z",
     "start_time": "2023-04-24T09:28:01.024972Z"
    }
   },
   "outputs": [],
   "source": [
    "with open('24_2251.txt') as f:\n",
    "    s = f.readline()\n",
    "    \n",
    "s = s.split('D')\n",
    "mx = 0\n",
    "for i in range(len(s) - 2):\n",
    "    cur = len(s[i]) + len(s[i + 1]) + len(s[i + 2]) + 2\n",
    "    mx = max(mx, cur)\n",
    "    \n",
    "print(mx)"
   ]
  },
  {
   "cell_type": "code",
   "execution_count": null,
   "id": "7b0bd510",
   "metadata": {
    "ExecuteTime": {
     "end_time": "2023-04-24T09:38:03.925434Z",
     "start_time": "2023-04-24T09:38:03.840659Z"
    }
   },
   "outputs": [],
   "source": [
    "from re import sub\n",
    "\n",
    "with open('24_66.txt') as f:\n",
    "    s = f.readline()\n",
    "    \n",
    "s = s.replace('KOT', '1')\n",
    "s = sub('[^1]', ' ', s)\n",
    "print(max(len(c) for c in s.split()))"
   ]
  },
  {
   "cell_type": "code",
   "execution_count": null,
   "id": "091d2d78",
   "metadata": {
    "ExecuteTime": {
     "end_time": "2023-05-10T12:13:43.791408Z",
     "start_time": "2023-05-10T12:13:43.644887Z"
    }
   },
   "outputs": [],
   "source": [
    "with open('24_4602.txt') as f:\n",
    "    s = f.readline()\n",
    "\n",
    "s = s.replace('A', 'g').replace('O', 'g') \\\n",
    "    .replace('B', 's').replace('C', 's') \\\n",
    "    .replace('D', 's')\n",
    "\n",
    "s = s.replace('sg', '*').replace('s', ' ').replace('g', ' ')\n",
    "\n",
    "print(max(len(c) for c in s.split()))"
   ]
  },
  {
   "cell_type": "code",
   "execution_count": null,
   "id": "2e14f74a",
   "metadata": {
    "ExecuteTime": {
     "end_time": "2023-05-10T12:33:32.438443Z",
     "start_time": "2023-05-10T12:33:32.367749Z"
    }
   },
   "outputs": [],
   "source": [
    "with open('24_4642.txt') as f:\n",
    "    s = f.readline()\n",
    "    \n",
    "s = s.replace('B', 'A').replace('2', '1')\n",
    "s = s.replace('A1', '*').replace('1', ' ').replace('A', ' ')\n",
    "print(max(len(c) for c in s.split()))"
   ]
  },
  {
   "cell_type": "code",
   "execution_count": null,
   "id": "2db81ca2",
   "metadata": {
    "ExecuteTime": {
     "end_time": "2023-05-10T12:49:43.290031Z",
     "start_time": "2023-05-10T12:49:42.581690Z"
    }
   },
   "outputs": [],
   "source": [
    "with open('24_4627.txt') as f:\n",
    "    s = f.readline()\n",
    "\n",
    "i = 0\n",
    "cnt = 0\n",
    "mx = 0\n",
    "while i < len(s):\n",
    "    cur = s[i:i + 3]\n",
    "    if cur in 'NPO' or cur in 'PNO':\n",
    "        mx = max(mx, cnt)\n",
    "        cnt += 1\n",
    "        i += 3\n",
    "    else:\n",
    "        cnt = 1\n",
    "        i += 3\n",
    "\n",
    "print(mx)\n",
    "\n",
    "\"\"\"\n",
    "with open('24_4627.txt') as f:\n",
    "    s = f.readline()\n",
    "\n",
    "s = s.replace('NPO', '*').replace('PNO', '*')\n",
    "s = s.replace('N', ' ').replace('P', ' ').replace('O', ' ')\n",
    "print(max(len(c) for c in s.split()))\n",
    "\"\"\""
   ]
  },
  {
   "cell_type": "code",
   "execution_count": null,
   "id": "e8b3f277",
   "metadata": {
    "ExecuteTime": {
     "end_time": "2023-05-10T12:51:07.344224Z",
     "start_time": "2023-05-10T12:51:07.297221Z"
    }
   },
   "outputs": [],
   "source": [
    "with open('24_4643.txt') as f:\n",
    "    s = f.readline()\n",
    "    \n",
    "s = s.replace('2', '1').replace('B', 'A')\n",
    "s = s.replace('11A', '*').replace('A', ' ').replace('1', ' ')\n",
    "print(max(len(c) for c in s.split()))"
   ]
  },
  {
   "cell_type": "code",
   "execution_count": 10,
   "id": "9a1afb96",
   "metadata": {
    "ExecuteTime": {
     "end_time": "2023-05-11T05:29:23.749118Z",
     "start_time": "2023-05-11T05:29:23.278003Z"
    }
   },
   "outputs": [
    {
     "name": "stdout",
     "output_type": "stream",
     "text": [
      "21\n"
     ]
    }
   ],
   "source": [
    "with open('24_4546.txt') as f:\n",
    "    s = f.readline()\n",
    "\n",
    "mx = 0\n",
    "for i in range(3):\n",
    "    cnt = 0\n",
    "    for j in range(i, len(s) - 2, 3):\n",
    "        if s[j] + s[j + 2] == 'AA' or s[j] + s[j + 2] == 'CC':\n",
    "            cnt += 1\n",
    "            mx = max(mx, cnt)\n",
    "        else:\n",
    "            cnt = 0\n",
    "            \n",
    "print(mx)"
   ]
  },
  {
   "cell_type": "code",
   "execution_count": 21,
   "id": "8ccdf09b",
   "metadata": {
    "ExecuteTime": {
     "end_time": "2023-05-11T06:28:26.325077Z",
     "start_time": "2023-05-11T06:28:26.318409Z"
    }
   },
   "outputs": [
    {
     "name": "stdout",
     "output_type": "stream",
     "text": [
      "True\n",
      "54\n"
     ]
    }
   ],
   "source": [
    "with open('24_5171.txt') as f:\n",
    "    s = f.readline()\n",
    "\n",
    "sub = ''\n",
    "while sub in s:\n",
    "    sub += 'CA'\n",
    "    \n",
    "sub = sub[:-2]\n",
    "print(sub in s)\n",
    "print(len(sub))"
   ]
  },
  {
   "cell_type": "code",
   "execution_count": 25,
   "id": "de6d25bd",
   "metadata": {
    "ExecuteTime": {
     "end_time": "2023-05-11T06:30:22.176918Z",
     "start_time": "2023-05-11T06:30:22.168628Z"
    }
   },
   "outputs": [
    {
     "name": "stdout",
     "output_type": "stream",
     "text": [
      "True\n",
      "95\n"
     ]
    }
   ],
   "source": [
    "with open('24_2425.txt') as f:\n",
    "    s = f.readline()\n",
    "    \n",
    "sub = ''\n",
    "while sub in s:\n",
    "    sub += 'DBAC'\n",
    "    \n",
    "sub = sub[:-1]\n",
    "print(sub in s)\n",
    "print(len(sub))"
   ]
  }
 ],
 "metadata": {
  "kernelspec": {
   "display_name": "Python 3 (ipykernel)",
   "language": "python",
   "name": "python3"
  },
  "language_info": {
   "codemirror_mode": {
    "name": "ipython",
    "version": 3
   },
   "file_extension": ".py",
   "mimetype": "text/x-python",
   "name": "python",
   "nbconvert_exporter": "python",
   "pygments_lexer": "ipython3",
   "version": "3.10.6"
  },
  "toc": {
   "base_numbering": 1,
   "nav_menu": {},
   "number_sections": true,
   "sideBar": true,
   "skip_h1_title": false,
   "title_cell": "Table of Contents",
   "title_sidebar": "Contents",
   "toc_cell": false,
   "toc_position": {},
   "toc_section_display": true,
   "toc_window_display": false
  }
 },
 "nbformat": 4,
 "nbformat_minor": 5
}
