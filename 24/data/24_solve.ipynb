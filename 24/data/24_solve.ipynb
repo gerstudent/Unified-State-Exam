{
 "cells": [
  {
   "cell_type": "code",
   "execution_count": 3,
   "metadata": {
    "collapsed": true
   },
   "outputs": [
    {
     "name": "stdout",
     "output_type": "stream",
     "text": [
      "2048984\n"
     ]
    }
   ],
   "source": [
    "with open(\"24-prob.txt\", 'r') as f:\n",
    "    data = list(f.read())\n",
    "\n",
    "cnt = 0\n",
    "\n",
    "for i in range(0, len(data), 2):\n",
    "    c1 = data[i] == \"A\" and data[i + 1] == \"B\"\n",
    "    c2 = data[i] == \"C\" and data[i + 1] == \"B\"\n",
    "    if c1 or c2:\n",
    "        cnt += 2\n",
    "\n",
    "print(cnt)"
   ]
  }
 ],
 "metadata": {
  "kernelspec": {
   "display_name": "Python 3",
   "language": "python",
   "name": "python3"
  },
  "language_info": {
   "codemirror_mode": {
    "name": "ipython",
    "version": 2
   },
   "file_extension": ".py",
   "mimetype": "text/x-python",
   "name": "python",
   "nbconvert_exporter": "python",
   "pygments_lexer": "ipython2",
   "version": "2.7.6"
  }
 },
 "nbformat": 4,
 "nbformat_minor": 0
}
