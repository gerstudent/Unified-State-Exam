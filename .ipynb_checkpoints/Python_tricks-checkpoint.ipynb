{
 "cells": [
  {
   "cell_type": "markdown",
   "id": "6a88752f",
   "metadata": {},
   "source": [
    "# Списки"
   ]
  },
  {
   "cell_type": "markdown",
   "id": "b962ec6b",
   "metadata": {},
   "source": [
    "## Произведение элементов списка"
   ]
  },
  {
   "cell_type": "code",
   "execution_count": 5,
   "id": "173f79e3",
   "metadata": {
    "ExecuteTime": {
     "end_time": "2023-04-07T19:53:04.563354Z",
     "start_time": "2023-04-07T19:53:04.557812Z"
    }
   },
   "outputs": [
    {
     "name": "stdout",
     "output_type": "stream",
     "text": [
      "24\n"
     ]
    }
   ],
   "source": [
    "from math import prod\n",
    "\n",
    "lst = [1, 2, 3, 4]\n",
    "print(prod(lst))"
   ]
  },
  {
   "cell_type": "code",
   "execution_count": 6,
   "id": "76a5ae82",
   "metadata": {
    "ExecuteTime": {
     "end_time": "2023-04-07T19:54:15.240332Z",
     "start_time": "2023-04-07T19:54:15.235473Z"
    }
   },
   "outputs": [
    {
     "name": "stdout",
     "output_type": "stream",
     "text": [
      "24\n"
     ]
    }
   ],
   "source": [
    "from functools import reduce\n",
    "\n",
    "res = reduce((lambda x, y: x * y), lst)\n",
    "print(res)"
   ]
  },
  {
   "cell_type": "code",
   "execution_count": 7,
   "id": "165f8a48",
   "metadata": {
    "ExecuteTime": {
     "end_time": "2023-04-07T19:54:56.404850Z",
     "start_time": "2023-04-07T19:54:56.399080Z"
    }
   },
   "outputs": [
    {
     "name": "stdout",
     "output_type": "stream",
     "text": [
      "24\n"
     ]
    }
   ],
   "source": [
    "p = 1\n",
    "for i in lst:\n",
    "    p *= i\n",
    "print(p)"
   ]
  },
  {
   "cell_type": "markdown",
   "id": "7308c26f",
   "metadata": {},
   "source": [
    "## Наиболее часто встречающийся элемент массива"
   ]
  },
  {
   "cell_type": "code",
   "execution_count": null,
   "id": "13727727",
   "metadata": {},
   "outputs": [],
   "source": [
    "from collections import Counter\n",
    "\n",
    "nums = [9, 8, 32, 1, 10, 1, 10, 9, 1, 9]\n",
    "\n",
    "res = Counter(nums)\n",
    "item, count = max(res.items(), key=lambda p: p[::-1])\n",
    "print(item, count)"
   ]
  },
  {
   "cell_type": "markdown",
   "id": "acc4b45d",
   "metadata": {},
   "source": [
    "## Префиксые суммы (произведения ...)"
   ]
  },
  {
   "cell_type": "code",
   "execution_count": null,
   "id": "d8f7b391",
   "metadata": {
    "ExecuteTime": {
     "end_time": "2023-04-27T09:12:07.608096Z",
     "start_time": "2023-04-27T09:12:07.599496Z"
    }
   },
   "outputs": [],
   "source": [
    "from itertools import accumulate\n",
    "from operator import mul\n",
    "\n",
    "data = [3, 4, 6, 2, 1, 9, 0, 7, 5, 8]\n",
    "sm = list(accumulate(data))\n",
    "mult = list(accumulate(data, mul))\n",
    "mx = list(accumulate(data, max))\n",
    "print(sm, mult, mx, sep='\\n')"
   ]
  },
  {
   "cell_type": "markdown",
   "id": "6b3794cd",
   "metadata": {},
   "source": [
    "## Вставка в отсортированный массив "
   ]
  },
  {
   "cell_type": "code",
   "execution_count": null,
   "id": "b07a3363",
   "metadata": {},
   "outputs": [],
   "source": [
    "from bisect import bisect_right\n",
    "from itertools import accumulate\n",
    "\n",
    "nums = [736411, 184882, 914641, 37925, 214915]\n",
    "queries = [331244, 273144, 118983, 118252, 305688, 718089, 665450]\n",
    "nums = list(accumulate(sorted(nums)))\n",
    "ans = []\n",
    "for q in queries:\n",
    "    res = bisect_right(nums, q)\n",
    "    ans.append(res)"
   ]
  },
  {
   "cell_type": "markdown",
   "id": "6c4ccebf",
   "metadata": {},
   "source": [
    "# Словари"
   ]
  },
  {
   "cell_type": "markdown",
   "id": "a670cb21",
   "metadata": {},
   "source": [
    "## Сколько раз число встречается в списке (файле, строке ...):"
   ]
  },
  {
   "cell_type": "code",
   "execution_count": null,
   "id": "f089015b",
   "metadata": {
    "ExecuteTime": {
     "start_time": "2023-03-08T11:52:35.429Z"
    }
   },
   "outputs": [],
   "source": [
    "nums = [9, 8, 32, 1, 10, 1, 10, 9, 1]\n",
    "\n",
    "res = {}\n",
    "for i in nums:\n",
    "    res[i] = res.get(i, 0) + 1\n",
    "print(res)"
   ]
  },
  {
   "cell_type": "markdown",
   "id": "dc07bc13",
   "metadata": {},
   "source": [
    "## Отсортировать словарь по значениям"
   ]
  },
  {
   "cell_type": "code",
   "execution_count": 5,
   "id": "6a5565e8",
   "metadata": {
    "ExecuteTime": {
     "end_time": "2023-03-06T19:44:43.273346Z",
     "start_time": "2023-03-06T19:44:43.268626Z"
    }
   },
   "outputs": [
    {
     "name": "stdout",
     "output_type": "stream",
     "text": [
      "Бразилиа\n",
      "Лондон\n",
      "Москва\n",
      "Прага\n"
     ]
    }
   ],
   "source": [
    "capitals = {'Россия': 'Москва', 'Англия': 'Лондон', 'Чехия': 'Прага', 'Бразилия': 'Бразилиа'}\n",
    "\n",
    "for key, value in sorted(capitals.items(), key=lambda x: x[1]):\n",
    "    print(value)"
   ]
  },
  {
   "cell_type": "markdown",
   "id": "75ef8266",
   "metadata": {},
   "source": [
    "## Изменить один словарь, не изменяя второй\n",
    "- Оператор присваивания (=) не копирует словарь, а лишь присваивает ссылку на старый словарь новой переменной."
   ]
  },
  {
   "cell_type": "code",
   "execution_count": 8,
   "id": "7f71668d",
   "metadata": {
    "ExecuteTime": {
     "end_time": "2023-03-08T07:29:04.916612Z",
     "start_time": "2023-03-08T07:29:04.911436Z"
    }
   },
   "outputs": [
    {
     "name": "stdout",
     "output_type": "stream",
     "text": [
      "{'name': 'Bob', 'age': 25, 'job': 'Dev'}\n",
      "{'name': 'Tim', 'age': 25, 'job': 'Dev'}\n"
     ]
    }
   ],
   "source": [
    "info = {'name': 'Bob',\n",
    "        'age': 25,\n",
    "        'job': 'Dev'}\n",
    "\n",
    "new_info = info.copy()\n",
    "new_info['name'] = 'Tim'\n",
    "\n",
    "print(info)\n",
    "print(new_info)"
   ]
  },
  {
   "cell_type": "markdown",
   "id": "62870e42",
   "metadata": {},
   "source": [
    "## Словарь вместо вложенных условий"
   ]
  },
  {
   "cell_type": "code",
   "execution_count": 10,
   "id": "5e6ce244",
   "metadata": {
    "ExecuteTime": {
     "end_time": "2023-03-08T07:30:51.892600Z",
     "start_time": "2023-03-08T07:30:50.559512Z"
    }
   },
   "outputs": [
    {
     "name": "stdout",
     "output_type": "stream",
     "text": [
      "1\n",
      "One\n"
     ]
    }
   ],
   "source": [
    "num = int(input())\n",
    "\n",
    "description = {1: 'One', 2: 'Two', 3: 'Three'}\n",
    "\n",
    "print(description.get(num, 'Unknown'))"
   ]
  },
  {
   "cell_type": "markdown",
   "id": "7515f63d",
   "metadata": {},
   "source": [
    "## Создать словарь, в котором для каждого элемента будут перечислены его подэлементы."
   ]
  },
  {
   "cell_type": "markdown",
   "id": "1f8e5267",
   "metadata": {
    "ExecuteTime": {
     "end_time": "2023-03-08T09:53:59.899040Z",
     "start_time": "2023-03-08T09:53:59.888566Z"
    }
   },
   "source": [
    "## [Задача](https://stepik.org/lesson/446696/step/14?thread=solutions&unit=437002)\n",
    "Дополните приведенный код так, чтобы в переменной result хранился словарь, \n",
    "в котором для каждого владельца будут перечислены его собаки. \n",
    "Ключом словаря должен быть кортеж (имя, фамилия, возраст владельца), \n",
    "а значением - список кличек собак (сохранив исходный порядок следования)."
   ]
  },
  {
   "cell_type": "code",
   "execution_count": 18,
   "id": "c7aa7200",
   "metadata": {
    "ExecuteTime": {
     "end_time": "2023-03-08T09:44:44.894421Z",
     "start_time": "2023-03-08T09:44:44.889130Z"
    }
   },
   "outputs": [
    {
     "name": "stdout",
     "output_type": "stream",
     "text": [
      "{('Josh', 'King', 25): ['Rusty', 'Balto', 'Barry', 'Lassie'], ('John', 'Smith', 28): ['Fido'], ('Hannah', 'Taylor', 40): ['Snape'], ('Simon', 'Nevel', 32): ['Zooma']}\n"
     ]
    }
   ],
   "source": [
    "pets = [('Rusty', 'Josh', 'King', 25),\n",
    "        ('Fido', 'John', 'Smith', 28),\n",
    "        ('Balto', 'Josh', 'King', 25),\n",
    "        ('Barry', 'Josh', 'King', 25),\n",
    "        ('Snape', 'Hannah', 'Taylor', 40),\n",
    "        ('Zooma', 'Simon', 'Nevel', 32),\n",
    "        ('Lassie', 'Josh', 'King', 25)]\n",
    "\n",
    "result = {}\n",
    "for pet in pets:\n",
    "    result.setdefault(pet[1:], []).append(pet[0])\n",
    "\n",
    "print(result)"
   ]
  },
  {
   "cell_type": "code",
   "execution_count": 19,
   "id": "d15d58fd",
   "metadata": {
    "ExecuteTime": {
     "end_time": "2023-03-08T09:46:16.469992Z",
     "start_time": "2023-03-08T09:46:16.464683Z"
    }
   },
   "outputs": [
    {
     "name": "stdout",
     "output_type": "stream",
     "text": [
      "{('Josh', 'King', 25): ['Rusty', 'Balto', 'Barry', 'Lassie'], ('John', 'Smith', 28): ['Fido'], ('Hannah', 'Taylor', 40): ['Snape'], ('Simon', 'Nevel', 32): ['Zooma']}\n"
     ]
    }
   ],
   "source": [
    "result = {}\n",
    "for i in pets:\n",
    "    result[i[1:]] = result.get(i[1:], []) + i[0].split()\n",
    "\n",
    "print(result)"
   ]
  },
  {
   "cell_type": "markdown",
   "id": "278ed4cf",
   "metadata": {},
   "source": [
    "# Строки"
   ]
  },
  {
   "cell_type": "markdown",
   "id": "aa846fe3",
   "metadata": {},
   "source": [
    "## Найти наиболее часто встречающееся слово строки s. Вывести наименьшее в лексикографическом порядке."
   ]
  },
  {
   "cell_type": "code",
   "execution_count": 16,
   "id": "1c61cdac",
   "metadata": {
    "ExecuteTime": {
     "end_time": "2023-03-08T09:21:46.447768Z",
     "start_time": "2023-03-08T09:21:46.405807Z"
    }
   },
   "outputs": [
    {
     "name": "stdout",
     "output_type": "stream",
     "text": [
      "aba\n"
     ]
    }
   ],
   "source": [
    "# Быстро\n",
    "\n",
    "from collections import Counter\n",
    "\n",
    "s = input().splitlines()\n",
    "d = Counter(s.split())\n",
    "res = min(d, key=lambda x: (-d[x], x))\n",
    "print(res)"
   ]
  },
  {
   "cell_type": "code",
   "execution_count": 17,
   "id": "86e189f9",
   "metadata": {
    "ExecuteTime": {
     "end_time": "2023-03-08T09:21:47.348740Z",
     "start_time": "2023-03-08T09:21:47.340564Z"
    }
   },
   "outputs": [
    {
     "name": "stdout",
     "output_type": "stream",
     "text": [
      "aba\n"
     ]
    }
   ],
   "source": [
    "# Эффективно, но медленнее\n",
    "\n",
    "s = input().splitlines()\n",
    "\n",
    "d = {}\n",
    "for i in s.split():\n",
    "    d[i] = d.get(i, 0) + 1\n",
    "\n",
    "res = min(d, key=lambda x: (-d[x], x))\n",
    "print(res)"
   ]
  },
  {
   "cell_type": "code",
   "execution_count": null,
   "id": "abcfc9d4",
   "metadata": {},
   "outputs": [],
   "source": [
    "# Строка вводится из файла\n",
    "\n",
    "with open('input.txt') as f:\n",
    "    inp = f.read().splitlines()\n",
    "\n",
    "s = ' '.join(inp)\n",
    "d = {}\n",
    "for i in s.split():\n",
    "    d[i] = d.get(i, 0) + 1\n",
    "\n",
    "res = min(d, key=lambda x: (-d[x], x))\n",
    "print(res)"
   ]
  },
  {
   "cell_type": "markdown",
   "id": "c8e1716e",
   "metadata": {},
   "source": [
    "## Заменить определенные символы строки"
   ]
  },
  {
   "cell_type": "code",
   "execution_count": 1,
   "id": "f47d276d",
   "metadata": {
    "ExecuteTime": {
     "end_time": "2023-06-17T14:15:53.565277Z",
     "start_time": "2023-06-17T14:15:53.560404Z"
    }
   },
   "outputs": [
    {
     "name": "stdout",
     "output_type": "stream",
     "text": [
      "exam pl e\n"
     ]
    }
   ],
   "source": [
    "from re import sub\n",
    "\n",
    "s = 'examgplse'\n",
    "s = sub('[g|s]', ' ', s)  # заменит буквы s g на пробел\n",
    "print(s)"
   ]
  },
  {
   "cell_type": "markdown",
   "id": "1a914870",
   "metadata": {},
   "source": [
    "## Регулярное выражение вида \"ZZ(произвольное количество любых символов)XX\""
   ]
  },
  {
   "cell_type": "code",
   "execution_count": 2,
   "id": "6a9342f3",
   "metadata": {
    "ExecuteTime": {
     "end_time": "2023-06-17T14:15:55.565792Z",
     "start_time": "2023-06-17T14:15:55.559920Z"
    }
   },
   "outputs": [
    {
     "name": "stdout",
     "output_type": "stream",
     "text": [
      "['ZZ some text between XX', 'ZZ some text 3 XX', 'ZZ some text 4XX']\n"
     ]
    }
   ],
   "source": [
    "from re import findall\n",
    "\n",
    "test = 'ZZ some text between XX some text 2 ZZ some text 3 XXZZ some text 4XX'\n",
    "ans = findall(r'ZZ.+?XX', test)\n",
    "print(ans)"
   ]
  },
  {
   "cell_type": "code",
   "execution_count": null,
   "id": "28080feb",
   "metadata": {},
   "outputs": [],
   "source": [
    "for x in [2, 3, 5, 7, 11, 13, 17, 19, 23, 29]:\n",
    "    z = x ** 4\n",
    "    w = x ** 5\n",
    "    if 1523466 < w < 8157813:\n",
    "        print(z, w)\n",
    "\n",
    "\n",
    "def divs(n):\n",
    "    d = set()\n",
    "    for i in range(2, int(n ** 0.5) + 1):\n",
    "        if n % i == 0:\n",
    "            d |= {i, n // i}\n",
    "\n",
    "    return sorted(d)\n",
    "\n",
    "\n",
    "# for i in range(152466, 8157813):\n",
    "#     if len(divs(i)) == 9:\n",
    "#         print(divs(i))\n",
    "print(divs(1523466))\n",
    "print(1523466 // 339 ** 5)\n"
   ]
  }
 ],
 "metadata": {
  "kernelspec": {
   "display_name": "Python 3 (ipykernel)",
   "language": "python",
   "name": "python3"
  },
  "language_info": {
   "codemirror_mode": {
    "name": "ipython",
    "version": 3
   },
   "file_extension": ".py",
   "mimetype": "text/x-python",
   "name": "python",
   "nbconvert_exporter": "python",
   "pygments_lexer": "ipython3",
   "version": "3.10.12"
  },
  "toc": {
   "base_numbering": 1,
   "nav_menu": {},
   "number_sections": true,
   "sideBar": true,
   "skip_h1_title": false,
   "title_cell": "Table of Contents",
   "title_sidebar": "Contents",
   "toc_cell": false,
   "toc_position": {
    "height": "calc(100% - 180px)",
    "left": "10px",
    "top": "150px",
    "width": "380.6px"
   },
   "toc_section_display": true,
   "toc_window_display": false
  }
 },
 "nbformat": 4,
 "nbformat_minor": 5
}
