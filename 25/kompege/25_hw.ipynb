{
 "cells": [
  {
   "cell_type": "code",
   "execution_count": 6,
   "id": "831c7bcb",
   "metadata": {
    "ExecuteTime": {
     "end_time": "2023-03-14T12:50:02.336610Z",
     "start_time": "2023-03-14T12:50:02.325086Z"
    }
   },
   "outputs": [
    {
     "name": "stdout",
     "output_type": "stream",
     "text": [
      "3 58153\n",
      "7 24923\n",
      "59 2957\n",
      "13 13421\n",
      "149 1171\n",
      "5 34897\n",
      "211 827\n",
      "2 87251\n"
     ]
    }
   ],
   "source": [
    "def divs(n):\n",
    "    d = set()\n",
    "    for i in range(2, int(n ** 0.5) + 1):\n",
    "        if n % i == 0:\n",
    "            d |= {i, n // i}\n",
    "    \n",
    "    return sorted(d)\n",
    "\n",
    "ans = []\n",
    "for i in range(174457, 174506):\n",
    "    d = divs(i)\n",
    "    if len(d) == 2:\n",
    "        ans.append((d[0] * d[1], d[0], d[1]))\n",
    "                   \n",
    "for i in sorted(ans):\n",
    "    print(i[1], i[2])"
   ]
  },
  {
   "cell_type": "code",
   "execution_count": 3,
   "id": "6201f028",
   "metadata": {
    "ExecuteTime": {
     "end_time": "2023-03-14T14:24:52.962987Z",
     "start_time": "2023-03-14T14:24:52.289933Z"
    }
   },
   "outputs": [
    {
     "name": "stdout",
     "output_type": "stream",
     "text": [
      "17 289 4913\n",
      "19 361 6859\n"
     ]
    }
   ],
   "source": [
    "def divs(n):\n",
    "    d = set()\n",
    "    for i in range(2, int(n ** 0.5) + 1):\n",
    "        if n % i == 0:\n",
    "            d |= {i, n // i}\n",
    "            \n",
    "    return sorted(d)\n",
    "\n",
    "\n",
    "ans = []\n",
    "for i in range(81234, 134690):\n",
    "    d = divs(i)\n",
    "    if len(d) == 3:\n",
    "        print(d[0], d[1], d[2])"
   ]
  },
  {
   "cell_type": "code",
   "execution_count": 10,
   "id": "08851b54",
   "metadata": {
    "ExecuteTime": {
     "end_time": "2023-03-14T14:56:01.668119Z",
     "start_time": "2023-03-14T14:56:01.658901Z"
    }
   },
   "outputs": [
    {
     "name": "stdout",
     "output_type": "stream",
     "text": [
      "51343 154029\n",
      "77017 154034\n",
      "4969 154039\n",
      "51347 154041\n"
     ]
    }
   ],
   "source": [
    "def divs(n):\n",
    "    d = set()\n",
    "    for i in range(1, int(n ** 0.5) + 1):\n",
    "        if n % i == 0:\n",
    "            d |= {i, n // i}\n",
    "            \n",
    "    return sorted(d)\n",
    "\n",
    "\n",
    "for i in range(154026, 154044):\n",
    "    d = divs(i)\n",
    "    if len(d) == 4:\n",
    "        d.sort()\n",
    "        print(d[-2], d[-1])"
   ]
  },
  {
   "cell_type": "code",
   "execution_count": 10,
   "id": "390626cf",
   "metadata": {
    "ExecuteTime": {
     "end_time": "2023-03-23T12:42:04.286168Z",
     "start_time": "2023-03-23T12:42:04.271076Z"
    }
   },
   "outputs": [
    {
     "name": "stdout",
     "output_type": "stream",
     "text": [
      "150016 150745\n",
      "150024 310775\n",
      "150048 277469\n",
      "150108 250403\n",
      "150139 13660\n",
      "150144 290495\n",
      "150146 81273\n"
     ]
    }
   ],
   "source": [
    "def divs(x):\n",
    "    d = set()\n",
    "    for i in range(2, int(x ** 0.5) + 1):\n",
    "        if x % i == 0:\n",
    "            d |= {i, x // i}\n",
    "    \n",
    "    return sorted(d)\n",
    "\n",
    "\n",
    "cnt = 0\n",
    "for i in range(150000, 150150):\n",
    "    d = divs(i)\n",
    "    if len(d) != 0:\n",
    "        if (sum(d) % 13) == 10:\n",
    "            print(i, sum(d))\n",
    "            \n",
    "            cnt += 1\n",
    "            if cnt == 7:\n",
    "                break"
   ]
  },
  {
   "cell_type": "code",
   "execution_count": 12,
   "id": "33f6a70a",
   "metadata": {
    "ExecuteTime": {
     "end_time": "2023-03-23T12:45:34.705763Z",
     "start_time": "2023-03-23T12:45:34.689527Z"
    }
   },
   "outputs": [
    {
     "name": "stdout",
     "output_type": "stream",
     "text": [
      "250212 125108\n",
      "250458 125231\n",
      "250593 83534\n",
      "250621 35810\n",
      "250704 125354\n"
     ]
    }
   ],
   "source": [
    "def divs(x):\n",
    "    d = set()\n",
    "    for i in range(2, int(x ** 0.5) + 1):\n",
    "        if x % i == 0:\n",
    "            d |= {i, x // i}\n",
    "            \n",
    "    return sorted(d)\n",
    "\n",
    "\n",
    "cnt = 0\n",
    "for i in range(250200, 260000):\n",
    "    d = divs(i)\n",
    "    if len(d) >= 2:\n",
    "        sm = d[0] + d[-1]\n",
    "        if sm % 123 == 17:\n",
    "            print(i, sm)\n",
    "\n",
    "            cnt += 1\n",
    "            if cnt == 5:\n",
    "                break"
   ]
  },
  {
   "cell_type": "code",
   "execution_count": null,
   "id": "b0d7e98c",
   "metadata": {},
   "outputs": [],
   "source": [
    "def divs(x):\n",
    "    d = set()\n",
    "    for i in range(2, int(x ** 0.5) + 1):\n",
    "        if x % i == 0:\n",
    "            d |= {i, x // i}\n",
    "            \n",
    "    return sorted(d)\n",
    "\n",
    "\n",
    "for i in range(550000, 560000):\n",
    "    d = divs(i)\n",
    "    f = sum(d) // len(d)\n",
    "    "
   ]
  },
  {
   "cell_type": "code",
   "execution_count": null,
   "id": "1df8f14c",
   "metadata": {},
   "outputs": [],
   "source": []
  },
  {
   "cell_type": "code",
   "execution_count": null,
   "id": "62cc5815",
   "metadata": {},
   "outputs": [],
   "source": []
  },
  {
   "cell_type": "code",
   "execution_count": null,
   "id": "e343a78d",
   "metadata": {},
   "outputs": [],
   "source": []
  }
 ],
 "metadata": {
  "kernelspec": {
   "display_name": "Python 3 (ipykernel)",
   "language": "python",
   "name": "python3"
  },
  "language_info": {
   "codemirror_mode": {
    "name": "ipython",
    "version": 3
   },
   "file_extension": ".py",
   "mimetype": "text/x-python",
   "name": "python",
   "nbconvert_exporter": "python",
   "pygments_lexer": "ipython3",
   "version": "3.10.6"
  }
 },
 "nbformat": 4,
 "nbformat_minor": 5
}
