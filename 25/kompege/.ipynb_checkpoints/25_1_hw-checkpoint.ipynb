{
 "cells": [
  {
   "cell_type": "code",
   "execution_count": null,
   "id": "831c7bcb",
   "metadata": {
    "ExecuteTime": {
     "end_time": "2023-03-14T12:50:02.336610Z",
     "start_time": "2023-03-14T12:50:02.325086Z"
    }
   },
   "outputs": [],
   "source": [
    "def divs(n):\n",
    "    d = set()\n",
    "    for i in range(2, int(n ** 0.5) + 1):\n",
    "        if n % i == 0:\n",
    "            d |= {i, n // i}\n",
    "\n",
    "    return sorted(d)\n",
    "\n",
    "\n",
    "ans = []\n",
    "for i in range(174457, 174506):\n",
    "    d = divs(i)\n",
    "    if len(d) == 2:\n",
    "        ans.append((d[0] * d[1], d[0], d[1]))\n",
    "\n",
    "for i in sorted(ans):\n",
    "    print(i[1], i[2])"
   ]
  },
  {
   "cell_type": "code",
   "execution_count": null,
   "id": "6201f028",
   "metadata": {
    "ExecuteTime": {
     "end_time": "2023-03-14T14:24:52.962987Z",
     "start_time": "2023-03-14T14:24:52.289933Z"
    }
   },
   "outputs": [],
   "source": [
    "def divs(n):\n",
    "    d = set()\n",
    "    for i in range(2, int(n ** 0.5) + 1):\n",
    "        if n % i == 0:\n",
    "            d |= {i, n // i}\n",
    "\n",
    "    return sorted(d)\n",
    "\n",
    "\n",
    "ans = []\n",
    "for i in range(81234, 134690):\n",
    "    d = divs(i)\n",
    "    if len(d) == 3:\n",
    "        print(d[0], d[1], d[2])"
   ]
  },
  {
   "cell_type": "code",
   "execution_count": null,
   "id": "08851b54",
   "metadata": {
    "ExecuteTime": {
     "end_time": "2023-03-14T14:56:01.668119Z",
     "start_time": "2023-03-14T14:56:01.658901Z"
    }
   },
   "outputs": [],
   "source": [
    "def divs(n):\n",
    "    d = set()\n",
    "    for i in range(1, int(n ** 0.5) + 1):\n",
    "        if n % i == 0:\n",
    "            d |= {i, n // i}\n",
    "\n",
    "    return sorted(d)\n",
    "\n",
    "\n",
    "for i in range(154026, 154044):\n",
    "    d = divs(i)\n",
    "    if len(d) == 4:\n",
    "        d.sort()\n",
    "        print(d[-2], d[-1])"
   ]
  },
  {
   "cell_type": "code",
   "execution_count": null,
   "id": "390626cf",
   "metadata": {
    "ExecuteTime": {
     "end_time": "2023-03-23T12:42:04.286168Z",
     "start_time": "2023-03-23T12:42:04.271076Z"
    }
   },
   "outputs": [],
   "source": [
    "def divs(x):\n",
    "    d = set()\n",
    "    for i in range(2, int(x ** 0.5) + 1):\n",
    "        if x % i == 0:\n",
    "            d |= {i, x // i}\n",
    "\n",
    "    return sorted(d)\n",
    "\n",
    "\n",
    "cnt = 0\n",
    "for i in range(150000, 150150):\n",
    "    d = divs(i)\n",
    "    if len(d) != 0:\n",
    "        if (sum(d) % 13) == 10:\n",
    "            print(i, sum(d))\n",
    "\n",
    "            cnt += 1\n",
    "            if cnt == 7:\n",
    "                break"
   ]
  },
  {
   "cell_type": "code",
   "execution_count": null,
   "id": "33f6a70a",
   "metadata": {
    "ExecuteTime": {
     "end_time": "2023-03-23T12:45:34.705763Z",
     "start_time": "2023-03-23T12:45:34.689527Z"
    }
   },
   "outputs": [],
   "source": [
    "def divs(x):\n",
    "    d = set()\n",
    "    for i in range(2, int(x ** 0.5) + 1):\n",
    "        if x % i == 0:\n",
    "            d |= {i, x // i}\n",
    "\n",
    "    return sorted(d)\n",
    "\n",
    "\n",
    "cnt = 0\n",
    "for i in range(250200, 260000):\n",
    "    d = divs(i)\n",
    "    if len(d) >= 2:\n",
    "        sm = d[0] + d[-1]\n",
    "        if sm % 123 == 17:\n",
    "            print(i, sm)\n",
    "\n",
    "            cnt += 1\n",
    "            if cnt == 5:\n",
    "                break"
   ]
  },
  {
   "cell_type": "code",
   "execution_count": null,
   "id": "b0d7e98c",
   "metadata": {},
   "outputs": [],
   "source": [
    "def divs(x):\n",
    "    d = set()\n",
    "    for i in range(2, int(x ** 0.5) + 1):\n",
    "        if x % i == 0:\n",
    "            d |= {i, x // i}\n",
    "\n",
    "    return sorted(d)\n",
    "\n",
    "\n",
    "for i in range(550000, 560000):\n",
    "    d = divs(i)\n",
    "    f = sum(d) // len(d)"
   ]
  },
  {
   "cell_type": "code",
   "execution_count": null,
   "id": "1df8f14c",
   "metadata": {},
   "outputs": [],
   "source": [
    "def divs(x):\n",
    "    d = set()\n",
    "    for i in range(2, int(x ** 0.5) + 1):\n",
    "        if x % i == 0:\n",
    "            d |= {i, x // i}\n",
    "\n",
    "    return sorted(d)\n",
    "\n",
    "\n",
    "def f(x):\n",
    "    d = divs(x)\n",
    "    if len(d) != 0:\n",
    "        sr = sum(d) // len(d)\n",
    "        return sr\n",
    "    return 0\n",
    "\n",
    "\n",
    "cnt = 0\n",
    "for i in range(550000, 10 ** 7):\n",
    "    if f(i) % 31 == 13:\n",
    "        print(i, f(i))\n",
    "        cnt += 1\n",
    "        if cnt == 5:\n",
    "            break"
   ]
  },
  {
   "cell_type": "code",
   "execution_count": null,
   "id": "62cc5815",
   "metadata": {
    "ExecuteTime": {
     "end_time": "2023-04-07T20:10:16.222625Z",
     "start_time": "2023-04-07T20:10:03.439112Z"
    }
   },
   "outputs": [],
   "source": [
    "from math import prod\n",
    "\n",
    "\n",
    "def divs(x):\n",
    "    d = set()\n",
    "    for i in range(2, int(x ** 0.5) + 1):\n",
    "        if x % i == 0:\n",
    "            d |= {i, x // i}\n",
    "\n",
    "    return sorted(d)[:5]\n",
    "\n",
    "\n",
    "def p(n):\n",
    "    d = divs(n)\n",
    "    if len(d) == 5:\n",
    "        return prod(d)\n",
    "    return 0\n",
    "\n",
    "\n",
    "for i in range(400_000_000, 400_100_000):\n",
    "    if p(i) != 0:\n",
    "        if p(i) % 100 == 17 and p(i) <= i:\n",
    "            d = divs(i)\n",
    "            print(p(i), d[-1])\n",
    "        "
   ]
  },
  {
   "cell_type": "code",
   "execution_count": null,
   "id": "e343a78d",
   "metadata": {
    "ExecuteTime": {
     "end_time": "2023-04-07T20:20:22.794687Z",
     "start_time": "2023-04-07T20:20:22.780607Z"
    }
   },
   "outputs": [],
   "source": [
    "def divs(x):\n",
    "    d = set()\n",
    "    for i in range(1, int(x ** 0.5) + 1):\n",
    "        if x % i == 0:\n",
    "            d |= {i, x // i}\n",
    "\n",
    "    return sorted(d)\n",
    "\n",
    "\n",
    "for i in range(190201, 190261):\n",
    "    d = divs(i)\n",
    "    res = sorted([x for x in d if x % 2 == 0])\n",
    "    if len(res) == 4:\n",
    "        print(res[-1], res[-2])"
   ]
  },
  {
   "cell_type": "code",
   "execution_count": null,
   "id": "dd51019b",
   "metadata": {
    "ExecuteTime": {
     "end_time": "2023-04-07T20:24:25.533213Z",
     "start_time": "2023-04-07T20:24:25.511293Z"
    }
   },
   "outputs": [],
   "source": [
    "def divs(x):\n",
    "    d = set()\n",
    "    for i in range(2, int(x ** 0.5) + 1):\n",
    "        if x % i == 0:\n",
    "            d |= {i, x // i}\n",
    "\n",
    "    return sorted(d)\n",
    "\n",
    "\n",
    "for i in range(1204300, 1204381):\n",
    "    d = divs(i)\n",
    "    s = sum([x for x in d if x % 2 == 0])\n",
    "    if s != 0 and s % 10 == 0:\n",
    "        print(i, s)"
   ]
  },
  {
   "cell_type": "code",
   "execution_count": null,
   "id": "6626634c",
   "metadata": {
    "ExecuteTime": {
     "end_time": "2023-04-07T20:31:11.161774Z",
     "start_time": "2023-04-07T20:31:11.150129Z"
    }
   },
   "outputs": [],
   "source": [
    "def divs(x):\n",
    "    d = set()\n",
    "    for i in range(2, int(x ** 0.5) + 1):\n",
    "        if x % i == 0:\n",
    "            d |= {i, x // i}\n",
    "\n",
    "    return sorted(d)\n",
    "\n",
    "\n",
    "for i in range(500_000, 500_022):\n",
    "    d = divs(i)\n",
    "    res = [x for x in d if x % 10 == 8 and x != 8]\n",
    "    if len(res) != 0:\n",
    "        print(i, min(res))"
   ]
  },
  {
   "cell_type": "code",
   "execution_count": null,
   "id": "1eee0eaf",
   "metadata": {
    "ExecuteTime": {
     "end_time": "2023-04-07T20:32:32.034183Z",
     "start_time": "2023-04-07T20:32:32.017570Z"
    }
   },
   "outputs": [],
   "source": [
    "def divs(x):\n",
    "    d = set()\n",
    "    for i in range(2, int(x ** 0.5) + 1):\n",
    "        if x % i == 0:\n",
    "            d |= {i, x // i}\n",
    "\n",
    "    return sorted(d)\n",
    "\n",
    "\n",
    "for i in range(300_000, 300_200):\n",
    "    d = divs(i)\n",
    "    res = [x for x in d if x % 3 == 0]\n",
    "    if len(res) == 5:\n",
    "        print(i, max(res))"
   ]
  },
  {
   "cell_type": "code",
   "execution_count": null,
   "id": "6734f9bc",
   "metadata": {},
   "outputs": [],
   "source": []
  },
  {
   "cell_type": "code",
   "execution_count": 50,
   "id": "9fbeea2c",
   "metadata": {
    "ExecuteTime": {
     "end_time": "2023-04-07T20:35:50.443781Z",
     "start_time": "2023-04-07T20:35:50.429020Z"
    }
   },
   "outputs": [
    {
     "name": "stdout",
     "output_type": "stream",
     "text": [
      "6080069\n",
      "6080131\n",
      "6080141\n",
      "6080147\n",
      "6080149\n",
      "6080153\n",
      "6080161\n"
     ]
    }
   ],
   "source": [
    "def prime(x):\n",
    "    res = all(x % i != 0 for i in range(2, int(x ** 0.5) + 1))\n",
    "    return x > 1 and res\n",
    "\n",
    "for i in range(6080068, 6080177):\n",
    "    if prime(i):\n",
    "        print(i)"
   ]
  },
  {
   "cell_type": "code",
   "execution_count": null,
   "id": "8881a59c",
   "metadata": {},
   "outputs": [],
   "source": []
  },
  {
   "cell_type": "code",
   "execution_count": null,
   "id": "fca68ca1",
   "metadata": {},
   "outputs": [],
   "source": []
  },
  {
   "cell_type": "code",
   "execution_count": null,
   "id": "936d48e5",
   "metadata": {},
   "outputs": [],
   "source": []
  },
  {
   "cell_type": "code",
   "execution_count": null,
   "id": "18fc17af",
   "metadata": {},
   "outputs": [],
   "source": []
  },
  {
   "cell_type": "code",
   "execution_count": null,
   "id": "83fab7f0",
   "metadata": {},
   "outputs": [],
   "source": []
  },
  {
   "cell_type": "code",
   "execution_count": null,
   "id": "c1df71a5",
   "metadata": {},
   "outputs": [],
   "source": []
  },
  {
   "cell_type": "code",
   "execution_count": null,
   "id": "e5a9b3d6",
   "metadata": {},
   "outputs": [],
   "source": []
  },
  {
   "cell_type": "code",
   "execution_count": null,
   "id": "3419f353",
   "metadata": {},
   "outputs": [],
   "source": []
  },
  {
   "cell_type": "code",
   "execution_count": null,
   "id": "de96f720",
   "metadata": {},
   "outputs": [],
   "source": []
  },
  {
   "cell_type": "code",
   "execution_count": null,
   "id": "20273f34",
   "metadata": {},
   "outputs": [],
   "source": []
  },
  {
   "cell_type": "code",
   "execution_count": null,
   "id": "67d45815",
   "metadata": {},
   "outputs": [],
   "source": []
  }
 ],
 "metadata": {
  "kernelspec": {
   "display_name": "Python 3 (ipykernel)",
   "language": "python",
   "name": "python3"
  },
  "language_info": {
   "codemirror_mode": {
    "name": "ipython",
    "version": 3
   },
   "file_extension": ".py",
   "mimetype": "text/x-python",
   "name": "python",
   "nbconvert_exporter": "python",
   "pygments_lexer": "ipython3",
   "version": "3.10.6"
  },
  "toc": {
   "base_numbering": 1,
   "nav_menu": {},
   "number_sections": true,
   "sideBar": true,
   "skip_h1_title": false,
   "title_cell": "Table of Contents",
   "title_sidebar": "Contents",
   "toc_cell": false,
   "toc_position": {},
   "toc_section_display": true,
   "toc_window_display": false
  }
 },
 "nbformat": 4,
 "nbformat_minor": 5
}
