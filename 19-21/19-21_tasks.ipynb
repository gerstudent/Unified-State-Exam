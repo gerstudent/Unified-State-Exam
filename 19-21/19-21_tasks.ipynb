{
 "cells": [
  {
   "cell_type": "markdown",
   "source": [
    "# Для одной кучи"
   ],
   "metadata": {
    "collapsed": false
   }
  },
  {
   "cell_type": "markdown",
   "source": [
    "## 19"
   ],
   "metadata": {
    "collapsed": false
   }
  },
  {
   "cell_type": "code",
   "execution_count": 1,
   "outputs": [
    {
     "name": "stdout",
     "output_type": "stream",
     "text": [
      "2 B2\n",
      "3 B2\n",
      "4 P2\n",
      "5 P2\n",
      "6 P2\n",
      "7 B1\n",
      "8 B1\n",
      "9 B1\n",
      "10 B1\n",
      "11 B1\n",
      "12 B1\n",
      "13 P1\n",
      "14 P1\n",
      "15 P1\n",
      "16 P1\n",
      "17 P1\n",
      "18 P1\n",
      "19 P1\n",
      "20 P1\n",
      "21 P1\n",
      "22 P1\n",
      "23 P1\n",
      "24 P1\n"
     ]
    }
   ],
   "source": [
    "from functools import lru_cache\n",
    "\n",
    "win = 25\n",
    "sl = 24\n",
    "\n",
    "\n",
    "def moves(h):\n",
    "    return h + 2, h * 2\n",
    "\n",
    "\n",
    "@lru_cache(None)\n",
    "def f(h):\n",
    "    if h >= win:\n",
    "        return \"W\"\n",
    "    if any(f(x) == \"W\" for x in moves(h)):\n",
    "        return \"P1\"\n",
    "    # Ваня выигрывает первым ходом при неудачном ходе Пети - any, при любой игре Пети - all\n",
    "    if any(f(x) == \"P1\" for x in moves(h)):\n",
    "        return \"B1\"\n",
    "    if any(f(x) == \"B1\" for x in moves(h)):\n",
    "        return \"P2\"\n",
    "    if all(f(x) == \"P1\" or f(x) == \"P2\" for x in moves(h)):\n",
    "        return \"B2\"\n",
    "\n",
    "\n",
    "for i in range(1, sl + 1):\n",
    "    if f(i) is not None:\n",
    "        print(i, f(i))"
   ],
   "metadata": {
    "collapsed": false
   }
  },
  {
   "cell_type": "markdown",
   "source": [
    "## 20, 21"
   ],
   "metadata": {
    "collapsed": false
   }
  },
  {
   "cell_type": "code",
   "execution_count": null,
   "outputs": [],
   "source": [
    "from functools import lru_cache\n",
    "\n",
    "win = 25\n",
    "sl = 24\n",
    "\n",
    "\n",
    "def moves(h):\n",
    "    return h + 2, h * 2\n",
    "\n",
    "\n",
    "@lru_cache(None)\n",
    "def f(h):\n",
    "    if h >= win:\n",
    "        return \"W\"\n",
    "    if any(f(x) == \"W\" for x in moves(h)):\n",
    "        return \"P1\"\n",
    "    if all(f(x) == \"P1\" for x in moves(h)):\n",
    "        return \"B1\"\n",
    "    if any(f(x) == \"B1\" for x in moves(h)):\n",
    "        return \"P2\"\n",
    "    if all(f(x) == \"P1\" or f(x) == \"P2\" for x in moves(h)):\n",
    "        return \"B2\"\n",
    "\n",
    "\n",
    "for i in range(1, sl + 1):\n",
    "    if f(i) is not None:\n",
    "        print(i, f(i))"
   ],
   "metadata": {
    "collapsed": false
   }
  },
  {
   "cell_type": "markdown",
   "source": [
    "# Для двух куч"
   ],
   "metadata": {
    "collapsed": false
   }
  },
  {
   "cell_type": "markdown",
   "source": [
    "## 19\n",
    "\n",
    "> Известно, что Ваня выиграл своим первым ходом после неудачного первого хода Пети. Назовите минимальное значение S,\n",
    "> при котором это возможно."
   ],
   "metadata": {
    "collapsed": false
   }
  },
  {
   "cell_type": "code",
   "execution_count": null,
   "outputs": [],
   "source": [
    "from functools import lru_cache\n",
    "\n",
    "win = 75\n",
    "h1 = 9\n",
    "sl = 63\n",
    "\n",
    "\n",
    "def moves(h):\n",
    "    a, b = h\n",
    "    return (a + 3, b), (a, b + 3), (a * 2, b), (a, b * 2)\n",
    "\n",
    "\n",
    "@lru_cache(None)\n",
    "def f(h):\n",
    "    if sum(h) >= win:\n",
    "        return \"W\"\n",
    "    if any(f(x) == \"W\" for x in moves(h)):\n",
    "        return \"P1\"\n",
    "    if any(f(x) == \"P1\" for x in moves(h)):\n",
    "        return \"B1\"\n",
    "    if any(f(x) == \"B1\" for x in moves(h)):\n",
    "        return \"P2\"\n",
    "    if all(f(x) == \"P1\" or f(x) == \"P2\" for x in moves(h)):\n",
    "        return \"B2\"\n",
    "\n",
    "\n",
    "for s in range(1, sl + 1):\n",
    "    if f((h1, s)) is not None:\n",
    "        print(s, f((h1, s)))"
   ],
   "metadata": {
    "collapsed": false
   }
  },
  {
   "cell_type": "markdown",
   "source": [
    "> Сколько существует значений S, при которых Ваня выигрывает первым ходом?"
   ],
   "metadata": {
    "collapsed": false
   }
  },
  {
   "cell_type": "code",
   "execution_count": null,
   "outputs": [],
   "source": [
    "# any all any all\n",
    "for i in range(1, sl + 1):\n",
    "    if f(i) is not None:\n",
    "        if f(i) == \"B1\":\n",
    "            cnt += 1"
   ],
   "metadata": {
    "collapsed": false
   }
  },
  {
   "cell_type": "markdown",
   "source": [
    "## 20, 21"
   ],
   "metadata": {
    "collapsed": false
   }
  },
  {
   "cell_type": "markdown",
   "source": [
    "> №20 Найдите два таких значения S, при которых у Пети есть выигрышная стратегия, причём одно-временно выполняются два\n",
    "> условия:\n",
    "> 1) Петя не может выиграть за один ход;\n",
    "> 2) Петя может выиграть своим вторым ходом независимо от того, как будет ходить Ваня.\n",
    "\n",
    "> №21 Найдите значение S, при котором одновременно выполняются два условия:\n",
    "> 1) У Вани есть выигрышная стратегия, позволяющая ему выиграть первым или вторым ходом при любой игре Пети\n",
    "> 2) У Вани нет стратегии, которая позволит ему гарантированно выиграть первым ходом.\n"
   ],
   "metadata": {
    "collapsed": false
   }
  },
  {
   "cell_type": "code",
   "execution_count": null,
   "outputs": [],
   "source": [
    "\n",
    "from functools import lru_cache\n",
    "\n",
    "win = 41\n",
    "h1 = 9\n",
    "sl = 31\n",
    "\n",
    "\n",
    "def moves(h):\n",
    "    a, b = h\n",
    "    return (a + 1, b), (a, b + 1), (a * 2, b), (a, b * 2)\n",
    "\n",
    "\n",
    "@lru_cache(None)\n",
    "def f(h):\n",
    "    if sum(h) >= win:\n",
    "        return \"W\"\n",
    "    if any(f(x) == \"W\" for x in moves(h)):\n",
    "        return \"P1\"\n",
    "    if all(f(x) == \"P1\" for x in moves(h)):\n",
    "        return \"B1\"\n",
    "    if any(f(x) == \"B1\" for x in moves(h)):\n",
    "        return \"P2\"\n",
    "    if all(f(x) == \"P1\" or f(x) == \"P2\" for x in moves(h)):\n",
    "        return \"B2\"\n",
    "\n",
    "\n",
    "for s in range(1, sl + 1):\n",
    "    if f((h1, s)) is not None:\n",
    "        print(s, f((h1, s)))"
   ],
   "metadata": {
    "collapsed": false
   }
  },
  {
   "cell_type": "markdown",
   "source": [
    "> Сколько существует значений S, при которых Петя может выиграть своим вторым хо-дом?"
   ],
   "metadata": {
    "collapsed": false
   }
  },
  {
   "cell_type": "code",
   "execution_count": null,
   "outputs": [],
   "source": [
    "# any all any all\n",
    "for i in range(1, sl + 1):\n",
    "    if f(i) is not None:\n",
    "        if f(i) == \"P1\":\n",
    "            cnt += 1"
   ],
   "metadata": {
    "collapsed": false
   }
  }
 ],
 "metadata": {
  "kernelspec": {
   "display_name": "Python 3",
   "language": "python",
   "name": "python3"
  },
  "language_info": {
   "codemirror_mode": {
    "name": "ipython",
    "version": 2
   },
   "file_extension": ".py",
   "mimetype": "text/x-python",
   "name": "python",
   "nbconvert_exporter": "python",
   "pygments_lexer": "ipython2",
   "version": "2.7.6"
  }
 },
 "nbformat": 4,
 "nbformat_minor": 0
}
