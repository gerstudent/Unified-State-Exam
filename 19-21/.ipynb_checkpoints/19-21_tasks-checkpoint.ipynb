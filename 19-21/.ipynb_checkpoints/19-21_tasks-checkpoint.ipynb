{
 "cells": [
  {
   "cell_type": "markdown",
   "metadata": {},
   "source": [
    "# Для одной кучи"
   ]
  },
  {
   "cell_type": "markdown",
   "metadata": {},
   "source": [
    "## Алгоритм 1"
   ]
  },
  {
   "cell_type": "code",
   "execution_count": null,
   "metadata": {},
   "outputs": [],
   "source": [
    "def game(heap1, cur_step, goal_step):\n",
    "    if heap1 >= 51:\n",
    "        return cur_step % 2 == goal_step % 2\n",
    "    if cur_step == goal_step:\n",
    "        return False\n",
    "    Next_steps = [game(heap1 + 1, cur_step + 1, goal_step),\n",
    "                  game(heap1 + 3, cur_step + 1, goal_step),\n",
    "                  game(heap1 * 3, cur_step + 1, goal_step)]\n",
    "    return any(Next_steps) if (cur_step + 1) % 2 == goal_step % 2 else any(Next_steps)\n",
    "\n",
    "\n",
    "for heap1 in range(1, 51):\n",
    "    for goal_step in range(1, 5):\n",
    "        if game(heap1, 0, goal_step):\n",
    "            print(heap1, goal_step)\n",
    "            break"
   ]
  },
  {
   "cell_type": "markdown",
   "metadata": {},
   "source": [
    "## 19"
   ]
  },
  {
   "cell_type": "code",
   "execution_count": 1,
   "metadata": {},
   "outputs": [
    {
     "name": "stdout",
     "output_type": "stream",
     "text": [
      "2 B2\n",
      "3 B2\n",
      "4 P2\n",
      "5 P2\n",
      "6 P2\n",
      "7 B1\n",
      "8 B1\n",
      "9 B1\n",
      "10 B1\n",
      "11 B1\n",
      "12 B1\n",
      "13 P1\n",
      "14 P1\n",
      "15 P1\n",
      "16 P1\n",
      "17 P1\n",
      "18 P1\n",
      "19 P1\n",
      "20 P1\n",
      "21 P1\n",
      "22 P1\n",
      "23 P1\n",
      "24 P1\n"
     ]
    }
   ],
   "source": [
    "from functools import lru_cache\n",
    "\n",
    "win = 25\n",
    "sl = 24\n",
    "\n",
    "\n",
    "def moves(h):\n",
    "    return h + 2, h * 2\n",
    "\n",
    "\n",
    "@lru_cache(None)\n",
    "def f(h):\n",
    "    if h >= win:\n",
    "        return \"W\"\n",
    "    if any(f(x) == \"W\" for x in moves(h)):\n",
    "        return \"P1\"\n",
    "    # Ваня выигрывает первым ходом при неудачном ходе Пети - any, при любой игре Пети - all\n",
    "    if any(f(x) == \"P1\" for x in moves(h)):\n",
    "        return \"B1\"\n",
    "    if any(f(x) == \"B1\" for x in moves(h)):\n",
    "        return \"P2\"\n",
    "    if all(f(x) == \"P1\" or f(x) == \"P2\" for x in moves(h)):\n",
    "        return \"B2\"\n",
    "\n",
    "\n",
    "for i in range(1, sl + 1):\n",
    "    if f(i) is not None:\n",
    "        print(i, f(i))"
   ]
  },
  {
   "cell_type": "markdown",
   "metadata": {},
   "source": [
    "## 20, 21"
   ]
  },
  {
   "cell_type": "code",
   "execution_count": null,
   "metadata": {},
   "outputs": [],
   "source": [
    "from functools import lru_cache\n",
    "\n",
    "win = 25\n",
    "sl = 24\n",
    "\n",
    "\n",
    "def moves(h):\n",
    "    return h + 2, h * 2\n",
    "\n",
    "\n",
    "@lru_cache(None)\n",
    "def f(h):\n",
    "    if h >= win:\n",
    "        return \"W\"\n",
    "    if any(f(x) == \"W\" for x in moves(h)):\n",
    "        return \"P1\"\n",
    "    if all(f(x) == \"P1\" for x in moves(h)):\n",
    "        return \"B1\"\n",
    "    if any(f(x) == \"B1\" for x in moves(h)):\n",
    "        return \"P2\"\n",
    "    if all(f(x) == \"P1\" or f(x) == \"P2\" for x in moves(h)):\n",
    "        return \"B2\"\n",
    "\n",
    "\n",
    "for i in range(1, sl + 1):\n",
    "    if f(i) is not None:\n",
    "        print(i, f(i))"
   ]
  },
  {
   "cell_type": "markdown",
   "metadata": {},
   "source": [
    "# Для двух куч"
   ]
  },
  {
   "cell_type": "markdown",
   "metadata": {},
   "source": [
    "## 19\n",
    "\n",
    "> Известно, что Ваня выиграл своим первым ходом после неудачного первого хода Пети. Назовите минимальное значение S,\n",
    "> при котором это возможно."
   ]
  },
  {
   "cell_type": "code",
   "execution_count": null,
   "metadata": {},
   "outputs": [],
   "source": [
    "from functools import lru_cache\n",
    "\n",
    "win = 75\n",
    "h1 = 9\n",
    "sl = 63\n",
    "\n",
    "\n",
    "def moves(h):\n",
    "    a, b = h\n",
    "    return (a + 3, b), (a, b + 3), (a * 2, b), (a, b * 2)\n",
    "\n",
    "\n",
    "@lru_cache(None)\n",
    "def f(h):\n",
    "    if sum(h) >= win:\n",
    "        return \"W\"\n",
    "    if any(f(x) == \"W\" for x in moves(h)):\n",
    "        return \"P1\"\n",
    "    if any(f(x) == \"P1\" for x in moves(h)):\n",
    "        return \"B1\"\n",
    "    if any(f(x) == \"B1\" for x in moves(h)):\n",
    "        return \"P2\"\n",
    "    if all(f(x) == \"P1\" or f(x) == \"P2\" for x in moves(h)):\n",
    "        return \"B2\"\n",
    "\n",
    "\n",
    "for s in range(1, sl + 1):\n",
    "    if f((h1, s)) is not None:\n",
    "        print(s, f((h1, s)))"
   ]
  },
  {
   "cell_type": "markdown",
   "metadata": {},
   "source": [
    "> Сколько существует значений S, при которых Ваня выигрывает первым ходом?"
   ]
  },
  {
   "cell_type": "code",
   "execution_count": null,
   "metadata": {},
   "outputs": [],
   "source": [
    "# any all any all\n",
    "for i in range(1, sl + 1):\n",
    "    if f(i) is not None:\n",
    "        if f(i) == \"B1\":\n",
    "            cnt += 1"
   ]
  },
  {
   "cell_type": "markdown",
   "metadata": {},
   "source": [
    "## 20, 21"
   ]
  },
  {
   "cell_type": "markdown",
   "metadata": {},
   "source": [
    "> №20 Найдите два таких значения S, при которых у Пети есть выигрышная стратегия, причём одно-временно выполняются два\n",
    "> условия:\n",
    "> 1) Петя не может выиграть за один ход;\n",
    "> 2) Петя может выиграть своим вторым ходом независимо от того, как будет ходить Ваня.\n",
    "\n",
    "> №21 Найдите значение S, при котором одновременно выполняются два условия:\n",
    "> 1) У Вани есть выигрышная стратегия, позволяющая ему выиграть первым или вторым ходом при любой игре Пети\n",
    "> 2) У Вани нет стратегии, которая позволит ему гарантированно выиграть первым ходом.\n"
   ]
  },
  {
   "cell_type": "code",
   "execution_count": null,
   "metadata": {},
   "outputs": [],
   "source": [
    "\n",
    "from functools import lru_cache\n",
    "\n",
    "win = 41\n",
    "h1 = 9\n",
    "sl = 31\n",
    "\n",
    "\n",
    "def moves(h):\n",
    "    a, b = h\n",
    "    return (a + 1, b), (a, b + 1), (a * 2, b), (a, b * 2)\n",
    "\n",
    "\n",
    "@lru_cache(None)\n",
    "def f(h):\n",
    "    if sum(h) >= win:\n",
    "        return \"W\"\n",
    "    if any(f(x) == \"W\" for x in moves(h)):\n",
    "        return \"P1\"\n",
    "    if all(f(x) == \"P1\" for x in moves(h)):\n",
    "        return \"B1\"\n",
    "    if any(f(x) == \"B1\" for x in moves(h)):\n",
    "        return \"P2\"\n",
    "    if all(f(x) == \"P1\" or f(x) == \"P2\" for x in moves(h)):\n",
    "        return \"B2\"\n",
    "\n",
    "\n",
    "for s in range(1, sl + 1):\n",
    "    if f((h1, s)) is not None:\n",
    "        print(s, f((h1, s)))"
   ]
  },
  {
   "cell_type": "markdown",
   "metadata": {},
   "source": [
    "> Сколько существует значений S, при которых Петя может выиграть своим вторым хо-дом?"
   ]
  },
  {
   "cell_type": "code",
   "execution_count": null,
   "metadata": {},
   "outputs": [],
   "source": [
    "# any all any all\n",
    "for i in range(1, sl + 1):\n",
    "    if f(i) is not None:\n",
    "        if f(i) == \"P1\":\n",
    "            cnt += 1"
   ]
  },
  {
   "cell_type": "markdown",
   "metadata": {},
   "source": [
    "# Четность / нечетность"
   ]
  },
  {
   "cell_type": "code",
   "execution_count": 4,
   "metadata": {},
   "outputs": [
    {
     "name": "stdout",
     "output_type": "stream",
     "text": [
      "1 4\n",
      "2 4\n",
      "3 3\n",
      "4 3\n",
      "5 3\n",
      "6 3\n",
      "7 2\n",
      "8 3\n",
      "9 2\n",
      "10 3\n",
      "11 2\n",
      "12 3\n",
      "13 2\n",
      "14 3\n",
      "15 2\n",
      "16 2\n",
      "17 1\n",
      "18 2\n",
      "19 1\n",
      "20 2\n",
      "21 1\n",
      "22 2\n",
      "23 1\n",
      "24 2\n",
      "25 1\n",
      "26 2\n",
      "27 1\n",
      "28 2\n",
      "29 1\n",
      "30 2\n",
      "31 1\n",
      "32 2\n",
      "33 1\n",
      "34 2\n",
      "35 1\n",
      "36 2\n",
      "37 1\n",
      "38 2\n",
      "39 1\n",
      "40 2\n",
      "41 1\n",
      "42 2\n",
      "43 1\n",
      "44 2\n",
      "45 1\n",
      "46 2\n",
      "47 1\n",
      "48 1\n",
      "49 1\n",
      "50 1\n"
     ]
    }
   ],
   "source": [
    "# 848 kompege: после каждого хода должно быть нечетное количество камней\n",
    "\n",
    "def game(heap1, cur, goal):\n",
    "    if heap1 >= 51:\n",
    "        return cur % 2 == goal % 2\n",
    "    if cur == goal:\n",
    "        return 0\n",
    "\n",
    "    if heap1 % 2 == 0:\n",
    "        steps = [game(heap1 + 1, cur + 1, goal), game(heap1 + 3, cur + 1, goal)]\n",
    "    else:\n",
    "        steps = [game(heap1 * 3, cur + 1, goal)]\n",
    "\n",
    "    return any(steps) if (cur + 1) % 2 == goal % 2 else all(steps)\n",
    "\n",
    "\n",
    "for heap1 in range(1, 51):\n",
    "    for goal in range(1, 5):\n",
    "        if game(heap1, 0, goal):\n",
    "            print(heap1, goal)\n",
    "            break"
   ]
  }
 ],
 "metadata": {
  "kernelspec": {
   "display_name": "Python 3 (ipykernel)",
   "language": "python",
   "name": "python3"
  },
  "language_info": {
   "codemirror_mode": {
    "name": "ipython",
    "version": 3
   },
   "file_extension": ".py",
   "mimetype": "text/x-python",
   "name": "python",
   "nbconvert_exporter": "python",
   "pygments_lexer": "ipython3",
   "version": "3.10.6"
  }
 },
 "nbformat": 4,
 "nbformat_minor": 1
}
