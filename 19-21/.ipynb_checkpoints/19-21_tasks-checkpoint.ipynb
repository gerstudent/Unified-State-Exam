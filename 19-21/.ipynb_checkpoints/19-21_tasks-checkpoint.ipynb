{
 "cells": [
  {
   "cell_type": "markdown",
   "metadata": {},
   "source": [
    "# Для одной кучи"
   ]
  },
  {
   "cell_type": "markdown",
   "metadata": {},
   "source": [
    "## Алгоритм 1"
   ]
  },
  {
   "cell_type": "code",
   "execution_count": null,
   "metadata": {
    "ExecuteTime": {
     "end_time": "2023-05-15T16:42:59.142316Z",
     "start_time": "2023-05-15T16:42:59.132057Z"
    }
   },
   "outputs": [],
   "source": [
    "def game(heap1, cur_step, goal_step):\n",
    "    if heap1 >= 51:\n",
    "        return cur_step % 2 == goal_step % 2\n",
    "    if cur_step == goal_step:\n",
    "        return False\n",
    "    Next_steps = [game(heap1 + 1, cur_step + 1, goal_step),\n",
    "                  game(heap1 + 3, cur_step + 1, goal_step),\n",
    "                  game(heap1 * 3, cur_step + 1, goal_step)]\n",
    "    return any(Next_steps) if (cur_step + 1) % 2 == goal_step % 2 else any(Next_steps)\n",
    "\n",
    "\n",
    "for heap1 in range(1, 51):\n",
    "    for goal_step in range(1, 5):\n",
    "        if game(heap1, 0, goal_step):\n",
    "            print(heap1, goal_step)\n",
    "            break"
   ]
  },
  {
   "cell_type": "markdown",
   "metadata": {},
   "source": [
    "## Алгоритм 2"
   ]
  },
  {
   "cell_type": "code",
   "execution_count": null,
   "metadata": {
    "ExecuteTime": {
     "end_time": "2023-05-15T16:43:02.388776Z",
     "start_time": "2023-05-15T16:43:02.378443Z"
    }
   },
   "outputs": [],
   "source": [
    "from functools import lru_cache\n",
    "\n",
    "\n",
    "def m(h):\n",
    "    return h + 2, h * 2\n",
    "\n",
    "\n",
    "@lru_cache(None)\n",
    "def g(h):\n",
    "    if h >= 25:\n",
    "        return 'w'\n",
    "    if any(g(x) == 'w' for x in m(h)):\n",
    "        return 'p1'\n",
    "    # Ваня выигрывает первым ходом при неудачном ходе Пети - any, при любой игре Пети - all\n",
    "    if any(g(x) == 'p1' for x in m(h)):\n",
    "        return 'v1'\n",
    "    if any(g(x) == 'v1' for x in m(h)):\n",
    "        return 'p2'\n",
    "    if all(g(x) == 'p1' or g(x) == 'p2' for x in m(h)):\n",
    "        return 'v2'\n",
    "\n",
    "\n",
    "for i in range(1, 25):\n",
    "    if g(i) is not None:\n",
    "        print(i, g(i))"
   ]
  },
  {
   "cell_type": "markdown",
   "metadata": {},
   "source": [
    "## 19"
   ]
  },
  {
   "cell_type": "code",
   "execution_count": null,
   "metadata": {
    "ExecuteTime": {
     "end_time": "2023-05-15T16:43:04.200981Z",
     "start_time": "2023-05-15T16:43:04.191155Z"
    }
   },
   "outputs": [],
   "source": [
    "from functools import lru_cache\n",
    "\n",
    "\n",
    "def m(h):\n",
    "    return h + 2, h * 2\n",
    "\n",
    "\n",
    "@lru_cache(None)\n",
    "def g(h):\n",
    "    if h >= 25:\n",
    "        return 'w'\n",
    "    if any(g(x) == 'w' for x in m(h)):\n",
    "        return 'p1'\n",
    "    if any(g(x) == 'p1' for x in m(h)):\n",
    "        return 'v1'\n",
    "    if any(g(x) == 'v1' for x in m(h)):\n",
    "        return 'p2'\n",
    "    if all(g(x) == 'p1' or g(x) == 'p2' for x in m(h)):\n",
    "        return 'v2'\n",
    "\n",
    "\n",
    "for i in range(1, 25):\n",
    "    if g(i) is not None:\n",
    "        print(i, g(i))"
   ]
  },
  {
   "cell_type": "markdown",
   "metadata": {},
   "source": [
    "## 20, 21"
   ]
  },
  {
   "cell_type": "code",
   "execution_count": null,
   "metadata": {
    "ExecuteTime": {
     "end_time": "2023-05-15T16:43:07.385614Z",
     "start_time": "2023-05-15T16:43:07.375896Z"
    }
   },
   "outputs": [],
   "source": [
    "from functools import lru_cache\n",
    "\n",
    "\n",
    "def m(h):\n",
    "    return h + 2, h * 2\n",
    "\n",
    "\n",
    "@lru_cache(None)\n",
    "def g(h):\n",
    "    if h >= 25:\n",
    "        return 'w'\n",
    "    if any(g(x) == 'w' for x in m(h)):\n",
    "        return 'p1'\n",
    "    if all(g(x) == 'p1' for x in m(h)):\n",
    "        return 'v1'\n",
    "    if any(g(x) == 'v1' for x in m(h)):\n",
    "        return 'p2'\n",
    "    if all(g(x) == 'p1' or g(x) == 'p2' for x in m(h)):\n",
    "        return 'v2'\n",
    "\n",
    "\n",
    "for i in range(1, 25):\n",
    "    if g(i) is not None:\n",
    "        print(i, g(i))"
   ]
  },
  {
   "cell_type": "markdown",
   "metadata": {},
   "source": [
    "# Для двух куч"
   ]
  },
  {
   "cell_type": "markdown",
   "metadata": {},
   "source": [
    "## 19\n",
    "\n",
    "> Известно, что Ваня выиграл своим первым ходом после неудачного первого хода Пети. Назовите минимальное значение S,\n",
    "> при котором это возможно."
   ]
  },
  {
   "cell_type": "code",
   "execution_count": null,
   "metadata": {
    "ExecuteTime": {
     "end_time": "2023-05-15T16:42:56.890643Z",
     "start_time": "2023-05-15T16:42:56.877266Z"
    }
   },
   "outputs": [],
   "source": [
    "from functools import lru_cache\n",
    "\n",
    "\n",
    "def m(h):\n",
    "    a, b = h\n",
    "    return (a + 3, b), (a, b + 3), (a * 2, b), (a, b * 2)\n",
    "\n",
    "\n",
    "@lru_cache(None)\n",
    "def g(h):\n",
    "    if sum(h) >= 75:\n",
    "        return 'w'\n",
    "    if any(g(x) == 'w' for x in m(h)):\n",
    "        return 'p1'\n",
    "    if any(g(x) == 'p1' for x in m(h)):\n",
    "        return 'v1'\n",
    "    if any(g(x) == 'v1' for x in m(h)):\n",
    "        return 'p2'\n",
    "    if all(g(x) == 'p1' or g(x) == 'p2' for x in m(h)):\n",
    "        return 'v2'\n",
    "\n",
    "\n",
    "for s in range(1, 64):\n",
    "    cur = g((9, s))\n",
    "    if cur is not None:\n",
    "        print(s, cur)"
   ]
  },
  {
   "cell_type": "markdown",
   "metadata": {},
   "source": [
    "> Сколько существует значений S, при которых Ваня выигрывает первым ходом?"
   ]
  },
  {
   "cell_type": "code",
   "execution_count": null,
   "metadata": {},
   "outputs": [],
   "source": [
    "# any all any all\n",
    "for i in range(1, sl + 1):\n",
    "    if g(i) is not None:\n",
    "        if g(i) == 'v1':\n",
    "            cnt += 1"
   ]
  },
  {
   "cell_type": "markdown",
   "metadata": {},
   "source": [
    "## 20, 21"
   ]
  },
  {
   "cell_type": "markdown",
   "metadata": {},
   "source": [
    "> №20 Найдите два таких значения S, при которых у Пети есть выигрышная стратегия, причём одно-временно выполняются два условия:\n",
    "\n",
    "1. Петя не может выиграть за один ход;\n",
    "2. Петя может выиграть своим вторым ходом независимо от того, как будет ходить Ваня.\n",
    "\n",
    "> №21 Найдите значение S, при котором одновременно выполняются два условия:\n",
    "\n",
    "1. У Вани есть выигрышная стратегия, позволяющая ему выиграть первым или вторым ходом при любой игре Пети\n",
    "2. У Вани нет стратегии, которая позволит ему гарантированно выиграть первым ходом.\n"
   ]
  },
  {
   "cell_type": "code",
   "execution_count": null,
   "metadata": {
    "ExecuteTime": {
     "end_time": "2023-05-15T16:39:00.882633Z",
     "start_time": "2023-05-15T16:39:00.847851Z"
    }
   },
   "outputs": [],
   "source": [
    "from functools import lru_cache\n",
    "\n",
    "\n",
    "def m(h):\n",
    "    a, b = h\n",
    "    return (a + 1, b), (a, b + 1), (a * 2, b), (a, b * 2)\n",
    "\n",
    "\n",
    "@lru_cache(None)\n",
    "def g(h):\n",
    "    if sum(h) >= 75:\n",
    "        return 'w'\n",
    "    if any(g(x) == 'w' for x in m(h)):\n",
    "        return 'p1'\n",
    "    if all(g(x) == 'p1' for x in m(h)):\n",
    "        return 'v1'\n",
    "    if any(g(x) == 'v1' for x in m(h)):\n",
    "        return 'p2'\n",
    "    if all(g(x) == 'p1' or g(x) == 'p2' for x in m(h)):\n",
    "        return 'v2'\n",
    "\n",
    "\n",
    "for s in range(1, 32):\n",
    "    res = g((9, s))\n",
    "    if res is not None:\n",
    "        print(s, res)"
   ]
  },
  {
   "cell_type": "markdown",
   "metadata": {},
   "source": [
    "> Сколько существует значений S, при которых Петя может выиграть своим вторым ходом?"
   ]
  },
  {
   "cell_type": "code",
   "execution_count": null,
   "metadata": {},
   "outputs": [],
   "source": [
    "# any all any all\n",
    "for i in range(1, sl + 1):\n",
    "    if g(i) is not None:\n",
    "        if g(i) == 'p1':\n",
    "            cnt += 1"
   ]
  },
  {
   "cell_type": "markdown",
   "metadata": {},
   "source": [
    "# Четность / нечетность"
   ]
  },
  {
   "cell_type": "markdown",
   "metadata": {},
   "source": [
    "> При этом после каждого хода в куче должно быть нечетное количество камней."
   ]
  },
  {
   "cell_type": "code",
   "execution_count": null,
   "metadata": {
    "ExecuteTime": {
     "end_time": "2023-05-15T16:42:24.917421Z",
     "start_time": "2023-05-15T16:42:24.906941Z"
    }
   },
   "outputs": [],
   "source": [
    "from functools import lru_cache\n",
    "\n",
    "\n",
    "def m(h):\n",
    "    a = []\n",
    "    if (h + 1) % 2 != 0:\n",
    "        a.append(h + 1)\n",
    "    if (h + 3) % 2 != 0:\n",
    "        a.append(h + 3)\n",
    "    if (h * 3) % 2 != 0:\n",
    "        a.append(h * 3)\n",
    "    return a\n",
    "\n",
    "\n",
    "@lru_cache(None)\n",
    "def g(h):\n",
    "    if h >= 51:\n",
    "        return 'w'\n",
    "    if any(g(x) == 'w' for x in m(h)):\n",
    "        return 'p1'\n",
    "    if any(g(x) == 'p1' for x in m(h)):\n",
    "        return 'v1'\n",
    "    if any(g(x) == 'v1' for x in m(h)):\n",
    "        return 'p2'\n",
    "    if all(g(x) == 'p1' or g(x) == 'p2' for x in m(h)):\n",
    "        return 'v2'\n",
    "\n",
    "\n",
    "for s in range(1, 51):\n",
    "    if g(s) == 'v1':\n",
    "        print(s, g(s))"
   ]
  },
  {
   "cell_type": "code",
   "execution_count": null,
   "metadata": {
    "ExecuteTime": {
     "end_time": "2023-05-15T16:42:28.303939Z",
     "start_time": "2023-05-15T16:42:28.290351Z"
    }
   },
   "outputs": [],
   "source": [
    "# 848 kompege: после каждого хода должно быть нечетное количество камней\n",
    "\n",
    "def game(heap1, cur, goal):\n",
    "    if heap1 >= 51:\n",
    "        return cur % 2 == goal % 2\n",
    "    if cur == goal:\n",
    "        return 0\n",
    "\n",
    "    if heap1 % 2 == 0:\n",
    "        steps = [game(heap1 + 1, cur + 1, goal),\n",
    "                 game(heap1 + 3, cur + 1, goal)]\n",
    "    else:\n",
    "        steps = [game(heap1 * 3, cur + 1, goal)]\n",
    "\n",
    "    return any(steps) if (cur + 1) % 2 == goal % 2 else all(steps)\n",
    "\n",
    "\n",
    "for heap1 in range(1, 51):\n",
    "    for goal in range(1, 5):\n",
    "        if game(heap1, 0, goal):\n",
    "            print(heap1, goal)\n",
    "            break"
   ]
  },
  {
   "cell_type": "markdown",
   "metadata": {},
   "source": [
    "## (842 kompege) Уменьшение, остается на 1 больше, чем убирается"
   ]
  },
  {
   "cell_type": "code",
   "execution_count": null,
   "metadata": {
    "ExecuteTime": {
     "end_time": "2023-05-15T16:42:44.900745Z",
     "start_time": "2023-05-15T16:42:44.882086Z"
    },
    "is_executing": true
   },
   "outputs": [],
   "source": [
    "from functools import lru_cache\n",
    "\n",
    "\n",
    "def m(h):\n",
    "    a, b = h\n",
    "    res = []\n",
    "    if a > 0:\n",
    "        res.append((a - 1, b))\n",
    "    if b > 0:\n",
    "        res.append((a, b - 1))\n",
    "    if a > 1:\n",
    "        res.append(((a + 1) // 2, b))\n",
    "    if b > 1:\n",
    "        res.append((a, (b + 1) // 2))\n",
    "    return res\n",
    "\n",
    "\n",
    "@lru_cache(None)\n",
    "def g(h):\n",
    "    a, b = h\n",
    "    if a + b <= 32:\n",
    "        return 'w'\n",
    "    if any(g(x) == 'w' for x in m(h)):\n",
    "        return 'p1'\n",
    "    if all(g(x) == 'p1' for x in m(h)):\n",
    "        return 'v1'\n",
    "    if any(g(x) == 'v1' for x in m(h)):\n",
    "        return 'p2'\n",
    "    if all(g(x) == 'p1' or g(x) == 'p2' for x in m(h)):\n",
    "        return 'v2'\n",
    "\n",
    "\n",
    "for s in range(23, 100):\n",
    "    if g((10, s)) == 'v2':\n",
    "        print(s, g((10, s)))"
   ]
  }
 ],
 "metadata": {
  "kernelspec": {
   "display_name": "Python 3 (ipykernel)",
   "language": "python",
   "name": "python3"
  },
  "language_info": {
   "codemirror_mode": {
    "name": "ipython",
    "version": 3
   },
   "file_extension": ".py",
   "mimetype": "text/x-python",
   "name": "python",
   "nbconvert_exporter": "python",
   "pygments_lexer": "ipython3",
   "version": "3.10.6"
  },
  "toc": {
   "base_numbering": 1,
   "nav_menu": {},
   "number_sections": true,
   "sideBar": true,
   "skip_h1_title": false,
   "title_cell": "Table of Contents",
   "title_sidebar": "Contents",
   "toc_cell": false,
   "toc_position": {},
   "toc_section_display": true,
   "toc_window_display": false
  }
 },
 "nbformat": 4,
 "nbformat_minor": 1
}
