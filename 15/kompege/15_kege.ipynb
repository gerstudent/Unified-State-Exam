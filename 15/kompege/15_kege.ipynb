{
 "cells": [
  {
   "cell_type": "code",
   "execution_count": 14,
   "metadata": {
    "ExecuteTime": {
     "end_time": "2023-03-07T14:57:05.439808Z",
     "start_time": "2023-03-07T14:57:05.429265Z"
    }
   },
   "outputs": [
    {
     "name": "stdout",
     "output_type": "stream",
     "text": [
      "16\n"
     ]
    }
   ],
   "source": [
    "# 59\n",
    "\n",
    "def d(n, m):\n",
    "    return n % m == 0\n",
    "\n",
    "\n",
    "def nd(n, m):\n",
    "    return n % m != 0\n",
    "\n",
    "\n",
    "def f(x, a):\n",
    "    return (d(x, a) and d(x, 24) and nd(x, 16)) <= nd(x, a)\n",
    "\n",
    "\n",
    "cnt = 0\n",
    "for a in range(1, 1000):\n",
    "    if all(f(x, a) == 1 for x in range(1, 1000)):\n",
    "        print(a)\n",
    "        break"
   ]
  },
  {
   "cell_type": "code",
   "execution_count": 17,
   "metadata": {
    "ExecuteTime": {
     "end_time": "2023-03-07T14:58:31.292153Z",
     "start_time": "2023-03-07T14:58:31.093217Z"
    }
   },
   "outputs": [
    {
     "name": "stdout",
     "output_type": "stream",
     "text": [
      "1260\n"
     ]
    }
   ],
   "source": [
    "def d(n, m):\n",
    "    return n % m == 0\n",
    "\n",
    "\n",
    "def nd(n, m):\n",
    "    return n % m != 0\n",
    "\n",
    "\n",
    "def f(x, a):\n",
    "    return (nd(x, 84) or nd(x, 90)) <= nd(x, a)\n",
    "\n",
    "\n",
    "cnt = 0\n",
    "for a in range(1, 10000):\n",
    "    if all(f(x, a) == 1 for x in range(1, 10000)):\n",
    "        print(a)\n",
    "        break"
   ]
  },
  {
   "cell_type": "code",
   "execution_count": 18,
   "metadata": {
    "ExecuteTime": {
     "end_time": "2023-03-07T14:59:30.304400Z",
     "start_time": "2023-03-07T14:59:30.296837Z"
    }
   },
   "outputs": [
    {
     "name": "stdout",
     "output_type": "stream",
     "text": [
      "7\n"
     ]
    }
   ],
   "source": [
    "def d(n, m):\n",
    "    return n % m == 0\n",
    "\n",
    "\n",
    "def nd(n, m):\n",
    "    return n % m != 0\n",
    "\n",
    "\n",
    "def f(x, a):\n",
    "    return (d(x, 15) and nd(x, 21)) <= (nd(x, a) or nd(x, 15))\n",
    "\n",
    "\n",
    "cnt = 0\n",
    "for a in range(1, 10000):\n",
    "    if all(f(x, a) == 1 for x in range(1, 10000)):\n",
    "        print(a)\n",
    "        break"
   ]
  },
  {
   "cell_type": "code",
   "execution_count": 22,
   "metadata": {
    "ExecuteTime": {
     "end_time": "2023-03-07T15:02:33.495142Z",
     "start_time": "2023-03-07T15:02:33.486400Z"
    }
   },
   "outputs": [
    {
     "name": "stdout",
     "output_type": "stream",
     "text": [
      "7\n"
     ]
    }
   ],
   "source": [
    "def md(m, n):\n",
    "    return m % n\n",
    "\n",
    "\n",
    "def f(x, a):\n",
    "    return ((md(x, 4) != 3) or (md(x, 6) != 1)) <= (md(x, 36) != a)\n",
    "\n",
    "\n",
    "for a in range(1, 1000):\n",
    "    if all(f(x, a) == 1 for x in range(1, 1000)):\n",
    "        print(a)\n",
    "        break"
   ]
  },
  {
   "cell_type": "code",
   "execution_count": 23,
   "metadata": {
    "ExecuteTime": {
     "end_time": "2023-03-07T15:05:29.342188Z",
     "start_time": "2023-03-07T15:05:29.319755Z"
    }
   },
   "outputs": [
    {
     "name": "stdout",
     "output_type": "stream",
     "text": [
      "420\n"
     ]
    }
   ],
   "source": [
    "def d(n, m):\n",
    "    return n % m == 0\n",
    "\n",
    "\n",
    "def nd(n, m):\n",
    "    return n % m != 0\n",
    "\n",
    "\n",
    "def f(x, a):\n",
    "    return d(a, 7) and (d(240, x) <= (nd(a, x) <= nd(780, x)))\n",
    "\n",
    "\n",
    "cnt = 0\n",
    "for a in range(1, 10000):\n",
    "    if all(f(x, a) == 1 for x in range(1, 10000)):\n",
    "        print(a)\n",
    "        break"
   ]
  },
  {
   "cell_type": "code",
   "execution_count": null,
   "metadata": {},
   "outputs": [],
   "source": []
  },
  {
   "cell_type": "code",
   "execution_count": null,
   "metadata": {},
   "outputs": [],
   "source": []
  },
  {
   "cell_type": "code",
   "execution_count": null,
   "metadata": {},
   "outputs": [],
   "source": []
  },
  {
   "cell_type": "code",
   "execution_count": null,
   "metadata": {},
   "outputs": [],
   "source": []
  },
  {
   "cell_type": "code",
   "execution_count": null,
   "metadata": {},
   "outputs": [],
   "source": []
  },
  {
   "cell_type": "code",
   "execution_count": null,
   "metadata": {},
   "outputs": [],
   "source": []
  },
  {
   "cell_type": "code",
   "execution_count": null,
   "metadata": {},
   "outputs": [],
   "source": []
  },
  {
   "cell_type": "code",
   "execution_count": null,
   "metadata": {},
   "outputs": [],
   "source": []
  },
  {
   "cell_type": "code",
   "execution_count": null,
   "metadata": {},
   "outputs": [],
   "source": []
  }
 ],
 "metadata": {
  "kernelspec": {
   "display_name": "Python 3 (ipykernel)",
   "language": "python",
   "name": "python3"
  },
  "language_info": {
   "codemirror_mode": {
    "name": "ipython",
    "version": 3
   },
   "file_extension": ".py",
   "mimetype": "text/x-python",
   "name": "python",
   "nbconvert_exporter": "python",
   "pygments_lexer": "ipython3",
   "version": "3.10.6"
  },
  "toc": {
   "base_numbering": 1,
   "nav_menu": {},
   "number_sections": true,
   "sideBar": true,
   "skip_h1_title": false,
   "title_cell": "Table of Contents",
   "title_sidebar": "Contents",
   "toc_cell": false,
   "toc_position": {},
   "toc_section_display": true,
   "toc_window_display": false
  }
 },
 "nbformat": 4,
 "nbformat_minor": 1
}
